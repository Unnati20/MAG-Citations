{
 "cells": [
  {
   "cell_type": "code",
   "execution_count": 1,
   "metadata": {},
   "outputs": [],
   "source": [
    "import findspark\n",
    "findspark.init('/home/sdmohant/spark-3.0.0-bin-hadoop2.7')"
   ]
  },
  {
   "cell_type": "code",
   "execution_count": 2,
   "metadata": {},
   "outputs": [],
   "source": [
    "import pyspark\n",
    "from pyspark import SparkContext,SparkConf"
   ]
  },
  {
   "cell_type": "code",
   "execution_count": 3,
   "metadata": {},
   "outputs": [],
   "source": [
    "from pyspark.sql import SparkSession"
   ]
  },
  {
   "cell_type": "code",
   "execution_count": 4,
   "metadata": {},
   "outputs": [
    {
     "name": "stderr",
     "output_type": "stream",
     "text": [
      "/home/sdmohant/spark-3.0.0-bin-hadoop2.7/python/pyspark/context.py:220: DeprecationWarning: Support for Python 2 and Python 3 prior to version 3.6 is deprecated as of Spark 3.0. See also the plan for dropping Python 2 support at https://spark.apache.org/news/plan-for-dropping-python-2-support.html.\n",
      "  DeprecationWarning)\n"
     ]
    }
   ],
   "source": [
    "#spark = SparkSession.builder.appName(\"MyApp\").getOrCreate()\n",
    "#spark = SparkSession.builder.appName(\"MyName\").getOrCreate()\n",
    "conf = SparkConf().set(\"spark.cores.max\", \"16\") \\\n",
    "    .set(\"spark.driver.memory\", \"16g\") \\\n",
    "    .set(\"spark.executor.memory\", \"16g\") \\\n",
    "    .set(\"spark.executor.memory_overhead\", \"16g\") \\\n",
    "    .set(\"spark.driver.maxResultsSize\", \"0\") \\\n",
    "    .set(\"spark.sql.shuffle.partitions\",\"300\")\n",
    "\n",
    "sc = SparkContext(appName=\"envsciencemodel\", conf=conf)\n",
    "spark = SparkSession(sc)"
   ]
  },
  {
   "cell_type": "code",
   "execution_count": 5,
   "metadata": {},
   "outputs": [],
   "source": [
    "from pyspark.sql.functions import isnan, count, col, when"
   ]
  },
  {
   "cell_type": "code",
   "execution_count": 6,
   "metadata": {},
   "outputs": [],
   "source": [
    "envscienceFOSID = 39432304"
   ]
  },
  {
   "cell_type": "code",
   "execution_count": 14,
   "metadata": {},
   "outputs": [],
   "source": [
    "papers = spark.read.options(header = True, inferSchema = True,delimiter=',').csv(\"AllPapersFOS1.csv\")"
   ]
  },
  {
   "cell_type": "code",
   "execution_count": 17,
   "metadata": {},
   "outputs": [],
   "source": [
    "papers_filtered = papers.filter(col('FOS_ID').isin(['39432304']))"
   ]
  },
  {
   "cell_type": "code",
   "execution_count": 18,
   "metadata": {},
   "outputs": [
    {
     "data": {
      "text/plain": [
       "pyspark.sql.dataframe.DataFrame"
      ]
     },
     "execution_count": 18,
     "metadata": {},
     "output_type": "execute_result"
    }
   ],
   "source": [
    "type(papers_filtered)"
   ]
  },
  {
   "cell_type": "code",
   "execution_count": 19,
   "metadata": {},
   "outputs": [
    {
     "data": {
      "text/plain": [
       "35780"
      ]
     },
     "execution_count": 19,
     "metadata": {},
     "output_type": "execute_result"
    }
   ],
   "source": [
    "papers_filtered.count()"
   ]
  },
  {
   "cell_type": "code",
   "execution_count": 36,
   "metadata": {},
   "outputs": [],
   "source": [
    "papers_pd = papers_filtered.toPandas()"
   ]
  },
  {
   "cell_type": "code",
   "execution_count": 37,
   "metadata": {},
   "outputs": [
    {
     "data": {
      "text/html": [
       "<div>\n",
       "<style scoped>\n",
       "    .dataframe tbody tr th:only-of-type {\n",
       "        vertical-align: middle;\n",
       "    }\n",
       "\n",
       "    .dataframe tbody tr th {\n",
       "        vertical-align: top;\n",
       "    }\n",
       "\n",
       "    .dataframe thead th {\n",
       "        text-align: right;\n",
       "    }\n",
       "</style>\n",
       "<table border=\"1\" class=\"dataframe\">\n",
       "  <thead>\n",
       "    <tr style=\"text-align: right;\">\n",
       "      <th></th>\n",
       "      <th>PaperID</th>\n",
       "      <th>Rank</th>\n",
       "      <th>PaperYear</th>\n",
       "      <th>Volume</th>\n",
       "      <th>Issue</th>\n",
       "      <th>ReferenceCount</th>\n",
       "      <th>CitationCount</th>\n",
       "      <th>EstimatedCount</th>\n",
       "      <th>FOS_ID</th>\n",
       "      <th>PaperAge</th>\n",
       "      <th>IsJournal</th>\n",
       "      <th>min_FOSRank</th>\n",
       "      <th>max_FOSRank</th>\n",
       "      <th>max_FOSPaperCount</th>\n",
       "      <th>min_FOSPaperCount</th>\n",
       "      <th>min_FOSCitationCount</th>\n",
       "      <th>max_FOSCitationCount</th>\n",
       "      <th>PaperRefCnt</th>\n",
       "    </tr>\n",
       "  </thead>\n",
       "  <tbody>\n",
       "    <tr>\n",
       "      <th>0</th>\n",
       "      <td>7947795</td>\n",
       "      <td>23352</td>\n",
       "      <td>1964</td>\n",
       "      <td>0</td>\n",
       "      <td>0</td>\n",
       "      <td>0</td>\n",
       "      <td>22</td>\n",
       "      <td>22</td>\n",
       "      <td>39432304</td>\n",
       "      <td>56</td>\n",
       "      <td>1</td>\n",
       "      <td>8436</td>\n",
       "      <td>12935</td>\n",
       "      <td>1830253</td>\n",
       "      <td>81162</td>\n",
       "      <td>338871</td>\n",
       "      <td>6506374</td>\n",
       "      <td>0</td>\n",
       "    </tr>\n",
       "    <tr>\n",
       "      <th>1</th>\n",
       "      <td>57879122</td>\n",
       "      <td>25330</td>\n",
       "      <td>2014</td>\n",
       "      <td>0</td>\n",
       "      <td>0</td>\n",
       "      <td>0</td>\n",
       "      <td>0</td>\n",
       "      <td>0</td>\n",
       "      <td>39432304</td>\n",
       "      <td>6</td>\n",
       "      <td>1</td>\n",
       "      <td>8436</td>\n",
       "      <td>10284</td>\n",
       "      <td>1830253</td>\n",
       "      <td>37168</td>\n",
       "      <td>216494</td>\n",
       "      <td>6506374</td>\n",
       "      <td>0</td>\n",
       "    </tr>\n",
       "    <tr>\n",
       "      <th>2</th>\n",
       "      <td>87903810</td>\n",
       "      <td>23667</td>\n",
       "      <td>1975</td>\n",
       "      <td>254</td>\n",
       "      <td>5497</td>\n",
       "      <td>0</td>\n",
       "      <td>0</td>\n",
       "      <td>0</td>\n",
       "      <td>39432304</td>\n",
       "      <td>45</td>\n",
       "      <td>0</td>\n",
       "      <td>8188</td>\n",
       "      <td>11856</td>\n",
       "      <td>1830253</td>\n",
       "      <td>2825</td>\n",
       "      <td>10036</td>\n",
       "      <td>34103285</td>\n",
       "      <td>0</td>\n",
       "    </tr>\n",
       "    <tr>\n",
       "      <th>3</th>\n",
       "      <td>88768105</td>\n",
       "      <td>25658</td>\n",
       "      <td>2011</td>\n",
       "      <td>0</td>\n",
       "      <td>0</td>\n",
       "      <td>0</td>\n",
       "      <td>0</td>\n",
       "      <td>0</td>\n",
       "      <td>39432304</td>\n",
       "      <td>9</td>\n",
       "      <td>1</td>\n",
       "      <td>8436</td>\n",
       "      <td>12623</td>\n",
       "      <td>1830253</td>\n",
       "      <td>88590</td>\n",
       "      <td>159405</td>\n",
       "      <td>6506374</td>\n",
       "      <td>0</td>\n",
       "    </tr>\n",
       "    <tr>\n",
       "      <th>4</th>\n",
       "      <td>92491293</td>\n",
       "      <td>30666</td>\n",
       "      <td>1963</td>\n",
       "      <td>0</td>\n",
       "      <td>0</td>\n",
       "      <td>0</td>\n",
       "      <td>0</td>\n",
       "      <td>0</td>\n",
       "      <td>39432304</td>\n",
       "      <td>57</td>\n",
       "      <td>1</td>\n",
       "      <td>8436</td>\n",
       "      <td>10775</td>\n",
       "      <td>1830253</td>\n",
       "      <td>621643</td>\n",
       "      <td>4556314</td>\n",
       "      <td>6506374</td>\n",
       "      <td>0</td>\n",
       "    </tr>\n",
       "  </tbody>\n",
       "</table>\n",
       "</div>"
      ],
      "text/plain": [
       "    PaperID   Rank  PaperYear  Volume  Issue  ReferenceCount  CitationCount  \\\n",
       "0   7947795  23352       1964       0      0               0             22   \n",
       "1  57879122  25330       2014       0      0               0              0   \n",
       "2  87903810  23667       1975     254   5497               0              0   \n",
       "3  88768105  25658       2011       0      0               0              0   \n",
       "4  92491293  30666       1963       0      0               0              0   \n",
       "\n",
       "   EstimatedCount    FOS_ID  PaperAge  IsJournal  min_FOSRank  max_FOSRank  \\\n",
       "0              22  39432304        56          1         8436        12935   \n",
       "1               0  39432304         6          1         8436        10284   \n",
       "2               0  39432304        45          0         8188        11856   \n",
       "3               0  39432304         9          1         8436        12623   \n",
       "4               0  39432304        57          1         8436        10775   \n",
       "\n",
       "   max_FOSPaperCount  min_FOSPaperCount  min_FOSCitationCount  \\\n",
       "0            1830253              81162                338871   \n",
       "1            1830253              37168                216494   \n",
       "2            1830253               2825                 10036   \n",
       "3            1830253              88590                159405   \n",
       "4            1830253             621643               4556314   \n",
       "\n",
       "   max_FOSCitationCount  PaperRefCnt  \n",
       "0               6506374            0  \n",
       "1               6506374            0  \n",
       "2              34103285            0  \n",
       "3               6506374            0  \n",
       "4               6506374            0  "
      ]
     },
     "execution_count": 37,
     "metadata": {},
     "output_type": "execute_result"
    }
   ],
   "source": [
    "papers_pd.head()"
   ]
  },
  {
   "cell_type": "code",
   "execution_count": 38,
   "metadata": {},
   "outputs": [],
   "source": [
    "papers_pd.rename(columns = {'CitationCount':'label'}, inplace = True)"
   ]
  },
  {
   "cell_type": "code",
   "execution_count": 39,
   "metadata": {},
   "outputs": [
    {
     "data": {
      "text/plain": [
       "Index([u'PaperID', u'Rank', u'PaperYear', u'Volume', u'Issue',\n",
       "       u'ReferenceCount', u'label', u'EstimatedCount', u'FOS_ID', u'PaperAge',\n",
       "       u'IsJournal', u'min_FOSRank', u'max_FOSRank', u'max_FOSPaperCount',\n",
       "       u'min_FOSPaperCount', u'min_FOSCitationCount', u'max_FOSCitationCount',\n",
       "       u'PaperRefCnt'],\n",
       "      dtype='object')"
      ]
     },
     "execution_count": 39,
     "metadata": {},
     "output_type": "execute_result"
    }
   ],
   "source": [
    "papers_pd.columns"
   ]
  },
  {
   "cell_type": "code",
   "execution_count": 56,
   "metadata": {},
   "outputs": [],
   "source": [
    "papers_pd_new = papers_pd.drop([\"PaperID\",\"EstimatedCount\",\"PaperYear\",\"Issue\",\"Volume\",\"FOS_ID\"],axis=1)"
   ]
  },
  {
   "cell_type": "code",
   "execution_count": 57,
   "metadata": {},
   "outputs": [
    {
     "data": {
      "text/plain": [
       "Index([u'Rank', u'ReferenceCount', u'label', u'PaperAge', u'IsJournal',\n",
       "       u'min_FOSRank', u'max_FOSRank', u'max_FOSPaperCount',\n",
       "       u'min_FOSPaperCount', u'min_FOSCitationCount', u'max_FOSCitationCount',\n",
       "       u'PaperRefCnt'],\n",
       "      dtype='object')"
      ]
     },
     "execution_count": 57,
     "metadata": {},
     "output_type": "execute_result"
    }
   ],
   "source": [
    "papers_pd_new.columns"
   ]
  },
  {
   "cell_type": "code",
   "execution_count": 58,
   "metadata": {},
   "outputs": [],
   "source": [
    "papers_pd_new = papers_pd_new.reindex(columns=['Rank','ReferenceCount','PaperAge','min_FOSRank','max_FOSRank','IsJournal','max_FOSPaperCount',\\\n",
    "                               'min_FOSPaperCount','min_FOSCitationCount','max_FOSCitationCount','PaperRefCnt','label'])"
   ]
  },
  {
   "cell_type": "code",
   "execution_count": 59,
   "metadata": {},
   "outputs": [
    {
     "data": {
      "text/html": [
       "<div>\n",
       "<style scoped>\n",
       "    .dataframe tbody tr th:only-of-type {\n",
       "        vertical-align: middle;\n",
       "    }\n",
       "\n",
       "    .dataframe tbody tr th {\n",
       "        vertical-align: top;\n",
       "    }\n",
       "\n",
       "    .dataframe thead th {\n",
       "        text-align: right;\n",
       "    }\n",
       "</style>\n",
       "<table border=\"1\" class=\"dataframe\">\n",
       "  <thead>\n",
       "    <tr style=\"text-align: right;\">\n",
       "      <th></th>\n",
       "      <th>Rank</th>\n",
       "      <th>ReferenceCount</th>\n",
       "      <th>PaperAge</th>\n",
       "      <th>min_FOSRank</th>\n",
       "      <th>max_FOSRank</th>\n",
       "      <th>IsJournal</th>\n",
       "      <th>max_FOSPaperCount</th>\n",
       "      <th>min_FOSPaperCount</th>\n",
       "      <th>min_FOSCitationCount</th>\n",
       "      <th>max_FOSCitationCount</th>\n",
       "      <th>PaperRefCnt</th>\n",
       "      <th>label</th>\n",
       "    </tr>\n",
       "  </thead>\n",
       "  <tbody>\n",
       "    <tr>\n",
       "      <th>0</th>\n",
       "      <td>23352</td>\n",
       "      <td>0</td>\n",
       "      <td>56</td>\n",
       "      <td>8436</td>\n",
       "      <td>12935</td>\n",
       "      <td>1</td>\n",
       "      <td>1830253</td>\n",
       "      <td>81162</td>\n",
       "      <td>338871</td>\n",
       "      <td>6506374</td>\n",
       "      <td>0</td>\n",
       "      <td>22</td>\n",
       "    </tr>\n",
       "    <tr>\n",
       "      <th>1</th>\n",
       "      <td>25330</td>\n",
       "      <td>0</td>\n",
       "      <td>6</td>\n",
       "      <td>8436</td>\n",
       "      <td>10284</td>\n",
       "      <td>1</td>\n",
       "      <td>1830253</td>\n",
       "      <td>37168</td>\n",
       "      <td>216494</td>\n",
       "      <td>6506374</td>\n",
       "      <td>0</td>\n",
       "      <td>0</td>\n",
       "    </tr>\n",
       "    <tr>\n",
       "      <th>2</th>\n",
       "      <td>23667</td>\n",
       "      <td>0</td>\n",
       "      <td>45</td>\n",
       "      <td>8188</td>\n",
       "      <td>11856</td>\n",
       "      <td>0</td>\n",
       "      <td>1830253</td>\n",
       "      <td>2825</td>\n",
       "      <td>10036</td>\n",
       "      <td>34103285</td>\n",
       "      <td>0</td>\n",
       "      <td>0</td>\n",
       "    </tr>\n",
       "    <tr>\n",
       "      <th>3</th>\n",
       "      <td>25658</td>\n",
       "      <td>0</td>\n",
       "      <td>9</td>\n",
       "      <td>8436</td>\n",
       "      <td>12623</td>\n",
       "      <td>1</td>\n",
       "      <td>1830253</td>\n",
       "      <td>88590</td>\n",
       "      <td>159405</td>\n",
       "      <td>6506374</td>\n",
       "      <td>0</td>\n",
       "      <td>0</td>\n",
       "    </tr>\n",
       "    <tr>\n",
       "      <th>4</th>\n",
       "      <td>30666</td>\n",
       "      <td>0</td>\n",
       "      <td>57</td>\n",
       "      <td>8436</td>\n",
       "      <td>10775</td>\n",
       "      <td>1</td>\n",
       "      <td>1830253</td>\n",
       "      <td>621643</td>\n",
       "      <td>4556314</td>\n",
       "      <td>6506374</td>\n",
       "      <td>0</td>\n",
       "      <td>0</td>\n",
       "    </tr>\n",
       "  </tbody>\n",
       "</table>\n",
       "</div>"
      ],
      "text/plain": [
       "    Rank  ReferenceCount  PaperAge  min_FOSRank  max_FOSRank  IsJournal  \\\n",
       "0  23352               0        56         8436        12935          1   \n",
       "1  25330               0         6         8436        10284          1   \n",
       "2  23667               0        45         8188        11856          0   \n",
       "3  25658               0         9         8436        12623          1   \n",
       "4  30666               0        57         8436        10775          1   \n",
       "\n",
       "   max_FOSPaperCount  min_FOSPaperCount  min_FOSCitationCount  \\\n",
       "0            1830253              81162                338871   \n",
       "1            1830253              37168                216494   \n",
       "2            1830253               2825                 10036   \n",
       "3            1830253              88590                159405   \n",
       "4            1830253             621643               4556314   \n",
       "\n",
       "   max_FOSCitationCount  PaperRefCnt  label  \n",
       "0               6506374            0     22  \n",
       "1               6506374            0      0  \n",
       "2              34103285            0      0  \n",
       "3               6506374            0      0  \n",
       "4               6506374            0      0  "
      ]
     },
     "execution_count": 59,
     "metadata": {},
     "output_type": "execute_result"
    }
   ],
   "source": [
    "papers_pd_new.head()"
   ]
  },
  {
   "cell_type": "code",
   "execution_count": 60,
   "metadata": {},
   "outputs": [
    {
     "data": {
      "text/plain": [
       "12"
      ]
     },
     "execution_count": 60,
     "metadata": {},
     "output_type": "execute_result"
    }
   ],
   "source": [
    "len(papers_pd_new.columns)"
   ]
  },
  {
   "cell_type": "code",
   "execution_count": 61,
   "metadata": {},
   "outputs": [],
   "source": [
    "X = papers_pd_new.iloc[:, 0:11].values\n",
    "y = papers_pd_new.iloc[:, 11].values"
   ]
  },
  {
   "cell_type": "code",
   "execution_count": 62,
   "metadata": {},
   "outputs": [
    {
     "data": {
      "text/plain": [
       "array([[   23352,        0,       56,     8436,    12935,        1,\n",
       "         1830253,    81162,   338871,  6506374,        0],\n",
       "       [   25330,        0,        6,     8436,    10284,        1,\n",
       "         1830253,    37168,   216494,  6506374,        0],\n",
       "       [   23667,        0,       45,     8188,    11856,        0,\n",
       "         1830253,     2825,    10036, 34103285,        0],\n",
       "       [   25658,        0,        9,     8436,    12623,        1,\n",
       "         1830253,    88590,   159405,  6506374,        0],\n",
       "       [   30666,        0,       57,     8436,    10775,        1,\n",
       "         1830253,   621643,  4556314,  6506374,        0]], dtype=int32)"
      ]
     },
     "execution_count": 62,
     "metadata": {},
     "output_type": "execute_result"
    }
   ],
   "source": [
    "X[0:5]"
   ]
  },
  {
   "cell_type": "code",
   "execution_count": 63,
   "metadata": {},
   "outputs": [],
   "source": [
    "from sklearn.model_selection import KFold"
   ]
  },
  {
   "cell_type": "code",
   "execution_count": 64,
   "metadata": {},
   "outputs": [
    {
     "data": {
      "text/plain": [
       "5"
      ]
     },
     "execution_count": 64,
     "metadata": {},
     "output_type": "execute_result"
    }
   ],
   "source": [
    "kf = KFold(n_splits=5)\n",
    "kf.get_n_splits(X, y)"
   ]
  },
  {
   "cell_type": "code",
   "execution_count": 65,
   "metadata": {},
   "outputs": [],
   "source": [
    "from sklearn.ensemble import RandomForestRegressor\n",
    "import numpy as np"
   ]
  },
  {
   "cell_type": "code",
   "execution_count": 67,
   "metadata": {},
   "outputs": [],
   "source": [
    "from sklearn.metrics import mean_squared_error\n",
    "from sklearn import metrics"
   ]
  },
  {
   "cell_type": "code",
   "execution_count": 68,
   "metadata": {
    "scrolled": true
   },
   "outputs": [
    {
     "name": "stdout",
     "output_type": "stream",
     "text": [
      "('Mean Absolute Error:', 1.9500956719040452)\n",
      "('Mean Squared Error:', 923.9964595634815)\n",
      "('Root Mean Squared Error:', 30.397310071180335)\n",
      "('Mean Absolute Error:', 1.6542599062085788)\n",
      "('Mean Squared Error:', 206.88588466663666)\n",
      "('Root Mean Squared Error:', 14.38352824124306)\n",
      "('Mean Absolute Error:', 2.1681637969884235)\n",
      "('Mean Squared Error:', 1070.4210758909849)\n",
      "('Root Mean Squared Error:', 32.717290167295104)\n",
      "('Mean Absolute Error:', 2.2055272184693617)\n",
      "('Mean Squared Error:', 2180.710986753475)\n",
      "('Root Mean Squared Error:', 46.69808333061942)\n",
      "('Mean Absolute Error:', 1.3230572427010467)\n",
      "('Mean Squared Error:', 51.94662605186229)\n",
      "('Root Mean Squared Error:', 7.207400783351949)\n"
     ]
    }
   ],
   "source": [
    "rmse_list = []\n",
    "for train_index, test_index in kf.split(X,y):\n",
    "    X_train, X_test = X[train_index], X[test_index]\n",
    "    y_train, y_test = y[train_index], y[test_index]\n",
    "    regressor = RandomForestRegressor(n_estimators=100, max_depth=30, random_state=0)\n",
    "    regressor.fit(X_train, y_train)\n",
    "    y_pred = regressor.predict(X_test)\n",
    "    rmse_list.append(np.sqrt(metrics.mean_squared_error(y_test, y_pred)))\n",
    "    print('Mean Absolute Error:', metrics.mean_absolute_error(y_test, y_pred))\n",
    "    print('Mean Squared Error:', metrics.mean_squared_error(y_test, y_pred))\n",
    "    print('Root Mean Squared Error:', np.sqrt(metrics.mean_squared_error(y_test, y_pred)))\n",
    "    "
   ]
  },
  {
   "cell_type": "code",
   "execution_count": 69,
   "metadata": {},
   "outputs": [
    {
     "name": "stdout",
     "output_type": "stream",
     "text": [
      "('Mean RMSE is :', 26.280722518737974)\n"
     ]
    }
   ],
   "source": [
    "rmse_sum = 0\n",
    "for index in range(0,5):\n",
    "    rmse_sum = rmse_sum + rmse_list[index]\n",
    "mean_rmse = rmse_sum/5\n",
    "print(\"Mean RMSE is :\",mean_rmse)"
   ]
  },
  {
   "cell_type": "markdown",
   "metadata": {},
   "source": [
    "## Comparison with Microsoft Estimations"
   ]
  },
  {
   "cell_type": "code",
   "execution_count": 70,
   "metadata": {},
   "outputs": [],
   "source": [
    "y_est = np.array(papers_pd[\"EstimatedCount\"])\n",
    "y_act = np.array(papers_pd[\"label\"])"
   ]
  },
  {
   "cell_type": "code",
   "execution_count": 71,
   "metadata": {},
   "outputs": [
    {
     "name": "stdout",
     "output_type": "stream",
     "text": [
      "('Mean Absolute Error of EstimatedCount:', 1.9495807713806597)\n",
      "('Mean Squared Error of EstimatedCount:', 3931.573784237004)\n",
      "('Root Mean Squared of with EstimatedCount:', 62.70226299135466)\n"
     ]
    }
   ],
   "source": [
    "print('Mean Absolute Error of EstimatedCount:', metrics.mean_absolute_error(y_act, y_est))\n",
    "print('Mean Squared Error of EstimatedCount:', metrics.mean_squared_error(y_act, y_est))\n",
    "print('Root Mean Squared of with EstimatedCount:', np.sqrt(metrics.mean_squared_error(y_act, y_est)))"
   ]
  },
  {
   "cell_type": "code",
   "execution_count": 72,
   "metadata": {},
   "outputs": [],
   "source": [
    "import xgboost as xgb"
   ]
  },
  {
   "cell_type": "code",
   "execution_count": 73,
   "metadata": {},
   "outputs": [],
   "source": [
    "from sklearn.model_selection import train_test_split"
   ]
  },
  {
   "cell_type": "code",
   "execution_count": 77,
   "metadata": {},
   "outputs": [],
   "source": [
    "X_train, X_test, y_train, y_test = train_test_split(X, y,test_size=0.33)"
   ]
  },
  {
   "cell_type": "code",
   "execution_count": 78,
   "metadata": {},
   "outputs": [],
   "source": [
    "regressor = xgb.XGBRegressor(\n",
    "    n_estimators=150,\n",
    "    reg_lambda=1,\n",
    "    gamma=0,\n",
    "    max_depth=30\n",
    ")"
   ]
  },
  {
   "cell_type": "code",
   "execution_count": 79,
   "metadata": {},
   "outputs": [
    {
     "data": {
      "text/plain": [
       "35.75438035166671"
      ]
     },
     "execution_count": 79,
     "metadata": {},
     "output_type": "execute_result"
    }
   ],
   "source": [
    "regressor.fit(X_train, y_train)\n",
    "y_pred = regressor.predict(X_test)\n",
    "np.sqrt(metrics.mean_squared_error(y_test, y_pred))"
   ]
  },
  {
   "cell_type": "code",
   "execution_count": 80,
   "metadata": {},
   "outputs": [
    {
     "data": {
      "text/plain": [
       "5"
      ]
     },
     "execution_count": 80,
     "metadata": {},
     "output_type": "execute_result"
    }
   ],
   "source": [
    "kf = KFold(n_splits=5)\n",
    "kf.get_n_splits(X)"
   ]
  },
  {
   "cell_type": "code",
   "execution_count": 81,
   "metadata": {},
   "outputs": [
    {
     "name": "stdout",
     "output_type": "stream",
     "text": [
      "('Mean Absolute Error of XGBoost Kfold:', 2.1029547167688927)\n",
      "('Mean Squared Error of XGBoost Kfold:', 1144.3993246912696)\n",
      "('Root Mean Squared Error of XGBoost Kfold:', 33.828971676527054)\n",
      "('Mean Absolute Error of XGBoost Kfold:', 1.995200872183879)\n",
      "('Mean Squared Error of XGBoost Kfold:', 523.2402574867415)\n",
      "('Root Mean Squared Error of XGBoost Kfold:', 22.87444551211551)\n",
      "('Mean Absolute Error of XGBoost Kfold:', 2.302791425395005)\n",
      "('Mean Squared Error of XGBoost Kfold:', 951.8769340408951)\n",
      "('Root Mean Squared Error of XGBoost Kfold:', 30.852502881304382)\n",
      "('Mean Absolute Error of XGBoost Kfold:', 2.3225619246951026)\n",
      "('Mean Squared Error of XGBoost Kfold:', 2212.337741947967)\n",
      "('Root Mean Squared Error of XGBoost Kfold:', 47.03549449030984)\n",
      "('Mean Absolute Error of XGBoost Kfold:', 1.4981082770546565)\n",
      "('Mean Squared Error of XGBoost Kfold:', 177.64003683753728)\n",
      "('Root Mean Squared Error of XGBoost Kfold:', 13.328167047180091)\n"
     ]
    }
   ],
   "source": [
    "rmse_list = []\n",
    "for train_index, test_index in kf.split(X,y):\n",
    "    #print(\"TRAIN:\", train_index, \"TEST:\", test_index)\n",
    "    X_train, X_test = X[train_index], X[test_index]\n",
    "    y_train, y_test = y[train_index], y[test_index]\n",
    "    regressor = xgb.XGBRegressor(\n",
    "                n_estimators=100,\n",
    "                reg_lambda=1,\n",
    "                gamma=0,\n",
    "                max_depth=40\n",
    "                )\n",
    "    regressor.fit(X_train, y_train)\n",
    "    y_pred = regressor.predict(X_test)\n",
    "    rmse_list.append(np.sqrt(metrics.mean_squared_error(y_test, y_pred)))\n",
    "    print('Mean Absolute Error of XGBoost Kfold:', metrics.mean_absolute_error(y_test, y_pred))\n",
    "    print('Mean Squared Error of XGBoost Kfold:', metrics.mean_squared_error(y_test, y_pred))\n",
    "    print('Root Mean Squared Error of XGBoost Kfold:', np.sqrt(metrics.mean_squared_error(y_test, y_pred)))"
   ]
  },
  {
   "cell_type": "code",
   "execution_count": 82,
   "metadata": {},
   "outputs": [
    {
     "name": "stdout",
     "output_type": "stream",
     "text": [
      "('Mean RMSE is :', 29.58391632148738)\n"
     ]
    }
   ],
   "source": [
    "rmse_sum = 0\n",
    "for index in range(0,5):\n",
    "    rmse_sum = rmse_sum + rmse_list[index]\n",
    "mean_rmse = rmse_sum/5\n",
    "print(\"Mean RMSE is :\",mean_rmse)"
   ]
  },
  {
   "cell_type": "code",
   "execution_count": 83,
   "metadata": {},
   "outputs": [],
   "source": [
    "importances = regressor.feature_importances_"
   ]
  },
  {
   "cell_type": "code",
   "execution_count": 84,
   "metadata": {},
   "outputs": [
    {
     "name": "stdout",
     "output_type": "stream",
     "text": [
      "Feature: 0, Score: 0.50283\n",
      "Feature: 1, Score: 0.06808\n",
      "Feature: 2, Score: 0.14265\n",
      "Feature: 3, Score: 0.03175\n",
      "Feature: 4, Score: 0.09474\n",
      "Feature: 5, Score: 0.02423\n",
      "Feature: 6, Score: 0.00162\n",
      "Feature: 7, Score: 0.08217\n",
      "Feature: 8, Score: 0.03641\n",
      "Feature: 9, Score: 0.00942\n",
      "Feature: 10, Score: 0.00610\n"
     ]
    }
   ],
   "source": [
    "for i,v in enumerate(importances):\n",
    "\tprint('Feature: %0d, Score: %.5f' % (i,v))"
   ]
  },
  {
   "cell_type": "code",
   "execution_count": 86,
   "metadata": {},
   "outputs": [],
   "source": [
    "import pandas as pd"
   ]
  },
  {
   "cell_type": "code",
   "execution_count": 90,
   "metadata": {},
   "outputs": [],
   "source": [
    "cols = papers_pd_new.columns"
   ]
  },
  {
   "cell_type": "code",
   "execution_count": 93,
   "metadata": {},
   "outputs": [],
   "source": [
    "import matplotlib.pyplot as plt\n",
    "%matplotlib inline"
   ]
  },
  {
   "cell_type": "code",
   "execution_count": 96,
   "metadata": {},
   "outputs": [
    {
     "data": {
      "text/plain": [
       "<matplotlib.axes._subplots.AxesSubplot at 0x7f18e8d7f6d0>"
      ]
     },
     "execution_count": 96,
     "metadata": {},
     "output_type": "execute_result"
    },
    {
     "data": {
      "image/png": "[encoded data removed]",
      "text/plain": [
       "<Figure size 432x288 with 1 Axes>"
      ]
     },
     "metadata": {},
     "output_type": "display_data"
    }
   ],
   "source": [
    "(pd.Series(importances, index=cols[0:11]).plot(kind='barh'))  "
   ]
  },
  {
   "cell_type": "code",
   "execution_count": null,
   "metadata": {},
   "outputs": [],
   "source": []
  }
 ],
 "metadata": {
  "kernelspec": {
   "display_name": "Python 2",
   "language": "python",
   "name": "python2"
  },
  "language_info": {
   "codemirror_mode": {
    "name": "ipython",
    "version": 2
   },
   "file_extension": ".py",
   "mimetype": "text/x-python",
   "name": "python",
   "nbconvert_exporter": "python",
   "pygments_lexer": "ipython2",
   "version": "2.7.15rc1"
  }
 },
 "nbformat": 4,
 "nbformat_minor": 2
}
