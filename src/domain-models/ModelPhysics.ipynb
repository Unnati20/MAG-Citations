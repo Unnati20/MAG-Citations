{
 "cells": [
  {
   "cell_type": "code",
   "execution_count": 1,
   "metadata": {},
   "outputs": [],
   "source": [
    "import findspark\n",
    "findspark.init('/home/sdmohant/spark-3.0.0-bin-hadoop2.7')"
   ]
  },
  {
   "cell_type": "code",
   "execution_count": 2,
   "metadata": {},
   "outputs": [],
   "source": [
    "import pyspark\n",
    "from pyspark import SparkContext,SparkConf"
   ]
  },
  {
   "cell_type": "code",
   "execution_count": 3,
   "metadata": {},
   "outputs": [],
   "source": [
    "from pyspark.sql import SparkSession"
   ]
  },
  {
   "cell_type": "code",
   "execution_count": 4,
   "metadata": {},
   "outputs": [
    {
     "name": "stderr",
     "output_type": "stream",
     "text": [
      "/home/sdmohant/spark-3.0.0-bin-hadoop2.7/python/pyspark/context.py:220: DeprecationWarning: Support for Python 2 and Python 3 prior to version 3.6 is deprecated as of Spark 3.0. See also the plan for dropping Python 2 support at https://spark.apache.org/news/plan-for-dropping-python-2-support.html.\n",
      "  DeprecationWarning)\n"
     ]
    }
   ],
   "source": [
    "#spark = SparkSession.builder.appName(\"MyApp\").getOrCreate()\n",
    "#spark = SparkSession.builder.appName(\"MyName\").getOrCreate()\n",
    "conf = SparkConf().set(\"spark.cores.max\", \"16\") \\\n",
    "    .set(\"spark.driver.memory\", \"16g\") \\\n",
    "    .set(\"spark.executor.memory\", \"16g\") \\\n",
    "    .set(\"spark.executor.memory_overhead\", \"16g\") \\\n",
    "    .set(\"spark.driver.maxResultsSize\", \"0\") \\\n",
    "    .set(\"spark.sql.shuffle.partitions\",\"300\")\n",
    "\n",
    "sc = SparkContext(appName=\"physicsmodel\", conf=conf)\n",
    "spark = SparkSession(sc)"
   ]
  },
  {
   "cell_type": "code",
   "execution_count": 5,
   "metadata": {},
   "outputs": [],
   "source": [
    "from pyspark.sql.functions import isnan, count, col, when"
   ]
  },
  {
   "cell_type": "code",
   "execution_count": 6,
   "metadata": {},
   "outputs": [],
   "source": [
    "physicsFODID = spark.read.options(header = True, inferSchema = True,delimiter=',').csv(\"FOSDomains.csv\")"
   ]
  },
  {
   "cell_type": "code",
   "execution_count": 7,
   "metadata": {},
   "outputs": [],
   "source": [
    "physicsFODID = physicsFODID.filter(physicsFODID[\"Domain\"]==\"Physics\").collect()"
   ]
  },
  {
   "cell_type": "code",
   "execution_count": 8,
   "metadata": {},
   "outputs": [
    {
     "data": {
      "text/plain": [
       "271"
      ]
     },
     "execution_count": 8,
     "metadata": {},
     "output_type": "execute_result"
    }
   ],
   "source": [
    "len(physicsFODID)"
   ]
  },
  {
   "cell_type": "code",
   "execution_count": 9,
   "metadata": {},
   "outputs": [],
   "source": [
    "papers = spark.read.options(header = True, inferSchema = True,delimiter=',').csv(\"AllPapersFOS1.csv\")"
   ]
  },
  {
   "cell_type": "code",
   "execution_count": 10,
   "metadata": {},
   "outputs": [],
   "source": [
    "from pyspark.sql.types import ArrayType, StructField, StructType, StringType, IntegerType,LongType"
   ]
  },
  {
   "cell_type": "code",
   "execution_count": 11,
   "metadata": {},
   "outputs": [],
   "source": [
    "schema = StructType([\n",
    "    StructField('FOS_ID', LongType(), True),\n",
    "    StructField('Domain', StringType(), True)\n",
    "])"
   ]
  },
  {
   "cell_type": "code",
   "execution_count": 12,
   "metadata": {},
   "outputs": [],
   "source": [
    "# Convert list to RDD\n",
    "rdd = spark.sparkContext.parallelize(physicsFODID)\n",
    "\n",
    "# Create data frame\n",
    "fos = spark.createDataFrame(rdd,schema)"
   ]
  },
  {
   "cell_type": "code",
   "execution_count": 13,
   "metadata": {},
   "outputs": [
    {
     "name": "stdout",
     "output_type": "stream",
     "text": [
      "+--------+-------+\n",
      "|  FOS_ID| Domain|\n",
      "+--------+-------+\n",
      "|24890656|Physics|\n",
      "|97355855|Physics|\n",
      "+--------+-------+\n",
      "only showing top 2 rows\n",
      "\n"
     ]
    }
   ],
   "source": [
    "fos.show(2)"
   ]
  },
  {
   "cell_type": "code",
   "execution_count": 14,
   "metadata": {},
   "outputs": [],
   "source": [
    "papers_filtered = papers.join(fos,on=\"FOS_ID\",how=\"inner\")"
   ]
  },
  {
   "cell_type": "code",
   "execution_count": 15,
   "metadata": {},
   "outputs": [
    {
     "data": {
      "text/plain": [
       "5117595"
      ]
     },
     "execution_count": 15,
     "metadata": {},
     "output_type": "execute_result"
    }
   ],
   "source": [
    "papers_filtered.count()"
   ]
  },
  {
   "cell_type": "code",
   "execution_count": 16,
   "metadata": {},
   "outputs": [],
   "source": [
    "papers_filtered = papers_filtered.withColumnRenamed(\"CitationCount\",\"label\")"
   ]
  },
  {
   "cell_type": "code",
   "execution_count": 17,
   "metadata": {
    "scrolled": true
   },
   "outputs": [
    {
     "data": {
      "text/plain": [
       "['FOS_ID',\n",
       " 'PaperID',\n",
       " 'Rank',\n",
       " 'PaperYear',\n",
       " 'Volume',\n",
       " 'Issue',\n",
       " 'ReferenceCount',\n",
       " 'label',\n",
       " 'EstimatedCount',\n",
       " 'PaperAge',\n",
       " 'IsJournal',\n",
       " 'min_FOSRank',\n",
       " 'max_FOSRank',\n",
       " 'max_FOSPaperCount',\n",
       " 'min_FOSPaperCount',\n",
       " 'min_FOSCitationCount',\n",
       " 'max_FOSCitationCount',\n",
       " 'PaperRefCnt',\n",
       " 'Domain']"
      ]
     },
     "execution_count": 17,
     "metadata": {},
     "output_type": "execute_result"
    }
   ],
   "source": [
    "papers_filtered.columns"
   ]
  },
  {
   "cell_type": "code",
   "execution_count": 18,
   "metadata": {},
   "outputs": [],
   "source": [
    "drop_cols = [\"FOS_ID\",\"PaperID\",\"EstimatedCount\",\"Domain\",\"PaperYear\",\"Volume\",\"Issue\"]\n",
    "papers_filtered = papers_filtered.drop(*drop_cols)"
   ]
  },
  {
   "cell_type": "code",
   "execution_count": 19,
   "metadata": {},
   "outputs": [],
   "source": [
    "papers_filtered1 = papers_filtered.select([\"Rank\",\"ReferenceCount\",\"PaperAge\",\\\n",
    "                        \"IsJournal\",\"min_FOSRank\",\"max_FOSRank\",\"max_FOSPaperCount\",\"min_FOSPaperCount\",\"min_FOSCitationCount\",\\\n",
    "                        \"max_FOSCitationCount\",\"PaperRefCnt\",\"label\"])"
   ]
  },
  {
   "cell_type": "code",
   "execution_count": 27,
   "metadata": {},
   "outputs": [],
   "source": [
    "(sample1,sample2) = papers_filtered1.randomSplit([0.5,0.5])"
   ]
  },
  {
   "cell_type": "code",
   "execution_count": 28,
   "metadata": {},
   "outputs": [],
   "source": [
    "from sklearn import model_selection\n",
    "from sklearn.model_selection import KFold"
   ]
  },
  {
   "cell_type": "code",
   "execution_count": 29,
   "metadata": {},
   "outputs": [],
   "source": [
    "from sklearn.ensemble import RandomForestRegressor"
   ]
  },
  {
   "cell_type": "code",
   "execution_count": 30,
   "metadata": {},
   "outputs": [],
   "source": [
    "papers_pd = sample1.toPandas()"
   ]
  },
  {
   "cell_type": "code",
   "execution_count": 32,
   "metadata": {},
   "outputs": [
    {
     "data": {
      "text/plain": [
       "(2559241, 12)"
      ]
     },
     "execution_count": 32,
     "metadata": {},
     "output_type": "execute_result"
    }
   ],
   "source": [
    "papers_pd.shape"
   ]
  },
  {
   "cell_type": "code",
   "execution_count": 31,
   "metadata": {},
   "outputs": [],
   "source": [
    "X = papers_pd.iloc[:, 0:11].values\n",
    "y = papers_pd.iloc[:, 11].values"
   ]
  },
  {
   "cell_type": "code",
   "execution_count": 25,
   "metadata": {},
   "outputs": [
    {
     "data": {
      "text/plain": [
       "array([18,  0, 13, 14,  0], dtype=int32)"
      ]
     },
     "execution_count": 25,
     "metadata": {},
     "output_type": "execute_result"
    }
   ],
   "source": [
    "y[0:5]"
   ]
  },
  {
   "cell_type": "code",
   "execution_count": 37,
   "metadata": {},
   "outputs": [],
   "source": [
    "#kfold = model_selection.KFold(n_splits=5, random_state=10)\n",
    "#model = RandomForestRegressor(n_estimators= 1000,max_depth=3)"
   ]
  },
  {
   "cell_type": "code",
   "execution_count": 38,
   "metadata": {},
   "outputs": [],
   "source": [
    "\n",
    "#results = model_selection.cross_val_score(model, X, y, cv=kfold,scoring=\"neg_mean_absolute_error\")\n"
   ]
  },
  {
   "cell_type": "code",
   "execution_count": 39,
   "metadata": {},
   "outputs": [],
   "source": [
    "#print(\"Neg Mean Abosulte error: %.3f%% \" % (results.mean()))"
   ]
  },
  {
   "cell_type": "code",
   "execution_count": 40,
   "metadata": {},
   "outputs": [],
   "source": [
    "import numpy as np\n",
    "from sklearn.model_selection import StratifiedKFold"
   ]
  },
  {
   "cell_type": "code",
   "execution_count": 41,
   "metadata": {},
   "outputs": [],
   "source": [
    "(sample11,sample12) = sample1.randomSplit([0.5,0.5])"
   ]
  },
  {
   "cell_type": "code",
   "execution_count": 42,
   "metadata": {},
   "outputs": [],
   "source": [
    "df = sample11.toPandas()"
   ]
  },
  {
   "cell_type": "code",
   "execution_count": 43,
   "metadata": {},
   "outputs": [
    {
     "data": {
      "text/plain": [
       "(1279121, 12)"
      ]
     },
     "execution_count": 43,
     "metadata": {},
     "output_type": "execute_result"
    }
   ],
   "source": [
    "df.shape"
   ]
  },
  {
   "cell_type": "code",
   "execution_count": 46,
   "metadata": {},
   "outputs": [],
   "source": [
    "X = df.iloc[:, 0:11].values\n",
    "y = df.iloc[:, 11].values"
   ]
  },
  {
   "cell_type": "markdown",
   "metadata": {},
   "source": [
    "## Stratified 5 Folds"
   ]
  },
  {
   "cell_type": "code",
   "execution_count": 47,
   "metadata": {},
   "outputs": [
    {
     "data": {
      "text/plain": [
       "5"
      ]
     },
     "execution_count": 47,
     "metadata": {},
     "output_type": "execute_result"
    }
   ],
   "source": [
    "skf = StratifiedKFold(n_splits=5)\n",
    "skf.get_n_splits(X, y)"
   ]
  },
  {
   "cell_type": "markdown",
   "metadata": {},
   "source": [
    "## Random Regresssion using "
   ]
  },
  {
   "cell_type": "code",
   "execution_count": 48,
   "metadata": {},
   "outputs": [
    {
     "name": "stderr",
     "output_type": "stream",
     "text": [
      "/home/sdmohant/.virtualenvs/datascience/local/lib/python2.7/site-packages/sklearn/model_selection/_split.py:652: Warning: The least populated class in y has only 1 members, which is too few. The minimum number of members in any class cannot be less than n_splits=5.\n",
      "  % (min_groups, self.n_splits)), Warning)\n"
     ]
    },
    {
     "name": "stdout",
     "output_type": "stream",
     "text": [
      "('TRAIN:', array([   8653,   11346,   25178, ..., 1279118, 1279119, 1279120]), 'TEST:', array([      0,       1,       2, ..., 1270681, 1274810, 1278025]))\n",
      "('Mean Absolute Error:', 10.501574830170567)\n",
      "('Mean Squared Error:', 5301.748469501873)\n",
      "('Root Mean Squared Error:', 72.81310644040586)\n",
      "('TRAIN:', array([      0,       1,       2, ..., 1279118, 1279119, 1279120]), 'TEST:', array([   8653,   11346,   25178, ..., 1250526, 1252185, 1266706]))\n",
      "('Mean Absolute Error:', 8.432122614997114)\n",
      "('Mean Squared Error:', 684.5046458099604)\n",
      "('Root Mean Squared Error:', 26.163039689798286)\n",
      "('TRAIN:', array([      0,       1,       2, ..., 1279118, 1279119, 1279120]), 'TEST:', array([  25513,   25833,   26683, ..., 1216221, 1251054, 1256642]))\n",
      "('Mean Absolute Error:', 7.612294257801979)\n",
      "('Mean Squared Error:', 444.5593508178578)\n",
      "('Root Mean Squared Error:', 21.08457613559869)\n",
      "('TRAIN:', array([      0,       1,       2, ..., 1279118, 1279119, 1279120]), 'TEST:', array([ 101092,  219083,  219162, ..., 1216238, 1250517, 1278161]))\n",
      "('Mean Absolute Error:', 7.8954539150082415)\n",
      "('Mean Squared Error:', 403.77064139311585)\n",
      "('Root Mean Squared Error:', 20.094044923636353)\n",
      "('TRAIN:', array([      0,       1,       2, ..., 1274810, 1278025, 1278161]), 'TEST:', array([ 376422,  670343,  692846, ..., 1279118, 1279119, 1279120]))\n",
      "('Mean Absolute Error:', 7.795334814705189)\n",
      "('Mean Squared Error:', 369.11715244087736)\n",
      "('Root Mean Squared Error:', 19.212421826539135)\n"
     ]
    }
   ],
   "source": [
    "from sklearn import metrics\n",
    "rmse_list = []\n",
    "for train_index, test_index in skf.split(X,y):\n",
    "    print(\"TRAIN:\", train_index, \"TEST:\", test_index)\n",
    "    X_train, X_test = X[train_index], X[test_index]\n",
    "    y_train, y_test = y[train_index], y[test_index]\n",
    "    regressor = RandomForestRegressor(n_estimators=1000, max_depth=3, random_state=0)\n",
    "    regressor.fit(X_train, y_train)\n",
    "    y_pred = regressor.predict(X_test)\n",
    "    rmse_list.append(np.sqrt(metrics.mean_squared_error(y_test, y_pred)))\n",
    "    print('Mean Absolute Error:', metrics.mean_absolute_error(y_test, y_pred))\n",
    "    print('Mean Squared Error:', metrics.mean_squared_error(y_test, y_pred))\n",
    "    print('Root Mean Squared Error:', np.sqrt(metrics.mean_squared_error(y_test, y_pred)))\n",
    "    \n"
   ]
  },
  {
   "cell_type": "code",
   "execution_count": 49,
   "metadata": {},
   "outputs": [
    {
     "data": {
      "text/plain": [
       "[72.81310644040586,\n",
       " 26.163039689798286,\n",
       " 21.08457613559869,\n",
       " 20.094044923636353,\n",
       " 19.212421826539135]"
      ]
     },
     "execution_count": 49,
     "metadata": {},
     "output_type": "execute_result"
    }
   ],
   "source": [
    "rmse_list"
   ]
  },
  {
   "cell_type": "code",
   "execution_count": 57,
   "metadata": {},
   "outputs": [
    {
     "name": "stdout",
     "output_type": "stream",
     "text": [
      "('Mean RMSE is :', 31.873437803195664)\n"
     ]
    }
   ],
   "source": [
    "rmse_sum = 0\n",
    "for index in range(0,5):\n",
    "    rmse_sum = rmse_sum + rmse_list[index]\n",
    "mean_rmse = rmse_sum/5\n",
    "print(\"Mean RMSE is :\",mean_rmse)"
   ]
  },
  {
   "cell_type": "code",
   "execution_count": 64,
   "metadata": {},
   "outputs": [],
   "source": [
    "import xgboost as xgb"
   ]
  },
  {
   "cell_type": "code",
   "execution_count": 65,
   "metadata": {},
   "outputs": [],
   "source": [
    "from sklearn.model_selection import train_test_split\n",
    "from sklearn.metrics import mean_squared_error"
   ]
  },
  {
   "cell_type": "code",
   "execution_count": 66,
   "metadata": {},
   "outputs": [],
   "source": [
    "X_train, X_test, y_train, y_test = train_test_split(X, y)"
   ]
  },
  {
   "cell_type": "code",
   "execution_count": 67,
   "metadata": {},
   "outputs": [],
   "source": [
    "regressor = xgb.XGBRegressor(\n",
    "    n_estimators=100,\n",
    "    reg_lambda=1,\n",
    "    gamma=0,\n",
    "    max_depth=3\n",
    ")"
   ]
  },
  {
   "cell_type": "code",
   "execution_count": 68,
   "metadata": {},
   "outputs": [
    {
     "data": {
      "text/plain": [
       "XGBRegressor(base_score=0.5, booster='gbtree', colsample_bylevel=1,\n",
       "       colsample_bytree=1, gamma=0, learning_rate=0.1, max_delta_step=0,\n",
       "       max_depth=3, min_child_weight=1, missing=None, n_estimators=100,\n",
       "       n_jobs=1, nthread=None, objective='reg:linear', random_state=0,\n",
       "       reg_alpha=0, reg_lambda=1, scale_pos_weight=1, seed=None,\n",
       "       silent=True, subsample=1)"
      ]
     },
     "execution_count": 68,
     "metadata": {},
     "output_type": "execute_result"
    }
   ],
   "source": [
    "regressor.fit(X_train, y_train)"
   ]
  },
  {
   "cell_type": "code",
   "execution_count": 69,
   "metadata": {},
   "outputs": [],
   "source": [
    "y_pred = regressor.predict(X_test)"
   ]
  },
  {
   "cell_type": "code",
   "execution_count": 70,
   "metadata": {},
   "outputs": [
    {
     "data": {
      "text/plain": [
       "24.45901250070523"
      ]
     },
     "execution_count": 70,
     "metadata": {},
     "output_type": "execute_result"
    }
   ],
   "source": [
    "np.sqrt(metrics.mean_squared_error(y_test, y_pred))"
   ]
  },
  {
   "cell_type": "code",
   "execution_count": 71,
   "metadata": {},
   "outputs": [
    {
     "data": {
      "text/plain": [
       "5"
      ]
     },
     "execution_count": 71,
     "metadata": {},
     "output_type": "execute_result"
    }
   ],
   "source": [
    "skf = StratifiedKFold(n_splits=5)\n",
    "skf.get_n_splits(X, y)"
   ]
  },
  {
   "cell_type": "code",
   "execution_count": 72,
   "metadata": {},
   "outputs": [
    {
     "name": "stdout",
     "output_type": "stream",
     "text": [
      "('TRAIN:', array([   8653,   11346,   25178, ..., 1279118, 1279119, 1279120]), 'TEST:', array([      0,       1,       2, ..., 1270681, 1274810, 1278025]))\n",
      "('Mean Absolute Error:', 6.304092534267572)\n",
      "('Mean Squared Error:', 3687.4581402606877)\n",
      "('Root Mean Squared Error:', 60.72444433883844)\n",
      "('TRAIN:', array([      0,       1,       2, ..., 1279118, 1279119, 1279120]), 'TEST:', array([   8653,   11346,   25178, ..., 1250526, 1252185, 1266706]))\n",
      "('Mean Absolute Error:', 4.870164329484004)\n",
      "('Mean Squared Error:', 335.1757939864807)\n",
      "('Root Mean Squared Error:', 18.307806913622414)\n",
      "('TRAIN:', array([      0,       1,       2, ..., 1279118, 1279119, 1279120]), 'TEST:', array([  25513,   25833,   26683, ..., 1216221, 1251054, 1256642]))\n",
      "('Mean Absolute Error:', 4.37072813199996)\n",
      "('Mean Squared Error:', 201.92475527257238)\n",
      "('Root Mean Squared Error:', 14.210023056722054)\n",
      "('TRAIN:', array([      0,       1,       2, ..., 1279118, 1279119, 1279120]), 'TEST:', array([ 101092,  219083,  219162, ..., 1216238, 1250517, 1278161]))\n",
      "('Mean Absolute Error:', 4.409025958561927)\n",
      "('Mean Squared Error:', 157.95341042822804)\n",
      "('Root Mean Squared Error:', 12.567951719680819)\n",
      "('TRAIN:', array([      0,       1,       2, ..., 1274810, 1278025, 1278161]), 'TEST:', array([ 376422,  670343,  692846, ..., 1279118, 1279119, 1279120]))\n",
      "('Mean Absolute Error:', 4.849524923139534)\n",
      "('Mean Squared Error:', 197.17688393597393)\n",
      "('Root Mean Squared Error:', 14.041968663117503)\n"
     ]
    }
   ],
   "source": [
    "rmse_list = []\n",
    "for train_index, test_index in skf.split(X,y):\n",
    "    print(\"TRAIN:\", train_index, \"TEST:\", test_index)\n",
    "    X_train, X_test = X[train_index], X[test_index]\n",
    "    y_train, y_test = y[train_index], y[test_index]\n",
    "    regressor = xgb.XGBRegressor(\n",
    "                n_estimators=100,\n",
    "                reg_lambda=1,\n",
    "                gamma=0,\n",
    "                max_depth=3\n",
    "                )\n",
    "    regressor.fit(X_train, y_train)\n",
    "    y_pred = regressor.predict(X_test)\n",
    "    rmse_list.append(np.sqrt(metrics.mean_squared_error(y_test, y_pred)))\n",
    "    print('Mean Absolute Error:', metrics.mean_absolute_error(y_test, y_pred))\n",
    "    print('Mean Squared Error:', metrics.mean_squared_error(y_test, y_pred))\n",
    "    print('Root Mean Squared Error:', np.sqrt(metrics.mean_squared_error(y_test, y_pred)))"
   ]
  },
  {
   "cell_type": "code",
   "execution_count": 73,
   "metadata": {},
   "outputs": [
    {
     "name": "stdout",
     "output_type": "stream",
     "text": [
      "('Mean RMSE is :', 23.970438938396246)\n"
     ]
    }
   ],
   "source": [
    "rmse_sum = 0\n",
    "for index in range(0,5):\n",
    "    rmse_sum = rmse_sum + rmse_list[index]\n",
    "mean_rmse = rmse_sum/5\n",
    "print(\"Mean RMSE is :\",mean_rmse)"
   ]
  },
  {
   "cell_type": "code",
   "execution_count": 74,
   "metadata": {},
   "outputs": [
    {
     "name": "stdout",
     "output_type": "stream",
     "text": [
      "('TRAIN:', array([   8653,   11346,   25178, ..., 1279118, 1279119, 1279120]), 'TEST:', array([      0,       1,       2, ..., 1270681, 1274810, 1278025]))\n",
      "('Mean Absolute Error with less estimators:', 10.505231426068026)\n",
      "('Mean Squared Error with less estimators:', 5311.671203102948)\n",
      "('Root Mean Squared Error with less estimators:', 72.88121296399332)\n",
      "('TRAIN:', array([      0,       1,       2, ..., 1279118, 1279119, 1279120]), 'TEST:', array([   8653,   11346,   25178, ..., 1250526, 1252185, 1266706]))\n",
      "('Mean Absolute Error with less estimators:', 8.452242815517955)\n",
      "('Mean Squared Error with less estimators:', 688.6839756149031)\n",
      "('Root Mean Squared Error with less estimators:', 26.242789021270266)\n",
      "('TRAIN:', array([      0,       1,       2, ..., 1279118, 1279119, 1279120]), 'TEST:', array([  25513,   25833,   26683, ..., 1216221, 1251054, 1256642]))\n",
      "('Mean Absolute Error with less estimators:', 7.628409145529364)\n",
      "('Mean Squared Error with less estimators:', 445.253663556171)\n",
      "('Root Mean Squared Error with less estimators:', 21.101034656058243)\n",
      "('TRAIN:', array([      0,       1,       2, ..., 1279118, 1279119, 1279120]), 'TEST:', array([ 101092,  219083,  219162, ..., 1216238, 1250517, 1278161]))\n",
      "('Mean Absolute Error with less estimators:', 7.898454724593166)\n",
      "('Mean Squared Error with less estimators:', 404.78103123551483)\n",
      "('Root Mean Squared Error with less estimators:', 20.119170739260472)\n",
      "('TRAIN:', array([      0,       1,       2, ..., 1274810, 1278025, 1278161]), 'TEST:', array([ 376422,  670343,  692846, ..., 1279118, 1279119, 1279120]))\n",
      "('Mean Absolute Error with less estimators:', 7.795286675048519)\n",
      "('Mean Squared Error with less estimators:', 366.7779252475897)\n",
      "('Root Mean Squared Error with less estimators:', 19.151447079727152)\n"
     ]
    }
   ],
   "source": [
    "from sklearn import metrics\n",
    "rmse_list = []\n",
    "for train_index, test_index in skf.split(X,y):\n",
    "    print(\"TRAIN:\", train_index, \"TEST:\", test_index)\n",
    "    X_train, X_test = X[train_index], X[test_index]\n",
    "    y_train, y_test = y[train_index], y[test_index]\n",
    "    regressor = RandomForestRegressor(n_estimators=100, max_depth=3, random_state=0)\n",
    "    regressor.fit(X_train, y_train)\n",
    "    y_pred = regressor.predict(X_test)\n",
    "    rmse_list.append(np.sqrt(metrics.mean_squared_error(y_test, y_pred)))\n",
    "    print('Mean Absolute Error with less estimators:', metrics.mean_absolute_error(y_test, y_pred))\n",
    "    print('Mean Squared Error with less estimators:', metrics.mean_squared_error(y_test, y_pred))\n",
    "    print('Root Mean Squared Error with less estimators:', np.sqrt(metrics.mean_squared_error(y_test, y_pred)))\n",
    "    "
   ]
  },
  {
   "cell_type": "code",
   "execution_count": 75,
   "metadata": {},
   "outputs": [
    {
     "name": "stdout",
     "output_type": "stream",
     "text": [
      "('Mean RMSE is :', 31.89913089206189)\n"
     ]
    }
   ],
   "source": [
    "rmse_sum = 0\n",
    "for index in range(0,5):\n",
    "    rmse_sum = rmse_sum + rmse_list[index]\n",
    "mean_rmse = rmse_sum/5\n",
    "print(\"Mean RMSE is :\",mean_rmse)"
   ]
  },
  {
   "cell_type": "code",
   "execution_count": 76,
   "metadata": {},
   "outputs": [
    {
     "data": {
      "text/plain": [
       "5"
      ]
     },
     "execution_count": 76,
     "metadata": {},
     "output_type": "execute_result"
    }
   ],
   "source": [
    "skf = StratifiedKFold(n_splits=5)\n",
    "skf.get_n_splits(X, y)"
   ]
  },
  {
   "cell_type": "code",
   "execution_count": 77,
   "metadata": {},
   "outputs": [
    {
     "name": "stdout",
     "output_type": "stream",
     "text": [
      "('TRAIN:', array([   8653,   11346,   25178, ..., 1279118, 1279119, 1279120]), 'TEST:', array([      0,       1,       2, ..., 1270681, 1274810, 1278025]))\n",
      "('Mean Absolute Error with less estimators:', 5.503004584652553)\n",
      "('Mean Squared Error with less estimators:', 3430.3669366549266)\n",
      "('Root Mean Squared Error with less estimators:', 58.56933443923472)\n",
      "('TRAIN:', array([      0,       1,       2, ..., 1279118, 1279119, 1279120]), 'TEST:', array([   8653,   11346,   25178, ..., 1250526, 1252185, 1266706]))\n",
      "('Mean Absolute Error with less estimators:', 3.769725325531085)\n",
      "('Mean Squared Error with less estimators:', 346.76013096622546)\n",
      "('Root Mean Squared Error with less estimators:', 18.621496474940606)\n",
      "('TRAIN:', array([      0,       1,       2, ..., 1279118, 1279119, 1279120]), 'TEST:', array([  25513,   25833,   26683, ..., 1216221, 1251054, 1256642]))\n",
      "('Mean Absolute Error with less estimators:', 3.366487688997392)\n",
      "('Mean Squared Error with less estimators:', 179.76609137040944)\n",
      "('Root Mean Squared Error with less estimators:', 13.407687771215791)\n",
      "('TRAIN:', array([      0,       1,       2, ..., 1279118, 1279119, 1279120]), 'TEST:', array([ 101092,  219083,  219162, ..., 1216238, 1250517, 1278161]))\n",
      "('Mean Absolute Error with less estimators:', 3.0320035879659453)\n",
      "('Mean Squared Error with less estimators:', 128.52983174450102)\n",
      "('Root Mean Squared Error with less estimators:', 11.337099794237547)\n",
      "('TRAIN:', array([      0,       1,       2, ..., 1274810, 1278025, 1278161]), 'TEST:', array([ 376422,  670343,  692846, ..., 1279118, 1279119, 1279120]))\n",
      "('Mean Absolute Error with less estimators:', 3.5682863278177037)\n",
      "('Mean Squared Error with less estimators:', 168.8123693543857)\n",
      "('Root Mean Squared Error with less estimators:', 12.992781432564227)\n"
     ]
    }
   ],
   "source": [
    "from sklearn import metrics\n",
    "rmse_list = []\n",
    "for train_index, test_index in skf.split(X,y):\n",
    "    print(\"TRAIN:\", train_index, \"TEST:\", test_index)\n",
    "    X_train, X_test = X[train_index], X[test_index]\n",
    "    y_train, y_test = y[train_index], y[test_index]\n",
    "    regressor = RandomForestRegressor(n_estimators=100, max_depth=30, random_state=0)\n",
    "    regressor.fit(X_train, y_train)\n",
    "    y_pred = regressor.predict(X_test)\n",
    "    rmse_list.append(np.sqrt(metrics.mean_squared_error(y_test, y_pred)))\n",
    "    print('Mean Absolute Error with less estimators:', metrics.mean_absolute_error(y_test, y_pred))\n",
    "    print('Mean Squared Error with less estimators:', metrics.mean_squared_error(y_test, y_pred))\n",
    "    print('Root Mean Squared Error with less estimators:', np.sqrt(metrics.mean_squared_error(y_test, y_pred)))\n",
    "    "
   ]
  },
  {
   "cell_type": "code",
   "execution_count": 78,
   "metadata": {},
   "outputs": [
    {
     "name": "stdout",
     "output_type": "stream",
     "text": [
      "('Mean RMSE is :', 22.98567998243858)\n"
     ]
    }
   ],
   "source": [
    "rmse_sum = 0\n",
    "for index in range(0,5):\n",
    "    rmse_sum = rmse_sum + rmse_list[index]\n",
    "mean_rmse = rmse_sum/5\n",
    "print(\"Mean RMSE is :\",mean_rmse)"
   ]
  },
  {
   "cell_type": "code",
   "execution_count": 89,
   "metadata": {},
   "outputs": [],
   "source": [
    "featureslist=df.columns"
   ]
  },
  {
   "cell_type": "code",
   "execution_count": 91,
   "metadata": {},
   "outputs": [
    {
     "data": {
      "text/plain": [
       "Text(0.5,1,'Feature Importances')"
      ]
     },
     "execution_count": 91,
     "metadata": {},
     "output_type": "execute_result"
    },
    {
     "data": {
      "image/png": "[encoded data removed]",
      "text/plain": [
       "<Figure size 432x288 with 1 Axes>"
      ]
     },
     "metadata": {},
     "output_type": "display_data"
    }
   ],
   "source": [
    "importances = regressor.feature_importances_\n",
    "\n",
    "x_values = list(range(len(importances)))\n",
    "\n",
    "plt.bar(x_values, importances, orientation = 'vertical')\n",
    "plt.xticks(x_values, featureslist[0:10], rotation=70)\n",
    "plt.ylabel('Importance')\n",
    "plt.xlabel('Feature')\n",
    "plt.title('Feature Importances')"
   ]
  },
  {
   "cell_type": "code",
   "execution_count": 93,
   "metadata": {},
   "outputs": [
    {
     "name": "stdout",
     "output_type": "stream",
     "text": [
      "Feature: 0, Score: 0.50733\n",
      "Feature: 1, Score: 0.02662\n",
      "Feature: 2, Score: 0.35080\n",
      "Feature: 3, Score: 0.00335\n",
      "Feature: 4, Score: 0.01201\n",
      "Feature: 5, Score: 0.02326\n",
      "Feature: 6, Score: 0.00602\n",
      "Feature: 7, Score: 0.02220\n",
      "Feature: 8, Score: 0.01884\n",
      "Feature: 9, Score: 0.00705\n",
      "Feature: 10, Score: 0.02252\n"
     ]
    }
   ],
   "source": [
    "for i,v in enumerate(importances):\n",
    "\tprint('Feature: %0d, Score: %.5f' % (i,v))"
   ]
  },
  {
   "cell_type": "code",
   "execution_count": null,
   "metadata": {},
   "outputs": [],
   "source": []
  }
 ],
 "metadata": {
  "kernelspec": {
   "display_name": "Python 2",
   "language": "python",
   "name": "python2"
  },
  "language_info": {
   "codemirror_mode": {
    "name": "ipython",
    "version": 2
   },
   "file_extension": ".py",
   "mimetype": "text/x-python",
   "name": "python",
   "nbconvert_exporter": "python",
   "pygments_lexer": "ipython2",
   "version": "2.7.15rc1"
  }
 },
 "nbformat": 4,
 "nbformat_minor": 2
}
