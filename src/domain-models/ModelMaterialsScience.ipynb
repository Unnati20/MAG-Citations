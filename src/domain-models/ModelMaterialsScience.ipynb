{
 "cells": [
  {
   "cell_type": "code",
   "execution_count": 1,
   "metadata": {},
   "outputs": [],
   "source": [
    "import findspark\n",
    "findspark.init('/home/sdmohant/spark-3.0.0-bin-hadoop2.7')"
   ]
  },
  {
   "cell_type": "code",
   "execution_count": 2,
   "metadata": {},
   "outputs": [],
   "source": [
    "import pyspark\n",
    "from pyspark import SparkContext,SparkConf"
   ]
  },
  {
   "cell_type": "code",
   "execution_count": 3,
   "metadata": {},
   "outputs": [],
   "source": [
    "from pyspark.sql import SparkSession"
   ]
  },
  {
   "cell_type": "code",
   "execution_count": 4,
   "metadata": {},
   "outputs": [
    {
     "name": "stderr",
     "output_type": "stream",
     "text": [
      "/home/sdmohant/spark-3.0.0-bin-hadoop2.7/python/pyspark/context.py:220: DeprecationWarning: Support for Python 2 and Python 3 prior to version 3.6 is deprecated as of Spark 3.0. See also the plan for dropping Python 2 support at https://spark.apache.org/news/plan-for-dropping-python-2-support.html.\n",
      "  DeprecationWarning)\n"
     ]
    }
   ],
   "source": [
    "#spark = SparkSession.builder.appName(\"MyApp\").getOrCreate()\n",
    "#spark = SparkSession.builder.appName(\"MyName\").getOrCreate()\n",
    "conf = SparkConf().set(\"spark.cores.max\", \"16\") \\\n",
    "    .set(\"spark.driver.memory\", \"16g\") \\\n",
    "    .set(\"spark.executor.memory\", \"16g\") \\\n",
    "    .set(\"spark.executor.memory_overhead\", \"16g\") \\\n",
    "    .set(\"spark.driver.maxResultsSize\", \"0\") \\\n",
    "    .set(\"spark.sql.shuffle.partitions\",\"300\")\n",
    "\n",
    "sc = SparkContext(appName=\"materialsciencemodel\", conf=conf)\n",
    "spark = SparkSession(sc)"
   ]
  },
  {
   "cell_type": "code",
   "execution_count": 5,
   "metadata": {},
   "outputs": [],
   "source": [
    "from pyspark.sql.functions import isnan, count, col, when"
   ]
  },
  {
   "cell_type": "code",
   "execution_count": 6,
   "metadata": {},
   "outputs": [],
   "source": [
    "materialsscienceFOSID = spark.read.options(header = True, inferSchema = True,delimiter=',').csv(\"FOSDomains.csv\")"
   ]
  },
  {
   "cell_type": "code",
   "execution_count": 8,
   "metadata": {},
   "outputs": [],
   "source": [
    "materialssciFOSID = materialsscienceFOSID.filter(materialsscienceFOSID[\"Domain\"]==\"MaterialScience\").collect()"
   ]
  },
  {
   "cell_type": "code",
   "execution_count": 9,
   "metadata": {},
   "outputs": [],
   "source": [
    "papers = spark.read.options(header = True, inferSchema = True,delimiter=',').csv(\"AllPapersFOS1.csv\")"
   ]
  },
  {
   "cell_type": "code",
   "execution_count": 10,
   "metadata": {},
   "outputs": [],
   "source": [
    "from pyspark.sql.types import ArrayType, StructField, StructType, StringType, IntegerType,LongType"
   ]
  },
  {
   "cell_type": "code",
   "execution_count": 11,
   "metadata": {},
   "outputs": [],
   "source": [
    "schema = StructType([\n",
    "    StructField('FOS_ID', LongType(), True),\n",
    "    StructField('Domain', StringType(), True)\n",
    "])"
   ]
  },
  {
   "cell_type": "code",
   "execution_count": 12,
   "metadata": {},
   "outputs": [],
   "source": [
    "# Convert list to RDD\n",
    "rdd = spark.sparkContext.parallelize(materialssciFOSID)\n",
    "\n",
    "# Create data frame\n",
    "fos = spark.createDataFrame(rdd,schema)"
   ]
  },
  {
   "cell_type": "code",
   "execution_count": 13,
   "metadata": {},
   "outputs": [
    {
     "name": "stdout",
     "output_type": "stream",
     "text": [
      "+---------+---------------+\n",
      "|   FOS_ID|         Domain|\n",
      "+---------+---------------+\n",
      "|188027245|MaterialScience|\n",
      "|159985019|MaterialScience|\n",
      "+---------+---------------+\n",
      "only showing top 2 rows\n",
      "\n"
     ]
    }
   ],
   "source": [
    "fos.show(2)"
   ]
  },
  {
   "cell_type": "code",
   "execution_count": 14,
   "metadata": {},
   "outputs": [],
   "source": [
    "papers_filtered = papers.join(fos,on=\"FOS_ID\",how=\"inner\")"
   ]
  },
  {
   "cell_type": "code",
   "execution_count": 15,
   "metadata": {},
   "outputs": [],
   "source": [
    "papers_filtered = papers_filtered.withColumnRenamed(\"CitationCount\",\"label\")"
   ]
  },
  {
   "cell_type": "code",
   "execution_count": 56,
   "metadata": {},
   "outputs": [],
   "source": [
    "papers_filtered1 = papers_filtered.select([\"PaperID\",\"EstimatedCount\",\"Rank\",\"ReferenceCount\",\"PaperAge\",\\\n",
    "                        \"IsJournal\",\"min_FOSRank\",\"max_FOSRank\",\"max_FOSPaperCount\",\"min_FOSPaperCount\",\"min_FOSCitationCount\",\\\n",
    "                        \"max_FOSCitationCount\",\"PaperRefCnt\",\"label\"])"
   ]
  },
  {
   "cell_type": "code",
   "execution_count": 57,
   "metadata": {},
   "outputs": [
    {
     "data": {
      "text/plain": [
       "4799426"
      ]
     },
     "execution_count": 57,
     "metadata": {},
     "output_type": "execute_result"
    }
   ],
   "source": [
    "papers_filtered1.count()"
   ]
  },
  {
   "cell_type": "code",
   "execution_count": 58,
   "metadata": {},
   "outputs": [],
   "source": [
    "(sample1,sample2) = papers_filtered1.randomSplit([0.3,0.7])"
   ]
  },
  {
   "cell_type": "code",
   "execution_count": 59,
   "metadata": {},
   "outputs": [
    {
     "data": {
      "text/plain": [
       "1439680"
      ]
     },
     "execution_count": 59,
     "metadata": {},
     "output_type": "execute_result"
    }
   ],
   "source": [
    "sample1.count()"
   ]
  },
  {
   "cell_type": "code",
   "execution_count": 60,
   "metadata": {},
   "outputs": [],
   "source": [
    "from sklearn.metrics import mean_squared_error\n",
    "from sklearn import metrics"
   ]
  },
  {
   "cell_type": "code",
   "execution_count": 61,
   "metadata": {},
   "outputs": [],
   "source": [
    "sample1_pd = sample1.toPandas()"
   ]
  },
  {
   "cell_type": "code",
   "execution_count": 62,
   "metadata": {},
   "outputs": [
    {
     "data": {
      "text/plain": [
       "Index([u'PaperID', u'EstimatedCount', u'Rank', u'ReferenceCount', u'PaperAge',\n",
       "       u'IsJournal', u'min_FOSRank', u'max_FOSRank', u'max_FOSPaperCount',\n",
       "       u'min_FOSPaperCount', u'min_FOSCitationCount', u'max_FOSCitationCount',\n",
       "       u'PaperRefCnt', u'label'],\n",
       "      dtype='object')"
      ]
     },
     "execution_count": 62,
     "metadata": {},
     "output_type": "execute_result"
    }
   ],
   "source": [
    "sample1_pd.columns"
   ]
  },
  {
   "cell_type": "code",
   "execution_count": 63,
   "metadata": {},
   "outputs": [],
   "source": [
    "import numpy as np"
   ]
  },
  {
   "cell_type": "code",
   "execution_count": 64,
   "metadata": {},
   "outputs": [],
   "source": [
    "y_est = np.array(sample1_pd[\"EstimatedCount\"])\n",
    "y_act = np.array(sample1_pd[\"label\"])"
   ]
  },
  {
   "cell_type": "code",
   "execution_count": 65,
   "metadata": {},
   "outputs": [
    {
     "name": "stdout",
     "output_type": "stream",
     "text": [
      "('Mean Absolute Error of EstimatedCount:', 1.1620526783729719)\n",
      "('Mean Squared Error of EstimatedCount:', 662.4387822293843)\n",
      "('Root Mean Squared of with EstimatedCount:', 25.737886125892008)\n"
     ]
    }
   ],
   "source": [
    "print('Mean Absolute Error of EstimatedCount:', metrics.mean_absolute_error(y_act, y_est))\n",
    "print('Mean Squared Error of EstimatedCount:', metrics.mean_squared_error(y_act, y_est))\n",
    "print('Root Mean Squared of with EstimatedCount:', np.sqrt(metrics.mean_squared_error(y_act, y_est)))"
   ]
  },
  {
   "cell_type": "code",
   "execution_count": 71,
   "metadata": {},
   "outputs": [],
   "source": [
    "X = sample1_pd.iloc[:, 0:11].values\n",
    "y = sample1_pd.iloc[:, 11].values"
   ]
  },
  {
   "cell_type": "code",
   "execution_count": 72,
   "metadata": {},
   "outputs": [],
   "source": [
    "from sklearn.model_selection import KFold"
   ]
  },
  {
   "cell_type": "code",
   "execution_count": 73,
   "metadata": {},
   "outputs": [
    {
     "data": {
      "text/plain": [
       "array([3, 2, 7, 4, 8], dtype=int32)"
      ]
     },
     "execution_count": 73,
     "metadata": {},
     "output_type": "execute_result"
    }
   ],
   "source": [
    "y[0:5]"
   ]
  },
  {
   "cell_type": "code",
   "execution_count": 74,
   "metadata": {},
   "outputs": [
    {
     "data": {
      "text/html": [
       "<div>\n",
       "<style scoped>\n",
       "    .dataframe tbody tr th:only-of-type {\n",
       "        vertical-align: middle;\n",
       "    }\n",
       "\n",
       "    .dataframe tbody tr th {\n",
       "        vertical-align: top;\n",
       "    }\n",
       "\n",
       "    .dataframe thead th {\n",
       "        text-align: right;\n",
       "    }\n",
       "</style>\n",
       "<table border=\"1\" class=\"dataframe\">\n",
       "  <thead>\n",
       "    <tr style=\"text-align: right;\">\n",
       "      <th></th>\n",
       "      <th>Rank</th>\n",
       "      <th>ReferenceCount</th>\n",
       "      <th>PaperAge</th>\n",
       "      <th>IsJournal</th>\n",
       "      <th>min_FOSRank</th>\n",
       "      <th>max_FOSRank</th>\n",
       "      <th>max_FOSPaperCount</th>\n",
       "      <th>min_FOSPaperCount</th>\n",
       "      <th>min_FOSCitationCount</th>\n",
       "      <th>max_FOSCitationCount</th>\n",
       "      <th>PaperRefCnt</th>\n",
       "      <th>label</th>\n",
       "    </tr>\n",
       "  </thead>\n",
       "  <tbody>\n",
       "    <tr>\n",
       "      <th>0</th>\n",
       "      <td>23586</td>\n",
       "      <td>4</td>\n",
       "      <td>34</td>\n",
       "      <td>0</td>\n",
       "      <td>7838</td>\n",
       "      <td>14213</td>\n",
       "      <td>8960343</td>\n",
       "      <td>1471</td>\n",
       "      <td>4225</td>\n",
       "      <td>43049958</td>\n",
       "      <td>0</td>\n",
       "      <td>3</td>\n",
       "    </tr>\n",
       "    <tr>\n",
       "      <th>1</th>\n",
       "      <td>23276</td>\n",
       "      <td>3</td>\n",
       "      <td>30</td>\n",
       "      <td>0</td>\n",
       "      <td>7838</td>\n",
       "      <td>11794</td>\n",
       "      <td>8960343</td>\n",
       "      <td>5570</td>\n",
       "      <td>33564</td>\n",
       "      <td>49764336</td>\n",
       "      <td>0</td>\n",
       "      <td>2</td>\n",
       "    </tr>\n",
       "  </tbody>\n",
       "</table>\n",
       "</div>"
      ],
      "text/plain": [
       "    Rank  ReferenceCount  PaperAge  IsJournal  min_FOSRank  max_FOSRank  \\\n",
       "0  23586               4        34          0         7838        14213   \n",
       "1  23276               3        30          0         7838        11794   \n",
       "\n",
       "   max_FOSPaperCount  min_FOSPaperCount  min_FOSCitationCount  \\\n",
       "0            8960343               1471                  4225   \n",
       "1            8960343               5570                 33564   \n",
       "\n",
       "   max_FOSCitationCount  PaperRefCnt  label  \n",
       "0              43049958            0      3  \n",
       "1              49764336            0      2  "
      ]
     },
     "execution_count": 74,
     "metadata": {},
     "output_type": "execute_result"
    }
   ],
   "source": [
    "sample1_pd.head(2)"
   ]
  },
  {
   "cell_type": "code",
   "execution_count": 75,
   "metadata": {},
   "outputs": [
    {
     "data": {
      "text/plain": [
       "5"
      ]
     },
     "execution_count": 75,
     "metadata": {},
     "output_type": "execute_result"
    }
   ],
   "source": [
    "kf = KFold(n_splits=5)\n",
    "kf.get_n_splits(X, y)"
   ]
  },
  {
   "cell_type": "code",
   "execution_count": 76,
   "metadata": {},
   "outputs": [],
   "source": [
    "from sklearn.ensemble import RandomForestRegressor\n",
    "import numpy as np"
   ]
  },
  {
   "cell_type": "code",
   "execution_count": 77,
   "metadata": {},
   "outputs": [
    {
     "name": "stdout",
     "output_type": "stream",
     "text": [
      "('TRAIN:', array([ 287936,  287937,  287938, ..., 1439677, 1439678, 1439679]), 'TEST:', array([     0,      1,      2, ..., 287933, 287934, 287935]))\n",
      "('Mean Absolute Error:', 2.408161866189057)\n",
      "('Mean Squared Error:', 91.07079717976261)\n",
      "('Root Mean Squared Error:', 9.543102073213019)\n",
      "('TRAIN:', array([      0,       1,       2, ..., 1439677, 1439678, 1439679]), 'TEST:', array([287936, 287937, 287938, ..., 575869, 575870, 575871]))\n",
      "('Mean Absolute Error:', 4.22766584204813)\n",
      "('Mean Squared Error:', 1008.0275077752224)\n",
      "('Root Mean Squared Error:', 31.749448936559865)\n",
      "('TRAIN:', array([      0,       1,       2, ..., 1439677, 1439678, 1439679]), 'TEST:', array([575872, 575873, 575874, ..., 863805, 863806, 863807]))\n",
      "('Mean Absolute Error:', 1.2894564096375107)\n",
      "('Mean Squared Error:', 16.415516145768127)\n",
      "('Root Mean Squared Error:', 4.051606612909023)\n",
      "('TRAIN:', array([      0,       1,       2, ..., 1439677, 1439678, 1439679]), 'TEST:', array([ 863808,  863809,  863810, ..., 1151741, 1151742, 1151743]))\n",
      "('Mean Absolute Error:', 0.811093361619794)\n",
      "('Mean Squared Error:', 62.015084306902075)\n",
      "('Root Mean Squared Error:', 7.874965670204669)\n",
      "('TRAIN:', array([      0,       1,       2, ..., 1151741, 1151742, 1151743]), 'TEST:', array([1151744, 1151745, 1151746, ..., 1439677, 1439678, 1439679]))\n",
      "('Mean Absolute Error:', 0.4092753767316373)\n",
      "('Mean Squared Error:', 47.08147550513117)\n",
      "('Root Mean Squared Error:', 6.861594239324501)\n"
     ]
    }
   ],
   "source": [
    "rmse_list = []\n",
    "for train_index, test_index in kf.split(X,y):\n",
    "    print(\"TRAIN:\", train_index, \"TEST:\", test_index)\n",
    "    X_train, X_test = X[train_index], X[test_index]\n",
    "    y_train, y_test = y[train_index], y[test_index]\n",
    "    regressor = RandomForestRegressor(n_estimators=100, max_depth=30, random_state=0)\n",
    "    regressor.fit(X_train, y_train)\n",
    "    y_pred = regressor.predict(X_test)\n",
    "    rmse_list.append(np.sqrt(metrics.mean_squared_error(y_test, y_pred)))\n",
    "    print('Mean Absolute Error:', metrics.mean_absolute_error(y_test, y_pred))\n",
    "    print('Mean Squared Error:', metrics.mean_squared_error(y_test, y_pred))\n",
    "    print('Root Mean Squared Error:', np.sqrt(metrics.mean_squared_error(y_test, y_pred)))\n",
    "    "
   ]
  },
  {
   "cell_type": "code",
   "execution_count": 79,
   "metadata": {},
   "outputs": [
    {
     "name": "stdout",
     "output_type": "stream",
     "text": [
      "('Mean RMSE is :', 12.016143506442216)\n"
     ]
    }
   ],
   "source": [
    "rmse_sum = 0\n",
    "for index in range(0,5):\n",
    "    rmse_sum = rmse_sum + rmse_list[index]\n",
    "mean_rmse = rmse_sum/5\n",
    "print(\"Mean RMSE is :\",mean_rmse)"
   ]
  },
  {
   "cell_type": "code",
   "execution_count": 80,
   "metadata": {},
   "outputs": [],
   "source": [
    "import matplotlib.pyplot as plt\n",
    "%matplotlib inline"
   ]
  },
  {
   "cell_type": "code",
   "execution_count": 81,
   "metadata": {},
   "outputs": [],
   "source": [
    "featureslist=sample1_pd.columns"
   ]
  },
  {
   "cell_type": "code",
   "execution_count": 82,
   "metadata": {},
   "outputs": [
    {
     "name": "stdout",
     "output_type": "stream",
     "text": [
      "Feature: 0, Score: 0.58821\n",
      "Feature: 1, Score: 0.02218\n",
      "Feature: 2, Score: 0.28091\n",
      "Feature: 3, Score: 0.00287\n",
      "Feature: 4, Score: 0.01704\n",
      "Feature: 5, Score: 0.02104\n",
      "Feature: 6, Score: 0.01072\n",
      "Feature: 7, Score: 0.01809\n",
      "Feature: 8, Score: 0.01785\n",
      "Feature: 9, Score: 0.00821\n",
      "Feature: 10, Score: 0.01289\n"
     ]
    }
   ],
   "source": [
    "for i,v in enumerate(importances):\n",
    "\tprint('Feature: %0d, Score: %.5f' % (i,v))"
   ]
  },
  {
   "cell_type": "code",
   "execution_count": 55,
   "metadata": {},
   "outputs": [
    {
     "data": {
      "text/plain": [
       "Text(0.5,1,'Feature Importances')"
      ]
     },
     "execution_count": 55,
     "metadata": {},
     "output_type": "execute_result"
    },
    {
     "data": {
      "image/png": "[encoded data removed]",
      "text/plain": [
       "<Figure size 432x288 with 1 Axes>"
      ]
     },
     "metadata": {},
     "output_type": "display_data"
    }
   ],
   "source": [
    "importances = regressor.feature_importances_\n",
    "x_values = list(range(len(importances)))\n",
    "\n",
    "plt.bar(x_values, importances, orientation = 'vertical')\n",
    "plt.xticks(x_values, featureslist[0:10], rotation=70)\n",
    "plt.ylabel('Importance')\n",
    "plt.xlabel('Feature')\n",
    "plt.title('Feature Importances')"
   ]
  },
  {
   "cell_type": "code",
   "execution_count": 83,
   "metadata": {},
   "outputs": [],
   "source": [
    "import pandas as pd"
   ]
  },
  {
   "cell_type": "code",
   "execution_count": 84,
   "metadata": {},
   "outputs": [
    {
     "data": {
      "text/plain": [
       "<matplotlib.axes._subplots.AxesSubplot at 0x7f57dc9d6f10>"
      ]
     },
     "execution_count": 84,
     "metadata": {},
     "output_type": "execute_result"
    },
    {
     "data": {
      "image/png": "[encoded data removed]",
      "text/plain": [
       "<Figure size 432x288 with 1 Axes>"
      ]
     },
     "metadata": {},
     "output_type": "display_data"
    }
   ],
   "source": [
    "(pd.Series(importances, index=featureslist[0:11]).plot(kind='barh')) "
   ]
  },
  {
   "cell_type": "markdown",
   "metadata": {},
   "source": [
    "## XGBoost Regression model using KFold"
   ]
  },
  {
   "cell_type": "code",
   "execution_count": 88,
   "metadata": {},
   "outputs": [],
   "source": [
    "import xgboost as xgb"
   ]
  },
  {
   "cell_type": "code",
   "execution_count": 89,
   "metadata": {},
   "outputs": [
    {
     "data": {
      "text/plain": [
       "5"
      ]
     },
     "execution_count": 89,
     "metadata": {},
     "output_type": "execute_result"
    }
   ],
   "source": [
    "kf = KFold(n_splits=5)\n",
    "kf.get_n_splits(X)"
   ]
  },
  {
   "cell_type": "code",
   "execution_count": 90,
   "metadata": {},
   "outputs": [
    {
     "name": "stdout",
     "output_type": "stream",
     "text": [
      "('TRAIN:', array([ 287936,  287937,  287938, ..., 1439677, 1439678, 1439679]), 'TEST:', array([     0,      1,      2, ..., 287933, 287934, 287935]))\n",
      "('Mean Absolute Error of XGBoost Kfold:', 2.5111461904193444)\n",
      "('Mean Squared Error of XGBoost Kfold:', 100.54498307353973)\n",
      "('Root Mean Squared Error of XGBoost Kfold:', 10.027212128679622)\n",
      "('TRAIN:', array([      0,       1,       2, ..., 1439677, 1439678, 1439679]), 'TEST:', array([287936, 287937, 287938, ..., 575869, 575870, 575871]))\n",
      "('Mean Absolute Error of XGBoost Kfold:', 4.490979483426358)\n",
      "('Mean Squared Error of XGBoost Kfold:', 1055.9890207390292)\n",
      "('Root Mean Squared Error of XGBoost Kfold:', 32.4959846864044)\n",
      "('TRAIN:', array([      0,       1,       2, ..., 1439677, 1439678, 1439679]), 'TEST:', array([575872, 575873, 575874, ..., 863805, 863806, 863807]))\n",
      "('Mean Absolute Error of XGBoost Kfold:', 1.316222335662793)\n",
      "('Mean Squared Error of XGBoost Kfold:', 18.45193791413969)\n",
      "('Root Mean Squared Error of XGBoost Kfold:', 4.2955718960505935)\n",
      "('TRAIN:', array([      0,       1,       2, ..., 1439677, 1439678, 1439679]), 'TEST:', array([ 863808,  863809,  863810, ..., 1151741, 1151742, 1151743]))\n",
      "('Mean Absolute Error of XGBoost Kfold:', 0.8062159271738351)\n",
      "('Mean Squared Error of XGBoost Kfold:', 13.979235311884267)\n",
      "('Root Mean Squared Error of XGBoost Kfold:', 3.738881558953729)\n",
      "('TRAIN:', array([      0,       1,       2, ..., 1151741, 1151742, 1151743]), 'TEST:', array([1151744, 1151745, 1151746, ..., 1439677, 1439678, 1439679]))\n",
      "('Mean Absolute Error of XGBoost Kfold:', 0.4147295071522967)\n",
      "('Mean Squared Error of XGBoost Kfold:', 59.10239051019896)\n",
      "('Root Mean Squared Error of XGBoost Kfold:', 7.687807913195995)\n"
     ]
    }
   ],
   "source": [
    "rmse_list = []\n",
    "for train_index, test_index in kf.split(X,y):\n",
    "    print(\"TRAIN:\", train_index, \"TEST:\", test_index)\n",
    "    X_train, X_test = X[train_index], X[test_index]\n",
    "    y_train, y_test = y[train_index], y[test_index]\n",
    "    regressor = xgb.XGBRegressor(\n",
    "                n_estimators=100,\n",
    "                reg_lambda=1,\n",
    "                gamma=0,\n",
    "                max_depth=30\n",
    "                )\n",
    "    regressor.fit(X_train, y_train)\n",
    "    y_pred = regressor.predict(X_test)\n",
    "    rmse_list.append(np.sqrt(metrics.mean_squared_error(y_test, y_pred)))\n",
    "    print('Mean Absolute Error of XGBoost Kfold:', metrics.mean_absolute_error(y_test, y_pred))\n",
    "    print('Mean Squared Error of XGBoost Kfold:', metrics.mean_squared_error(y_test, y_pred))\n",
    "    print('Root Mean Squared Error of XGBoost Kfold:', np.sqrt(metrics.mean_squared_error(y_test, y_pred)))"
   ]
  },
  {
   "cell_type": "code",
   "execution_count": 91,
   "metadata": {},
   "outputs": [
    {
     "name": "stdout",
     "output_type": "stream",
     "text": [
      "('Mean RMSE is :', 11.649091636656868)\n"
     ]
    }
   ],
   "source": [
    "rmse_sum = 0\n",
    "for index in range(0,5):\n",
    "    rmse_sum = rmse_sum + rmse_list[index]\n",
    "mean_rmse = rmse_sum/5\n",
    "print(\"Mean RMSE is :\",mean_rmse)"
   ]
  },
  {
   "cell_type": "code",
   "execution_count": 92,
   "metadata": {},
   "outputs": [],
   "source": [
    "importances = regressor.feature_importances_"
   ]
  },
  {
   "cell_type": "code",
   "execution_count": 93,
   "metadata": {},
   "outputs": [
    {
     "data": {
      "text/plain": [
       "<matplotlib.axes._subplots.AxesSubplot at 0x7f57d4b21590>"
      ]
     },
     "execution_count": 93,
     "metadata": {},
     "output_type": "execute_result"
    },
    {
     "data": {
      "image/png": "[encoded data removed]",
      "text/plain": [
       "<Figure size 432x288 with 1 Axes>"
      ]
     },
     "metadata": {},
     "output_type": "display_data"
    }
   ],
   "source": [
    "(pd.Series(importances, index=featureslist[0:11]).plot(kind='barh')) "
   ]
  },
  {
   "cell_type": "code",
   "execution_count": null,
   "metadata": {},
   "outputs": [],
   "source": []
  }
 ],
 "metadata": {
  "kernelspec": {
   "display_name": "Python 2",
   "language": "python",
   "name": "python2"
  },
  "language_info": {
   "codemirror_mode": {
    "name": "ipython",
    "version": 2
   },
   "file_extension": ".py",
   "mimetype": "text/x-python",
   "name": "python",
   "nbconvert_exporter": "python",
   "pygments_lexer": "ipython2",
   "version": "2.7.15rc1"
  }
 },
 "nbformat": 4,
 "nbformat_minor": 2
}
