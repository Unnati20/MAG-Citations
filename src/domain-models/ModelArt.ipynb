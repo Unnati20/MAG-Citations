{
 "cells": [
  {
   "cell_type": "code",
   "execution_count": 1,
   "metadata": {},
   "outputs": [],
   "source": [
    "import findspark\n",
    "findspark.init('/home/sdmohant/spark-3.0.0-bin-hadoop2.7')"
   ]
  },
  {
   "cell_type": "code",
   "execution_count": 2,
   "metadata": {},
   "outputs": [],
   "source": [
    "import pyspark\n",
    "from pyspark import SparkContext,SparkConf"
   ]
  },
  {
   "cell_type": "code",
   "execution_count": 3,
   "metadata": {},
   "outputs": [],
   "source": [
    "from pyspark.sql import SparkSession"
   ]
  },
  {
   "cell_type": "code",
   "execution_count": 4,
   "metadata": {},
   "outputs": [
    {
     "name": "stderr",
     "output_type": "stream",
     "text": [
      "/home/sdmohant/spark-3.0.0-bin-hadoop2.7/python/pyspark/context.py:220: DeprecationWarning: Support for Python 2 and Python 3 prior to version 3.6 is deprecated as of Spark 3.0. See also the plan for dropping Python 2 support at https://spark.apache.org/news/plan-for-dropping-python-2-support.html.\n",
      "  DeprecationWarning)\n"
     ]
    }
   ],
   "source": [
    "#spark = SparkSession.builder.appName(\"MyApp\").getOrCreate()\n",
    "#spark = SparkSession.builder.appName(\"MyName\").getOrCreate()\n",
    "conf = SparkConf().set(\"spark.cores.max\", \"16\") \\\n",
    "    .set(\"spark.driver.memory\", \"16g\") \\\n",
    "    .set(\"spark.executor.memory\", \"16g\") \\\n",
    "    .set(\"spark.executor.memory_overhead\", \"16g\") \\\n",
    "    .set(\"spark.driver.maxResultsSize\", \"0\") \\\n",
    "    .set(\"spark.sql.shuffle.partitions\",\"300\")\n",
    "\n",
    "sc = SparkContext(appName=\"artmodel\", conf=conf)\n",
    "spark = SparkSession(sc)"
   ]
  },
  {
   "cell_type": "code",
   "execution_count": 5,
   "metadata": {},
   "outputs": [],
   "source": [
    "from pyspark.sql.functions import isnan, count, col, when"
   ]
  },
  {
   "cell_type": "code",
   "execution_count": 6,
   "metadata": {},
   "outputs": [],
   "source": [
    "artFOSID = spark.read.options(header = True, inferSchema = True,delimiter=',').csv(\"FOSDomains.csv\")"
   ]
  },
  {
   "cell_type": "code",
   "execution_count": 7,
   "metadata": {},
   "outputs": [],
   "source": [
    "artFOSID = artFOSID.filter(artFOSID[\"Domain\"]==\"Art\").collect()"
   ]
  },
  {
   "cell_type": "code",
   "execution_count": 8,
   "metadata": {},
   "outputs": [
    {
     "data": {
      "text/plain": [
       "118"
      ]
     },
     "execution_count": 8,
     "metadata": {},
     "output_type": "execute_result"
    }
   ],
   "source": [
    "len(artFOSID)"
   ]
  },
  {
   "cell_type": "code",
   "execution_count": 9,
   "metadata": {},
   "outputs": [],
   "source": [
    "papers = spark.read.options(header = True, inferSchema = True,delimiter=',').csv(\"AllPapersFOS1.csv\")"
   ]
  },
  {
   "cell_type": "code",
   "execution_count": 10,
   "metadata": {},
   "outputs": [],
   "source": [
    "from pyspark.sql.types import ArrayType, StructField, StructType, StringType, IntegerType,LongType"
   ]
  },
  {
   "cell_type": "code",
   "execution_count": 11,
   "metadata": {},
   "outputs": [],
   "source": [
    "schema = StructType([\n",
    "    StructField('FOS_ID', LongType(), True),\n",
    "    StructField('Domain', StringType(), True)\n",
    "])"
   ]
  },
  {
   "cell_type": "code",
   "execution_count": 12,
   "metadata": {},
   "outputs": [],
   "source": [
    "# Convert list to RDD\n",
    "rdd = spark.sparkContext.parallelize(artFOSID)\n",
    "\n",
    "# Create data frame\n",
    "fos = spark.createDataFrame(rdd,schema)"
   ]
  },
  {
   "cell_type": "code",
   "execution_count": 13,
   "metadata": {},
   "outputs": [
    {
     "name": "stdout",
     "output_type": "stream",
     "text": [
      "+---------+------+\n",
      "|   FOS_ID|Domain|\n",
      "+---------+------+\n",
      "|107038049|   Art|\n",
      "| 49774154|   Art|\n",
      "+---------+------+\n",
      "only showing top 2 rows\n",
      "\n"
     ]
    }
   ],
   "source": [
    "fos.show(2)"
   ]
  },
  {
   "cell_type": "code",
   "execution_count": 14,
   "metadata": {},
   "outputs": [],
   "source": [
    "papers_filtered = papers.join(fos,on=\"FOS_ID\",how=\"inner\")"
   ]
  },
  {
   "cell_type": "code",
   "execution_count": 15,
   "metadata": {},
   "outputs": [
    {
     "data": {
      "text/plain": [
       "2327755"
      ]
     },
     "execution_count": 15,
     "metadata": {},
     "output_type": "execute_result"
    }
   ],
   "source": [
    "papers_filtered.count()"
   ]
  },
  {
   "cell_type": "code",
   "execution_count": 16,
   "metadata": {},
   "outputs": [],
   "source": [
    "papers_filtered = papers_filtered.withColumnRenamed(\"CitationCount\",\"label\")"
   ]
  },
  {
   "cell_type": "code",
   "execution_count": 17,
   "metadata": {},
   "outputs": [
    {
     "data": {
      "text/plain": [
       "['FOS_ID',\n",
       " 'PaperID',\n",
       " 'Rank',\n",
       " 'PaperYear',\n",
       " 'Volume',\n",
       " 'Issue',\n",
       " 'ReferenceCount',\n",
       " 'label',\n",
       " 'EstimatedCount',\n",
       " 'PaperAge',\n",
       " 'IsJournal',\n",
       " 'min_FOSRank',\n",
       " 'max_FOSRank',\n",
       " 'max_FOSPaperCount',\n",
       " 'min_FOSPaperCount',\n",
       " 'min_FOSCitationCount',\n",
       " 'max_FOSCitationCount',\n",
       " 'PaperRefCnt',\n",
       " 'Domain']"
      ]
     },
     "execution_count": 17,
     "metadata": {},
     "output_type": "execute_result"
    }
   ],
   "source": [
    "papers_filtered.columns"
   ]
  },
  {
   "cell_type": "code",
   "execution_count": 18,
   "metadata": {},
   "outputs": [],
   "source": [
    "papers_filtered1 = papers_filtered.select([\"PaperID\",\"EstimatedCount\",\"Rank\",\"ReferenceCount\",\"PaperAge\",\\\n",
    "                        \"IsJournal\",\"min_FOSRank\",\"max_FOSRank\",\"max_FOSPaperCount\",\"min_FOSPaperCount\",\"min_FOSCitationCount\",\\\n",
    "                        \"max_FOSCitationCount\",\"PaperRefCnt\",\"label\"])"
   ]
  },
  {
   "cell_type": "code",
   "execution_count": 21,
   "metadata": {},
   "outputs": [],
   "source": [
    "(sample1,sample2) = papers_filtered1.randomSplit([0.5,0.5])"
   ]
  },
  {
   "cell_type": "code",
   "execution_count": 22,
   "metadata": {},
   "outputs": [
    {
     "data": {
      "text/plain": [
       "1057039"
      ]
     },
     "execution_count": 22,
     "metadata": {},
     "output_type": "execute_result"
    }
   ],
   "source": [
    "sample1.count()"
   ]
  },
  {
   "cell_type": "code",
   "execution_count": 21,
   "metadata": {},
   "outputs": [],
   "source": [
    "from sklearn import model_selection\n",
    "from sklearn.model_selection import KFold "
   ]
  },
  {
   "cell_type": "code",
   "execution_count": 23,
   "metadata": {},
   "outputs": [
    {
     "name": "stdout",
     "output_type": "stream",
     "text": [
      "+--------------+\n",
      "|EstimatedCount|\n",
      "+--------------+\n",
      "|             0|\n",
      "|             0|\n",
      "|             1|\n",
      "|             0|\n",
      "+--------------+\n",
      "only showing top 4 rows\n",
      "\n"
     ]
    }
   ],
   "source": [
    "papers_filtered1.select([\"EstimatedCount\"]).show(4)"
   ]
  },
  {
   "cell_type": "code",
   "execution_count": 25,
   "metadata": {},
   "outputs": [],
   "source": [
    "sample1_pd = sample1.toPandas()"
   ]
  },
  {
   "cell_type": "code",
   "execution_count": 26,
   "metadata": {},
   "outputs": [],
   "source": [
    "import numpy as np"
   ]
  },
  {
   "cell_type": "code",
   "execution_count": 27,
   "metadata": {},
   "outputs": [],
   "source": [
    "y_est = np.array(sample1_pd[\"EstimatedCount\"])\n",
    "y_act = np.array(sample1_pd[\"label\"])"
   ]
  },
  {
   "cell_type": "markdown",
   "metadata": {},
   "source": [
    "## Comparison with Microsoft Predictions"
   ]
  },
  {
   "cell_type": "code",
   "execution_count": 29,
   "metadata": {},
   "outputs": [],
   "source": [
    "from sklearn import metrics"
   ]
  },
  {
   "cell_type": "code",
   "execution_count": 30,
   "metadata": {},
   "outputs": [
    {
     "name": "stdout",
     "output_type": "stream",
     "text": [
      "('Mean Absolute Error of EstimatedCount:', 0.6882745102120168)\n",
      "('Mean Squared Error of EstimatedCount:', 2408.0718658441174)\n",
      "('Root Mean Squared of with EstimatedCount:', 49.07210883836273)\n"
     ]
    }
   ],
   "source": [
    "print('Mean Absolute Error of EstimatedCount:', metrics.mean_absolute_error(y_act, y_est))\n",
    "print('Mean Squared Error of EstimatedCount:', metrics.mean_squared_error(y_act, y_est))\n",
    "print('Root Mean Squared of with EstimatedCount:', np.sqrt(metrics.mean_squared_error(y_act, y_est)))"
   ]
  },
  {
   "cell_type": "code",
   "execution_count": 31,
   "metadata": {},
   "outputs": [],
   "source": [
    "sample1_pd = sample1_pd.drop([\"PaperID\",\"EstimatedCount\"],axis=1)"
   ]
  },
  {
   "cell_type": "code",
   "execution_count": 32,
   "metadata": {},
   "outputs": [
    {
     "data": {
      "text/plain": [
       "(1057039, 12)"
      ]
     },
     "execution_count": 32,
     "metadata": {},
     "output_type": "execute_result"
    }
   ],
   "source": [
    "sample1_pd.shape"
   ]
  },
  {
   "cell_type": "code",
   "execution_count": 33,
   "metadata": {},
   "outputs": [],
   "source": [
    "X = sample1_pd.iloc[:, 0:11].values\n",
    "y = sample1_pd.iloc[:, 11].values"
   ]
  },
  {
   "cell_type": "markdown",
   "metadata": {},
   "source": [
    "## Random Forest Regression"
   ]
  },
  {
   "cell_type": "code",
   "execution_count": 34,
   "metadata": {},
   "outputs": [],
   "source": [
    "from sklearn.model_selection import KFold"
   ]
  },
  {
   "cell_type": "code",
   "execution_count": 35,
   "metadata": {},
   "outputs": [
    {
     "data": {
      "text/plain": [
       "5"
      ]
     },
     "execution_count": 35,
     "metadata": {},
     "output_type": "execute_result"
    }
   ],
   "source": [
    "kf = KFold(n_splits=5)\n",
    "kf.get_n_splits(X)"
   ]
  },
  {
   "cell_type": "code",
   "execution_count": 36,
   "metadata": {},
   "outputs": [],
   "source": [
    "from sklearn.ensemble import RandomForestRegressor"
   ]
  },
  {
   "cell_type": "code",
   "execution_count": 37,
   "metadata": {},
   "outputs": [
    {
     "name": "stdout",
     "output_type": "stream",
     "text": [
      "('Mean Absolute Error:', 1.0410636648288996)\n",
      "('Mean Squared Error:', 135.24136366012186)\n",
      "('Root Mean Squared Error:', 11.629332038432898)\n",
      "('Mean Absolute Error:', 0.8094063417597724)\n",
      "('Mean Squared Error:', 453.200094072531)\n",
      "('Root Mean Squared Error:', 21.288496754645006)\n",
      "('Mean Absolute Error:', 0.7819894012651143)\n",
      "('Mean Squared Error:', 82.8919285876335)\n",
      "('Root Mean Squared Error:', 9.104500457885292)\n",
      "('Mean Absolute Error:', 1.2283431625310837)\n",
      "('Mean Squared Error:', 390.72423140777727)\n",
      "('Root Mean Squared Error:', 19.76674559475528)\n",
      "('Mean Absolute Error:', 0.4059455548165479)\n",
      "('Mean Squared Error:', 44.396024572572756)\n",
      "('Root Mean Squared Error:', 6.663034186657964)\n"
     ]
    }
   ],
   "source": [
    "rmse_list = []\n",
    "for train_index, test_index in kf.split(X,y):\n",
    "    #print(\"TRAIN:\", train_index, \"TEST:\", test_index)\n",
    "    X_train, X_test = X[train_index], X[test_index]\n",
    "    y_train, y_test = y[train_index], y[test_index]\n",
    "    #print(\"X_train:\", len(X_train), \"X_test:\", len(X_test))\n",
    "    #print(\"y_train:\", len(y_train), \"y_test:\", len(y_test))\n",
    "    regressor = RandomForestRegressor(n_estimators=100, max_depth=30, random_state=0)\n",
    "    regressor.fit(X_train, y_train)\n",
    "    y_pred = regressor.predict(X_test)\n",
    "    rmse_list.append(np.sqrt(metrics.mean_squared_error(y_test, y_pred)))\n",
    "    print('Mean Absolute Error:', metrics.mean_absolute_error(y_test, y_pred))\n",
    "    print('Mean Squared Error:', metrics.mean_squared_error(y_test, y_pred))\n",
    "    print('Root Mean Squared Error:', np.sqrt(metrics.mean_squared_error(y_test, y_pred)))"
   ]
  },
  {
   "cell_type": "code",
   "execution_count": 38,
   "metadata": {},
   "outputs": [
    {
     "name": "stdout",
     "output_type": "stream",
     "text": [
      "('Mean RMSE is :', 13.690421806475289)\n"
     ]
    }
   ],
   "source": [
    "rmse_sum = 0\n",
    "for index in range(0,5):\n",
    "    rmse_sum = rmse_sum + rmse_list[index]\n",
    "mean_rmse = rmse_sum/5\n",
    "print(\"Mean RMSE is :\",mean_rmse)"
   ]
  },
  {
   "cell_type": "code",
   "execution_count": 39,
   "metadata": {},
   "outputs": [],
   "source": [
    "import matplotlib.pyplot as plt\n",
    "%matplotlib inline"
   ]
  },
  {
   "cell_type": "code",
   "execution_count": 40,
   "metadata": {},
   "outputs": [],
   "source": [
    "featureslist=sample1_pd.columns"
   ]
  },
  {
   "cell_type": "code",
   "execution_count": 41,
   "metadata": {},
   "outputs": [],
   "source": [
    "importances = regressor.feature_importances_"
   ]
  },
  {
   "cell_type": "code",
   "execution_count": 42,
   "metadata": {},
   "outputs": [],
   "source": [
    "import pandas as pd"
   ]
  },
  {
   "cell_type": "code",
   "execution_count": 43,
   "metadata": {},
   "outputs": [
    {
     "data": {
      "text/plain": [
       "<matplotlib.axes._subplots.AxesSubplot at 0x7f77b9a0a610>"
      ]
     },
     "execution_count": 43,
     "metadata": {},
     "output_type": "execute_result"
    },
    {
     "data": {
      "image/png": "[encoded data removed]",
      "text/plain": [
       "<Figure size 432x288 with 1 Axes>"
      ]
     },
     "metadata": {},
     "output_type": "display_data"
    }
   ],
   "source": [
    "(pd.Series(importances, index=featureslist[0:11]).plot(kind='barh')) "
   ]
  },
  {
   "cell_type": "markdown",
   "metadata": {},
   "source": [
    "## XGBoost Regression model"
   ]
  },
  {
   "cell_type": "code",
   "execution_count": 44,
   "metadata": {},
   "outputs": [],
   "source": [
    "import xgboost as xgb"
   ]
  },
  {
   "cell_type": "code",
   "execution_count": 45,
   "metadata": {},
   "outputs": [
    {
     "data": {
      "text/plain": [
       "5"
      ]
     },
     "execution_count": 45,
     "metadata": {},
     "output_type": "execute_result"
    }
   ],
   "source": [
    "kf = KFold(n_splits=5)\n",
    "kf.get_n_splits(X)"
   ]
  },
  {
   "cell_type": "code",
   "execution_count": 46,
   "metadata": {},
   "outputs": [
    {
     "name": "stdout",
     "output_type": "stream",
     "text": [
      "('TRAIN:', array([ 211408,  211409,  211410, ..., 1057036, 1057037, 1057038]), 'TEST:', array([     0,      1,      2, ..., 211405, 211406, 211407]))\n",
      "('Mean Absolute Error of XGBoost Kfold:', 1.1173260449078353)\n",
      "('Mean Squared Error of XGBoost Kfold:', 145.57162035747595)\n",
      "('Root Mean Squared Error of XGBoost Kfold:', 12.065306475903377)\n",
      "('TRAIN:', array([      0,       1,       2, ..., 1057036, 1057037, 1057038]), 'TEST:', array([211408, 211409, 211410, ..., 422813, 422814, 422815]))\n",
      "('Mean Absolute Error of XGBoost Kfold:', 0.8419962902020158)\n",
      "('Mean Squared Error of XGBoost Kfold:', 396.67991187993766)\n",
      "('Root Mean Squared Error of XGBoost Kfold:', 19.916824844335444)\n",
      "('TRAIN:', array([      0,       1,       2, ..., 1057036, 1057037, 1057038]), 'TEST:', array([422816, 422817, 422818, ..., 634221, 634222, 634223]))\n",
      "('Mean Absolute Error of XGBoost Kfold:', 0.8277363717718962)\n",
      "('Mean Squared Error of XGBoost Kfold:', 79.2162295161757)\n",
      "('Root Mean Squared Error of XGBoost Kfold:', 8.900349965938176)\n",
      "('TRAIN:', array([      0,       1,       2, ..., 1057036, 1057037, 1057038]), 'TEST:', array([634224, 634225, 634226, ..., 845629, 845630, 845631]))\n",
      "('Mean Absolute Error of XGBoost Kfold:', 1.3173999549804243)\n",
      "('Mean Squared Error of XGBoost Kfold:', 874.9153906201169)\n",
      "('Root Mean Squared Error of XGBoost Kfold:', 29.578968721375613)\n",
      "('TRAIN:', array([     0,      1,      2, ..., 845629, 845630, 845631]), 'TEST:', array([ 845632,  845633,  845634, ..., 1057036, 1057037, 1057038]))\n",
      "('Mean Absolute Error of XGBoost Kfold:', 0.39883119933419914)\n",
      "('Mean Squared Error of XGBoost Kfold:', 31.682723049157346)\n",
      "('Root Mean Squared Error of XGBoost Kfold:', 5.6287408049365135)\n"
     ]
    }
   ],
   "source": [
    "rmse_list = []\n",
    "for train_index, test_index in kf.split(X,y):\n",
    "    print(\"TRAIN:\", train_index, \"TEST:\", test_index)\n",
    "    X_train, X_test = X[train_index], X[test_index]\n",
    "    y_train, y_test = y[train_index], y[test_index]\n",
    "    regressor = xgb.XGBRegressor(\n",
    "                n_estimators=100,\n",
    "                reg_lambda=1,\n",
    "                gamma=0,\n",
    "                max_depth=40\n",
    "                )\n",
    "    regressor.fit(X_train, y_train)\n",
    "    y_pred = regressor.predict(X_test)\n",
    "    rmse_list.append(np.sqrt(metrics.mean_squared_error(y_test, y_pred)))\n",
    "    print('Mean Absolute Error of XGBoost Kfold:', metrics.mean_absolute_error(y_test, y_pred))\n",
    "    print('Mean Squared Error of XGBoost Kfold:', metrics.mean_squared_error(y_test, y_pred))\n",
    "    print('Root Mean Squared Error of XGBoost Kfold:', np.sqrt(metrics.mean_squared_error(y_test, y_pred)))"
   ]
  },
  {
   "cell_type": "code",
   "execution_count": 47,
   "metadata": {},
   "outputs": [
    {
     "name": "stdout",
     "output_type": "stream",
     "text": [
      "('Mean RMSE is :', 15.218038162497825)\n"
     ]
    }
   ],
   "source": [
    "rmse_sum = 0\n",
    "for index in range(0,5):\n",
    "    rmse_sum = rmse_sum + rmse_list[index]\n",
    "mean_rmse = rmse_sum/5\n",
    "print(\"Mean RMSE is :\",mean_rmse)"
   ]
  },
  {
   "cell_type": "code",
   "execution_count": 48,
   "metadata": {},
   "outputs": [],
   "source": [
    "importances = regressor.feature_importances_"
   ]
  },
  {
   "cell_type": "code",
   "execution_count": 49,
   "metadata": {},
   "outputs": [],
   "source": [
    "import pandas as pd"
   ]
  },
  {
   "cell_type": "code",
   "execution_count": 50,
   "metadata": {},
   "outputs": [
    {
     "data": {
      "text/plain": [
       "<matplotlib.axes._subplots.AxesSubplot at 0x7f77bb7007d0>"
      ]
     },
     "execution_count": 50,
     "metadata": {},
     "output_type": "execute_result"
    },
    {
     "data": {
      "image/png": "[encoded data removed]",
      "text/plain": [
       "<Figure size 432x288 with 1 Axes>"
      ]
     },
     "metadata": {},
     "output_type": "display_data"
    }
   ],
   "source": [
    "(pd.Series(importances, index=featureslist[0:11]).plot(kind='barh')) "
   ]
  },
  {
   "cell_type": "code",
   "execution_count": 51,
   "metadata": {},
   "outputs": [
    {
     "name": "stdout",
     "output_type": "stream",
     "text": [
      "Feature: 0, Score: 0.38046\n",
      "Feature: 1, Score: 0.06091\n",
      "Feature: 2, Score: 0.07448\n",
      "Feature: 3, Score: 0.02449\n",
      "Feature: 4, Score: 0.10880\n",
      "Feature: 5, Score: 0.04408\n",
      "Feature: 6, Score: 0.03597\n",
      "Feature: 7, Score: 0.13561\n",
      "Feature: 8, Score: 0.09869\n",
      "Feature: 9, Score: 0.02356\n",
      "Feature: 10, Score: 0.01296\n"
     ]
    }
   ],
   "source": [
    "for i,v in enumerate(importances):\n",
    "\tprint('Feature: %0d, Score: %.5f' % (i,v))"
   ]
  },
  {
   "cell_type": "code",
   "execution_count": 56,
   "metadata": {},
   "outputs": [
    {
     "name": "stdout",
     "output_type": "stream",
     "text": [
      "+---------+---------+-----+---------+------+-----+--------------+-----+--------------+--------+---------+-----------+-----------+-----------------+-----------------+--------------------+--------------------+-----------+------+\n",
      "|   FOS_ID|  PaperID| Rank|PaperYear|Volume|Issue|ReferenceCount|label|EstimatedCount|PaperAge|IsJournal|min_FOSRank|max_FOSRank|max_FOSPaperCount|min_FOSPaperCount|min_FOSCitationCount|max_FOSCitationCount|PaperRefCnt|Domain|\n",
      "+---------+---------+-----+---------+------+-----+--------------+-----+--------------+--------+---------+-----------+-----------+-----------------+-----------------+--------------------+--------------------+-----------+------+\n",
      "|124952713|  8471897|24332|     2010|    18|   18|             0|    0|             0|      10|        0|       9445|      25000|          4792512|             1610|                1757|             2692145|          0|   Art|\n",
      "|124952713| 15744352|23844|     2011|    91|    1|             0|    0|             0|       9|        0|       8720|      25000|          2365966|             6819|               24231|             3657802|          0|   Art|\n",
      "|124952713| 76815533|25704|     2010|    40|  159|             4|    0|             0|      10|        0|       9993|      25000|          2365966|             1679|                8152|             2565370|        159|   Art|\n",
      "|124952713|121041921|23238|     2014|    22|    0|             0|    1|             1|       6|        0|       9089|      25000|          5847639|              336|                2080|             4691772|          0|   Art|\n",
      "|124952713|208635929|25517|     2006|    50|    4|             4|    0|             0|      14|        0|      12271|      25000|          6104944|             6605|               21128|             2391299|          4|   Art|\n",
      "|124952713|213069679|26620|     2000|    29|    2|             0|    0|             0|      20|        0|       9445|      25000|          2365966|            76257|              461580|             2692145|          0|   Art|\n",
      "|124952713|213693927|22750|     2013|    22|    1|             0|    0|             0|       7|        0|       8089|      25000|          2365966|             9408|                9244|            12738810|          0|   Art|\n",
      "|124952713|222572594|25547|     2008|    54|    3|             0|    0|             0|      12|        0|       8089|      25000|          3906051|             3978|               33224|            17700448|          0|   Art|\n",
      "|124952713|266785007|23764|     2015|     0|   28|             0|    0|             0|       5|        0|       9149|      25000|          3906051|             8032|               11542|            17700448|          0|   Art|\n",
      "|124952713|271155928|26054|     2007|    38|    1|             2|    0|             0|      13|        0|      12996|      25000|          5847639|             3677|                5935|             4495040|          1|   Art|\n",
      "|124952713|300484268|26915|     1998|   119|    3|             0|    0|             0|      22|        0|      12677|      25000|          5847639|              285|                 284|             4495040|          0|   Art|\n",
      "|124952713|302219381|24727|     2002|    51|    2|             3|    1|             1|      18|        0|      12587|      25000|          2365966|              630|                 893|             2565370|          2|   Art|\n",
      "|124952713|342581624|25607|     2011|    51|   46|             0|    0|             0|       9|        0|       9189|      25000|          2365966|            55204|               72679|             2565370|          0|   Art|\n",
      "|124952713|377086487|25986|     2008|    19|    1|             0|    0|             0|      12|        0|       9445|      25000|          4792512|              528|                 466|             2692145|          0|   Art|\n",
      "|124952713|391779024|20931|     2009|     0|    0|             0|    6|             6|      11|        0|       9385|      25000|          3881737|             7493|               28549|             8935700|          0|   Art|\n",
      "|124952713|405191875|20486|     2000|     0|    0|             0|   28|            28|      20|        0|       8426|      25000|          6318763|           114006|              251955|            78317342|          0|   Art|\n",
      "|124952713|575160050|25291|     2014|    24|   24|             0|    0|             0|       6|        0|       8720|      25000|          2365966|             2739|               31187|             3657802|          0|   Art|\n",
      "|124952713|592763219|23822|     2013|     0|    0|             0|    1|             1|       7|        0|      12996|      25000|          5847639|             1238|                9005|             4495040|          0|   Art|\n",
      "|124952713|594806526|20981|     2014|     0|    0|             0|    3|             3|       6|        0|       9445|      25000|          4792512|          1196129|             1807771|             2692145|          0|   Art|\n",
      "|124952713|602399274|19497|     2010|     0|    0|             0|   26|            26|      10|        0|       9445|      25000|          4792512|              289|                 970|             2692145|          0|   Art|\n",
      "|124952713|606289931|22427|     2011|     0|    0|             0|    2|             2|       9|        0|      12677|      25000|          5847639|           513257|              224245|             4495040|          0|   Art|\n",
      "|124952713|606657335|21612|     1989|     0|    0|             0|   39|            59|      31|        0|      10929|      25000|          5847639|             1068|                1469|             4495040|          0|   Art|\n",
      "|124952713|609700368|22394|     2010|     0|    0|             0|    3|             3|      10|        0|       8720|      25000|          3894484|             4810|                4652|             5881461|          0|   Art|\n",
      "|124952713|610406326|22166|     2013|     0|    0|             0|    1|             1|       7|        0|       9445|      25000|          4792512|            32502|               37362|             2692145|          0|   Art|\n",
      "|124952713|615248090|23343|     2014|    53|   53|             0|    0|             0|       6|        0|      13713|      25000|          4792512|             8444|                7339|             2391299|          0|   Art|\n",
      "|124952713|620528690|21256|     2009|     0|    0|             0|   10|            10|      11|        0|       9445|      25000|          5847639|             6455|                8246|             4495040|          0|   Art|\n",
      "|124952713|623957147|19907|     2004|     0|    0|             0|   68|           103|      16|        0|       9445|      25000|          4792512|             2547|                5852|             8245707|          0|   Art|\n",
      "|124952713|624685452|25261|     1971|     0|    0|             0|    5|             5|      49|        0|       9445|      25000|          4792512|            37200|              209803|             2692145|          0|   Art|\n",
      "|124952713|650226459|18370|     2011|     0|    0|             0|   95|           143|       9|        0|       8426|      25000|          6318763|             6914|               43170|            78317342|          0|   Art|\n",
      "|124952713|657029203|25561|     1982|     0|    0|             0|    4|             4|      38|        0|      10746|      25000|          5847639|             4305|                2891|             4495040|          0|   Art|\n",
      "+---------+---------+-----+---------+------+-----+--------------+-----+--------------+--------+---------+-----------+-----------+-----------------+-----------------+--------------------+--------------------+-----------+------+\n",
      "only showing top 30 rows\n",
      "\n"
     ]
    }
   ],
   "source": [
    "papers_filtered.filter(\"IsJournal == 0\").show(30)"
   ]
  },
  {
   "cell_type": "code",
   "execution_count": null,
   "metadata": {},
   "outputs": [],
   "source": []
  }
 ],
 "metadata": {
  "kernelspec": {
   "display_name": "Python 2",
   "language": "python",
   "name": "python2"
  },
  "language_info": {
   "codemirror_mode": {
    "name": "ipython",
    "version": 2
   },
   "file_extension": ".py",
   "mimetype": "text/x-python",
   "name": "python",
   "nbconvert_exporter": "python",
   "pygments_lexer": "ipython2",
   "version": "2.7.15rc1"
  }
 },
 "nbformat": 4,
 "nbformat_minor": 2
}
