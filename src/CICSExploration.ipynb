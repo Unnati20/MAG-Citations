{
 "cells": [
  {
   "cell_type": "code",
   "execution_count": 1,
   "metadata": {},
   "outputs": [],
   "source": [
    "import findspark\n",
    "findspark.init('/tmp/spark-3.0.0-preview2-bin-hadoop2.7')\n",
    "\n",
    "import pyspark\n",
    "import random"
   ]
  },
  {
   "cell_type": "code",
   "execution_count": 2,
   "metadata": {},
   "outputs": [],
   "source": [
    "from pyspark.sql import SparkSession"
   ]
  },
  {
   "cell_type": "code",
   "execution_count": 3,
   "metadata": {},
   "outputs": [],
   "source": [
    "from pyspark import SparkContext\n",
    "#from pyspark import SparkConf\n",
    "from pyspark.sql import SQLContext\n",
    "from pyspark.sql.types import *"
   ]
  },
  {
   "cell_type": "code",
   "execution_count": 4,
   "metadata": {},
   "outputs": [
    {
     "name": "stderr",
     "output_type": "stream",
     "text": [
      "/tmp/spark-3.0.0-preview2-bin-hadoop2.7/python/pyspark/context.py:219: DeprecationWarning: Support for Python 2 and Python 3 prior to version 3.6 is deprecated as of Spark 3.0. See also the plan for dropping Python 2 support at https://spark.apache.org/news/plan-for-dropping-python-2-support.html.\n",
      "  DeprecationWarning)\n"
     ]
    }
   ],
   "source": [
    "spark = SparkSession.builder.appName('Basics').getOrCreate()"
   ]
  },
  {
   "cell_type": "code",
   "execution_count": 5,
   "metadata": {},
   "outputs": [],
   "source": [
    "sc = spark.sparkContext"
   ]
  },
  {
   "cell_type": "code",
   "execution_count": 7,
   "metadata": {},
   "outputs": [],
   "source": [
    "from pyspark.sql import SQLContext\n",
    "sqlContext = SQLContext(sc)"
   ]
  },
  {
   "cell_type": "code",
   "execution_count": 10,
   "metadata": {},
   "outputs": [],
   "source": [
    "cs_df = sqlContext.read.format('com.databricks.spark.csv').options(header='true', inferschema='true').load('ConferenceSeries.csv')"
   ]
  },
  {
   "cell_type": "code",
   "execution_count": 30,
   "metadata": {},
   "outputs": [],
   "source": [
    "ci_df = sqlContext.read.format('com.databricks.spark.csv').options(header='true', inferschema='true').load('ConferenceInstances.csv')"
   ]
  },
  {
   "cell_type": "code",
   "execution_count": 13,
   "metadata": {},
   "outputs": [],
   "source": [
    "affiliations_df = sqlContext.read.format('com.databricks.spark.csv').options(header='true', inferschema='true').load('Affiliations2.csv')"
   ]
  },
  {
   "cell_type": "code",
   "execution_count": 14,
   "metadata": {},
   "outputs": [],
   "source": [
    "paper_df = sqlContext.read.format('com.databricks.spark.csv').options(header='true', inferschema='true').load('Paper2.csv')"
   ]
  },
  {
   "cell_type": "code",
   "execution_count": 15,
   "metadata": {},
   "outputs": [
    {
     "name": "stdout",
     "output_type": "stream",
     "text": [
      "+----------+------+----------------+--------------------+------------+----------+\n",
      "|      CSID|CSRank|CSNormalizedName|       CSDisplayName|CSPaperCount|CSCitation|\n",
      "+----------+------+----------------+--------------------+------------+----------+\n",
      "|1141689323| 11674|            IEEM|Industrial Engine...|        7218|      7851|\n",
      "|2727030889| 13563| BigDataSecurity|International Con...|         120|       122|\n",
      "|2757782454| 25000|            SSVM|Scale Space and V...|           1|        21|\n",
      "|2754909024| 13978|           ICARM|International Con...|         115|        31|\n",
      "+----------+------+----------------+--------------------+------------+----------+\n",
      "only showing top 4 rows\n",
      "\n"
     ]
    }
   ],
   "source": [
    "cs_df.show(4)"
   ]
  },
  {
   "cell_type": "code",
   "execution_count": 31,
   "metadata": {},
   "outputs": [
    {
     "name": "stdout",
     "output_type": "stream",
     "text": [
      "+--------------+------+--------------+-------------+----------+-------------------+--------------------+----------+----------+---------------+---------------+-------------------+-------------------+------------+------------------+\n",
      "|ConfInstanceID|CIRank|CINormalizedNm|  CIDisplayNm|    CICSID|           Location|       CIOfficialURL| StartDate|   EndDate|AbstractRegDate|SubDeadlineDate|NotificationDueDate|FinalVersionDueDate|CIPaperCount|CIPaperCitationCnt|\n",
      "+--------------+------+--------------+-------------+----------+-------------------+--------------------+----------+----------+---------------+---------------+-------------------+-------------------+------------+------------------+\n",
      "|    2312404054| 25000| siggraph 2016|SIGGRAPH 2016|1164321581|Anaheim, California|http://s2016.sigg...|2016-07-24|2016-07-28|           null|     2016-01-18|               null|         2016-01-19|         846|              1741|\n",
      "|     121793801| 25000|     wsdm 2012|    WSDM 2012|1120384002|        Seattle, WA|http://wsdm2012.org/|2012-02-08|2012-02-12|     2011-08-04|     2011-08-11|         2011-10-26|               null|          87|              3496|\n",
      "|    2625789444| 25000|     iprm 2006|    IPRM 2006|2621445615| Princeton, NJ, USA|                null|      null|      null|           null|           null|               null|               null|        null|              null|\n",
      "|      82574969| 25000|     foga 2009|    FOGA 2009|1159491267|   Orlando, FL, USA|http://www.sigevo...|2009-01-09|2009-01-11|           null|     2008-09-01|               null|               null|          19|               382|\n",
      "+--------------+------+--------------+-------------+----------+-------------------+--------------------+----------+----------+---------------+---------------+-------------------+-------------------+------------+------------------+\n",
      "only showing top 4 rows\n",
      "\n"
     ]
    }
   ],
   "source": [
    "ci_df.show(4)"
   ]
  },
  {
   "cell_type": "code",
   "execution_count": 20,
   "metadata": {},
   "outputs": [],
   "source": [
    "from pyspark.sql.functions import isnan,when,count,col"
   ]
  },
  {
   "cell_type": "code",
   "execution_count": 32,
   "metadata": {},
   "outputs": [
    {
     "name": "stdout",
     "output_type": "stream",
     "text": [
      "+--------------+------+--------------+-----------+------+--------+-------------+---------+-------+---------------+---------------+-------------------+-------------------+------------+------------------+\n",
      "|ConfInstanceID|CIRank|CINormalizedNm|CIDisplayNm|CICSID|Location|CIOfficialURL|StartDate|EndDate|AbstractRegDate|SubDeadlineDate|NotificationDueDate|FinalVersionDueDate|CIPaperCount|CIPaperCitationCnt|\n",
      "+--------------+------+--------------+-----------+------+--------+-------------+---------+-------+---------------+---------------+-------------------+-------------------+------------+------------------+\n",
      "|             0|     0|             0|          0|     0|      14|         4302|     2549|   2548|          11754|           4471|               7607|               8577|        3674|              3674|\n",
      "+--------------+------+--------------+-----------+------+--------+-------------+---------+-------+---------------+---------------+-------------------+-------------------+------------+------------------+\n",
      "\n"
     ]
    }
   ],
   "source": [
    "ci_df.select([count(when(isnan(c) | col(c).isNull(),c)).alias(c) for c in ci_df.columns]).show()"
   ]
  },
  {
   "cell_type": "code",
   "execution_count": 33,
   "metadata": {},
   "outputs": [],
   "source": [
    "dropcols = [\"CIOfficialURL\",\"StartDate\",\"EndDate\",\"AbstractRegDate\",\"SubDeadlineDate\",\"NotificationDueDate\",\"FinalVersionDueDate\"]"
   ]
  },
  {
   "cell_type": "code",
   "execution_count": 34,
   "metadata": {},
   "outputs": [],
   "source": [
    "ci_df= ci_df.drop(*dropcols)"
   ]
  },
  {
   "cell_type": "code",
   "execution_count": 35,
   "metadata": {},
   "outputs": [
    {
     "name": "stdout",
     "output_type": "stream",
     "text": [
      "+--------------+------+--------------+-------------+----------+--------------------+------------+------------------+\n",
      "|ConfInstanceID|CIRank|CINormalizedNm|  CIDisplayNm|    CICSID|            Location|CIPaperCount|CIPaperCitationCnt|\n",
      "+--------------+------+--------------+-------------+----------+--------------------+------------+------------------+\n",
      "|    2312404054| 25000| siggraph 2016|SIGGRAPH 2016|1164321581| Anaheim, California|         846|              1741|\n",
      "|     121793801| 25000|     wsdm 2012|    WSDM 2012|1120384002|         Seattle, WA|          87|              3496|\n",
      "|    2625789444| 25000|     iprm 2006|    IPRM 2006|2621445615|  Princeton, NJ, USA|        null|              null|\n",
      "|      82574969| 25000|     foga 2009|    FOGA 2009|1159491267|    Orlando, FL, USA|          19|               382|\n",
      "|     196500321| 25000|     kmis 2013|    KMIS 2013|1158252963|Vilamoura, Algarv...|          32|                12|\n",
      "+--------------+------+--------------+-------------+----------+--------------------+------------+------------------+\n",
      "only showing top 5 rows\n",
      "\n"
     ]
    }
   ],
   "source": [
    "ci_df.show(5)"
   ]
  },
  {
   "cell_type": "code",
   "execution_count": 36,
   "metadata": {},
   "outputs": [
    {
     "name": "stdout",
     "output_type": "stream",
     "text": [
      "+--------------+------+--------------+-----------+------+--------+------------+------------------+\n",
      "|ConfInstanceID|CIRank|CINormalizedNm|CIDisplayNm|CICSID|Location|CIPaperCount|CIPaperCitationCnt|\n",
      "+--------------+------+--------------+-----------+------+--------+------------+------------------+\n",
      "|             0|     0|             0|          0|     0|      14|        3674|              3674|\n",
      "+--------------+------+--------------+-----------+------+--------+------------+------------------+\n",
      "\n"
     ]
    }
   ],
   "source": [
    "ci_df.select([count(when(isnan(c) | col(c).isNull(),c)).alias(c) for c in ci_df.columns]).show()"
   ]
  },
  {
   "cell_type": "code",
   "execution_count": 39,
   "metadata": {},
   "outputs": [],
   "source": [
    "ci_df = ci_df.filter(((ci_df[\"CIPaperCount\"] != \"\") | (ci_df[\"CIPaperCount\"].isNotNull()))&((ci_df[\"CIPaperCitationCnt\"] != \"\") | (ci_df[\"CIPaperCitationCnt\"].isNotNull())))"
   ]
  },
  {
   "cell_type": "code",
   "execution_count": 40,
   "metadata": {},
   "outputs": [
    {
     "name": "stdout",
     "output_type": "stream",
     "text": [
      "+--------------+------+--------------+-----------+------+--------+------------+------------------+\n",
      "|ConfInstanceID|CIRank|CINormalizedNm|CIDisplayNm|CICSID|Location|CIPaperCount|CIPaperCitationCnt|\n",
      "+--------------+------+--------------+-----------+------+--------+------------+------------------+\n",
      "|             0|     0|             0|          0|     0|       1|           0|                 0|\n",
      "+--------------+------+--------------+-----------+------+--------+------------+------------------+\n",
      "\n"
     ]
    }
   ],
   "source": [
    "ci_df.select([count(when(isnan(c) | col(c).isNull(),c)).alias(c) for c in ci_df.columns]).show()"
   ]
  },
  {
   "cell_type": "code",
   "execution_count": 41,
   "metadata": {},
   "outputs": [],
   "source": [
    "ci_df = ci_df.filter(((ci_df[\"Location\"] != \"\") | (ci_df[\"Location\"].isNotNull())))"
   ]
  },
  {
   "cell_type": "code",
   "execution_count": 42,
   "metadata": {},
   "outputs": [
    {
     "name": "stdout",
     "output_type": "stream",
     "text": [
      "+--------------+------+--------------+-------------+----------+--------------------+------------+------------------+\n",
      "|ConfInstanceID|CIRank|CINormalizedNm|  CIDisplayNm|    CICSID|            Location|CIPaperCount|CIPaperCitationCnt|\n",
      "+--------------+------+--------------+-------------+----------+--------------------+------------+------------------+\n",
      "|    2312404054| 25000| siggraph 2016|SIGGRAPH 2016|1164321581| Anaheim, California|         846|              1741|\n",
      "|     121793801| 25000|     wsdm 2012|    WSDM 2012|1120384002|         Seattle, WA|          87|              3496|\n",
      "|      82574969| 25000|     foga 2009|    FOGA 2009|1159491267|    Orlando, FL, USA|          19|               382|\n",
      "|     196500321| 25000|     kmis 2013|    KMIS 2013|1158252963|Vilamoura, Algarv...|          32|                12|\n",
      "+--------------+------+--------------+-------------+----------+--------------------+------------+------------------+\n",
      "only showing top 4 rows\n",
      "\n"
     ]
    }
   ],
   "source": [
    "ci_df.show(4)"
   ]
  },
  {
   "cell_type": "code",
   "execution_count": 43,
   "metadata": {},
   "outputs": [
    {
     "name": "stdout",
     "output_type": "stream",
     "text": [
      "+--------------+------+--------------+-----------+------+--------+------------+------------------+\n",
      "|ConfInstanceID|CIRank|CINormalizedNm|CIDisplayNm|CICSID|Location|CIPaperCount|CIPaperCitationCnt|\n",
      "+--------------+------+--------------+-----------+------+--------+------------+------------------+\n",
      "|             0|     0|             0|          0|     0|       0|           0|                 0|\n",
      "+--------------+------+--------------+-----------+------+--------+------------+------------------+\n",
      "\n"
     ]
    }
   ],
   "source": [
    "ci_df.select([count(when(isnan(c) | col(c).isNull(),c)).alias(c) for c in ci_df.columns]).show()"
   ]
  },
  {
   "cell_type": "code",
   "execution_count": 45,
   "metadata": {
    "scrolled": true
   },
   "outputs": [
    {
     "name": "stdout",
     "output_type": "stream",
     "text": [
      "+--------------+------+--------------+-------------+----------+--------------------+------------+------------------+----------+------+----------------+--------------------+------------+----------+\n",
      "|ConfInstanceID|CIRank|CINormalizedNm|  CIDisplayNm|    CICSID|            Location|CIPaperCount|CIPaperCitationCnt|      CSID|CSRank|CSNormalizedName|       CSDisplayName|CSPaperCount|CSCitation|\n",
      "+--------------+------+--------------+-------------+----------+--------------------+------------+------------------+----------+------+----------------+--------------------+------------+----------+\n",
      "|    2312404054| 25000| siggraph 2016|SIGGRAPH 2016|1164321581| Anaheim, California|         846|              1741|1164321581|  8426|        SIGGRAPH|International Con...|       15838|    468071|\n",
      "|     121793801| 25000|     wsdm 2012|    WSDM 2012|1120384002|         Seattle, WA|          87|              3496|1120384002| 10055|            WSDM|Web Search and Da...|         826|     26832|\n",
      "|      82574969| 25000|     foga 2009|    FOGA 2009|1159491267|    Orlando, FL, USA|          19|               382|1159491267|  9589|            FOGA|Foundations of Ge...|         265|     10676|\n",
      "|     196500321| 25000|     kmis 2013|    KMIS 2013|1158252963|Vilamoura, Algarv...|          32|                12|1158252963| 12924|            KMIS|International Joi...|         926|       876|\n",
      "|      82648242| 25000|    ideal 2009|   IDEAL 2009|1148751172|       Burgos, Spain|         101|               365|1148751172| 10776|           IDEAL|Intelligent Data ...|        1581|      6524|\n",
      "|     161385412| 25000|     icns 2008|    ICNS 2008|1154511600|Gosier, Guadeloup...|          47|               256|1154511600| 11561|            ICNS|International Con...|         918|      3023|\n",
      "|      71181615| 25000|      www 2015|     WWW 2015|1135342153|     Florence, Italy|         475|              2911|1135342153| 10367|             WWW|International Wor...|        6323|    253240|\n",
      "|     573037787| 25000|      alt 2012|     ALT 2012|1193108635|        Lyon, France|          26|               228|1193108635|  9969|             ALT|Algorithmic Learn...|         928|      9552|\n",
      "|    2315468475| 25000|     fase 2016|    FASE 2016|1187615537|Eindhoven, The Ne...|          25|                86|1187615537| 10926|            FASE|Fundamental Appro...|         670|     10137|\n",
      "|    2625927547| 25000|    icmmt 2008|   ICMMT 2008|2624542507|      Nanjing, China|         565|              1363|2624542507| 11453|           ICMMT|International Con...|        3247|      4989|\n",
      "+--------------+------+--------------+-------------+----------+--------------------+------------+------------------+----------+------+----------------+--------------------+------------+----------+\n",
      "only showing top 10 rows\n",
      "\n"
     ]
    }
   ],
   "source": [
    "cics_join = ci_df.join(cs_df, ci_df.CICSID == cs_df.CSID)\n",
    "cics_join.show(10)"
   ]
  },
  {
   "cell_type": "code",
   "execution_count": 46,
   "metadata": {},
   "outputs": [
    {
     "data": {
      "text/plain": [
       "9954"
      ]
     },
     "execution_count": 46,
     "metadata": {},
     "output_type": "execute_result"
    }
   ],
   "source": [
    "cics_join.count()"
   ]
  },
  {
   "cell_type": "code",
   "execution_count": 47,
   "metadata": {},
   "outputs": [
    {
     "name": "stdout",
     "output_type": "stream",
     "text": [
      "+----------+-----+--------------------+----------+--------------------+--------------------+---------+----------+--------------------+----------+------------+--------------+--------------+-------------+--------------+\n",
      "|   PaperID| Rank|                 DOI|   DocType|          PaperTitle|       OriginalTitle|PaperYear| PaperDate|           Publisher| JournalID|ConfSeriesID|ConfInstanceID|ReferenceCount|CitationCount|EstimatedCount|\n",
      "+----------+-----+--------------------+----------+--------------------+--------------------+---------+----------+--------------------+----------+------------+--------------+--------------+-------------+--------------+\n",
      "|1819143627|24199|10.1109/PICMET.20...|Conference|technological inn...|Technological inn...|     2001|2001-01-01|                IEEE|  23074404|  2734834919|    2735348883|             0|            0|             0|\n",
      "|1963578506|22929|10.1109/ICIEEM.20...|Conference|a hybrid due date...|A hybrid due-date...|     2010|2010-10-01|                IEEE| 137519996|  1141689323|     180417304|            16|            0|             0|\n",
      "|1963617477|20898|10.1007/s00500-01...|   Journal|a dynamic trust m...|A dynamic trust m...|     2014|2014-09-01|Springer Berlin H...|  65753830|  1123077274|     190938570|            37|            6|             6|\n",
      "|2095756693|23181|10.1504/IJAHUC.20...|   Journal|distributed wirel...|Distributed wirel...|     2013|2013-02-01|Inderscience Publ...|  97070762|  1171345118|     185510187|            34|            0|             0|\n",
      "|1963841745|23277|10.1109/SIU.2013....|Conference|gpu based infrare...|GPU-based infrare...|     2013|2013-04-01|                IEEE|  13478950|  2735422400|    2734539129|             3|            0|             0|\n",
      "|1964344681|21077|10.1016/j.procs.2...|   Journal|genetic algorithm...|Genetic Algorithm...|     2013|2013-01-01|            Elsevier| 120348307|  1137878512|     194297192|            20|            5|             5|\n",
      "|2781480885|21051|10.1109/ICSENS.20...|Conference|environmentally f...|Environmentally f...|     2017|2017-10-01|                null| 101949793|  2624549483|    2624962461|             4|            0|             0|\n",
      "|2596752321|21584|10.1038/s41598-01...|   Journal|porewater salinit...|Porewater salinit...|     2017|2017-01-12|Nature Publishing...| 196734849|  1130177464|    2583557579|            49|            1|             1|\n",
      "|2181387890|21702|10.1109/ACII.2015...|Conference|the platformer ex...|The platformer ex...|     2015|2015-09-01|Institute of Elec...|2765011064|  1171689754|      28432213|            42|            4|             4|\n",
      "|1965057804|21986|10.1504/IJDMB.201...|   Journal|alibimotif integr...|AliBiMotif: Integ...|     2012|2012-07-01|Int J Data Min Bi...|  35771696|  2757320638|     632688938|            16|            1|             1|\n",
      "|2781486615|21559|10.1109/ICSENS.20...|Conference|emission monitori...|Emission monitori...|     2017|2017-10-01|                null| 101949793|  2624549483|    2624962461|             0|            0|             0|\n",
      "|2096733369|16312|10.1109/CVPR.2015...|Conference|facenet a unified...|FaceNet: A unifie...|     2015|2015-06-01|                IEEE|2597175965|  1158167855|     162221927|            22|          709|          1066|\n",
      "|1965693572|19558|10.1109/TSMCB.201...|   Journal|tracking control ...|Tracking Control ...|     2012|2012-10-01|IEEE Trans Syst M...|  76152103|  1170695740|     165500188|            30|           34|            59|\n",
      "|2554458174|23446|10.1007/s10527-01...|   Journal|an automated rang...|An Automated Rang...|     2016|2016-01-11|         Springer US|  43927114|  1179645356|    2320869366|             0|            0|             0|\n",
      "|1966292977|20021|10.1145/2038617.2...|   Journal|using network cal...|Using Network Cal...|     2011|2011-09-01|                 ACM|  84614559|  1203052477|     186126769|             7|           16|            16|\n",
      "|1482825550|18456|10.1007/978-3-642...|      null|hough transform a...|Hough transform a...|     2010|2010-09-05|     Springer-Verlag| 106296714|  1124077590|     125232756|            33|          151|           262|\n",
      "|1966765298|19991|10.1016/j.dss.201...|   Journal|optimal planning ...|Optimal planning ...|     2013|2013-04-01|       North-Holland|  11479521|  1182309694|     574904361|            18|           19|            19|\n",
      "|2460423758|21920|10.1504/IJCSE.201...|   Journal|a new bag of word...|A new bag-of-word...|     2016|2016-01-01|Inderscience Publ...|  65043351|  1177288818|    2329275568|            11|            1|             1|\n",
      "|2460447926|21347|10.1145/2942358.2...|Conference|towards distribut...|Towards distribut...|     2016|2016-07-05|                 ACM| 176643777|  1151146444|    2331209432|            39|            1|             1|\n",
      "|2097747636|20950|10.1145/2048066.2...|Conference|jet exception che...|JET: exception ch...|     2011|2011-10-22|                 ACM| 148324379|  1138732554|     618576426|            21|            7|             7|\n",
      "+----------+-----+--------------------+----------+--------------------+--------------------+---------+----------+--------------------+----------+------------+--------------+--------------+-------------+--------------+\n",
      "only showing top 20 rows\n",
      "\n"
     ]
    }
   ],
   "source": [
    "paper_df.show()"
   ]
  },
  {
   "cell_type": "code",
   "execution_count": null,
   "metadata": {},
   "outputs": [],
   "source": []
  }
 ],
 "metadata": {
  "kernelspec": {
   "display_name": "Python 2",
   "language": "python",
   "name": "python2"
  },
  "language_info": {
   "codemirror_mode": {
    "name": "ipython",
    "version": 2
   },
   "file_extension": ".py",
   "mimetype": "text/x-python",
   "name": "python",
   "nbconvert_exporter": "python",
   "pygments_lexer": "ipython2",
   "version": "2.7.15rc1"
  }
 },
 "nbformat": 4,
 "nbformat_minor": 2
}
