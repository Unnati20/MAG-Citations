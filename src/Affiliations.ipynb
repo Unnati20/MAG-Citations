{
 "cells": [
  {
   "cell_type": "code",
   "execution_count": 1,
   "metadata": {},
   "outputs": [],
   "source": [
    "import findspark\n",
    "#findspark.init('/home/sdmohant/temp/spark-3.0.0-preview2-bin-hadoop2.7')\n",
    "#findspark.init('/tmp/spark-3.0.0-preview2-bin-hadoop2.7')\n",
    "findspark.init('/home/sdmohant/spark-3.0.0-bin-hadoop2.7')\n",
    "\n",
    "import pyspark\n",
    "import random"
   ]
  },
  {
   "cell_type": "code",
   "execution_count": 2,
   "metadata": {},
   "outputs": [],
   "source": [
    "from pyspark.sql import SparkSession"
   ]
  },
  {
   "cell_type": "code",
   "execution_count": 3,
   "metadata": {},
   "outputs": [],
   "source": [
    "from pyspark import SparkContext\n",
    "from pyspark.sql import SQLContext\n",
    "from pyspark.sql.types import *"
   ]
  },
  {
   "cell_type": "code",
   "execution_count": 4,
   "metadata": {},
   "outputs": [
    {
     "name": "stderr",
     "output_type": "stream",
     "text": [
      "/home/sdmohant/spark-3.0.0-bin-hadoop2.7/python/pyspark/context.py:220: DeprecationWarning: Support for Python 2 and Python 3 prior to version 3.6 is deprecated as of Spark 3.0. See also the plan for dropping Python 2 support at https://spark.apache.org/news/plan-for-dropping-python-2-support.html.\n",
      "  DeprecationWarning)\n"
     ]
    }
   ],
   "source": [
    "spark = SparkSession.builder.appName(\"Affiliations\").getOrCreate()"
   ]
  },
  {
   "cell_type": "code",
   "execution_count": 5,
   "metadata": {},
   "outputs": [],
   "source": [
    "sc = spark.sparkContext"
   ]
  },
  {
   "cell_type": "code",
   "execution_count": 6,
   "metadata": {},
   "outputs": [],
   "source": [
    "sqlContext = SQLContext(sc)"
   ]
  },
  {
   "cell_type": "code",
   "execution_count": 7,
   "metadata": {},
   "outputs": [],
   "source": [
    "from pyspark.sql.functions import isnan, when, count, col"
   ]
  },
  {
   "cell_type": "markdown",
   "metadata": {},
   "source": [
    "# Affiliations"
   ]
  },
  {
   "cell_type": "code",
   "execution_count": 8,
   "metadata": {},
   "outputs": [],
   "source": [
    "txt_file1 = sc.textFile(\"../Data/graph/2018-02-02/Affiliations.txt\")"
   ]
  },
  {
   "cell_type": "code",
   "execution_count": 9,
   "metadata": {},
   "outputs": [
    {
     "data": {
      "text/plain": [
       "u'154099455\\t8223\\tshandong university\\tShandong University\\t86381\\t2184963'"
      ]
     },
     "execution_count": 9,
     "metadata": {},
     "output_type": "execute_result"
    }
   ],
   "source": [
    "header1 = txt_file1.first()\n",
    "header1"
   ]
  },
  {
   "cell_type": "code",
   "execution_count": 10,
   "metadata": {},
   "outputs": [],
   "source": [
    "fields1 = [StructField(field_name, StringType(),True) for field_name in header1.split(\"\\\\t\") ]"
   ]
  },
  {
   "cell_type": "code",
   "execution_count": 11,
   "metadata": {},
   "outputs": [
    {
     "data": {
      "text/plain": [
       "[StructField(154099455\t8223\tshandong university\tShandong University\t86381\t2184963,StringType,true)]"
      ]
     },
     "execution_count": 11,
     "metadata": {},
     "output_type": "execute_result"
    }
   ],
   "source": [
    "fields1"
   ]
  },
  {
   "cell_type": "code",
   "execution_count": 12,
   "metadata": {},
   "outputs": [],
   "source": [
    "schema1 = StructType(fields1)"
   ]
  },
  {
   "cell_type": "code",
   "execution_count": 13,
   "metadata": {},
   "outputs": [
    {
     "data": {
      "text/plain": [
       "StructType(List(StructField(154099455\t8223\tshandong university\tShandong University\t86381\t2184963,StringType,true)))"
      ]
     },
     "execution_count": 13,
     "metadata": {},
     "output_type": "execute_result"
    }
   ],
   "source": [
    "schema1"
   ]
  },
  {
   "cell_type": "code",
   "execution_count": 14,
   "metadata": {},
   "outputs": [],
   "source": [
    "#txt_file = txt_file.filter(lambda line : line!= header)"
   ]
  },
  {
   "cell_type": "code",
   "execution_count": 15,
   "metadata": {},
   "outputs": [
    {
     "data": {
      "text/plain": [
       "[u'154099455\\t8223\\tshandong university\\tShandong University\\t86381\\t2184963',\n",
       " u'94975175\\t10705\\tdes moines university\\tDes Moines University\\t1197\\t25564',\n",
       " u'194999787\\t10520\\tcancer council queensland\\tCancer Council Queensland\\t603\\t21295',\n",
       " u'37712293\\t12144\\tmadeira interactive technologies institute\\tMadeira Interactive Technologies Institute\\t413\\t3160',\n",
       " u'1336114048\\t11738\\tamerican wind energy association\\tAmerican Wind Energy Association\\t18\\t224',\n",
       " u'189460059\\t10990\\tel bosque university\\tEl Bosque University\\t2070\\t14126',\n",
       " u'165644332\\t12733\\tjalpaiguri government engineering college\\tJalpaiguri Government Engineering College\\t177\\t915',\n",
       " u'76806421\\t11294\\tselex sistemi integrati\\tSELEX Sistemi Integrati\\t756\\t6941',\n",
       " u'158506100\\t13796\\tpennsylvania board of probation and parole\\tPennsylvania Board of Probation and Parole\\t4\\t52',\n",
       " u'178498160\\t11730\\tamerican university in bulgaria\\tAmerican University in Bulgaria\\t345\\t1206']"
      ]
     },
     "execution_count": 15,
     "metadata": {},
     "output_type": "execute_result"
    }
   ],
   "source": [
    "txt_file1.take(10)"
   ]
  },
  {
   "cell_type": "code",
   "execution_count": 16,
   "metadata": {},
   "outputs": [],
   "source": [
    "temp_var1 = txt_file1.map(lambda k: k.split(\"\\t\"))"
   ]
  },
  {
   "cell_type": "code",
   "execution_count": 17,
   "metadata": {},
   "outputs": [],
   "source": [
    "df1 =  temp_var1.toDF()"
   ]
  },
  {
   "cell_type": "code",
   "execution_count": 18,
   "metadata": {},
   "outputs": [
    {
     "name": "stdout",
     "output_type": "stream",
     "text": [
      "+----------+-----+--------------------+--------------------+-----+-------+\n",
      "|        _1|   _2|                  _3|                  _4|   _5|     _6|\n",
      "+----------+-----+--------------------+--------------------+-----+-------+\n",
      "| 154099455| 8223| shandong university| Shandong University|86381|2184963|\n",
      "|  94975175|10705|des moines univer...|Des Moines Univer...| 1197|  25564|\n",
      "| 194999787|10520|cancer council qu...|Cancer Council Qu...|  603|  21295|\n",
      "|  37712293|12144|madeira interacti...|Madeira Interacti...|  413|   3160|\n",
      "|1336114048|11738|american wind ene...|American Wind Ene...|   18|    224|\n",
      "| 189460059|10990|el bosque university|El Bosque University| 2070|  14126|\n",
      "| 165644332|12733|jalpaiguri govern...|Jalpaiguri Govern...|  177|    915|\n",
      "|  76806421|11294|selex sistemi int...|SELEX Sistemi Int...|  756|   6941|\n",
      "| 158506100|13796|pennsylvania boar...|Pennsylvania Boar...|    4|     52|\n",
      "| 178498160|11730|american universi...|American Universi...|  345|   1206|\n",
      "| 205665586|11794|rajendra agricult...|Rajendra Agricult...|  440|   3089|\n",
      "|1317197149|11504|aids project los ...|AIDS Project Los ...|   86|   2343|\n",
      "|  80046288| 9848|   walden university|   Walden University| 1478|  14810|\n",
      "|1303743778|13419|dharamshila cance...|Dharamshila Cance...|   19|    221|\n",
      "| 137612387|12843|korean register o...|Korean Register o...|  131|    643|\n",
      "| 203899302|10347|universiti teknol...|Universiti Teknol...| 9903|  79003|\n",
      "| 151854742|11064|faculdade de medi...|Faculdade de Medi...| 1331|  12787|\n",
      "| 121948355|13363|thanthai periyar ...|Thanthai Periyar ...|   97|    238|\n",
      "|1312008915| 9385|kuakini medical c...|Kuakini Medical C...|  915|  58915|\n",
      "| 132349299|11483|  idexx laboratories|  Idexx Laboratories|  974|  16721|\n",
      "+----------+-----+--------------------+--------------------+-----+-------+\n",
      "only showing top 20 rows\n",
      "\n"
     ]
    }
   ],
   "source": [
    "df1.show()"
   ]
  },
  {
   "cell_type": "code",
   "execution_count": 19,
   "metadata": {},
   "outputs": [
    {
     "name": "stdout",
     "output_type": "stream",
     "text": [
      "root\n",
      " |-- _1: string (nullable = true)\n",
      " |-- _2: string (nullable = true)\n",
      " |-- _3: string (nullable = true)\n",
      " |-- _4: string (nullable = true)\n",
      " |-- _5: string (nullable = true)\n",
      " |-- _6: string (nullable = true)\n",
      "\n"
     ]
    }
   ],
   "source": [
    "df1.printSchema()"
   ]
  },
  {
   "cell_type": "code",
   "execution_count": 20,
   "metadata": {},
   "outputs": [],
   "source": [
    "df1 = df1.withColumn(\"AffiliationId\",df1[\"_1\"].cast(LongType()))"
   ]
  },
  {
   "cell_type": "code",
   "execution_count": 21,
   "metadata": {},
   "outputs": [],
   "source": [
    "df1 = df1.withColumn(\"AffiliationRank\",df1[\"_2\"].cast(IntegerType()))"
   ]
  },
  {
   "cell_type": "code",
   "execution_count": 22,
   "metadata": {},
   "outputs": [],
   "source": [
    "df1 = df1.withColumn(\"AfNormalizedName\",df1[\"_3\"].cast(StringType()))"
   ]
  },
  {
   "cell_type": "code",
   "execution_count": 23,
   "metadata": {},
   "outputs": [],
   "source": [
    "df1 = df1.withColumn(\"AfDisplayName\",df1[\"_4\"].cast(StringType()))"
   ]
  },
  {
   "cell_type": "code",
   "execution_count": 24,
   "metadata": {},
   "outputs": [],
   "source": [
    "df1 = df1.withColumn(\"AfPaperCount\",df1[\"_5\"].cast(IntegerType()))"
   ]
  },
  {
   "cell_type": "code",
   "execution_count": 25,
   "metadata": {},
   "outputs": [],
   "source": [
    "df1 = df1.withColumn(\"AfCitationCount\",df1[\"_6\"].cast(IntegerType()))"
   ]
  },
  {
   "cell_type": "code",
   "execution_count": 26,
   "metadata": {},
   "outputs": [],
   "source": [
    "drop_columns =[\"_1\",\"_2\",\"_3\",\"_4\",\"_5\",\"_6\"]\n",
    "df1 = df1.drop(*drop_columns)   "
   ]
  },
  {
   "cell_type": "code",
   "execution_count": 27,
   "metadata": {},
   "outputs": [
    {
     "name": "stdout",
     "output_type": "stream",
     "text": [
      "+-------------+---------------+--------------------+--------------------+------------+---------------+\n",
      "|AffiliationId|AffiliationRank|    AfNormalizedName|       AfDisplayName|AfPaperCount|AfCitationCount|\n",
      "+-------------+---------------+--------------------+--------------------+------------+---------------+\n",
      "|    154099455|           8223| shandong university| Shandong University|       86381|        2184963|\n",
      "|     94975175|          10705|des moines univer...|Des Moines Univer...|        1197|          25564|\n",
      "|    194999787|          10520|cancer council qu...|Cancer Council Qu...|         603|          21295|\n",
      "|     37712293|          12144|madeira interacti...|Madeira Interacti...|         413|           3160|\n",
      "|   1336114048|          11738|american wind ene...|American Wind Ene...|          18|            224|\n",
      "|    189460059|          10990|el bosque university|El Bosque University|        2070|          14126|\n",
      "|    165644332|          12733|jalpaiguri govern...|Jalpaiguri Govern...|         177|            915|\n",
      "|     76806421|          11294|selex sistemi int...|SELEX Sistemi Int...|         756|           6941|\n",
      "|    158506100|          13796|pennsylvania boar...|Pennsylvania Boar...|           4|             52|\n",
      "|    178498160|          11730|american universi...|American Universi...|         345|           1206|\n",
      "+-------------+---------------+--------------------+--------------------+------------+---------------+\n",
      "only showing top 10 rows\n",
      "\n"
     ]
    }
   ],
   "source": [
    "df1.show(10)"
   ]
  },
  {
   "cell_type": "code",
   "execution_count": 28,
   "metadata": {},
   "outputs": [
    {
     "name": "stdout",
     "output_type": "stream",
     "text": [
      "+-------+-------------------+------------------+--------------------+-------------+-----------------+------------------+\n",
      "|summary|      AffiliationId|   AffiliationRank|    AfNormalizedName|AfDisplayName|     AfPaperCount|   AfCitationCount|\n",
      "+-------+-------------------+------------------+--------------------+-------------+-----------------+------------------+\n",
      "|  count|              18720|             18720|               18720|        18720|            18720|             18720|\n",
      "|   mean| 3.82126712953312E8|11370.384561965811|                null|         null|5946.249839743589|207863.03814102564|\n",
      "| stddev|4.843919945299792E8| 1683.982535350433|                null|         null|26028.26335478853|1394591.1596571417|\n",
      "|    min|               4605|              4983|                  3m|           3M|                1|                 0|\n",
      "|    max|         2785107011|             14334|ştefan cel mare u...|  Škoda Works|           794193|          67159780|\n",
      "+-------+-------------------+------------------+--------------------+-------------+-----------------+------------------+\n",
      "\n"
     ]
    }
   ],
   "source": [
    "df1.describe().show()"
   ]
  },
  {
   "cell_type": "code",
   "execution_count": 29,
   "metadata": {},
   "outputs": [
    {
     "data": {
      "text/plain": [
       "18720"
      ]
     },
     "execution_count": 29,
     "metadata": {},
     "output_type": "execute_result"
    }
   ],
   "source": [
    "df1.count()"
   ]
  },
  {
   "cell_type": "code",
   "execution_count": null,
   "metadata": {},
   "outputs": [],
   "source": []
  },
  {
   "cell_type": "code",
   "execution_count": 30,
   "metadata": {},
   "outputs": [
    {
     "name": "stdout",
     "output_type": "stream",
     "text": [
      "+-------------+---------------+----------------+-------------+------------+---------------+\n",
      "|AffiliationId|AffiliationRank|AfNormalizedName|AfDisplayName|AfPaperCount|AfCitationCount|\n",
      "+-------------+---------------+----------------+-------------+------------+---------------+\n",
      "|            0|              0|               0|            0|           0|              0|\n",
      "+-------------+---------------+----------------+-------------+------------+---------------+\n",
      "\n"
     ]
    }
   ],
   "source": [
    "df1.select([count(when(isnan(c) | col(c).isNull(),c)).alias(c) for c in df1.columns]).show()"
   ]
  },
  {
   "cell_type": "code",
   "execution_count": 31,
   "metadata": {},
   "outputs": [],
   "source": [
    "#df1.write.csv('Affiliations.csv')"
   ]
  },
  {
   "cell_type": "code",
   "execution_count": 32,
   "metadata": {},
   "outputs": [],
   "source": [
    "df1.coalesce(1).write.format('com.databricks.spark.csv').mode(\"overwrite\").save('Affiliations.csv',header = 'true')"
   ]
  },
  {
   "cell_type": "code",
   "execution_count": 33,
   "metadata": {},
   "outputs": [],
   "source": [
    "from pyspark.sql import SQLContext\n",
    "sqlContext = SQLContext(sc)\n",
    "\n"
   ]
  },
  {
   "cell_type": "code",
   "execution_count": 34,
   "metadata": {},
   "outputs": [],
   "source": [
    "#df = sqlContext.read.format('com.databricks.spark.csv').options(header='true', inferschema='true').load('Affiliations1.csv')"
   ]
  },
  {
   "cell_type": "markdown",
   "metadata": {},
   "source": [
    "# Author"
   ]
  },
  {
   "cell_type": "code",
   "execution_count": 35,
   "metadata": {},
   "outputs": [],
   "source": [
    "author_data = sc.textFile(\"../Data/graph/2018-02-02/Authors.txt\")"
   ]
  },
  {
   "cell_type": "code",
   "execution_count": 36,
   "metadata": {},
   "outputs": [
    {
     "data": {
      "text/plain": [
       "[u'2627094434\\t19753\\tp r la pointe\\tP.R. La Pointe\\t\\t1\\t1',\n",
       " u'2428216690\\t19757\\tcaroline ashton\\tCaroline Ashton\\t\\t2\\t0',\n",
       " u'2696760977\\t19757\\tespacio trading\\tEspacio Trading\\t\\t1\\t0',\n",
       " u'2648718335\\t19757\\t\\ud558\\ud0dc\\uc6c5\\t\\ud558\\ud0dc\\uc6c5\\t\\t1\\t0',\n",
       " u'2136881011\\t18252\\tgodson r e e ana\\tGodson Ana\\t9446555\\t39\\t166',\n",
       " u'2763836685\\t19705\\tfrank p bell\\tFrank P. Bell\\t125749732\\t1\\t1',\n",
       " u'2114022572\\t19757\\tjinguo yu\\tJinguo Yu\\t31712429\\t4\\t0',\n",
       " u'2599226294\\t19757\\tjoel martin halpern\\tJoel Martin Halpern\\t\\t1\\t0',\n",
       " u'2110284670\\t18437\\te j murry\\tE. J. Murry\\t36258959\\t1\\t64',\n",
       " u'2763070487\\t19491\\tj g delcros\\tDelcros Jg\\t154526488\\t1\\t6']"
      ]
     },
     "execution_count": 36,
     "metadata": {},
     "output_type": "execute_result"
    }
   ],
   "source": [
    "author_data.take(10)"
   ]
  },
  {
   "cell_type": "code",
   "execution_count": 37,
   "metadata": {},
   "outputs": [],
   "source": [
    "author_data = author_data.map(lambda k: k.split(\"\\t\"))"
   ]
  },
  {
   "cell_type": "code",
   "execution_count": 38,
   "metadata": {},
   "outputs": [],
   "source": [
    "df_author =  author_data.toDF()"
   ]
  },
  {
   "cell_type": "code",
   "execution_count": 39,
   "metadata": {},
   "outputs": [
    {
     "data": {
      "text/plain": [
       "Row(_1=u'2627094434', _2=u'19753', _3=u'p r la pointe', _4=u'P.R. La Pointe', _5=u'', _6=u'1', _7=u'1')"
      ]
     },
     "execution_count": 39,
     "metadata": {},
     "output_type": "execute_result"
    }
   ],
   "source": [
    "df_author.head()"
   ]
  },
  {
   "cell_type": "code",
   "execution_count": 40,
   "metadata": {},
   "outputs": [
    {
     "name": "stdout",
     "output_type": "stream",
     "text": [
      "+----------+-----+--------------------------+----------------------------+---------+---+---+\n",
      "|        _1|   _2|                        _3|                          _4|       _5| _6| _7|\n",
      "+----------+-----+--------------------------+----------------------------+---------+---+---+\n",
      "|2627094434|19753|             p r la pointe|              P.R. La Pointe|         |  1|  1|\n",
      "|2428216690|19757|           caroline ashton|             Caroline Ashton|         |  2|  0|\n",
      "|2696760977|19757|           espacio trading|             Espacio Trading|         |  1|  0|\n",
      "|2648718335|19757|                    하태웅|                      하태웅|         |  1|  0|\n",
      "|2136881011|18252|          godson r e e ana|                  Godson Ana|  9446555| 39|166|\n",
      "|2763836685|19705|              frank p bell|               Frank P. Bell|125749732|  1|  1|\n",
      "|2114022572|19757|                 jinguo yu|                   Jinguo Yu| 31712429|  4|  0|\n",
      "|2599226294|19757|       joel martin halpern|         Joel Martin Halpern|         |  1|  0|\n",
      "|2110284670|18437|                 e j murry|                 E. J. Murry| 36258959|  1| 64|\n",
      "|2763070487|19491|               j g delcros|                  Delcros Jg|154526488|  1|  6|\n",
      "|2664750129|19757|                  shi jian|                    Shi Jian|         |  1|  0|\n",
      "|2782799821|19757|               elham amiri|                 Elham Amiri|         |  1|  0|\n",
      "|2268075567|19757|      stefan christerss...|        Stefan Christerss...|         |  1|  0|\n",
      "|2140750790|19620|      ai ling catherine ng|        Ai Ling Catherine Ng|         |  1|  1|\n",
      "|2760139216|19757|コーワン パトリック ジェイ|コーワン，パトリック・ジェイ|         |  1|  0|\n",
      "|2735895103|19757|      robert patterson ...|        Robert Patterson ...|         |  1|  0|\n",
      "|2719040721|19567|                 a f rauch|                   A F Rauch|         |  1|  2|\n",
      "|2480052475|19757|        kimberley j devlin|         Kimberley J. Devlin|         |  1|  0|\n",
      "|2674433026|19757|                  teadmata|                    Teadmata|         |  1|  0|\n",
      "|2422052472|19757|                 huang wei|                   Huang Wei|         |  1|  0|\n",
      "+----------+-----+--------------------------+----------------------------+---------+---+---+\n",
      "only showing top 20 rows\n",
      "\n"
     ]
    }
   ],
   "source": [
    "df_author.show()"
   ]
  },
  {
   "cell_type": "code",
   "execution_count": 41,
   "metadata": {},
   "outputs": [],
   "source": [
    "df_author = df_author.withColumn(\"AuthorId\",df_author[\"_1\"].cast(LongType()))"
   ]
  },
  {
   "cell_type": "code",
   "execution_count": 42,
   "metadata": {},
   "outputs": [],
   "source": [
    "df_author = df_author.withColumn(\"AuthorRank\",df_author[\"_2\"].cast(IntegerType()))"
   ]
  },
  {
   "cell_type": "code",
   "execution_count": 43,
   "metadata": {},
   "outputs": [],
   "source": [
    "df_author = df_author.withColumn(\"AutNormalizedName\",df_author[\"_3\"].cast(StringType()))"
   ]
  },
  {
   "cell_type": "code",
   "execution_count": 44,
   "metadata": {},
   "outputs": [],
   "source": [
    "df_author = df_author.withColumn(\"AutDisplayName\",df_author[\"_4\"].cast(StringType()))"
   ]
  },
  {
   "cell_type": "code",
   "execution_count": 45,
   "metadata": {},
   "outputs": [],
   "source": [
    "df_author = df_author.withColumn(\"AutLastAffiliation\",df_author[\"_5\"].cast(LongType()))"
   ]
  },
  {
   "cell_type": "code",
   "execution_count": 46,
   "metadata": {},
   "outputs": [],
   "source": [
    "df_author = df_author.withColumn(\"AutPaperCount\",df_author[\"_6\"].cast(IntegerType()))"
   ]
  },
  {
   "cell_type": "code",
   "execution_count": 47,
   "metadata": {},
   "outputs": [],
   "source": [
    "df_author = df_author.withColumn(\"AutCitationCount\",df_author[\"_7\"].cast(IntegerType()))"
   ]
  },
  {
   "cell_type": "code",
   "execution_count": 48,
   "metadata": {},
   "outputs": [],
   "source": [
    "drop_columns =[\"_1\",\"_2\",\"_3\",\"_4\",\"_5\",\"_6\",\"_7\"]\n",
    "df_author = df_author.drop(*drop_columns)"
   ]
  },
  {
   "cell_type": "code",
   "execution_count": 49,
   "metadata": {},
   "outputs": [
    {
     "data": {
      "text/plain": [
       "Row(AuthorId=2627094434, AuthorRank=19753, AutNormalizedName=u'p r la pointe', AutDisplayName=u'P.R. La Pointe', AutLastAffiliation=None, AutPaperCount=1, AutCitationCount=1)"
      ]
     },
     "execution_count": 49,
     "metadata": {},
     "output_type": "execute_result"
    }
   ],
   "source": [
    "df_author.head()"
   ]
  },
  {
   "cell_type": "code",
   "execution_count": 50,
   "metadata": {},
   "outputs": [
    {
     "name": "stdout",
     "output_type": "stream",
     "text": [
      "+----------+----------+--------------------------+----------------------------+------------------+-------------+----------------+\n",
      "|  AuthorId|AuthorRank|         AutNormalizedName|              AutDisplayName|AutLastAffiliation|AutPaperCount|AutCitationCount|\n",
      "+----------+----------+--------------------------+----------------------------+------------------+-------------+----------------+\n",
      "|2627094434|     19753|             p r la pointe|              P.R. La Pointe|              null|            1|               1|\n",
      "|2428216690|     19757|           caroline ashton|             Caroline Ashton|              null|            2|               0|\n",
      "|2696760977|     19757|           espacio trading|             Espacio Trading|              null|            1|               0|\n",
      "|2648718335|     19757|                    하태웅|                      하태웅|              null|            1|               0|\n",
      "|2136881011|     18252|          godson r e e ana|                  Godson Ana|           9446555|           39|             166|\n",
      "|2763836685|     19705|              frank p bell|               Frank P. Bell|         125749732|            1|               1|\n",
      "|2114022572|     19757|                 jinguo yu|                   Jinguo Yu|          31712429|            4|               0|\n",
      "|2599226294|     19757|       joel martin halpern|         Joel Martin Halpern|              null|            1|               0|\n",
      "|2110284670|     18437|                 e j murry|                 E. J. Murry|          36258959|            1|              64|\n",
      "|2763070487|     19491|               j g delcros|                  Delcros Jg|         154526488|            1|               6|\n",
      "|2664750129|     19757|                  shi jian|                    Shi Jian|              null|            1|               0|\n",
      "|2782799821|     19757|               elham amiri|                 Elham Amiri|              null|            1|               0|\n",
      "|2268075567|     19757|      stefan christerss...|        Stefan Christerss...|              null|            1|               0|\n",
      "|2140750790|     19620|      ai ling catherine ng|        Ai Ling Catherine Ng|              null|            1|               1|\n",
      "|2760139216|     19757|コーワン パトリック ジェイ|コーワン，パトリック・ジェイ|              null|            1|               0|\n",
      "|2735895103|     19757|      robert patterson ...|        Robert Patterson ...|              null|            1|               0|\n",
      "|2719040721|     19567|                 a f rauch|                   A F Rauch|              null|            1|               2|\n",
      "|2480052475|     19757|        kimberley j devlin|         Kimberley J. Devlin|              null|            1|               0|\n",
      "|2674433026|     19757|                  teadmata|                    Teadmata|              null|            1|               0|\n",
      "|2422052472|     19757|                 huang wei|                   Huang Wei|              null|            1|               0|\n",
      "+----------+----------+--------------------------+----------------------------+------------------+-------------+----------------+\n",
      "only showing top 20 rows\n",
      "\n"
     ]
    }
   ],
   "source": [
    "df_author.show()"
   ]
  },
  {
   "cell_type": "code",
   "execution_count": 55,
   "metadata": {},
   "outputs": [],
   "source": [
    "#import pyspark.sql.functions as f\n",
    "\n",
    "# add an index column\n",
    "#df_author_sorted = df_author.withColumn('AuthorId', f.monotonically_increasing_id())\n",
    "\n",
    "# Sort by index and get first 4000 rows\n",
    "#working_set = df_author_sorted.sort('AuthorId').limit(4000)"
   ]
  },
  {
   "cell_type": "code",
   "execution_count": 56,
   "metadata": {
    "scrolled": true
   },
   "outputs": [],
   "source": [
    "#working_set.select([count(when(isnan(c) | col(c).isNull(),c)).alias(c) for c in working_set.columns]).show()"
   ]
  },
  {
   "cell_type": "code",
   "execution_count": 57,
   "metadata": {},
   "outputs": [
    {
     "name": "stdout",
     "output_type": "stream",
     "text": [
      "+--------+----------+-----------------+--------------+------------------+-------------+----------------+\n",
      "|AuthorId|AuthorRank|AutNormalizedName|AutDisplayName|AutLastAffiliation|AutPaperCount|AutCitationCount|\n",
      "+--------+----------+-----------------+--------------+------------------+-------------+----------------+\n",
      "|       0|         0|                0|             0|         176261158|            0|               0|\n",
      "+--------+----------+-----------------+--------------+------------------+-------------+----------------+\n",
      "\n"
     ]
    }
   ],
   "source": [
    "df_author.select([count(when(isnan(c) | col(c).isNull(),c)).alias(c) for c in df_author.columns]).show()"
   ]
  },
  {
   "cell_type": "code",
   "execution_count": 58,
   "metadata": {},
   "outputs": [],
   "source": [
    "#df_author = df_author.subtract(working_set)"
   ]
  },
  {
   "cell_type": "code",
   "execution_count": 59,
   "metadata": {},
   "outputs": [],
   "source": [
    "new_DF_auth = df_author.filter(((df_author[\"AutLastAffiliation\"] != \"\") | (df_author[\"AutLastAffiliation\"].isNotNull())))"
   ]
  },
  {
   "cell_type": "code",
   "execution_count": 62,
   "metadata": {},
   "outputs": [],
   "source": [
    "new_DF_auth.coalesce(1).write.format('com.databricks.spark.csv').mode(\"overwrite\").save('Author.csv',header = 'true')"
   ]
  },
  {
   "cell_type": "markdown",
   "metadata": {},
   "source": [
    "## Paper Author Affiliations"
   ]
  },
  {
   "cell_type": "code",
   "execution_count": 65,
   "metadata": {},
   "outputs": [],
   "source": [
    "pap_auth_affi = sc.textFile(\"../Data/graph/2018-02-02/PaperAuthorAffiliations.txt\")"
   ]
  },
  {
   "cell_type": "code",
   "execution_count": 66,
   "metadata": {},
   "outputs": [],
   "source": [
    "header3 = pap_auth_affi.first()"
   ]
  },
  {
   "cell_type": "code",
   "execution_count": 67,
   "metadata": {
    "collapsed": true
   },
   "outputs": [
    {
     "name": "stdout",
     "output_type": "stream",
     "text": [
      "2514067917\t2165266595\t1334877674\t1\n"
     ]
    }
   ],
   "source": [
    "print(header3)\n"
   ]
  },
  {
   "cell_type": "code",
   "execution_count": 68,
   "metadata": {},
   "outputs": [
    {
     "data": {
      "text/plain": [
       "[u'2514067917\\t2165266595\\t1334877674\\t1',\n",
       " u'2514067917\\t2334513227\\t1334877674\\t2',\n",
       " u'2514067917\\t2159674999\\t1334877674\\t3',\n",
       " u'2514067917\\t2133135916\\t1334877674\\t4',\n",
       " u'2527695015\\t2645743283\\t\\t1',\n",
       " u'2273582415\\t546406812\\t205783295\\t4',\n",
       " u'2273582415\\t2109773566\\t205783295\\t3',\n",
       " u'2273582415\\t2163045884\\t205783295\\t2',\n",
       " u'2273582415\\t1898881442\\t205783295\\t1',\n",
       " u'31410518\\t2714234592\\t\\t1']"
      ]
     },
     "execution_count": 68,
     "metadata": {},
     "output_type": "execute_result"
    }
   ],
   "source": [
    "pap_auth_affi.take(10)"
   ]
  },
  {
   "cell_type": "code",
   "execution_count": 69,
   "metadata": {},
   "outputs": [],
   "source": [
    "temp_var = pap_auth_affi.map(lambda k: k.split(\"\\t\"))"
   ]
  },
  {
   "cell_type": "code",
   "execution_count": 70,
   "metadata": {},
   "outputs": [],
   "source": [
    "df_pap_auth_aff = temp_var.toDF()"
   ]
  },
  {
   "cell_type": "code",
   "execution_count": 71,
   "metadata": {},
   "outputs": [
    {
     "name": "stdout",
     "output_type": "stream",
     "text": [
      "+----------+----------+----------+---+\n",
      "|        _1|        _2|        _3| _4|\n",
      "+----------+----------+----------+---+\n",
      "|2514067917|2165266595|1334877674|  1|\n",
      "|2514067917|2334513227|1334877674|  2|\n",
      "|2514067917|2159674999|1334877674|  3|\n",
      "|2514067917|2133135916|1334877674|  4|\n",
      "|2527695015|2645743283|          |  1|\n",
      "|2273582415| 546406812| 205783295|  4|\n",
      "|2273582415|2109773566| 205783295|  3|\n",
      "|2273582415|2163045884| 205783295|  2|\n",
      "|2273582415|1898881442| 205783295|  1|\n",
      "|  31410518|2714234592|          |  1|\n",
      "|2196491992|2701130396|          |  2|\n",
      "|2196491992|2197163443|          |  1|\n",
      "|  47114329|2314304603|          |  1|\n",
      "|1963479517|2296113232| 142823887|  1|\n",
      "|1963479517|2506097535| 134161618|  3|\n",
      "|1963479517|2167258348| 134161618|  2|\n",
      "|1479662648|2586177846|          |  1|\n",
      "|1963479518|2336340137|          |  2|\n",
      "|1963479518|2143982647|          |  1|\n",
      "|2521463243|2160003181| 169521973|  8|\n",
      "+----------+----------+----------+---+\n",
      "only showing top 20 rows\n",
      "\n"
     ]
    }
   ],
   "source": [
    "df_pap_auth_aff.show()"
   ]
  },
  {
   "cell_type": "code",
   "execution_count": 72,
   "metadata": {},
   "outputs": [],
   "source": [
    "df_pap_auth_aff = df_pap_auth_aff.withColumn(\"PaperID\",df_pap_auth_aff[\"_1\"].cast(LongType()))"
   ]
  },
  {
   "cell_type": "code",
   "execution_count": 73,
   "metadata": {},
   "outputs": [],
   "source": [
    "df_pap_auth_aff = df_pap_auth_aff.withColumn(\"AuthorId\",df_pap_auth_aff[\"_2\"].cast(LongType()))"
   ]
  },
  {
   "cell_type": "code",
   "execution_count": 74,
   "metadata": {},
   "outputs": [],
   "source": [
    "df_pap_auth_aff = df_pap_auth_aff.withColumn(\"AffiliationId\",df_pap_auth_aff[\"_3\"].cast(LongType()))"
   ]
  },
  {
   "cell_type": "code",
   "execution_count": 75,
   "metadata": {},
   "outputs": [],
   "source": [
    "df_pap_auth_aff = df_pap_auth_aff.withColumn(\"AuthorSequenceNumber\",df_pap_auth_aff[\"_4\"].cast(IntegerType()))"
   ]
  },
  {
   "cell_type": "code",
   "execution_count": 76,
   "metadata": {},
   "outputs": [],
   "source": [
    "drop_columns =[\"_1\",\"_2\",\"_3\",\"_4\"]\n",
    "df_pap_auth_aff = df_pap_auth_aff.drop(*drop_columns)"
   ]
  },
  {
   "cell_type": "code",
   "execution_count": 78,
   "metadata": {},
   "outputs": [
    {
     "name": "stdout",
     "output_type": "stream",
     "text": [
      "+-------+--------+-------------+--------------------+\n",
      "|PaperID|AuthorId|AffiliationId|AuthorSequenceNumber|\n",
      "+-------+--------+-------------+--------------------+\n",
      "|      0|       0|    229764067|                   0|\n",
      "+-------+--------+-------------+--------------------+\n",
      "\n"
     ]
    }
   ],
   "source": [
    "df_pap_auth_aff.select([count(when(isnan(c) | col(c).isNull(),c)).alias(c) for c in df_pap_auth_aff.columns]).show()"
   ]
  },
  {
   "cell_type": "code",
   "execution_count": 79,
   "metadata": {},
   "outputs": [],
   "source": [
    "df_pap_aff_new = df_pap_auth_aff.filter(((df_pap_auth_aff[\"AffiliationId\"] != \"\") | (df_pap_auth_aff[\"AffiliationId\"].isNotNull())))"
   ]
  },
  {
   "cell_type": "code",
   "execution_count": 82,
   "metadata": {},
   "outputs": [],
   "source": [
    "df_pap_aff_new.coalesce(1).write.format('com.databricks.spark.csv').mode(\"overwrite\").save('PaperAuthorAffilitions.csv',header = 'true')"
   ]
  },
  {
   "cell_type": "markdown",
   "metadata": {},
   "source": [
    "## Paper References"
   ]
  },
  {
   "cell_type": "code",
   "execution_count": 83,
   "metadata": {},
   "outputs": [],
   "source": [
    "pap_ref = sc.textFile(\"../Data/graph/2018-02-02/PaperReferences.txt\")"
   ]
  },
  {
   "cell_type": "code",
   "execution_count": 84,
   "metadata": {},
   "outputs": [],
   "source": [
    "temp_var = pap_ref.map(lambda k: k.split(\"\\t\"))"
   ]
  },
  {
   "cell_type": "code",
   "execution_count": 85,
   "metadata": {},
   "outputs": [],
   "source": [
    "df_pap_ref = temp_var.toDF()"
   ]
  },
  {
   "cell_type": "code",
   "execution_count": 86,
   "metadata": {},
   "outputs": [
    {
     "name": "stdout",
     "output_type": "stream",
     "text": [
      "+----------+----------+\n",
      "|        _1|        _2|\n",
      "+----------+----------+\n",
      "|1819117828|1905052134|\n",
      "|1819117828|1976258239|\n",
      "|1479662854|2313093857|\n",
      "|1479662854|2315253629|\n",
      "|1479662854|2313966818|\n",
      "|1479662854| 574521895|\n",
      "|1479662854| 570984619|\n",
      "|1479662854|2313539732|\n",
      "|1479662854|1983800547|\n",
      "|1479662854|2506074975|\n",
      "+----------+----------+\n",
      "only showing top 10 rows\n",
      "\n"
     ]
    }
   ],
   "source": [
    "df_pap_ref.show(10)"
   ]
  },
  {
   "cell_type": "code",
   "execution_count": 87,
   "metadata": {},
   "outputs": [
    {
     "data": {
      "text/plain": [
       "1173350871"
      ]
     },
     "execution_count": 87,
     "metadata": {},
     "output_type": "execute_result"
    }
   ],
   "source": [
    "df_pap_ref.count()"
   ]
  },
  {
   "cell_type": "code",
   "execution_count": 88,
   "metadata": {},
   "outputs": [],
   "source": [
    "df_pap_ref = df_pap_ref.withColumn(\"PaperId\",df_pap_ref[\"_1\"].cast(LongType()))"
   ]
  },
  {
   "cell_type": "code",
   "execution_count": 89,
   "metadata": {},
   "outputs": [],
   "source": [
    "df_pap_ref = df_pap_ref.withColumn(\"PaperRefId\",df_pap_ref[\"_2\"].cast(LongType()))"
   ]
  },
  {
   "cell_type": "code",
   "execution_count": 90,
   "metadata": {},
   "outputs": [],
   "source": [
    "drop_cols=[\"_1\",\"_2\"]\n",
    "df_pap_ref = df_pap_ref.drop(*drop_cols)"
   ]
  },
  {
   "cell_type": "code",
   "execution_count": 91,
   "metadata": {},
   "outputs": [
    {
     "name": "stdout",
     "output_type": "stream",
     "text": [
      "+----------+----------+\n",
      "|   PaperId|PaperRefId|\n",
      "+----------+----------+\n",
      "|1819117828|1905052134|\n",
      "|1819117828|1976258239|\n",
      "+----------+----------+\n",
      "only showing top 2 rows\n",
      "\n"
     ]
    }
   ],
   "source": [
    "df_pap_ref.show(2)"
   ]
  },
  {
   "cell_type": "code",
   "execution_count": 92,
   "metadata": {},
   "outputs": [
    {
     "name": "stdout",
     "output_type": "stream",
     "text": [
      "+-------+----------+\n",
      "|PaperId|PaperRefId|\n",
      "+-------+----------+\n",
      "|      0|         0|\n",
      "+-------+----------+\n",
      "\n"
     ]
    }
   ],
   "source": [
    "df_pap_ref.select([count(when(isnan(c) | col(c).isNull(),c)).alias(c) for c in df_pap_ref.columns]).show()"
   ]
  },
  {
   "cell_type": "code",
   "execution_count": 96,
   "metadata": {},
   "outputs": [],
   "source": [
    "Affilitions_df = spark.read.options(header = True,delimiter=',',inferSchema=True ).csv(\"Affiliations.csv\")"
   ]
  },
  {
   "cell_type": "code",
   "execution_count": 97,
   "metadata": {},
   "outputs": [],
   "source": [
    "Author_df = spark.read.options(header = True,delimiter=',',inferSchema=True ).csv(\"Author.csv\")"
   ]
  },
  {
   "cell_type": "code",
   "execution_count": 98,
   "metadata": {},
   "outputs": [],
   "source": [
    "PapAuthAffiliations_df = spark.read.options(header = True,delimiter=',',inferSchema=True ).csv(\"PaperAuthorAffilitions.csv\")"
   ]
  },
  {
   "cell_type": "code",
   "execution_count": 99,
   "metadata": {},
   "outputs": [
    {
     "name": "stdout",
     "output_type": "stream",
     "text": [
      "root\n",
      " |-- AffiliationId: long (nullable = true)\n",
      " |-- AffiliationRank: integer (nullable = true)\n",
      " |-- AfNormalizedName: string (nullable = true)\n",
      " |-- AfDisplayName: string (nullable = true)\n",
      " |-- AfPaperCount: integer (nullable = true)\n",
      " |-- AfCitationCount: integer (nullable = true)\n",
      "\n"
     ]
    }
   ],
   "source": [
    "Affilitions_df.printSchema()"
   ]
  },
  {
   "cell_type": "code",
   "execution_count": 100,
   "metadata": {},
   "outputs": [
    {
     "name": "stdout",
     "output_type": "stream",
     "text": [
      "root\n",
      " |-- AuthorId: long (nullable = true)\n",
      " |-- AuthorRank: integer (nullable = true)\n",
      " |-- AutNormalizedName: string (nullable = true)\n",
      " |-- AutDisplayName: string (nullable = true)\n",
      " |-- AutLastAffiliation: long (nullable = true)\n",
      " |-- AutPaperCount: integer (nullable = true)\n",
      " |-- AutCitationCount: integer (nullable = true)\n",
      "\n"
     ]
    }
   ],
   "source": [
    "Author_df.printSchema()"
   ]
  },
  {
   "cell_type": "code",
   "execution_count": 101,
   "metadata": {},
   "outputs": [
    {
     "name": "stdout",
     "output_type": "stream",
     "text": [
      "root\n",
      " |-- PaperID: long (nullable = true)\n",
      " |-- AuthorId: long (nullable = true)\n",
      " |-- AffiliationId: long (nullable = true)\n",
      " |-- AuthorSequenceNumber: integer (nullable = true)\n",
      "\n"
     ]
    }
   ],
   "source": [
    "PapAuthAffiliations_df.printSchema()"
   ]
  },
  {
   "cell_type": "code",
   "execution_count": null,
   "metadata": {},
   "outputs": [],
   "source": []
  }
 ],
 "metadata": {
  "kernelspec": {
   "display_name": "Python 2",
   "language": "python",
   "name": "python2"
  },
  "language_info": {
   "codemirror_mode": {
    "name": "ipython",
    "version": 2
   },
   "file_extension": ".py",
   "mimetype": "text/x-python",
   "name": "python",
   "nbconvert_exporter": "python",
   "pygments_lexer": "ipython2",
   "version": "2.7.15rc1"
  }
 },
 "nbformat": 4,
 "nbformat_minor": 2
}
