{
 "cells": [
  {
   "cell_type": "code",
   "execution_count": 1,
   "metadata": {},
   "outputs": [],
   "source": [
    "import findspark\n",
    "findspark.init('/home/sdmohant/spark-3.0.0-bin-hadoop2.7')"
   ]
  },
  {
   "cell_type": "code",
   "execution_count": 2,
   "metadata": {},
   "outputs": [],
   "source": [
    "import pyspark\n",
    "from pyspark import SparkContext,SparkConf"
   ]
  },
  {
   "cell_type": "code",
   "execution_count": 3,
   "metadata": {},
   "outputs": [],
   "source": [
    "from pyspark.sql import SparkSession"
   ]
  },
  {
   "cell_type": "code",
   "execution_count": 4,
   "metadata": {},
   "outputs": [
    {
     "name": "stderr",
     "output_type": "stream",
     "text": [
      "/home/sdmohant/spark-3.0.0-bin-hadoop2.7/python/pyspark/context.py:220: DeprecationWarning: Support for Python 2 and Python 3 prior to version 3.6 is deprecated as of Spark 3.0. See also the plan for dropping Python 2 support at https://spark.apache.org/news/plan-for-dropping-python-2-support.html.\n",
      "  DeprecationWarning)\n"
     ]
    }
   ],
   "source": [
    "#spark = SparkSession.builder.appName(\"MyApp\").getOrCreate()\n",
    "#spark = SparkSession.builder.appName(\"MyName\").getOrCreate()\n",
    "conf = SparkConf().set(\"spark.cores.max\", \"16\") \\\n",
    "    .set(\"spark.driver.memory\", \"16g\") \\\n",
    "    .set(\"spark.executor.memory\", \"16g\") \\\n",
    "    .set(\"spark.executor.memory_overhead\", \"16g\") \\\n",
    "    .set(\"spark.driver.maxResultsSize\", \"4g\") \\\n",
    "    .set(\"spark.sql.shuffle.partitions\",\"300\")\n",
    "\n",
    "sc = SparkContext(appName=\"FOSver3\", conf=conf)\n",
    "spark = SparkSession(sc)"
   ]
  },
  {
   "cell_type": "code",
   "execution_count": 5,
   "metadata": {},
   "outputs": [],
   "source": [
    "from pyspark.sql.functions import isnan, count, col, when\n",
    "from pyspark.sql.types import *"
   ]
  },
  {
   "cell_type": "code",
   "execution_count": 6,
   "metadata": {},
   "outputs": [],
   "source": [
    "FOS_DF = spark.read.options(header= True,inferSchema=True,delimiter=\",\").csv(\"FOS.csv\")"
   ]
  },
  {
   "cell_type": "code",
   "execution_count": 7,
   "metadata": {},
   "outputs": [],
   "source": [
    "FOS_zero = FOS_DF.filter(\"FOSDisplayLevel == 0\").collect()"
   ]
  },
  {
   "cell_type": "code",
   "execution_count": 8,
   "metadata": {},
   "outputs": [],
   "source": [
    "ParentChild_DF = spark.read.options(header= True,inferSchema=True,delimiter=\",\").csv(\"ParentChildFOS.csv\")"
   ]
  },
  {
   "cell_type": "code",
   "execution_count": 9,
   "metadata": {},
   "outputs": [
    {
     "data": {
      "text/plain": [
       "Row(FOS_ID=107038049, FOSChildID=503158894)"
      ]
     },
     "execution_count": 9,
     "metadata": {},
     "output_type": "execute_result"
    }
   ],
   "source": [
    "ParentChild_DF.head()"
   ]
  },
  {
   "cell_type": "markdown",
   "metadata": {},
   "source": [
    "## History 95457728"
   ]
  },
  {
   "cell_type": "code",
   "execution_count": 10,
   "metadata": {},
   "outputs": [],
   "source": [
    "ParentChild_DF = ParentChild_DF.toPandas()"
   ]
  },
  {
   "cell_type": "code",
   "execution_count": 12,
   "metadata": {},
   "outputs": [],
   "source": [
    "childOfRoot = ParentChild_DF[ParentChild_DF[\"FOS_ID\"] == 95457728]"
   ]
  },
  {
   "cell_type": "code",
   "execution_count": 13,
   "metadata": {},
   "outputs": [
    {
     "data": {
      "text/plain": [
       "6"
      ]
     },
     "execution_count": 13,
     "metadata": {},
     "output_type": "execute_result"
    }
   ],
   "source": [
    "len(childOfRoot)"
   ]
  },
  {
   "cell_type": "code",
   "execution_count": 14,
   "metadata": {},
   "outputs": [],
   "source": [
    "#Children at level 2\n",
    "childAtLevel2 = set()\n",
    "for x in childOfRoot.index:\n",
    "    for y in ParentChild_DF.index:\n",
    "        #print(ChildFOS_df[\"FOS_ID\"][y])\n",
    "        #print(\"\\n\")\n",
    "        #print(x)\n",
    "        if ParentChild_DF[\"FOS_ID\"][y] == childOfRoot[\"FOSChildID\"][x]:\n",
    "            childAtLevel2.add(ParentChild_DF[\"FOSChildID\"][y])"
   ]
  },
  {
   "cell_type": "code",
   "execution_count": 15,
   "metadata": {},
   "outputs": [
    {
     "data": {
      "text/plain": [
       "196"
      ]
     },
     "execution_count": 15,
     "metadata": {},
     "output_type": "execute_result"
    }
   ],
   "source": [
    "len(childAtLevel2)"
   ]
  },
  {
   "cell_type": "code",
   "execution_count": 16,
   "metadata": {},
   "outputs": [],
   "source": [
    "#Children at level 3\n",
    "childAtLevel3 = set()\n",
    "for x in childAtLevel2:\n",
    "    for y in ParentChild_DF.index:\n",
    "        if ParentChild_DF[\"FOS_ID\"][y] == x:\n",
    "            childAtLevel3.add(ParentChild_DF[\"FOSChildID\"][y])"
   ]
  },
  {
   "cell_type": "code",
   "execution_count": 17,
   "metadata": {},
   "outputs": [
    {
     "data": {
      "text/plain": [
       "0"
      ]
     },
     "execution_count": 17,
     "metadata": {},
     "output_type": "execute_result"
    }
   ],
   "source": [
    "len(childAtLevel3)"
   ]
  },
  {
   "cell_type": "code",
   "execution_count": 18,
   "metadata": {},
   "outputs": [],
   "source": [
    "history_fos= list(childOfRoot[\"FOSChildID\"]) + list(childAtLevel2)"
   ]
  },
  {
   "cell_type": "code",
   "execution_count": 19,
   "metadata": {},
   "outputs": [
    {
     "data": {
      "text/plain": [
       "202"
      ]
     },
     "execution_count": 19,
     "metadata": {},
     "output_type": "execute_result"
    }
   ],
   "source": [
    "len(history_fos)"
   ]
  },
  {
   "cell_type": "code",
   "execution_count": null,
   "metadata": {},
   "outputs": [],
   "source": []
  },
  {
   "cell_type": "markdown",
   "metadata": {},
   "source": [
    "## Business 144133560"
   ]
  },
  {
   "cell_type": "code",
   "execution_count": 20,
   "metadata": {},
   "outputs": [],
   "source": [
    "childOfRoot = ParentChild_DF[ParentChild_DF[\"FOS_ID\"] == 144133560]"
   ]
  },
  {
   "cell_type": "code",
   "execution_count": 21,
   "metadata": {},
   "outputs": [
    {
     "data": {
      "text/plain": [
       "2"
      ]
     },
     "execution_count": 21,
     "metadata": {},
     "output_type": "execute_result"
    }
   ],
   "source": [
    "len(childOfRoot)"
   ]
  },
  {
   "cell_type": "code",
   "execution_count": 22,
   "metadata": {},
   "outputs": [],
   "source": [
    "#Children at level 2\n",
    "childAtLevel2 = set()\n",
    "for x in childOfRoot.index:\n",
    "    for y in ParentChild_DF.index:\n",
    "        #print(ChildFOS_df[\"FOS_ID\"][y])\n",
    "        #print(\"\\n\")\n",
    "        #print(x)\n",
    "        if ParentChild_DF[\"FOS_ID\"][y] == childOfRoot[\"FOSChildID\"][x]:\n",
    "            childAtLevel2.add(ParentChild_DF[\"FOSChildID\"][y])"
   ]
  },
  {
   "cell_type": "code",
   "execution_count": 23,
   "metadata": {},
   "outputs": [
    {
     "data": {
      "text/plain": [
       "58"
      ]
     },
     "execution_count": 23,
     "metadata": {},
     "output_type": "execute_result"
    }
   ],
   "source": [
    "len(childAtLevel2)"
   ]
  },
  {
   "cell_type": "code",
   "execution_count": 24,
   "metadata": {},
   "outputs": [],
   "source": [
    "#Children at level 3\n",
    "childAtLevel3 = set()\n",
    "for x in childAtLevel2:\n",
    "    for y in ParentChild_DF.index:\n",
    "        if ParentChild_DF[\"FOS_ID\"][y] == x:\n",
    "            childAtLevel3.add(ParentChild_DF[\"FOSChildID\"][y])"
   ]
  },
  {
   "cell_type": "code",
   "execution_count": 25,
   "metadata": {},
   "outputs": [
    {
     "data": {
      "text/plain": [
       "0"
      ]
     },
     "execution_count": 25,
     "metadata": {},
     "output_type": "execute_result"
    }
   ],
   "source": [
    "len(childAtLevel3)"
   ]
  },
  {
   "cell_type": "code",
   "execution_count": 26,
   "metadata": {},
   "outputs": [],
   "source": [
    "business_fos= list(childOfRoot[\"FOSChildID\"]) + list(childAtLevel2)"
   ]
  },
  {
   "cell_type": "code",
   "execution_count": 27,
   "metadata": {},
   "outputs": [
    {
     "data": {
      "text/plain": [
       "60"
      ]
     },
     "execution_count": 27,
     "metadata": {},
     "output_type": "execute_result"
    }
   ],
   "source": [
    "len(business_fos)"
   ]
  },
  {
   "cell_type": "markdown",
   "metadata": {},
   "source": [
    "## Geography 205649164"
   ]
  },
  {
   "cell_type": "code",
   "execution_count": 28,
   "metadata": {},
   "outputs": [],
   "source": [
    "childOfRoot = ParentChild_DF[ParentChild_DF[\"FOS_ID\"] == 205649164]"
   ]
  },
  {
   "cell_type": "code",
   "execution_count": 29,
   "metadata": {},
   "outputs": [
    {
     "data": {
      "text/plain": [
       "5"
      ]
     },
     "execution_count": 29,
     "metadata": {},
     "output_type": "execute_result"
    }
   ],
   "source": [
    "len(childOfRoot)"
   ]
  },
  {
   "cell_type": "code",
   "execution_count": 30,
   "metadata": {},
   "outputs": [],
   "source": [
    "#Children at level 2\n",
    "childAtLevel2 = set()\n",
    "for x in childOfRoot.index:\n",
    "    for y in ParentChild_DF.index:\n",
    "        #print(ChildFOS_df[\"FOS_ID\"][y])\n",
    "        #print(\"\\n\")\n",
    "        #print(x)\n",
    "        if ParentChild_DF[\"FOS_ID\"][y] == childOfRoot[\"FOSChildID\"][x]:\n",
    "            childAtLevel2.add(ParentChild_DF[\"FOSChildID\"][y])"
   ]
  },
  {
   "cell_type": "code",
   "execution_count": 31,
   "metadata": {},
   "outputs": [
    {
     "data": {
      "text/plain": [
       "45"
      ]
     },
     "execution_count": 31,
     "metadata": {},
     "output_type": "execute_result"
    }
   ],
   "source": [
    "len(childAtLevel2)"
   ]
  },
  {
   "cell_type": "code",
   "execution_count": 32,
   "metadata": {},
   "outputs": [],
   "source": [
    "#Children at level 3\n",
    "childAtLevel3 = set()\n",
    "for x in childAtLevel2:\n",
    "    for y in ParentChild_DF.index:\n",
    "        if ParentChild_DF[\"FOS_ID\"][y] == x:\n",
    "            childAtLevel3.add(ParentChild_DF[\"FOSChildID\"][y])"
   ]
  },
  {
   "cell_type": "code",
   "execution_count": 33,
   "metadata": {},
   "outputs": [],
   "source": [
    "geography_fos= list(childOfRoot[\"FOSChildID\"]) + list(childAtLevel2)"
   ]
  },
  {
   "cell_type": "markdown",
   "metadata": {},
   "source": [
    "## Philosophy 138885662"
   ]
  },
  {
   "cell_type": "code",
   "execution_count": 34,
   "metadata": {},
   "outputs": [],
   "source": [
    "childOfRoot = ParentChild_DF[ParentChild_DF[\"FOS_ID\"] == 138885662]"
   ]
  },
  {
   "cell_type": "code",
   "execution_count": 35,
   "metadata": {},
   "outputs": [
    {
     "data": {
      "text/plain": [
       "13"
      ]
     },
     "execution_count": 35,
     "metadata": {},
     "output_type": "execute_result"
    }
   ],
   "source": [
    "len(childOfRoot)"
   ]
  },
  {
   "cell_type": "code",
   "execution_count": 36,
   "metadata": {},
   "outputs": [],
   "source": [
    "#Children at level 2\n",
    "childAtLevel2 = set()\n",
    "for x in childOfRoot.index:\n",
    "    for y in ParentChild_DF.index:\n",
    "        #print(ChildFOS_df[\"FOS_ID\"][y])\n",
    "        #print(\"\\n\")\n",
    "        #print(x)\n",
    "        if ParentChild_DF[\"FOS_ID\"][y] == childOfRoot[\"FOSChildID\"][x]:\n",
    "            childAtLevel2.add(ParentChild_DF[\"FOSChildID\"][y])"
   ]
  },
  {
   "cell_type": "code",
   "execution_count": 37,
   "metadata": {},
   "outputs": [
    {
     "data": {
      "text/plain": [
       "302"
      ]
     },
     "execution_count": 37,
     "metadata": {},
     "output_type": "execute_result"
    }
   ],
   "source": [
    "len(childAtLevel2)"
   ]
  },
  {
   "cell_type": "code",
   "execution_count": 38,
   "metadata": {},
   "outputs": [],
   "source": [
    "#Children at level 3\n",
    "childAtLevel3 = set()\n",
    "for x in childAtLevel2:\n",
    "    for y in ParentChild_DF.index:\n",
    "        if ParentChild_DF[\"FOS_ID\"][y] == x:\n",
    "            childAtLevel3.add(ParentChild_DF[\"FOSChildID\"][y])"
   ]
  },
  {
   "cell_type": "code",
   "execution_count": 39,
   "metadata": {},
   "outputs": [
    {
     "data": {
      "text/plain": [
       "0"
      ]
     },
     "execution_count": 39,
     "metadata": {},
     "output_type": "execute_result"
    }
   ],
   "source": [
    "len(childAtLevel3)"
   ]
  },
  {
   "cell_type": "code",
   "execution_count": 40,
   "metadata": {},
   "outputs": [],
   "source": [
    "philosophy_fos= list(childOfRoot[\"FOSChildID\"]) + list(childAtLevel2)"
   ]
  },
  {
   "cell_type": "code",
   "execution_count": 41,
   "metadata": {},
   "outputs": [
    {
     "data": {
      "text/plain": [
       "315"
      ]
     },
     "execution_count": 41,
     "metadata": {},
     "output_type": "execute_result"
    }
   ],
   "source": [
    "len(philosophy_fos)"
   ]
  },
  {
   "cell_type": "markdown",
   "metadata": {},
   "source": [
    "## Medicine 71924100"
   ]
  },
  {
   "cell_type": "code",
   "execution_count": 43,
   "metadata": {},
   "outputs": [],
   "source": [
    "childOfRoot = ParentChild_DF[ParentChild_DF[\"FOS_ID\"] == 71924100]"
   ]
  },
  {
   "cell_type": "code",
   "execution_count": 44,
   "metadata": {},
   "outputs": [
    {
     "data": {
      "text/plain": [
       "46"
      ]
     },
     "execution_count": 44,
     "metadata": {},
     "output_type": "execute_result"
    }
   ],
   "source": [
    "len(childOfRoot)"
   ]
  },
  {
   "cell_type": "code",
   "execution_count": 45,
   "metadata": {},
   "outputs": [],
   "source": [
    "#Children at level 2\n",
    "childAtLevel2 = set()\n",
    "for x in childOfRoot.index:\n",
    "    for y in ParentChild_DF.index:\n",
    "        #print(ChildFOS_df[\"FOS_ID\"][y])\n",
    "        #print(\"\\n\")\n",
    "        #print(x)\n",
    "        if ParentChild_DF[\"FOS_ID\"][y] == childOfRoot[\"FOSChildID\"][x]:\n",
    "            childAtLevel2.add(ParentChild_DF[\"FOSChildID\"][y])"
   ]
  },
  {
   "cell_type": "code",
   "execution_count": 46,
   "metadata": {},
   "outputs": [
    {
     "data": {
      "text/plain": [
       "253"
      ]
     },
     "execution_count": 46,
     "metadata": {},
     "output_type": "execute_result"
    }
   ],
   "source": [
    "len(childAtLevel2)"
   ]
  },
  {
   "cell_type": "code",
   "execution_count": 47,
   "metadata": {},
   "outputs": [],
   "source": [
    "#Children at level 3\n",
    "childAtLevel3 = set()\n",
    "for x in childAtLevel2:\n",
    "    for y in ParentChild_DF.index:\n",
    "        if ParentChild_DF[\"FOS_ID\"][y] == x:\n",
    "            childAtLevel3.add(ParentChild_DF[\"FOSChildID\"][y])"
   ]
  },
  {
   "cell_type": "code",
   "execution_count": 48,
   "metadata": {},
   "outputs": [
    {
     "data": {
      "text/plain": [
       "0"
      ]
     },
     "execution_count": 48,
     "metadata": {},
     "output_type": "execute_result"
    }
   ],
   "source": [
    "len(childAtLevel3)"
   ]
  },
  {
   "cell_type": "code",
   "execution_count": 49,
   "metadata": {},
   "outputs": [],
   "source": [
    "medicine_fos= list(childOfRoot[\"FOSChildID\"]) + list(childAtLevel2)"
   ]
  },
  {
   "cell_type": "code",
   "execution_count": 50,
   "metadata": {},
   "outputs": [
    {
     "data": {
      "text/plain": [
       "299"
      ]
     },
     "execution_count": 50,
     "metadata": {},
     "output_type": "execute_result"
    }
   ],
   "source": [
    "len(medicine_fos)"
   ]
  },
  {
   "cell_type": "markdown",
   "metadata": {},
   "source": [
    "## Engineering 127413603"
   ]
  },
  {
   "cell_type": "code",
   "execution_count": 52,
   "metadata": {},
   "outputs": [],
   "source": [
    "childOfRoot = ParentChild_DF[ParentChild_DF[\"FOS_ID\"] == 127413603]"
   ]
  },
  {
   "cell_type": "code",
   "execution_count": 53,
   "metadata": {},
   "outputs": [
    {
     "data": {
      "text/plain": [
       "43"
      ]
     },
     "execution_count": 53,
     "metadata": {},
     "output_type": "execute_result"
    }
   ],
   "source": [
    "len(childOfRoot)"
   ]
  },
  {
   "cell_type": "code",
   "execution_count": 54,
   "metadata": {},
   "outputs": [],
   "source": [
    "#Children at level 2\n",
    "childAtLevel2 = set()\n",
    "for x in childOfRoot.index:\n",
    "    for y in ParentChild_DF.index:\n",
    "        #print(ChildFOS_df[\"FOS_ID\"][y])\n",
    "        #print(\"\\n\")\n",
    "        #print(x)\n",
    "        if ParentChild_DF[\"FOS_ID\"][y] == childOfRoot[\"FOSChildID\"][x]:\n",
    "            childAtLevel2.add(ParentChild_DF[\"FOSChildID\"][y])"
   ]
  },
  {
   "cell_type": "code",
   "execution_count": 55,
   "metadata": {},
   "outputs": [
    {
     "data": {
      "text/plain": [
       "129"
      ]
     },
     "execution_count": 55,
     "metadata": {},
     "output_type": "execute_result"
    }
   ],
   "source": [
    "len(childAtLevel2)"
   ]
  },
  {
   "cell_type": "code",
   "execution_count": 56,
   "metadata": {},
   "outputs": [],
   "source": [
    "#Children at level 3\n",
    "childAtLevel3 = set()\n",
    "for x in childAtLevel2:\n",
    "    for y in ParentChild_DF.index:\n",
    "        if ParentChild_DF[\"FOS_ID\"][y] == x:\n",
    "            childAtLevel3.add(ParentChild_DF[\"FOSChildID\"][y])"
   ]
  },
  {
   "cell_type": "code",
   "execution_count": 57,
   "metadata": {},
   "outputs": [
    {
     "data": {
      "text/plain": [
       "0"
      ]
     },
     "execution_count": 57,
     "metadata": {},
     "output_type": "execute_result"
    }
   ],
   "source": [
    "len(childAtLevel3)"
   ]
  },
  {
   "cell_type": "code",
   "execution_count": 58,
   "metadata": {},
   "outputs": [],
   "source": [
    "engineering_fos= list(childOfRoot[\"FOSChildID\"]) + list(childAtLevel2)"
   ]
  },
  {
   "cell_type": "code",
   "execution_count": 59,
   "metadata": {},
   "outputs": [
    {
     "data": {
      "text/plain": [
       "172"
      ]
     },
     "execution_count": 59,
     "metadata": {},
     "output_type": "execute_result"
    }
   ],
   "source": [
    "len(engineering_fos)"
   ]
  },
  {
   "cell_type": "markdown",
   "metadata": {},
   "source": [
    "## Economics 162324750"
   ]
  },
  {
   "cell_type": "code",
   "execution_count": 60,
   "metadata": {},
   "outputs": [],
   "source": [
    "childOfRoot = ParentChild_DF[ParentChild_DF[\"FOS_ID\"] == 162324750]"
   ]
  },
  {
   "cell_type": "code",
   "execution_count": 61,
   "metadata": {},
   "outputs": [
    {
     "data": {
      "text/plain": [
       "59"
      ]
     },
     "execution_count": 61,
     "metadata": {},
     "output_type": "execute_result"
    }
   ],
   "source": [
    "len(childOfRoot)"
   ]
  },
  {
   "cell_type": "code",
   "execution_count": 62,
   "metadata": {},
   "outputs": [],
   "source": [
    "#Children at level 2\n",
    "childAtLevel2 = set()\n",
    "for x in childOfRoot.index:\n",
    "    for y in ParentChild_DF.index:\n",
    "        #print(ChildFOS_df[\"FOS_ID\"][y])\n",
    "        #print(\"\\n\")\n",
    "        #print(x)\n",
    "        if ParentChild_DF[\"FOS_ID\"][y] == childOfRoot[\"FOSChildID\"][x]:\n",
    "            childAtLevel2.add(ParentChild_DF[\"FOSChildID\"][y])"
   ]
  },
  {
   "cell_type": "code",
   "execution_count": 63,
   "metadata": {},
   "outputs": [
    {
     "data": {
      "text/plain": [
       "488"
      ]
     },
     "execution_count": 63,
     "metadata": {},
     "output_type": "execute_result"
    }
   ],
   "source": [
    "len(childAtLevel2)"
   ]
  },
  {
   "cell_type": "code",
   "execution_count": 64,
   "metadata": {},
   "outputs": [],
   "source": [
    "#Children at level 3\n",
    "childAtLevel3 = set()\n",
    "for x in childAtLevel2:\n",
    "    for y in ParentChild_DF.index:\n",
    "        if ParentChild_DF[\"FOS_ID\"][y] == x:\n",
    "            childAtLevel3.add(ParentChild_DF[\"FOSChildID\"][y])"
   ]
  },
  {
   "cell_type": "code",
   "execution_count": 65,
   "metadata": {},
   "outputs": [
    {
     "data": {
      "text/plain": [
       "0"
      ]
     },
     "execution_count": 65,
     "metadata": {},
     "output_type": "execute_result"
    }
   ],
   "source": [
    "len(childAtLevel3)"
   ]
  },
  {
   "cell_type": "code",
   "execution_count": 66,
   "metadata": {},
   "outputs": [],
   "source": [
    "economics_fos= list(childOfRoot[\"FOSChildID\"]) + list(childAtLevel2)"
   ]
  },
  {
   "cell_type": "code",
   "execution_count": 67,
   "metadata": {},
   "outputs": [
    {
     "data": {
      "text/plain": [
       "547"
      ]
     },
     "execution_count": 67,
     "metadata": {},
     "output_type": "execute_result"
    }
   ],
   "source": [
    "len(economics_fos)"
   ]
  },
  {
   "cell_type": "markdown",
   "metadata": {},
   "source": [
    "## Political Science 17744445"
   ]
  },
  {
   "cell_type": "code",
   "execution_count": 68,
   "metadata": {},
   "outputs": [],
   "source": [
    "childOfRoot = ParentChild_DF[ParentChild_DF[\"FOS_ID\"] == 17744445]"
   ]
  },
  {
   "cell_type": "code",
   "execution_count": 69,
   "metadata": {},
   "outputs": [
    {
     "data": {
      "text/plain": [
       "0"
      ]
     },
     "execution_count": 69,
     "metadata": {},
     "output_type": "execute_result"
    }
   ],
   "source": [
    "len(childOfRoot)"
   ]
  },
  {
   "cell_type": "markdown",
   "metadata": {},
   "source": [
    "## Sociology 144024400"
   ]
  },
  {
   "cell_type": "code",
   "execution_count": 70,
   "metadata": {},
   "outputs": [],
   "source": [
    "childOfRoot = ParentChild_DF[ParentChild_DF[\"FOS_ID\"] == 144024400]"
   ]
  },
  {
   "cell_type": "code",
   "execution_count": 71,
   "metadata": {},
   "outputs": [
    {
     "data": {
      "text/plain": [
       "19"
      ]
     },
     "execution_count": 71,
     "metadata": {},
     "output_type": "execute_result"
    }
   ],
   "source": [
    "len(childOfRoot)"
   ]
  },
  {
   "cell_type": "code",
   "execution_count": 72,
   "metadata": {},
   "outputs": [],
   "source": [
    "#Children at level 2\n",
    "childAtLevel2 = set()\n",
    "for x in childOfRoot.index:\n",
    "    for y in ParentChild_DF.index:\n",
    "        #print(ChildFOS_df[\"FOS_ID\"][y])\n",
    "        #print(\"\\n\")\n",
    "        #print(x)\n",
    "        if ParentChild_DF[\"FOS_ID\"][y] == childOfRoot[\"FOSChildID\"][x]:\n",
    "            childAtLevel2.add(ParentChild_DF[\"FOSChildID\"][y])"
   ]
  },
  {
   "cell_type": "code",
   "execution_count": 73,
   "metadata": {},
   "outputs": [
    {
     "data": {
      "text/plain": [
       "550"
      ]
     },
     "execution_count": 73,
     "metadata": {},
     "output_type": "execute_result"
    }
   ],
   "source": [
    "len(childAtLevel2)"
   ]
  },
  {
   "cell_type": "code",
   "execution_count": 74,
   "metadata": {},
   "outputs": [],
   "source": [
    "#Children at level 3\n",
    "childAtLevel3 = set()\n",
    "for x in childAtLevel2:\n",
    "    for y in ParentChild_DF.index:\n",
    "        if ParentChild_DF[\"FOS_ID\"][y] == x:\n",
    "            childAtLevel3.add(ParentChild_DF[\"FOSChildID\"][y])"
   ]
  },
  {
   "cell_type": "code",
   "execution_count": 75,
   "metadata": {},
   "outputs": [
    {
     "data": {
      "text/plain": [
       "0"
      ]
     },
     "execution_count": 75,
     "metadata": {},
     "output_type": "execute_result"
    }
   ],
   "source": [
    "len(childAtLevel3)"
   ]
  },
  {
   "cell_type": "code",
   "execution_count": 76,
   "metadata": {},
   "outputs": [],
   "source": [
    "sociology_fos= list(childOfRoot[\"FOSChildID\"]) + list(childAtLevel2)"
   ]
  },
  {
   "cell_type": "code",
   "execution_count": 77,
   "metadata": {},
   "outputs": [
    {
     "data": {
      "text/plain": [
       "569"
      ]
     },
     "execution_count": 77,
     "metadata": {},
     "output_type": "execute_result"
    }
   ],
   "source": [
    "len(sociology_fos)"
   ]
  },
  {
   "cell_type": "markdown",
   "metadata": {},
   "source": [
    "## Biology 86803240"
   ]
  },
  {
   "cell_type": "code",
   "execution_count": 79,
   "metadata": {},
   "outputs": [],
   "source": [
    "childOfRoot = ParentChild_DF[ParentChild_DF[\"FOS_ID\"] == 86803240]"
   ]
  },
  {
   "cell_type": "code",
   "execution_count": 80,
   "metadata": {},
   "outputs": [
    {
     "data": {
      "text/plain": [
       "49"
      ]
     },
     "execution_count": 80,
     "metadata": {},
     "output_type": "execute_result"
    }
   ],
   "source": [
    "len(childOfRoot)"
   ]
  },
  {
   "cell_type": "code",
   "execution_count": 81,
   "metadata": {},
   "outputs": [],
   "source": [
    "#Children at level 2\n",
    "childAtLevel2 = set()\n",
    "for x in childOfRoot.index:\n",
    "    for y in ParentChild_DF.index:\n",
    "        #print(ChildFOS_df[\"FOS_ID\"][y])\n",
    "        #print(\"\\n\")\n",
    "        #print(x)\n",
    "        if ParentChild_DF[\"FOS_ID\"][y] == childOfRoot[\"FOSChildID\"][x]:\n",
    "            childAtLevel2.add(ParentChild_DF[\"FOSChildID\"][y])"
   ]
  },
  {
   "cell_type": "code",
   "execution_count": 82,
   "metadata": {},
   "outputs": [
    {
     "data": {
      "text/plain": [
       "450"
      ]
     },
     "execution_count": 82,
     "metadata": {},
     "output_type": "execute_result"
    }
   ],
   "source": [
    "len(childAtLevel2)"
   ]
  },
  {
   "cell_type": "code",
   "execution_count": 83,
   "metadata": {},
   "outputs": [],
   "source": [
    "#Children at level 3\n",
    "childAtLevel3 = set()\n",
    "for x in childAtLevel2:\n",
    "    for y in ParentChild_DF.index:\n",
    "        if ParentChild_DF[\"FOS_ID\"][y] == x:\n",
    "            childAtLevel3.add(ParentChild_DF[\"FOSChildID\"][y])"
   ]
  },
  {
   "cell_type": "code",
   "execution_count": 84,
   "metadata": {},
   "outputs": [
    {
     "data": {
      "text/plain": [
       "0"
      ]
     },
     "execution_count": 84,
     "metadata": {},
     "output_type": "execute_result"
    }
   ],
   "source": [
    "len(childAtLevel3)"
   ]
  },
  {
   "cell_type": "code",
   "execution_count": 85,
   "metadata": {},
   "outputs": [],
   "source": [
    "biology_fos= list(childOfRoot[\"FOSChildID\"]) + list(childAtLevel2)"
   ]
  },
  {
   "cell_type": "code",
   "execution_count": 86,
   "metadata": {},
   "outputs": [
    {
     "data": {
      "text/plain": [
       "499"
      ]
     },
     "execution_count": 86,
     "metadata": {},
     "output_type": "execute_result"
    }
   ],
   "source": [
    "len(biology_fos)"
   ]
  },
  {
   "cell_type": "markdown",
   "metadata": {},
   "source": [
    "## Environmental Science 39432304"
   ]
  },
  {
   "cell_type": "code",
   "execution_count": 87,
   "metadata": {},
   "outputs": [],
   "source": [
    "childOfRoot = ParentChild_DF[ParentChild_DF[\"FOS_ID\"] == 39432304]"
   ]
  },
  {
   "cell_type": "code",
   "execution_count": 88,
   "metadata": {},
   "outputs": [
    {
     "data": {
      "text/plain": [
       "0"
      ]
     },
     "execution_count": 88,
     "metadata": {},
     "output_type": "execute_result"
    }
   ],
   "source": [
    "len(childOfRoot)"
   ]
  },
  {
   "cell_type": "markdown",
   "metadata": {},
   "source": [
    "## ComputerScience 41008148"
   ]
  },
  {
   "cell_type": "code",
   "execution_count": 89,
   "metadata": {},
   "outputs": [],
   "source": [
    "childOfRoot = ParentChild_DF[ParentChild_DF[\"FOS_ID\"] == 41008148]"
   ]
  },
  {
   "cell_type": "code",
   "execution_count": 90,
   "metadata": {},
   "outputs": [
    {
     "data": {
      "text/plain": [
       "39"
      ]
     },
     "execution_count": 90,
     "metadata": {},
     "output_type": "execute_result"
    }
   ],
   "source": [
    "len(childOfRoot)"
   ]
  },
  {
   "cell_type": "code",
   "execution_count": 91,
   "metadata": {},
   "outputs": [],
   "source": [
    "#Children at level 2\n",
    "childAtLevel2 = set()\n",
    "for x in childOfRoot.index:\n",
    "    for y in ParentChild_DF.index:\n",
    "        #print(ChildFOS_df[\"FOS_ID\"][y])\n",
    "        #print(\"\\n\")\n",
    "        #print(x)\n",
    "        if ParentChild_DF[\"FOS_ID\"][y] == childOfRoot[\"FOSChildID\"][x]:\n",
    "            childAtLevel2.add(ParentChild_DF[\"FOSChildID\"][y])"
   ]
  },
  {
   "cell_type": "code",
   "execution_count": 92,
   "metadata": {},
   "outputs": [
    {
     "data": {
      "text/plain": [
       "350"
      ]
     },
     "execution_count": 92,
     "metadata": {},
     "output_type": "execute_result"
    }
   ],
   "source": [
    "len(childAtLevel2)"
   ]
  },
  {
   "cell_type": "code",
   "execution_count": 93,
   "metadata": {},
   "outputs": [],
   "source": [
    "#Children at level 3\n",
    "childAtLevel3 = set()\n",
    "for x in childAtLevel2:\n",
    "    for y in ParentChild_DF.index:\n",
    "        if ParentChild_DF[\"FOS_ID\"][y] == x:\n",
    "            childAtLevel3.add(ParentChild_DF[\"FOSChildID\"][y])"
   ]
  },
  {
   "cell_type": "code",
   "execution_count": 94,
   "metadata": {},
   "outputs": [
    {
     "data": {
      "text/plain": [
       "0"
      ]
     },
     "execution_count": 94,
     "metadata": {},
     "output_type": "execute_result"
    }
   ],
   "source": [
    "len(childAtLevel3)"
   ]
  },
  {
   "cell_type": "code",
   "execution_count": 95,
   "metadata": {},
   "outputs": [],
   "source": [
    "compScience_fos= list(childOfRoot[\"FOSChildID\"]) + list(childAtLevel2)"
   ]
  },
  {
   "cell_type": "code",
   "execution_count": 96,
   "metadata": {},
   "outputs": [
    {
     "data": {
      "text/plain": [
       "389"
      ]
     },
     "execution_count": 96,
     "metadata": {},
     "output_type": "execute_result"
    }
   ],
   "source": [
    "len(compScience_fos)"
   ]
  },
  {
   "cell_type": "markdown",
   "metadata": {},
   "source": [
    "## Psychology 15744967"
   ]
  },
  {
   "cell_type": "code",
   "execution_count": 98,
   "metadata": {},
   "outputs": [],
   "source": [
    "childOfRoot = ParentChild_DF[ParentChild_DF[\"FOS_ID\"] == 15744967]"
   ]
  },
  {
   "cell_type": "code",
   "execution_count": 99,
   "metadata": {},
   "outputs": [
    {
     "data": {
      "text/plain": [
       "10"
      ]
     },
     "execution_count": 99,
     "metadata": {},
     "output_type": "execute_result"
    }
   ],
   "source": [
    "len(childOfRoot)"
   ]
  },
  {
   "cell_type": "code",
   "execution_count": 100,
   "metadata": {},
   "outputs": [],
   "source": [
    "#Children at level 2\n",
    "childAtLevel2 = set()\n",
    "for x in childOfRoot.index:\n",
    "    for y in ParentChild_DF.index:\n",
    "        #print(ChildFOS_df[\"FOS_ID\"][y])\n",
    "        #print(\"\\n\")\n",
    "        #print(x)\n",
    "        if ParentChild_DF[\"FOS_ID\"][y] == childOfRoot[\"FOSChildID\"][x]:\n",
    "            childAtLevel2.add(ParentChild_DF[\"FOSChildID\"][y])"
   ]
  },
  {
   "cell_type": "code",
   "execution_count": 101,
   "metadata": {},
   "outputs": [
    {
     "data": {
      "text/plain": [
       "234"
      ]
     },
     "execution_count": 101,
     "metadata": {},
     "output_type": "execute_result"
    }
   ],
   "source": [
    "len(childAtLevel2)"
   ]
  },
  {
   "cell_type": "code",
   "execution_count": 102,
   "metadata": {},
   "outputs": [],
   "source": [
    "#Children at level 3\n",
    "childAtLevel3 = set()\n",
    "for x in childAtLevel2:\n",
    "    for y in ParentChild_DF.index:\n",
    "        if ParentChild_DF[\"FOS_ID\"][y] == x:\n",
    "            childAtLevel3.add(ParentChild_DF[\"FOSChildID\"][y])"
   ]
  },
  {
   "cell_type": "code",
   "execution_count": 103,
   "metadata": {},
   "outputs": [
    {
     "data": {
      "text/plain": [
       "0"
      ]
     },
     "execution_count": 103,
     "metadata": {},
     "output_type": "execute_result"
    }
   ],
   "source": [
    "len(childAtLevel3)"
   ]
  },
  {
   "cell_type": "code",
   "execution_count": 104,
   "metadata": {},
   "outputs": [],
   "source": [
    "psychology_fos= list(childOfRoot[\"FOSChildID\"]) + list(childAtLevel2)"
   ]
  },
  {
   "cell_type": "code",
   "execution_count": 105,
   "metadata": {},
   "outputs": [
    {
     "data": {
      "text/plain": [
       "244"
      ]
     },
     "execution_count": 105,
     "metadata": {},
     "output_type": "execute_result"
    }
   ],
   "source": [
    "len(psychology_fos)"
   ]
  },
  {
   "cell_type": "markdown",
   "metadata": {},
   "source": [
    "## Mathematics 33923547"
   ]
  },
  {
   "cell_type": "code",
   "execution_count": 106,
   "metadata": {},
   "outputs": [],
   "source": [
    "childOfRoot = ParentChild_DF[ParentChild_DF[\"FOS_ID\"] == 33923547]"
   ]
  },
  {
   "cell_type": "code",
   "execution_count": 107,
   "metadata": {},
   "outputs": [
    {
     "data": {
      "text/plain": [
       "22"
      ]
     },
     "execution_count": 107,
     "metadata": {},
     "output_type": "execute_result"
    }
   ],
   "source": [
    "len(childOfRoot)"
   ]
  },
  {
   "cell_type": "code",
   "execution_count": 108,
   "metadata": {},
   "outputs": [],
   "source": [
    "#Children at level 2\n",
    "childAtLevel2 = set()\n",
    "for x in childOfRoot.index:\n",
    "    for y in ParentChild_DF.index:\n",
    "        #print(ChildFOS_df[\"FOS_ID\"][y])\n",
    "        #print(\"\\n\")\n",
    "        #print(x)\n",
    "        if ParentChild_DF[\"FOS_ID\"][y] == childOfRoot[\"FOSChildID\"][x]:\n",
    "            childAtLevel2.add(ParentChild_DF[\"FOSChildID\"][y])"
   ]
  },
  {
   "cell_type": "code",
   "execution_count": 109,
   "metadata": {},
   "outputs": [
    {
     "data": {
      "text/plain": [
       "181"
      ]
     },
     "execution_count": 109,
     "metadata": {},
     "output_type": "execute_result"
    }
   ],
   "source": [
    "len(childAtLevel2)"
   ]
  },
  {
   "cell_type": "code",
   "execution_count": 110,
   "metadata": {},
   "outputs": [],
   "source": [
    "#Children at level 3\n",
    "childAtLevel3 = set()\n",
    "for x in childAtLevel2:\n",
    "    for y in ParentChild_DF.index:\n",
    "        if ParentChild_DF[\"FOS_ID\"][y] == x:\n",
    "            childAtLevel3.add(ParentChild_DF[\"FOSChildID\"][y])"
   ]
  },
  {
   "cell_type": "code",
   "execution_count": 111,
   "metadata": {},
   "outputs": [
    {
     "data": {
      "text/plain": [
       "0"
      ]
     },
     "execution_count": 111,
     "metadata": {},
     "output_type": "execute_result"
    }
   ],
   "source": [
    "len(childAtLevel3)"
   ]
  },
  {
   "cell_type": "code",
   "execution_count": 112,
   "metadata": {},
   "outputs": [],
   "source": [
    "mathematics_fos= list(childOfRoot[\"FOSChildID\"]) + list(childAtLevel2)"
   ]
  },
  {
   "cell_type": "code",
   "execution_count": 113,
   "metadata": {},
   "outputs": [
    {
     "data": {
      "text/plain": [
       "203"
      ]
     },
     "execution_count": 113,
     "metadata": {},
     "output_type": "execute_result"
    }
   ],
   "source": [
    "len(mathematics_fos)"
   ]
  },
  {
   "cell_type": "markdown",
   "metadata": {},
   "source": [
    "## Material Science 192562407"
   ]
  },
  {
   "cell_type": "code",
   "execution_count": 114,
   "metadata": {},
   "outputs": [],
   "source": [
    "childOfRoot = ParentChild_DF[ParentChild_DF[\"FOS_ID\"] == 192562407]"
   ]
  },
  {
   "cell_type": "code",
   "execution_count": 115,
   "metadata": {},
   "outputs": [
    {
     "data": {
      "text/plain": [
       "4"
      ]
     },
     "execution_count": 115,
     "metadata": {},
     "output_type": "execute_result"
    }
   ],
   "source": [
    "len(childOfRoot)"
   ]
  },
  {
   "cell_type": "code",
   "execution_count": 116,
   "metadata": {},
   "outputs": [],
   "source": [
    "#Children at level 2\n",
    "childAtLevel2 = set()\n",
    "for x in childOfRoot.index:\n",
    "    for y in ParentChild_DF.index:\n",
    "        #print(ChildFOS_df[\"FOS_ID\"][y])\n",
    "        #print(\"\\n\")\n",
    "        #print(x)\n",
    "        if ParentChild_DF[\"FOS_ID\"][y] == childOfRoot[\"FOSChildID\"][x]:\n",
    "            childAtLevel2.add(ParentChild_DF[\"FOSChildID\"][y])"
   ]
  },
  {
   "cell_type": "code",
   "execution_count": 117,
   "metadata": {},
   "outputs": [
    {
     "data": {
      "text/plain": [
       "7"
      ]
     },
     "execution_count": 117,
     "metadata": {},
     "output_type": "execute_result"
    }
   ],
   "source": [
    "len(childAtLevel2)"
   ]
  },
  {
   "cell_type": "code",
   "execution_count": 118,
   "metadata": {},
   "outputs": [],
   "source": [
    "#Children at level 3\n",
    "childAtLevel3 = set()\n",
    "for x in childAtLevel2:\n",
    "    for y in ParentChild_DF.index:\n",
    "        if ParentChild_DF[\"FOS_ID\"][y] == x:\n",
    "            childAtLevel3.add(ParentChild_DF[\"FOSChildID\"][y])"
   ]
  },
  {
   "cell_type": "code",
   "execution_count": 119,
   "metadata": {},
   "outputs": [
    {
     "data": {
      "text/plain": [
       "0"
      ]
     },
     "execution_count": 119,
     "metadata": {},
     "output_type": "execute_result"
    }
   ],
   "source": [
    "len(childAtLevel3)"
   ]
  },
  {
   "cell_type": "code",
   "execution_count": 120,
   "metadata": {},
   "outputs": [],
   "source": [
    "materialScience_fos= list(childOfRoot[\"FOSChildID\"]) + list(childAtLevel2)"
   ]
  },
  {
   "cell_type": "code",
   "execution_count": 121,
   "metadata": {},
   "outputs": [
    {
     "data": {
      "text/plain": [
       "11"
      ]
     },
     "execution_count": 121,
     "metadata": {},
     "output_type": "execute_result"
    }
   ],
   "source": [
    "len(materialScience_fos)"
   ]
  },
  {
   "cell_type": "markdown",
   "metadata": {},
   "source": [
    "## Geology 127313418"
   ]
  },
  {
   "cell_type": "code",
   "execution_count": 130,
   "metadata": {},
   "outputs": [],
   "source": [
    "childOfRoot = ParentChild_DF[ParentChild_DF.FOS_ID == 127313418]##parent level"
   ]
  },
  {
   "cell_type": "code",
   "execution_count": 131,
   "metadata": {},
   "outputs": [
    {
     "data": {
      "text/plain": [
       "22"
      ]
     },
     "execution_count": 131,
     "metadata": {},
     "output_type": "execute_result"
    }
   ],
   "source": [
    "len(childOfRoot)"
   ]
  },
  {
   "cell_type": "code",
   "execution_count": 132,
   "metadata": {},
   "outputs": [],
   "source": [
    "#Children at level 2\n",
    "childAtLevel2 = set()\n",
    "for x in childOfRoot.index:\n",
    "    for y in ParentChild_DF.index:\n",
    "        #print(ChildFOS_df[\"FOS_ID\"][y])\n",
    "        #print(\"\\n\")\n",
    "        #print(x)\n",
    "        if ParentChild_DF[\"FOS_ID\"][y] == childOfRoot[\"FOSChildID\"][x]:\n",
    "            childAtLevel2.add(ParentChild_DF[\"FOSChildID\"][y])"
   ]
  },
  {
   "cell_type": "code",
   "execution_count": 133,
   "metadata": {},
   "outputs": [
    {
     "data": {
      "text/plain": [
       "148"
      ]
     },
     "execution_count": 133,
     "metadata": {},
     "output_type": "execute_result"
    }
   ],
   "source": [
    "len(childAtLevel2)"
   ]
  },
  {
   "cell_type": "code",
   "execution_count": 134,
   "metadata": {},
   "outputs": [],
   "source": [
    "\n",
    "childAtLevel3 = []\n",
    "for x in childAtLevel2:\n",
    "    #print(x)\n",
    "    for y in ParentChild_DF.index:\n",
    "        \n",
    "       # print(type(ChildFOS_df[\"FOS_ID\"][y]))\n",
    "        if ParentChild_DF[\"FOS_ID\"][y] == x:            \n",
    "            childAtLevel3.append(ParentChild_DF[\"FOSChildID\"][y])"
   ]
  },
  {
   "cell_type": "code",
   "execution_count": 135,
   "metadata": {},
   "outputs": [
    {
     "data": {
      "text/plain": [
       "0"
      ]
     },
     "execution_count": 135,
     "metadata": {},
     "output_type": "execute_result"
    }
   ],
   "source": [
    "len(childAtLevel3)"
   ]
  },
  {
   "cell_type": "code",
   "execution_count": 136,
   "metadata": {},
   "outputs": [],
   "source": [
    "geology_fos= list(childOfRoot[\"FOSChildID\"]) + list(childAtLevel2)"
   ]
  },
  {
   "cell_type": "code",
   "execution_count": 137,
   "metadata": {},
   "outputs": [
    {
     "data": {
      "text/plain": [
       "170"
      ]
     },
     "execution_count": 137,
     "metadata": {},
     "output_type": "execute_result"
    }
   ],
   "source": [
    "len(geology_fos)"
   ]
  },
  {
   "cell_type": "markdown",
   "metadata": {},
   "source": [
    "## Art 142362112"
   ]
  },
  {
   "cell_type": "code",
   "execution_count": 138,
   "metadata": {},
   "outputs": [],
   "source": [
    "childOfRoot = ParentChild_DF[ParentChild_DF[\"FOS_ID\"] == 142362112]"
   ]
  },
  {
   "cell_type": "code",
   "execution_count": 139,
   "metadata": {},
   "outputs": [
    {
     "data": {
      "text/plain": [
       "6"
      ]
     },
     "execution_count": 139,
     "metadata": {},
     "output_type": "execute_result"
    }
   ],
   "source": [
    "len(childOfRoot)"
   ]
  },
  {
   "cell_type": "code",
   "execution_count": 140,
   "metadata": {},
   "outputs": [],
   "source": [
    "#Children at level 2\n",
    "childAtLevel2 = set()\n",
    "for x in childOfRoot.index:\n",
    "    for y in ParentChild_DF.index:\n",
    "        #print(ChildFOS_df[\"FOS_ID\"][y])\n",
    "        #print(\"\\n\")\n",
    "        #print(x)\n",
    "        if ParentChild_DF[\"FOS_ID\"][y] == childOfRoot[\"FOSChildID\"][x]:\n",
    "            childAtLevel2.add(ParentChild_DF[\"FOSChildID\"][y])\n",
    "            "
   ]
  },
  {
   "cell_type": "code",
   "execution_count": 141,
   "metadata": {},
   "outputs": [
    {
     "data": {
      "text/plain": [
       "112"
      ]
     },
     "execution_count": 141,
     "metadata": {},
     "output_type": "execute_result"
    }
   ],
   "source": [
    "len(childAtLevel2)"
   ]
  },
  {
   "cell_type": "code",
   "execution_count": 142,
   "metadata": {},
   "outputs": [],
   "source": [
    "#Children at level 3\n",
    "childAtLevel3 = set()\n",
    "for x in childAtLevel2:\n",
    "    for y in ParentChild_DF.index:\n",
    "        if ParentChild_DF[\"FOS_ID\"][y] == x:\n",
    "            childAtLevel3.add(ParentChild_DF[\"FOSChildID\"][y])"
   ]
  },
  {
   "cell_type": "code",
   "execution_count": 143,
   "metadata": {},
   "outputs": [
    {
     "data": {
      "text/plain": [
       "0"
      ]
     },
     "execution_count": 143,
     "metadata": {},
     "output_type": "execute_result"
    }
   ],
   "source": [
    "len(childAtLevel3)"
   ]
  },
  {
   "cell_type": "code",
   "execution_count": 144,
   "metadata": {},
   "outputs": [],
   "source": [
    "art_fos= list(childOfRoot[\"FOSChildID\"]) + list(childAtLevel2)"
   ]
  },
  {
   "cell_type": "code",
   "execution_count": 145,
   "metadata": {},
   "outputs": [
    {
     "data": {
      "text/plain": [
       "118"
      ]
     },
     "execution_count": 145,
     "metadata": {},
     "output_type": "execute_result"
    }
   ],
   "source": [
    "len(art_fos)"
   ]
  },
  {
   "cell_type": "markdown",
   "metadata": {},
   "source": [
    "## Chemistry 185592680"
   ]
  },
  {
   "cell_type": "code",
   "execution_count": 146,
   "metadata": {},
   "outputs": [],
   "source": [
    "childOfRoot = ParentChild_DF[ParentChild_DF[\"FOS_ID\"] == 185592680]"
   ]
  },
  {
   "cell_type": "code",
   "execution_count": 147,
   "metadata": {},
   "outputs": [
    {
     "data": {
      "text/plain": [
       "26"
      ]
     },
     "execution_count": 147,
     "metadata": {},
     "output_type": "execute_result"
    }
   ],
   "source": [
    "len(childOfRoot)"
   ]
  },
  {
   "cell_type": "code",
   "execution_count": 148,
   "metadata": {},
   "outputs": [],
   "source": [
    "#Children at level 2\n",
    "childAtLevel2 = set()\n",
    "for x in childOfRoot.index:\n",
    "    for y in ParentChild_DF.index:\n",
    "        #print(ChildFOS_df[\"FOS_ID\"][y])\n",
    "        #print(\"\\n\")\n",
    "        #print(x)\n",
    "        if ParentChild_DF[\"FOS_ID\"][y] == childOfRoot[\"FOSChildID\"][x]:\n",
    "            childAtLevel2.add(ParentChild_DF[\"FOSChildID\"][y])"
   ]
  },
  {
   "cell_type": "code",
   "execution_count": 149,
   "metadata": {},
   "outputs": [
    {
     "data": {
      "text/plain": [
       "110"
      ]
     },
     "execution_count": 149,
     "metadata": {},
     "output_type": "execute_result"
    }
   ],
   "source": [
    "len(childAtLevel2)"
   ]
  },
  {
   "cell_type": "code",
   "execution_count": 150,
   "metadata": {},
   "outputs": [],
   "source": [
    "#Children at level 3\n",
    "childAtLevel3 = set()\n",
    "for x in childAtLevel2:\n",
    "    for y in ParentChild_DF.index:\n",
    "        if ParentChild_DF[\"FOS_ID\"][y] == x:\n",
    "            childAtLevel3.add(ParentChild_DF[\"FOSChildID\"][y])"
   ]
  },
  {
   "cell_type": "code",
   "execution_count": 151,
   "metadata": {},
   "outputs": [
    {
     "data": {
      "text/plain": [
       "0"
      ]
     },
     "execution_count": 151,
     "metadata": {},
     "output_type": "execute_result"
    }
   ],
   "source": [
    "len(childAtLevel3)"
   ]
  },
  {
   "cell_type": "code",
   "execution_count": 152,
   "metadata": {},
   "outputs": [],
   "source": [
    "chemistry_fos= list(childOfRoot[\"FOSChildID\"]) + list(childAtLevel2)"
   ]
  },
  {
   "cell_type": "code",
   "execution_count": 153,
   "metadata": {},
   "outputs": [
    {
     "data": {
      "text/plain": [
       "136"
      ]
     },
     "execution_count": 153,
     "metadata": {},
     "output_type": "execute_result"
    }
   ],
   "source": [
    "len(chemistry_fos)"
   ]
  },
  {
   "cell_type": "markdown",
   "metadata": {},
   "source": [
    "## Physics 121332964"
   ]
  },
  {
   "cell_type": "code",
   "execution_count": 154,
   "metadata": {},
   "outputs": [],
   "source": [
    "childOfRoot = ParentChild_DF[ParentChild_DF[\"FOS_ID\"] == 121332964]"
   ]
  },
  {
   "cell_type": "code",
   "execution_count": 155,
   "metadata": {},
   "outputs": [
    {
     "data": {
      "text/plain": [
       "42"
      ]
     },
     "execution_count": 155,
     "metadata": {},
     "output_type": "execute_result"
    }
   ],
   "source": [
    "len(childOfRoot)"
   ]
  },
  {
   "cell_type": "code",
   "execution_count": 156,
   "metadata": {},
   "outputs": [],
   "source": [
    "#Children at level 2\n",
    "childAtLevel2 = set()\n",
    "for x in childOfRoot.index:\n",
    "    for y in ParentChild_DF.index:\n",
    "        #print(ChildFOS_df[\"FOS_ID\"][y])\n",
    "        #print(\"\\n\")\n",
    "        #print(x)\n",
    "        if ParentChild_DF[\"FOS_ID\"][y] == childOfRoot[\"FOSChildID\"][x]:\n",
    "            childAtLevel2.add(ParentChild_DF[\"FOSChildID\"][y])"
   ]
  },
  {
   "cell_type": "code",
   "execution_count": 157,
   "metadata": {},
   "outputs": [
    {
     "data": {
      "text/plain": [
       "229"
      ]
     },
     "execution_count": 157,
     "metadata": {},
     "output_type": "execute_result"
    }
   ],
   "source": [
    "len(childAtLevel2)"
   ]
  },
  {
   "cell_type": "code",
   "execution_count": 158,
   "metadata": {},
   "outputs": [],
   "source": [
    "physics_fos= list(childOfRoot[\"FOSChildID\"]) + list(childAtLevel2)"
   ]
  },
  {
   "cell_type": "markdown",
   "metadata": {},
   "source": [
    "## Create a segregated csv with all list of FOS "
   ]
  },
  {
   "cell_type": "code",
   "execution_count": 160,
   "metadata": {},
   "outputs": [],
   "source": [
    "import pandas as pd"
   ]
  },
  {
   "cell_type": "code",
   "execution_count": 165,
   "metadata": {},
   "outputs": [],
   "source": [
    "cols = ['FOS_ID', 'Domain']\n",
    "segregated_df = pd.DataFrame(columns=cols)\n"
   ]
  },
  {
   "cell_type": "code",
   "execution_count": 172,
   "metadata": {},
   "outputs": [],
   "source": [
    "fos=[\"history_fos\",\"business_fos\",\"geography_fos\",\"philosophy_fos\",\"medicine_fos\",\"engineering_fos\",\"economics_fos\", \\\n",
    "     \"sociology_fos\",\"biology_fos\",\"compScience_fos\",\"psychology_fos\",\"mathematics_fos\",\"materialScience_fos\", \\\n",
    "        \"geology_fos\",\"art_fos\",\"chemistry_fos\",\"physics_fos\"]\n",
    "domain_name = [\"History\",\"Business\",\"Geography\",\"Philosophy\",\"Medicine\",\"Engineering\",\"Economics\",\"Sociology\",\"Biology\", \\\n",
    "          \"ComputerScience\",\"Psychology\",\"Mathematics\",\"MaterialScience\",\"Geology\",\"Art\",\"Chemistry\",\"Physics\"]\n",
    "\n",
    "    "
   ]
  },
  {
   "cell_type": "code",
   "execution_count": 182,
   "metadata": {},
   "outputs": [],
   "source": [
    "rows = []\n",
    "for i in range(len(history_fos)):        \n",
    "         rows.append([history_fos[i], \"History\"])\n",
    "for i in range(len(business_fos)):        \n",
    "         rows.append([business_fos[i], \"Business\"])\n",
    "for i in range(len(geography_fos)):        \n",
    "         rows.append([geography_fos[i], \"Geography\"])\n",
    "for i in range(len(philosophy_fos)):        \n",
    "         rows.append([philosophy_fos[i], \"Philosophy\"])\n",
    "for i in range(len(medicine_fos)):        \n",
    "         rows.append([medicine_fos[i], \"Medicine\"])\n",
    "for i in range(len(engineering_fos)):        \n",
    "         rows.append([engineering_fos[i], \"Engineering\"])\n",
    "for i in range(len(economics_fos)):        \n",
    "         rows.append([economics_fos[i], \"Economics\"])\n",
    "for i in range(len(sociology_fos)):        \n",
    "         rows.append([sociology_fos[i], \"Sociology\"])\n",
    "for i in range(len(biology_fos)):        \n",
    "         rows.append([biology_fos[i], \"Biology\"])\n",
    "for i in range(len(compScience_fos)):        \n",
    "         rows.append([compScience_fos[i], \"ComputerScience\"])\n",
    "for i in range(len(psychology_fos)):        \n",
    "         rows.append([psychology_fos[i], \"Psychology\"])\n",
    "for i in range(len(mathematics_fos)):        \n",
    "         rows.append([mathematics_fos[i], \"Mathematics\"])\n",
    "for i in range(len(materialScience_fos)):        \n",
    "         rows.append([materialScience_fos[i], \"MaterialScience\"])\n",
    "for i in range(len(geology_fos)):        \n",
    "         rows.append([geology_fos[i], \"Geology\"])\n",
    "for i in range(len(art_fos)):        \n",
    "         rows.append([art_fos[i], \"Art\"])\n",
    "for i in range(len(chemistry_fos)):        \n",
    "         rows.append([chemistry_fos[i], \"Chemistry\"])\n",
    "for i in range(len(physics_fos)):        \n",
    "         rows.append([physics_fos[i], \"Physics\"])"
   ]
  },
  {
   "cell_type": "code",
   "execution_count": 183,
   "metadata": {},
   "outputs": [
    {
     "data": {
      "text/plain": [
       "4255"
      ]
     },
     "execution_count": 183,
     "metadata": {},
     "output_type": "execute_result"
    }
   ],
   "source": [
    "len(rows)"
   ]
  },
  {
   "cell_type": "code",
   "execution_count": 184,
   "metadata": {},
   "outputs": [],
   "source": [
    "df = pd.DataFrame(rows, columns=['FOS_ID', 'Domain'])"
   ]
  },
  {
   "cell_type": "code",
   "execution_count": 186,
   "metadata": {},
   "outputs": [
    {
     "data": {
      "text/html": [
       "<div>\n",
       "<style scoped>\n",
       "    .dataframe tbody tr th:only-of-type {\n",
       "        vertical-align: middle;\n",
       "    }\n",
       "\n",
       "    .dataframe tbody tr th {\n",
       "        vertical-align: top;\n",
       "    }\n",
       "\n",
       "    .dataframe thead th {\n",
       "        text-align: right;\n",
       "    }\n",
       "</style>\n",
       "<table border=\"1\" class=\"dataframe\">\n",
       "  <thead>\n",
       "    <tr style=\"text-align: right;\">\n",
       "      <th></th>\n",
       "      <th>FOS_ID</th>\n",
       "      <th>Domain</th>\n",
       "    </tr>\n",
       "  </thead>\n",
       "  <tbody>\n",
       "    <tr>\n",
       "      <th>200</th>\n",
       "      <td>76458491</td>\n",
       "      <td>History</td>\n",
       "    </tr>\n",
       "    <tr>\n",
       "      <th>201</th>\n",
       "      <td>86565373</td>\n",
       "      <td>History</td>\n",
       "    </tr>\n",
       "    <tr>\n",
       "      <th>202</th>\n",
       "      <td>112698675</td>\n",
       "      <td>Business</td>\n",
       "    </tr>\n",
       "    <tr>\n",
       "      <th>203</th>\n",
       "      <td>162853370</td>\n",
       "      <td>Business</td>\n",
       "    </tr>\n",
       "    <tr>\n",
       "      <th>204</th>\n",
       "      <td>163442688</td>\n",
       "      <td>Business</td>\n",
       "    </tr>\n",
       "    <tr>\n",
       "      <th>205</th>\n",
       "      <td>98495876</td>\n",
       "      <td>Business</td>\n",
       "    </tr>\n",
       "    <tr>\n",
       "      <th>206</th>\n",
       "      <td>127107974</td>\n",
       "      <td>Business</td>\n",
       "    </tr>\n",
       "    <tr>\n",
       "      <th>207</th>\n",
       "      <td>106201281</td>\n",
       "      <td>Business</td>\n",
       "    </tr>\n",
       "    <tr>\n",
       "      <th>208</th>\n",
       "      <td>48891531</td>\n",
       "      <td>Business</td>\n",
       "    </tr>\n",
       "    <tr>\n",
       "      <th>209</th>\n",
       "      <td>37662734</td>\n",
       "      <td>Business</td>\n",
       "    </tr>\n",
       "    <tr>\n",
       "      <th>210</th>\n",
       "      <td>121615247</td>\n",
       "      <td>Business</td>\n",
       "    </tr>\n",
       "    <tr>\n",
       "      <th>211</th>\n",
       "      <td>12718992</td>\n",
       "      <td>Business</td>\n",
       "    </tr>\n",
       "    <tr>\n",
       "      <th>212</th>\n",
       "      <td>12532035</td>\n",
       "      <td>Business</td>\n",
       "    </tr>\n",
       "    <tr>\n",
       "      <th>213</th>\n",
       "      <td>159517358</td>\n",
       "      <td>Business</td>\n",
       "    </tr>\n",
       "    <tr>\n",
       "      <th>214</th>\n",
       "      <td>48243021</td>\n",
       "      <td>Business</td>\n",
       "    </tr>\n",
       "    <tr>\n",
       "      <th>215</th>\n",
       "      <td>24373527</td>\n",
       "      <td>Business</td>\n",
       "    </tr>\n",
       "    <tr>\n",
       "      <th>216</th>\n",
       "      <td>44104985</td>\n",
       "      <td>Business</td>\n",
       "    </tr>\n",
       "    <tr>\n",
       "      <th>217</th>\n",
       "      <td>78285338</td>\n",
       "      <td>Business</td>\n",
       "    </tr>\n",
       "    <tr>\n",
       "      <th>218</th>\n",
       "      <td>139749660</td>\n",
       "      <td>Business</td>\n",
       "    </tr>\n",
       "    <tr>\n",
       "      <th>219</th>\n",
       "      <td>186037533</td>\n",
       "      <td>Business</td>\n",
       "    </tr>\n",
       "  </tbody>\n",
       "</table>\n",
       "</div>"
      ],
      "text/plain": [
       "        FOS_ID    Domain\n",
       "200   76458491   History\n",
       "201   86565373   History\n",
       "202  112698675  Business\n",
       "203  162853370  Business\n",
       "204  163442688  Business\n",
       "205   98495876  Business\n",
       "206  127107974  Business\n",
       "207  106201281  Business\n",
       "208   48891531  Business\n",
       "209   37662734  Business\n",
       "210  121615247  Business\n",
       "211   12718992  Business\n",
       "212   12532035  Business\n",
       "213  159517358  Business\n",
       "214   48243021  Business\n",
       "215   24373527  Business\n",
       "216   44104985  Business\n",
       "217   78285338  Business\n",
       "218  139749660  Business\n",
       "219  186037533  Business"
      ]
     },
     "execution_count": 186,
     "metadata": {},
     "output_type": "execute_result"
    }
   ],
   "source": [
    "df[200:220]"
   ]
  },
  {
   "cell_type": "code",
   "execution_count": 191,
   "metadata": {},
   "outputs": [],
   "source": [
    "df.to_csv(r'FOSDomains.csv',index=False)"
   ]
  },
  {
   "cell_type": "code",
   "execution_count": 192,
   "metadata": {},
   "outputs": [],
   "source": [
    "df2 = pd.read_csv(\"FOSDomains.csv\")"
   ]
  },
  {
   "cell_type": "code",
   "execution_count": 193,
   "metadata": {},
   "outputs": [
    {
     "data": {
      "text/html": [
       "<div>\n",
       "<style scoped>\n",
       "    .dataframe tbody tr th:only-of-type {\n",
       "        vertical-align: middle;\n",
       "    }\n",
       "\n",
       "    .dataframe tbody tr th {\n",
       "        vertical-align: top;\n",
       "    }\n",
       "\n",
       "    .dataframe thead th {\n",
       "        text-align: right;\n",
       "    }\n",
       "</style>\n",
       "<table border=\"1\" class=\"dataframe\">\n",
       "  <thead>\n",
       "    <tr style=\"text-align: right;\">\n",
       "      <th></th>\n",
       "      <th>FOS_ID</th>\n",
       "      <th>Domain</th>\n",
       "    </tr>\n",
       "  </thead>\n",
       "  <tbody>\n",
       "    <tr>\n",
       "      <th>0</th>\n",
       "      <td>19165224</td>\n",
       "      <td>History</td>\n",
       "    </tr>\n",
       "    <tr>\n",
       "      <th>1</th>\n",
       "      <td>166957645</td>\n",
       "      <td>History</td>\n",
       "    </tr>\n",
       "    <tr>\n",
       "      <th>2</th>\n",
       "      <td>53553401</td>\n",
       "      <td>History</td>\n",
       "    </tr>\n",
       "    <tr>\n",
       "      <th>3</th>\n",
       "      <td>74916050</td>\n",
       "      <td>History</td>\n",
       "    </tr>\n",
       "    <tr>\n",
       "      <th>4</th>\n",
       "      <td>2549261</td>\n",
       "      <td>History</td>\n",
       "    </tr>\n",
       "  </tbody>\n",
       "</table>\n",
       "</div>"
      ],
      "text/plain": [
       "      FOS_ID   Domain\n",
       "0   19165224  History\n",
       "1  166957645  History\n",
       "2   53553401  History\n",
       "3   74916050  History\n",
       "4    2549261  History"
      ]
     },
     "execution_count": 193,
     "metadata": {},
     "output_type": "execute_result"
    }
   ],
   "source": [
    "df2.head()"
   ]
  },
  {
   "cell_type": "code",
   "execution_count": null,
   "metadata": {},
   "outputs": [],
   "source": []
  }
 ],
 "metadata": {
  "kernelspec": {
   "display_name": "Python 2",
   "language": "python",
   "name": "python2"
  },
  "language_info": {
   "codemirror_mode": {
    "name": "ipython",
    "version": 2
   },
   "file_extension": ".py",
   "mimetype": "text/x-python",
   "name": "python",
   "nbconvert_exporter": "python",
   "pygments_lexer": "ipython2",
   "version": "2.7.15rc1"
  }
 },
 "nbformat": 4,
 "nbformat_minor": 2
}
