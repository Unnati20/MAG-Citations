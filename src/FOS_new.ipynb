{
 "cells": [
  {
   "cell_type": "code",
   "execution_count": 1,
   "metadata": {},
   "outputs": [],
   "source": [
    "import findspark\n",
    "findspark.init('/home/sdmohant/spark-3.0.0-bin-hadoop2.7')"
   ]
  },
  {
   "cell_type": "code",
   "execution_count": 2,
   "metadata": {},
   "outputs": [],
   "source": [
    "import pyspark\n",
    "from pyspark import SparkContext,SparkConf"
   ]
  },
  {
   "cell_type": "code",
   "execution_count": 3,
   "metadata": {},
   "outputs": [],
   "source": [
    "from pyspark.sql import SparkSession"
   ]
  },
  {
   "cell_type": "code",
   "execution_count": 4,
   "metadata": {},
   "outputs": [
    {
     "name": "stderr",
     "output_type": "stream",
     "text": [
      "/home/sdmohant/spark-3.0.0-bin-hadoop2.7/python/pyspark/context.py:220: DeprecationWarning: Support for Python 2 and Python 3 prior to version 3.6 is deprecated as of Spark 3.0. See also the plan for dropping Python 2 support at https://spark.apache.org/news/plan-for-dropping-python-2-support.html.\n",
      "  DeprecationWarning)\n"
     ]
    }
   ],
   "source": [
    "#spark = SparkSession.builder.appName(\"MyApp\").getOrCreate()\n",
    "#spark = SparkSession.builder.appName(\"MyName\").getOrCreate()\n",
    "conf = SparkConf().set(\"spark.cores.max\", \"16\") \\\n",
    "    .set(\"spark.driver.memory\", \"16g\") \\\n",
    "    .set(\"spark.executor.memory\", \"16g\") \\\n",
    "    .set(\"spark.executor.memory_overhead\", \"16g\") \\\n",
    "    .set(\"spark.driver.maxResultsSize\", \"4g\") \\\n",
    "    .set(\"spark.sql.shuffle.partitions\",\"300\")\n",
    "\n",
    "sc = SparkContext(appName=\"newApp\", conf=conf)\n",
    "spark = SparkSession(sc)"
   ]
  },
  {
   "cell_type": "code",
   "execution_count": 5,
   "metadata": {},
   "outputs": [],
   "source": [
    "from pyspark.sql.functions import isnan, count, col, when\n",
    "from pyspark.sql.types import *"
   ]
  },
  {
   "cell_type": "markdown",
   "metadata": {},
   "source": [
    "## FieldsOfStudy"
   ]
  },
  {
   "cell_type": "code",
   "execution_count": 6,
   "metadata": {},
   "outputs": [],
   "source": [
    "FOS_DF = spark.read.options(header= True,inferSchema=True,delimiter=\",\").csv(\"FOS.csv\")"
   ]
  },
  {
   "cell_type": "code",
   "execution_count": 7,
   "metadata": {},
   "outputs": [
    {
     "name": "stdout",
     "output_type": "stream",
     "text": [
      "+----------+-------+-----------------+--------------+---------------+-------------+----------------+\n",
      "|    FOS_ID|FOSRank|FOSNormalizedName|FOSDisplayName|FOSDisplayLevel|FOSPaperCount|FOSCitationCount|\n",
      "+----------+-------+-----------------+--------------+---------------+-------------+----------------+\n",
      "|2775844904|  14256|            enmap|         EnMAP|              3|          149|            1006|\n",
      "|2775859947|  25000|     least darter|  Least darter|              3|            8|              40|\n",
      "+----------+-------+-----------------+--------------+---------------+-------------+----------------+\n",
      "only showing top 2 rows\n",
      "\n"
     ]
    }
   ],
   "source": [
    "FOS_DF.show(2)"
   ]
  },
  {
   "cell_type": "code",
   "execution_count": 8,
   "metadata": {},
   "outputs": [],
   "source": [
    "FOS_zero = FOS_DF.filter(\"FOSDisplayLevel == 0\").collect()"
   ]
  },
  {
   "cell_type": "code",
   "execution_count": 9,
   "metadata": {},
   "outputs": [
    {
     "data": {
      "text/plain": [
       "[Row(FOS_ID=127313418, FOSRank=9480, FOSNormalizedName=u'geology', FOSDisplayName=u'Geology', FOSDisplayLevel=0, FOSPaperCount=3226880, FOSCitationCount=30483377),\n",
       " Row(FOS_ID=142362112, FOSRank=25000, FOSNormalizedName=u'art', FOSDisplayName=u'Art', FOSDisplayLevel=0, FOSPaperCount=4792512, FOSCitationCount=2391299),\n",
       " Row(FOS_ID=185592680, FOSRank=7560, FOSNormalizedName=u'chemistry', FOSDisplayName=u'Chemistry', FOSDisplayLevel=0, FOSPaperCount=14843182, FOSCitationCount=164570817),\n",
       " Row(FOS_ID=121332964, FOSRank=7739, FOSNormalizedName=u'physics', FOSDisplayName=u'Physics', FOSDisplayLevel=0, FOSPaperCount=7393700, FOSCitationCount=66954797),\n",
       " Row(FOS_ID=95457728, FOSRank=12996, FOSNormalizedName=u'history', FOSDisplayName=u'History', FOSDisplayLevel=0, FOSPaperCount=5847639, FOSCitationCount=4495040),\n",
       " Row(FOS_ID=144133560, FOSRank=25000, FOSNormalizedName=u'business', FOSDisplayName=u'Business', FOSDisplayLevel=0, FOSPaperCount=3362436, FOSCitationCount=10493865),\n",
       " Row(FOS_ID=205649164, FOSRank=9209, FOSNormalizedName=u'geography', FOSDisplayName=u'Geography', FOSDisplayLevel=0, FOSPaperCount=3894484, FOSCitationCount=5881461),\n",
       " Row(FOS_ID=138885662, FOSRank=25000, FOSNormalizedName=u'philosophy', FOSDisplayName=u'Philosophy', FOSDisplayLevel=0, FOSPaperCount=2365966, FOSCitationCount=2565370),\n",
       " Row(FOS_ID=71924100, FOSRank=9323, FOSNormalizedName=u'medicine', FOSDisplayName=u'Medicine', FOSDisplayLevel=0, FOSPaperCount=24318797, FOSCitationCount=212171917),\n",
       " Row(FOS_ID=127413603, FOSRank=25000, FOSNormalizedName=u'engineering', FOSDisplayName=u'Engineering', FOSDisplayLevel=0, FOSPaperCount=15585220, FOSCitationCount=44877184),\n",
       " Row(FOS_ID=162324750, FOSRank=25000, FOSNormalizedName=u'economics', FOSDisplayName=u'Economics', FOSDisplayLevel=0, FOSPaperCount=3662147, FOSCitationCount=37816604),\n",
       " Row(FOS_ID=17744445, FOSRank=9385, FOSNormalizedName=u'political science', FOSDisplayName=u'Political Science', FOSDisplayLevel=0, FOSPaperCount=3881737, FOSCitationCount=8935700),\n",
       " Row(FOS_ID=144024400, FOSRank=9149, FOSNormalizedName=u'sociology', FOSDisplayName=u'Sociology', FOSDisplayLevel=0, FOSPaperCount=3906051, FOSCitationCount=17700448),\n",
       " Row(FOS_ID=86803240, FOSRank=8145, FOSNormalizedName=u'biology', FOSDisplayName=u'Biology', FOSDisplayLevel=0, FOSPaperCount=15748444, FOSCitationCount=291848549),\n",
       " Row(FOS_ID=39432304, FOSRank=8436, FOSNormalizedName=u'environmental science', FOSDisplayName=u'Environmental science', FOSDisplayLevel=0, FOSPaperCount=1830253, FOSCitationCount=6506374),\n",
       " Row(FOS_ID=41008148, FOSRank=7843, FOSNormalizedName=u'computer science', FOSDisplayName=u'Computer Science', FOSDisplayLevel=0, FOSPaperCount=9902162, FOSCitationCount=66802488),\n",
       " Row(FOS_ID=15744967, FOSRank=8426, FOSNormalizedName=u'psychology', FOSDisplayName=u'Psychology', FOSDisplayLevel=0, FOSPaperCount=6318763, FOSCitationCount=78317342),\n",
       " Row(FOS_ID=33923547, FOSRank=7285, FOSNormalizedName=u'mathematics', FOSDisplayName=u'Mathematics', FOSDisplayLevel=0, FOSPaperCount=6003816, FOSCitationCount=63707251),\n",
       " Row(FOS_ID=192562407, FOSRank=7838, FOSNormalizedName=u'materials science', FOSDisplayName=u'Materials Science', FOSDisplayLevel=0, FOSPaperCount=8960343, FOSCitationCount=43049958)]"
      ]
     },
     "execution_count": 9,
     "metadata": {},
     "output_type": "execute_result"
    }
   ],
   "source": [
    "FOS_zero"
   ]
  },
  {
   "cell_type": "markdown",
   "metadata": {},
   "source": [
    "## FOS Children"
   ]
  },
  {
   "cell_type": "code",
   "execution_count": 10,
   "metadata": {},
   "outputs": [],
   "source": [
    "ParentChild_DF = spark.read.options(header= True,inferSchema=True,delimiter=\",\").csv(\"ParentChildFOS.csv\")"
   ]
  },
  {
   "cell_type": "code",
   "execution_count": 11,
   "metadata": {},
   "outputs": [
    {
     "data": {
      "text/plain": [
       "Row(FOS_ID=107038049, FOSChildID=503158894)"
      ]
     },
     "execution_count": 11,
     "metadata": {},
     "output_type": "execute_result"
    }
   ],
   "source": [
    "ParentChild_DF.head()"
   ]
  },
  {
   "cell_type": "code",
   "execution_count": 12,
   "metadata": {},
   "outputs": [
    {
     "data": {
      "text/plain": [
       "pyspark.sql.dataframe.DataFrame"
      ]
     },
     "execution_count": 12,
     "metadata": {},
     "output_type": "execute_result"
    }
   ],
   "source": [
    "type(ParentChild_DF)"
   ]
  },
  {
   "cell_type": "markdown",
   "metadata": {},
   "source": [
    "## Geology 127313418"
   ]
  },
  {
   "cell_type": "code",
   "execution_count": 13,
   "metadata": {},
   "outputs": [],
   "source": [
    "childOfRoot = ParentChild_DF.filter(ParentChild_DF.FOS_ID == 127313418).collect()##parent level"
   ]
  },
  {
   "cell_type": "code",
   "execution_count": 14,
   "metadata": {},
   "outputs": [
    {
     "data": {
      "text/plain": [
       "22"
      ]
     },
     "execution_count": 14,
     "metadata": {},
     "output_type": "execute_result"
    }
   ],
   "source": [
    "len(childOfRoot)"
   ]
  },
  {
   "cell_type": "code",
   "execution_count": 15,
   "metadata": {},
   "outputs": [],
   "source": [
    "ParentChild_DF = ParentChild_DF.toPandas()"
   ]
  },
  {
   "cell_type": "code",
   "execution_count": 16,
   "metadata": {},
   "outputs": [],
   "source": [
    "#Children at level 2\n",
    "childAtLevel2 = []\n",
    "for x in childOfRoot:\n",
    "    for y in ParentChild_DF.index:\n",
    "        #print(ChildFOS_df[\"FOS_ID\"][y])\n",
    "        #print(\"\\n\")\n",
    "        #print(childOfRoot[x][\"FOSChildID\"])\n",
    "        if ParentChild_DF[\"FOS_ID\"][y] == x[\"FOSChildID\"]:\n",
    "            childAtLevel2.append(ParentChild_DF[\"FOSChildID\"][y])\n",
    "            \n"
   ]
  },
  {
   "cell_type": "code",
   "execution_count": 17,
   "metadata": {},
   "outputs": [
    {
     "data": {
      "text/plain": [
       "190"
      ]
     },
     "execution_count": 17,
     "metadata": {},
     "output_type": "execute_result"
    }
   ],
   "source": [
    "len(childAtLevel2)"
   ]
  },
  {
   "cell_type": "code",
   "execution_count": 18,
   "metadata": {},
   "outputs": [],
   "source": [
    "#Children at level 3\n",
    "childAtLevel3 = []\n",
    "for x in childAtLevel2:\n",
    "    #print(x)\n",
    "    for y in ParentChild_DF.index:\n",
    "        \n",
    "       # print(type(ChildFOS_df[\"FOS_ID\"][y]))\n",
    "        if ParentChild_DF[\"FOS_ID\"][y] == x:            \n",
    "            childAtLevel3.append(ParentChild_DF[\"FOSChildID\"][y])"
   ]
  },
  {
   "cell_type": "code",
   "execution_count": 19,
   "metadata": {},
   "outputs": [
    {
     "data": {
      "text/plain": [
       "0"
      ]
     },
     "execution_count": 19,
     "metadata": {},
     "output_type": "execute_result"
    }
   ],
   "source": [
    "len(childAtLevel3)"
   ]
  },
  {
   "cell_type": "code",
   "execution_count": 20,
   "metadata": {},
   "outputs": [],
   "source": [
    "#geology_fos = list(childOfRoot[\"FOSChildID\"]) + list(childAtLevel2)"
   ]
  },
  {
   "cell_type": "code",
   "execution_count": 21,
   "metadata": {},
   "outputs": [],
   "source": [
    "childAtLevel3 = ParentChild_DF[ParentChild_DF[\"FOS_ID\"] == 117467278]"
   ]
  },
  {
   "cell_type": "code",
   "execution_count": 22,
   "metadata": {},
   "outputs": [
    {
     "data": {
      "text/html": [
       "<div>\n",
       "<style scoped>\n",
       "    .dataframe tbody tr th:only-of-type {\n",
       "        vertical-align: middle;\n",
       "    }\n",
       "\n",
       "    .dataframe tbody tr th {\n",
       "        vertical-align: top;\n",
       "    }\n",
       "\n",
       "    .dataframe thead th {\n",
       "        text-align: right;\n",
       "    }\n",
       "</style>\n",
       "<table border=\"1\" class=\"dataframe\">\n",
       "  <thead>\n",
       "    <tr style=\"text-align: right;\">\n",
       "      <th></th>\n",
       "      <th>FOS_ID</th>\n",
       "      <th>FOSChildID</th>\n",
       "    </tr>\n",
       "  </thead>\n",
       "  <tbody>\n",
       "  </tbody>\n",
       "</table>\n",
       "</div>"
      ],
      "text/plain": [
       "Empty DataFrame\n",
       "Columns: [FOS_ID, FOSChildID]\n",
       "Index: []"
      ]
     },
     "execution_count": 22,
     "metadata": {},
     "output_type": "execute_result"
    }
   ],
   "source": [
    "childAtLevel3"
   ]
  },
  {
   "cell_type": "code",
   "execution_count": 23,
   "metadata": {},
   "outputs": [],
   "source": [
    "childOfRoot = ParentChild_DF[ParentChild_DF[\"FOS_ID\"] == 127313418]"
   ]
  },
  {
   "cell_type": "code",
   "execution_count": 24,
   "metadata": {},
   "outputs": [
    {
     "data": {
      "text/plain": [
       "22"
      ]
     },
     "execution_count": 24,
     "metadata": {},
     "output_type": "execute_result"
    }
   ],
   "source": [
    "len(childOfRoot)"
   ]
  },
  {
   "cell_type": "code",
   "execution_count": 25,
   "metadata": {},
   "outputs": [],
   "source": [
    "#Children at level 2\n",
    "childAtLevel2 = set()\n",
    "for x in childOfRoot.index:\n",
    "    for y in ParentChild_DF.index:\n",
    "        #print(ChildFOS_df[\"FOS_ID\"][y])\n",
    "        #print(\"\\n\")\n",
    "        #print(x)\n",
    "        if ParentChild_DF[\"FOS_ID\"][y] == childOfRoot[\"FOSChildID\"][x]:\n",
    "            childAtLevel2.add(ParentChild_DF[\"FOSChildID\"][y])\n",
    "            "
   ]
  },
  {
   "cell_type": "code",
   "execution_count": 26,
   "metadata": {},
   "outputs": [
    {
     "data": {
      "text/plain": [
       "148"
      ]
     },
     "execution_count": 26,
     "metadata": {},
     "output_type": "execute_result"
    }
   ],
   "source": [
    "len(childAtLevel2)"
   ]
  },
  {
   "cell_type": "code",
   "execution_count": 27,
   "metadata": {},
   "outputs": [],
   "source": [
    "#Children at level 3\n",
    "childAtLevel3 = set()\n",
    "for x in childAtLevel2:\n",
    "    for y in ParentChild_DF.index:\n",
    "        if ParentChild_DF[\"FOS_ID\"][y] == x:\n",
    "            childAtLevel3.add(ParentChild_DF[\"FOSChildID\"][y])"
   ]
  },
  {
   "cell_type": "code",
   "execution_count": 28,
   "metadata": {},
   "outputs": [],
   "source": [
    "geology_fos= list(childOfRoot[\"FOSChildID\"]) + list(childAtLevel2)"
   ]
  },
  {
   "cell_type": "code",
   "execution_count": 29,
   "metadata": {},
   "outputs": [
    {
     "data": {
      "text/plain": [
       "170"
      ]
     },
     "execution_count": 29,
     "metadata": {},
     "output_type": "execute_result"
    }
   ],
   "source": [
    "len(geology_fos)"
   ]
  },
  {
   "cell_type": "markdown",
   "metadata": {},
   "source": [
    "## Art 142362112"
   ]
  },
  {
   "cell_type": "code",
   "execution_count": 30,
   "metadata": {},
   "outputs": [],
   "source": [
    "childOfRoot = ParentChild_DF[ParentChild_DF[\"FOS_ID\"] == 142362112]"
   ]
  },
  {
   "cell_type": "code",
   "execution_count": 31,
   "metadata": {},
   "outputs": [
    {
     "data": {
      "text/plain": [
       "6"
      ]
     },
     "execution_count": 31,
     "metadata": {},
     "output_type": "execute_result"
    }
   ],
   "source": [
    "len(childOfRoot)"
   ]
  },
  {
   "cell_type": "code",
   "execution_count": 32,
   "metadata": {},
   "outputs": [],
   "source": [
    "#Children at level 2\n",
    "childAtLevel2 = set()\n",
    "for x in childOfRoot.index:\n",
    "    for y in ParentChild_DF.index:\n",
    "        #print(ChildFOS_df[\"FOS_ID\"][y])\n",
    "        #print(\"\\n\")\n",
    "        #print(x)\n",
    "        if ParentChild_DF[\"FOS_ID\"][y] == childOfRoot[\"FOSChildID\"][x]:\n",
    "            childAtLevel2.add(ParentChild_DF[\"FOSChildID\"][y])\n",
    "            "
   ]
  },
  {
   "cell_type": "code",
   "execution_count": 33,
   "metadata": {},
   "outputs": [
    {
     "data": {
      "text/plain": [
       "112"
      ]
     },
     "execution_count": 33,
     "metadata": {},
     "output_type": "execute_result"
    }
   ],
   "source": [
    "len(childAtLevel2)"
   ]
  },
  {
   "cell_type": "code",
   "execution_count": 34,
   "metadata": {},
   "outputs": [],
   "source": [
    "#Children at level 3\n",
    "childAtLevel3 = set()\n",
    "for x in childAtLevel2:\n",
    "    for y in ParentChild_DF.index:\n",
    "        if ParentChild_DF[\"FOS_ID\"][y] == x:\n",
    "            childAtLevel3.add(ParentChild_DF[\"FOSChildID\"][y])"
   ]
  },
  {
   "cell_type": "code",
   "execution_count": 35,
   "metadata": {},
   "outputs": [
    {
     "data": {
      "text/plain": [
       "0"
      ]
     },
     "execution_count": 35,
     "metadata": {},
     "output_type": "execute_result"
    }
   ],
   "source": [
    "len(childAtLevel3)"
   ]
  },
  {
   "cell_type": "code",
   "execution_count": 36,
   "metadata": {},
   "outputs": [],
   "source": [
    "art_fos= list(childOfRoot[\"FOSChildID\"]) + list(childAtLevel2)"
   ]
  },
  {
   "cell_type": "code",
   "execution_count": 37,
   "metadata": {},
   "outputs": [
    {
     "data": {
      "text/plain": [
       "118"
      ]
     },
     "execution_count": 37,
     "metadata": {},
     "output_type": "execute_result"
    }
   ],
   "source": [
    "len(art_fos)"
   ]
  },
  {
   "cell_type": "markdown",
   "metadata": {},
   "source": [
    "## Chemistry 185592680"
   ]
  },
  {
   "cell_type": "code",
   "execution_count": 38,
   "metadata": {},
   "outputs": [],
   "source": [
    "childOfRoot = ParentChild_DF[ParentChild_DF[\"FOS_ID\"] == 185592680]"
   ]
  },
  {
   "cell_type": "code",
   "execution_count": 39,
   "metadata": {},
   "outputs": [
    {
     "data": {
      "text/plain": [
       "26"
      ]
     },
     "execution_count": 39,
     "metadata": {},
     "output_type": "execute_result"
    }
   ],
   "source": [
    "len(childOfRoot)"
   ]
  },
  {
   "cell_type": "code",
   "execution_count": 40,
   "metadata": {},
   "outputs": [],
   "source": [
    "#Children at level 2\n",
    "childAtLevel2 = set()\n",
    "for x in childOfRoot.index:\n",
    "    for y in ParentChild_DF.index:\n",
    "        #print(ChildFOS_df[\"FOS_ID\"][y])\n",
    "        #print(\"\\n\")\n",
    "        #print(x)\n",
    "        if ParentChild_DF[\"FOS_ID\"][y] == childOfRoot[\"FOSChildID\"][x]:\n",
    "            childAtLevel2.add(ParentChild_DF[\"FOSChildID\"][y])\n",
    "            "
   ]
  },
  {
   "cell_type": "code",
   "execution_count": 41,
   "metadata": {},
   "outputs": [
    {
     "data": {
      "text/plain": [
       "110"
      ]
     },
     "execution_count": 41,
     "metadata": {},
     "output_type": "execute_result"
    }
   ],
   "source": [
    "len(childAtLevel2)"
   ]
  },
  {
   "cell_type": "code",
   "execution_count": 42,
   "metadata": {},
   "outputs": [],
   "source": [
    "#Children at level 3\n",
    "childAtLevel3 = set()\n",
    "for x in childAtLevel2:\n",
    "    for y in ParentChild_DF.index:\n",
    "        if ParentChild_DF[\"FOS_ID\"][y] == x:\n",
    "            childAtLevel3.add(ParentChild_DF[\"FOSChildID\"][y])"
   ]
  },
  {
   "cell_type": "code",
   "execution_count": 43,
   "metadata": {},
   "outputs": [
    {
     "data": {
      "text/plain": [
       "0"
      ]
     },
     "execution_count": 43,
     "metadata": {},
     "output_type": "execute_result"
    }
   ],
   "source": [
    "len(childAtLevel3)"
   ]
  },
  {
   "cell_type": "code",
   "execution_count": 44,
   "metadata": {},
   "outputs": [
    {
     "data": {
      "text/plain": [
       "pandas.core.frame.DataFrame"
      ]
     },
     "execution_count": 44,
     "metadata": {},
     "output_type": "execute_result"
    }
   ],
   "source": [
    "type(childOfRoot)"
   ]
  },
  {
   "cell_type": "code",
   "execution_count": 45,
   "metadata": {},
   "outputs": [
    {
     "data": {
      "text/plain": [
       "458    179104552\n",
       "459     31903555\n",
       "460    115704247\n",
       "461     55493867\n",
       "462    159985019\n",
       "463    159467904\n",
       "464    188027245\n",
       "465     71240020\n",
       "466    147789679\n",
       "467    183696295\n",
       "468    199289684\n",
       "469    178790620\n",
       "470     43617362\n",
       "471     13965031\n",
       "472     21951064\n",
       "473    126348684\n",
       "474     41999313\n",
       "475    191897082\n",
       "476    171250308\n",
       "477    107872376\n",
       "478    177322064\n",
       "479     75473681\n",
       "480      8010536\n",
       "481     46141821\n",
       "482    155647269\n",
       "483    147597530\n",
       "Name: FOSChildID, dtype: int64"
      ]
     },
     "execution_count": 45,
     "metadata": {},
     "output_type": "execute_result"
    }
   ],
   "source": [
    "childOfRoot[\"FOSChildID\"]"
   ]
  },
  {
   "cell_type": "code",
   "execution_count": 46,
   "metadata": {},
   "outputs": [
    {
     "data": {
      "text/plain": [
       "set"
      ]
     },
     "execution_count": 46,
     "metadata": {},
     "output_type": "execute_result"
    }
   ],
   "source": [
    "type(childAtLevel2)"
   ]
  },
  {
   "cell_type": "code",
   "execution_count": 48,
   "metadata": {},
   "outputs": [],
   "source": [
    "chemistry_fos= list(childOfRoot[\"FOSChildID\"]) + list(childAtLevel2)"
   ]
  },
  {
   "cell_type": "code",
   "execution_count": 49,
   "metadata": {},
   "outputs": [
    {
     "data": {
      "text/plain": [
       "list"
      ]
     },
     "execution_count": 49,
     "metadata": {},
     "output_type": "execute_result"
    }
   ],
   "source": [
    "type(chemistry_fos)"
   ]
  },
  {
   "cell_type": "code",
   "execution_count": 51,
   "metadata": {},
   "outputs": [
    {
     "data": {
      "text/plain": [
       "136"
      ]
     },
     "execution_count": 51,
     "metadata": {},
     "output_type": "execute_result"
    }
   ],
   "source": [
    "len(chemistry_fos)"
   ]
  },
  {
   "cell_type": "markdown",
   "metadata": {},
   "source": [
    "## Physics 121332964"
   ]
  },
  {
   "cell_type": "code",
   "execution_count": 53,
   "metadata": {},
   "outputs": [],
   "source": [
    "childOfRoot = ParentChild_DF[ParentChild_DF[\"FOS_ID\"] == 121332964]"
   ]
  },
  {
   "cell_type": "code",
   "execution_count": 54,
   "metadata": {},
   "outputs": [
    {
     "data": {
      "text/plain": [
       "42"
      ]
     },
     "execution_count": 54,
     "metadata": {},
     "output_type": "execute_result"
    }
   ],
   "source": [
    "len(childOfRoot)"
   ]
  },
  {
   "cell_type": "code",
   "execution_count": 55,
   "metadata": {},
   "outputs": [],
   "source": [
    "#Children at level 2\n",
    "childAtLevel2 = set()\n",
    "for x in childOfRoot.index:\n",
    "    for y in ParentChild_DF.index:\n",
    "        #print(ChildFOS_df[\"FOS_ID\"][y])\n",
    "        #print(\"\\n\")\n",
    "        #print(x)\n",
    "        if ParentChild_DF[\"FOS_ID\"][y] == childOfRoot[\"FOSChildID\"][x]:\n",
    "            childAtLevel2.add(ParentChild_DF[\"FOSChildID\"][y])"
   ]
  },
  {
   "cell_type": "code",
   "execution_count": 56,
   "metadata": {},
   "outputs": [
    {
     "data": {
      "text/plain": [
       "229"
      ]
     },
     "execution_count": 56,
     "metadata": {},
     "output_type": "execute_result"
    }
   ],
   "source": [
    "len(childAtLevel2)"
   ]
  },
  {
   "cell_type": "code",
   "execution_count": 57,
   "metadata": {},
   "outputs": [],
   "source": [
    "#Children at level 3\n",
    "childAtLevel3 = set()\n",
    "for x in childAtLevel2:\n",
    "    for y in ParentChild_DF.index:\n",
    "        if ParentChild_DF[\"FOS_ID\"][y] == x:\n",
    "            childAtLevel3.add(ParentChild_DF[\"FOSChildID\"][y])"
   ]
  },
  {
   "cell_type": "code",
   "execution_count": 58,
   "metadata": {},
   "outputs": [
    {
     "data": {
      "text/plain": [
       "0"
      ]
     },
     "execution_count": 58,
     "metadata": {},
     "output_type": "execute_result"
    }
   ],
   "source": [
    "len(childAtLevel3)"
   ]
  },
  {
   "cell_type": "code",
   "execution_count": 59,
   "metadata": {},
   "outputs": [],
   "source": [
    "physics_fos= list(childOfRoot[\"FOSChildID\"]) + list(childAtLevel2)"
   ]
  },
  {
   "cell_type": "code",
   "execution_count": 60,
   "metadata": {},
   "outputs": [
    {
     "data": {
      "text/plain": [
       "pyspark.sql.dataframe.DataFrame"
      ]
     },
     "execution_count": 60,
     "metadata": {},
     "output_type": "execute_result"
    }
   ],
   "source": [
    "type(FOS_DF)"
   ]
  },
  {
   "cell_type": "markdown",
   "metadata": {},
   "source": [
    "## Fetching chemistry papers"
   ]
  },
  {
   "cell_type": "code",
   "execution_count": 61,
   "metadata": {},
   "outputs": [],
   "source": [
    "FOS_DF_pd = FOS_DF.toPandas()"
   ]
  },
  {
   "cell_type": "code",
   "execution_count": 62,
   "metadata": {},
   "outputs": [
    {
     "data": {
      "text/plain": [
       "pandas.core.frame.DataFrame"
      ]
     },
     "execution_count": 62,
     "metadata": {},
     "output_type": "execute_result"
    }
   ],
   "source": [
    "type(FOS_DF_pd)"
   ]
  },
  {
   "cell_type": "code",
   "execution_count": 63,
   "metadata": {},
   "outputs": [],
   "source": [
    "FOS_chemistry = FOS_DF[FOS_DF[\"FOS_ID\"].isin(chemistry_fos)]"
   ]
  },
  {
   "cell_type": "code",
   "execution_count": 64,
   "metadata": {},
   "outputs": [
    {
     "data": {
      "text/plain": [
       "pyspark.sql.dataframe.DataFrame"
      ]
     },
     "execution_count": 64,
     "metadata": {},
     "output_type": "execute_result"
    }
   ],
   "source": [
    "type(FOS_chemistry)"
   ]
  },
  {
   "cell_type": "code",
   "execution_count": 65,
   "metadata": {},
   "outputs": [
    {
     "data": {
      "text/plain": [
       "136"
      ]
     },
     "execution_count": 65,
     "metadata": {},
     "output_type": "execute_result"
    }
   ],
   "source": [
    "FOS_chemistry.count()"
   ]
  },
  {
   "cell_type": "code",
   "execution_count": 67,
   "metadata": {},
   "outputs": [],
   "source": [
    "txt_file = sc.textFile(\"../Data/graph/2018-02-02/PaperFieldsOfStudy.txt\")"
   ]
  },
  {
   "cell_type": "code",
   "execution_count": 68,
   "metadata": {},
   "outputs": [],
   "source": [
    "temp_var = txt_file.map(lambda k: k.split(\"\\t\"))"
   ]
  },
  {
   "cell_type": "code",
   "execution_count": 69,
   "metadata": {},
   "outputs": [],
   "source": [
    "paperFOS_DF = temp_var.toDF()"
   ]
  },
  {
   "cell_type": "code",
   "execution_count": 70,
   "metadata": {},
   "outputs": [
    {
     "name": "stdout",
     "output_type": "stream",
     "text": [
      "+----------+---------+-------------------+\n",
      "|        _1|       _2|                 _3|\n",
      "+----------+---------+-------------------+\n",
      "|2514067917|204223013|0.43515353105522547|\n",
      "|2514067917|530198007| 0.4671860155535934|\n",
      "+----------+---------+-------------------+\n",
      "only showing top 2 rows\n",
      "\n"
     ]
    }
   ],
   "source": [
    "paperFOS_DF.show(2)"
   ]
  },
  {
   "cell_type": "code",
   "execution_count": 71,
   "metadata": {},
   "outputs": [],
   "source": [
    "paperFOS_DF = paperFOS_DF.withColumn(\"PaperID\",paperFOS_DF[\"_1\"].cast(LongType()))"
   ]
  },
  {
   "cell_type": "code",
   "execution_count": 72,
   "metadata": {},
   "outputs": [],
   "source": [
    "paperFOS_DF = paperFOS_DF.withColumn(\"FOS_ID\",paperFOS_DF[\"_2\"].cast(LongType()))"
   ]
  },
  {
   "cell_type": "code",
   "execution_count": 73,
   "metadata": {},
   "outputs": [],
   "source": [
    "paperFOS_DF = paperFOS_DF.withColumn(\"FOSProbability\",paperFOS_DF[\"_3\"].cast(DoubleType()))"
   ]
  },
  {
   "cell_type": "code",
   "execution_count": 74,
   "metadata": {},
   "outputs": [
    {
     "name": "stdout",
     "output_type": "stream",
     "text": [
      "+----------+---------+-------------------+----------+---------+------------------+\n",
      "|        _1|       _2|                 _3|   PaperID|   FOS_ID|    FOSProbability|\n",
      "+----------+---------+-------------------+----------+---------+------------------+\n",
      "|2514067917|204223013|0.43515353105522547|2514067917|204223013|0.4351535310552255|\n",
      "|2514067917|530198007| 0.4671860155535934|2514067917|530198007|0.4671860155535934|\n",
      "+----------+---------+-------------------+----------+---------+------------------+\n",
      "only showing top 2 rows\n",
      "\n"
     ]
    }
   ],
   "source": [
    "paperFOS_DF.show(2)"
   ]
  },
  {
   "cell_type": "code",
   "execution_count": 75,
   "metadata": {},
   "outputs": [],
   "source": [
    "drop_cols=[\"_1\",\"_2\",\"_3\",\"FOSProbability\"]\n",
    "paperFOS_DF = paperFOS_DF.drop(*drop_cols)"
   ]
  },
  {
   "cell_type": "code",
   "execution_count": 76,
   "metadata": {},
   "outputs": [],
   "source": [
    "#paperFOS_DF.coalesce(1).write.format('com.databricks.spark.csv').mode(\"overwrite\").save('PaperFOS.csv',header = 'true')"
   ]
  },
  {
   "cell_type": "code",
   "execution_count": 77,
   "metadata": {},
   "outputs": [
    {
     "data": {
      "text/plain": [
       "Row(PaperID=2514067917, FOS_ID=204223013)"
      ]
     },
     "execution_count": 77,
     "metadata": {},
     "output_type": "execute_result"
    }
   ],
   "source": [
    "paperFOS_DF.head()"
   ]
  },
  {
   "cell_type": "code",
   "execution_count": 78,
   "metadata": {},
   "outputs": [
    {
     "data": {
      "text/plain": [
       "136"
      ]
     },
     "execution_count": 78,
     "metadata": {},
     "output_type": "execute_result"
    }
   ],
   "source": [
    "FOS_chemistry.count()"
   ]
  },
  {
   "cell_type": "code",
   "execution_count": 79,
   "metadata": {},
   "outputs": [
    {
     "data": {
      "text/plain": [
       "796470949"
      ]
     },
     "execution_count": 79,
     "metadata": {},
     "output_type": "execute_result"
    }
   ],
   "source": [
    "paperFOS_DF.count()"
   ]
  },
  {
   "cell_type": "code",
   "execution_count": 81,
   "metadata": {},
   "outputs": [
    {
     "data": {
      "text/plain": [
       "pyspark.sql.dataframe.DataFrame"
      ]
     },
     "execution_count": 81,
     "metadata": {},
     "output_type": "execute_result"
    }
   ],
   "source": [
    "type(paperFOS_DF)"
   ]
  },
  {
   "cell_type": "code",
   "execution_count": 82,
   "metadata": {},
   "outputs": [
    {
     "name": "stdout",
     "output_type": "stream",
     "text": [
      "+---------+-------+-----------------+----------------+---------------+-------------+----------------+\n",
      "|   FOS_ID|FOSRank|FOSNormalizedName|  FOSDisplayName|FOSDisplayLevel|FOSPaperCount|FOSCitationCount|\n",
      "+---------+-------+-----------------+----------------+---------------+-------------+----------------+\n",
      "|  5791170|  15815| food engineering|Food engineering|              2|         1267|            9186|\n",
      "|171250308|   8516|   nanotechnology|  Nanotechnology|              1|       500390|         7520761|\n",
      "+---------+-------+-----------------+----------------+---------------+-------------+----------------+\n",
      "only showing top 2 rows\n",
      "\n"
     ]
    }
   ],
   "source": [
    "FOS_chemistry.show(2)"
   ]
  },
  {
   "cell_type": "code",
   "execution_count": 83,
   "metadata": {},
   "outputs": [],
   "source": [
    "#import pyspark.sql.functions as F"
   ]
  },
  {
   "cell_type": "code",
   "execution_count": 84,
   "metadata": {},
   "outputs": [],
   "source": [
    "#papfos_filter = paperFOS_DF.filter(F.col(\"FOSID\").isin(FOS_chemistry))"
   ]
  },
  {
   "cell_type": "code",
   "execution_count": 85,
   "metadata": {},
   "outputs": [],
   "source": [
    "#papfos_filter = paperFOS_DF.filter(col(\"FOSID\").isin(FOS_chemistry))"
   ]
  },
  {
   "cell_type": "code",
   "execution_count": 86,
   "metadata": {},
   "outputs": [],
   "source": [
    "#fos_filter =FOS_DF.filter(F.col(\"FOSID\").isin(FOS_chemistry))papfos_filter ="
   ]
  },
  {
   "cell_type": "code",
   "execution_count": 93,
   "metadata": {},
   "outputs": [],
   "source": [
    "fos_filter = FOS_DF.join(paperFOS_DF, on=[\"FOS_ID\"],how=\"inner\")"
   ]
  },
  {
   "cell_type": "code",
   "execution_count": 94,
   "metadata": {},
   "outputs": [
    {
     "data": {
      "text/plain": [
       "['FOS_ID',\n",
       " 'FOSRank',\n",
       " 'FOSNormalizedName',\n",
       " 'FOSDisplayName',\n",
       " 'FOSDisplayLevel',\n",
       " 'FOSPaperCount',\n",
       " 'FOSCitationCount',\n",
       " 'PaperID']"
      ]
     },
     "execution_count": 94,
     "metadata": {},
     "output_type": "execute_result"
    }
   ],
   "source": [
    "fos_filter.columns"
   ]
  },
  {
   "cell_type": "code",
   "execution_count": 96,
   "metadata": {},
   "outputs": [],
   "source": [
    "fos_filter.coalesce(1).write.format('com.databricks.spark.csv').mode(\"overwrite\").save('PaperIDFOS.csv',header = 'true')"
   ]
  },
  {
   "cell_type": "code",
   "execution_count": 114,
   "metadata": {},
   "outputs": [
    {
     "name": "stdout",
     "output_type": "stream",
     "text": [
      "+-------+-------+--------------------+--------------------+---------------+-------------+----------------+----------+-----------------+\n",
      "| FOS_ID|FOSRank|   FOSNormalizedName|      FOSDisplayName|FOSDisplayLevel|FOSPaperCount|FOSCitationCount|   PaperID|   FOSProbability|\n",
      "+-------+-------+--------------------+--------------------+---------------+-------------+----------------+----------+-----------------+\n",
      "|3910719|  13240|isotopes of vanadium|Isotopes of vanadium|              3|           72|             381|1963927026|0.561190523793405|\n",
      "|3910719|  13240|isotopes of vanadium|Isotopes of vanadium|              3|           72|             381|2523956911|0.567940364509597|\n",
      "+-------+-------+--------------------+--------------------+---------------+-------------+----------------+----------+-----------------+\n",
      "only showing top 2 rows\n",
      "\n"
     ]
    }
   ],
   "source": [
    "fos_filter.show(2)"
   ]
  },
  {
   "cell_type": "code",
   "execution_count": 97,
   "metadata": {},
   "outputs": [],
   "source": [
    "drop_cols = [\"FOSRank\",\"FOSNormalizedName\",\"FOSDisplayName\",\"FOSDisplayLevel\",\"FOSPaperCount\",\"FOSCitationCount\"]\n",
    "fos_filter = fos_filter.drop(*drop_cols)"
   ]
  },
  {
   "cell_type": "code",
   "execution_count": 98,
   "metadata": {},
   "outputs": [
    {
     "data": {
      "text/plain": [
       "['FOS_ID', 'PaperID']"
      ]
     },
     "execution_count": 98,
     "metadata": {},
     "output_type": "execute_result"
    }
   ],
   "source": [
    "fos_filter.columns"
   ]
  },
  {
   "cell_type": "code",
   "execution_count": 99,
   "metadata": {},
   "outputs": [],
   "source": [
    "\n",
    "#fos_filter.count()"
   ]
  },
  {
   "cell_type": "code",
   "execution_count": 100,
   "metadata": {},
   "outputs": [],
   "source": [
    "fos_chem_filter = fos_filter.join(FOS_chemistry, on=[\"FOS_ID\"],how=\"inner\")"
   ]
  },
  {
   "cell_type": "code",
   "execution_count": 101,
   "metadata": {},
   "outputs": [],
   "source": [
    "#fos_chem_filter.count()"
   ]
  },
  {
   "cell_type": "code",
   "execution_count": 102,
   "metadata": {},
   "outputs": [
    {
     "name": "stdout",
     "output_type": "stream",
     "text": [
      "+---------+----------+-------+------------------+------------------+---------------+-------------+----------------+\n",
      "|   FOS_ID|   PaperID|FOSRank| FOSNormalizedName|    FOSDisplayName|FOSDisplayLevel|FOSPaperCount|FOSCitationCount|\n",
      "+---------+----------+-------+------------------+------------------+---------------+-------------+----------------+\n",
      "|159985019|2347208822|   8727|composite material|Composite material|              1|      4821505|        22420136|\n",
      "|159985019|2550523273|   8727|composite material|Composite material|              1|      4821505|        22420136|\n",
      "+---------+----------+-------+------------------+------------------+---------------+-------------+----------------+\n",
      "only showing top 2 rows\n",
      "\n"
     ]
    }
   ],
   "source": [
    "fos_chem_filter.show(2)"
   ]
  },
  {
   "cell_type": "code",
   "execution_count": 103,
   "metadata": {},
   "outputs": [
    {
     "data": {
      "text/plain": [
       "['FOS_ID',\n",
       " 'PaperID',\n",
       " 'FOSRank',\n",
       " 'FOSNormalizedName',\n",
       " 'FOSDisplayName',\n",
       " 'FOSDisplayLevel',\n",
       " 'FOSPaperCount',\n",
       " 'FOSCitationCount']"
      ]
     },
     "execution_count": 103,
     "metadata": {},
     "output_type": "execute_result"
    }
   ],
   "source": [
    "fos_chem_filter.columns"
   ]
  },
  {
   "cell_type": "code",
   "execution_count": 104,
   "metadata": {},
   "outputs": [],
   "source": [
    "paper_df = spark.read.options(inferSchema=True,header=True).csv(\"NewPaper.csv\")"
   ]
  },
  {
   "cell_type": "code",
   "execution_count": 105,
   "metadata": {},
   "outputs": [
    {
     "name": "stdout",
     "output_type": "stream",
     "text": [
      "+----------+-----+----+-------+--------------------+---------+----------+---------+----------+------------+--------------+------+-----+---------+--------+--------------+-------------+--------------+\n",
      "|   PaperID| Rank| DOI|DocType|          PaperTitle|PaperYear| PaperDate|Publisher| JournalID|ConfSeriesID|ConfInstanceID|Volume|Issue|FirstPage|LastPage|ReferenceCount|CitationCount|EstimatedCount|\n",
      "+----------+-----+----+-------+--------------------+---------+----------+---------+----------+------------+--------------+------+-----+---------+--------+--------------+-------------+--------------+\n",
      "|1819117828|24472|null|   null|the distinctive f...|     2001|2001-04-01|     null|2596664605|        null|          null|  null| null|     null|    null|             2|            0|             0|\n",
      "|2771061228|24172|null|   null|compresseur a vis...|     2006|2006-12-04|     null|      null|        null|          null|  null| null|     null|    null|             0|            0|             0|\n",
      "+----------+-----+----+-------+--------------------+---------+----------+---------+----------+------------+--------------+------+-----+---------+--------+--------------+-------------+--------------+\n",
      "only showing top 2 rows\n",
      "\n"
     ]
    }
   ],
   "source": [
    "paper_df.show(2)"
   ]
  },
  {
   "cell_type": "code",
   "execution_count": 106,
   "metadata": {},
   "outputs": [
    {
     "name": "stdout",
     "output_type": "stream",
     "text": [
      "+-----------+\n",
      "|    DocType|\n",
      "+-----------+\n",
      "|     Patent|\n",
      "|       null|\n",
      "|    Journal|\n",
      "| Conference|\n",
      "|BookChapter|\n",
      "|       Book|\n",
      "+-----------+\n",
      "\n"
     ]
    }
   ],
   "source": [
    "paper_df.select(\"DocType\").distinct().show()"
   ]
  },
  {
   "cell_type": "code",
   "execution_count": 108,
   "metadata": {},
   "outputs": [
    {
     "data": {
      "text/plain": [
       "76252223"
      ]
     },
     "execution_count": 108,
     "metadata": {},
     "output_type": "execute_result"
    }
   ],
   "source": [
    "paper_df.filter((paper_df[\"DocType\"] == \"\") | (paper_df[\"DocType\"].isNotNull()) | (paper_df[\"DocType\"]==\"null\")).count()"
   ]
  },
  {
   "cell_type": "code",
   "execution_count": 109,
   "metadata": {},
   "outputs": [
    {
     "data": {
      "text/plain": [
       "171227624"
      ]
     },
     "execution_count": 109,
     "metadata": {},
     "output_type": "execute_result"
    }
   ],
   "source": [
    "paper_df.count()"
   ]
  },
  {
   "cell_type": "code",
   "execution_count": 110,
   "metadata": {},
   "outputs": [
    {
     "data": {
      "text/plain": [
       "['PaperID',\n",
       " 'Rank',\n",
       " 'DOI',\n",
       " 'DocType',\n",
       " 'PaperTitle',\n",
       " 'PaperYear',\n",
       " 'PaperDate',\n",
       " 'Publisher',\n",
       " 'JournalID',\n",
       " 'ConfSeriesID',\n",
       " 'ConfInstanceID',\n",
       " 'Volume',\n",
       " 'Issue',\n",
       " 'FirstPage',\n",
       " 'LastPage',\n",
       " 'ReferenceCount',\n",
       " 'CitationCount',\n",
       " 'EstimatedCount']"
      ]
     },
     "execution_count": 110,
     "metadata": {},
     "output_type": "execute_result"
    }
   ],
   "source": [
    "paper_df.columns"
   ]
  },
  {
   "cell_type": "code",
   "execution_count": 111,
   "metadata": {},
   "outputs": [],
   "source": [
    "drop_cols = [\"PaperTitle\",\"OriginalTitle\",\"DOI\",\"PaperDate\"]\n",
    "paper_df = paper_df.drop(*drop_cols)"
   ]
  },
  {
   "cell_type": "code",
   "execution_count": 118,
   "metadata": {},
   "outputs": [],
   "source": [
    "fos_chem_filterfinal = fos_chem_filter.join(paper_df, on=[\"PaperID\"],how=\"inner\")"
   ]
  },
  {
   "cell_type": "code",
   "execution_count": 119,
   "metadata": {
    "scrolled": true
   },
   "outputs": [
    {
     "name": "stdout",
     "output_type": "stream",
     "text": [
      "+-------+---------+-------+--------------------+--------------------+---------------+-------------+----------------+-----+-------+---------+---------+---------+------------+--------------+------+-----+---------+--------+--------------+-------------+--------------+\n",
      "|PaperID|   FOS_ID|FOSRank|   FOSNormalizedName|      FOSDisplayName|FOSDisplayLevel|FOSPaperCount|FOSCitationCount| Rank|DocType|PaperYear|Publisher|JournalID|ConfSeriesID|ConfInstanceID|Volume|Issue|FirstPage|LastPage|ReferenceCount|CitationCount|EstimatedCount|\n",
      "+-------+---------+-------+--------------------+--------------------+---------------+-------------+----------------+-----+-------+---------+---------+---------+------------+--------------+------+-----+---------+--------+--------------+-------------+--------------+\n",
      "| 142535|153642686|   8764|infrared spectros...|Infrared spectros...|              2|       127513|         1735654|28587|   null|     1966|     null|     null|        null|          null|  null| null|     null|    null|             0|            0|             0|\n",
      "| 142535|199289684|  10018|          mineralogy|          Mineralogy|              1|       667379|         5630071|28587|   null|     1966|     null|     null|        null|          null|  null| null|     null|    null|             0|            0|             0|\n",
      "+-------+---------+-------+--------------------+--------------------+---------------+-------------+----------------+-----+-------+---------+---------+---------+------------+--------------+------+-----+---------+--------+--------------+-------------+--------------+\n",
      "only showing top 2 rows\n",
      "\n"
     ]
    }
   ],
   "source": [
    "fos_chem_filterfinal.show(2)"
   ]
  },
  {
   "cell_type": "code",
   "execution_count": 121,
   "metadata": {},
   "outputs": [
    {
     "data": {
      "text/plain": [
       "37302514"
      ]
     },
     "execution_count": 121,
     "metadata": {},
     "output_type": "execute_result"
    }
   ],
   "source": [
    "fos_chem_filterfinal.count()"
   ]
  },
  {
   "cell_type": "code",
   "execution_count": 120,
   "metadata": {},
   "outputs": [
    {
     "data": {
      "text/plain": [
       "796470949"
      ]
     },
     "execution_count": 120,
     "metadata": {},
     "output_type": "execute_result"
    }
   ],
   "source": [
    "fos_filter.count()"
   ]
  },
  {
   "cell_type": "code",
   "execution_count": 130,
   "metadata": {},
   "outputs": [
    {
     "name": "stdout",
     "output_type": "stream",
     "text": [
      "+----------+-----+--------------------+----------+---------+----------+---------+---------+------------+--------------+--------------+-------------+--------------+---------+-------+--------------------+---------------+-------------+----------------+-------+--------------------+--------------------+---------------+-------------+----------------+\n",
      "|   PaperID| Rank|                 DOI|   DocType|PaperYear| PaperDate|Publisher|JournalID|ConfSeriesID|ConfInstanceID|ReferenceCount|CitationCount|EstimatedCount|   FOS_ID|FOSRank|      FOSDisplayName|FOSDisplayLevel|FOSPaperCount|FOSCitationCount|FOSRank|   FOSNormalizedName|      FOSDisplayName|FOSDisplayLevel|FOSPaperCount|FOSCitationCount|\n",
      "+----------+-----+--------------------+----------+---------+----------+---------+---------+------------+--------------+--------------+-------------+--------------+---------+-------+--------------------+---------------+-------------+----------------+-------+--------------------+--------------------+---------------+-------------+----------------+\n",
      "|1482210570|22196|10.1016/j.proeng....|Conference|     2010|2010-05-01|     IEEE| 45645249|  2623722456|    2626907976|             8|            2|             2|117626034|   9411|      Electrostatics|              2|        10369|          129753|   9411|      electrostatics|      Electrostatics|              2|        10369|          129753|\n",
      "|1840176494|24386|10.1109/CLEOE.200...|Conference|     2003|2003-01-01|     IEEE| 58700017|  2623670637|    2625727701|             1|            0|             0|153642686|   8764|Infrared spectros...|              2|       127513|         1735654|   8764|infrared spectros...|Infrared spectros...|              2|       127513|         1735654|\n",
      "+----------+-----+--------------------+----------+---------+----------+---------+---------+------------+--------------+--------------+-------------+--------------+---------+-------+--------------------+---------------+-------------+----------------+-------+--------------------+--------------------+---------------+-------------+----------------+\n",
      "only showing top 2 rows\n",
      "\n"
     ]
    }
   ],
   "source": [
    "fos_filter.show(2)"
   ]
  },
  {
   "cell_type": "code",
   "execution_count": 122,
   "metadata": {},
   "outputs": [],
   "source": [
    "fos_chem_filterfinal.coalesce(1).write.format('com.databricks.spark.csv').mode(\"overwrite\").save('ChemistryData.csv',header = 'true')"
   ]
  },
  {
   "cell_type": "code",
   "execution_count": null,
   "metadata": {},
   "outputs": [],
   "source": []
  }
 ],
 "metadata": {
  "kernelspec": {
   "display_name": "Python 2",
   "language": "python",
   "name": "python2"
  },
  "language_info": {
   "codemirror_mode": {
    "name": "ipython",
    "version": 2
   },
   "file_extension": ".py",
   "mimetype": "text/x-python",
   "name": "python",
   "nbconvert_exporter": "python",
   "pygments_lexer": "ipython2",
   "version": "2.7.15rc1"
  }
 },
 "nbformat": 4,
 "nbformat_minor": 2
}
