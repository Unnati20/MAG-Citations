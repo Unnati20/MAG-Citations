{
 "cells": [
  {
   "cell_type": "code",
   "execution_count": 1,
   "metadata": {},
   "outputs": [],
   "source": [
    "import findspark\n",
    "findspark.init('/home/sdmohant/spark-3.0.0-bin-hadoop2.7')"
   ]
  },
  {
   "cell_type": "code",
   "execution_count": 2,
   "metadata": {},
   "outputs": [],
   "source": [
    "import pyspark\n",
    "from pyspark import SparkContext,SparkConf"
   ]
  },
  {
   "cell_type": "code",
   "execution_count": 3,
   "metadata": {},
   "outputs": [],
   "source": [
    "from pyspark.sql import SparkSession"
   ]
  },
  {
   "cell_type": "code",
   "execution_count": 4,
   "metadata": {},
   "outputs": [
    {
     "name": "stderr",
     "output_type": "stream",
     "text": [
      "/home/sdmohant/spark-3.0.0-bin-hadoop2.7/python/pyspark/context.py:220: DeprecationWarning: Support for Python 2 and Python 3 prior to version 3.6 is deprecated as of Spark 3.0. See also the plan for dropping Python 2 support at https://spark.apache.org/news/plan-for-dropping-python-2-support.html.\n",
      "  DeprecationWarning)\n"
     ]
    }
   ],
   "source": [
    "#spark = SparkSession.builder.appName(\"MyApp\").getOrCreate()\n",
    "#spark = SparkSession.builder.appName(\"MyName\").getOrCreate()\n",
    "conf = SparkConf().set(\"spark.cores.max\", \"16\") \\\n",
    "    .set(\"spark.driver.memory\", \"16g\") \\\n",
    "    .set(\"spark.executor.memory\", \"16g\") \\\n",
    "    .set(\"spark.executor.memory_overhead\", \"16g\") \\\n",
    "    .set(\"spark.driver.maxResultsSize\", \"0\") \\\n",
    "    .set(\"spark.sql.shuffle.partitions\",\"300\")\n",
    "\n",
    "sc = SparkContext(appName=\"model6\", conf=conf)\n",
    "spark = SparkSession(sc)"
   ]
  },
  {
   "cell_type": "code",
   "execution_count": 5,
   "metadata": {},
   "outputs": [],
   "source": [
    "from pyspark.sql.functions import isnan, count, col"
   ]
  },
  {
   "cell_type": "code",
   "execution_count": 6,
   "metadata": {},
   "outputs": [],
   "source": [
    "df1 = spark.read.options(header = True, inferSchema = True,delimiter=',').csv(\"AutPapJouCSCI.csv\")"
   ]
  },
  {
   "cell_type": "code",
   "execution_count": 7,
   "metadata": {},
   "outputs": [],
   "source": [
    "df2 = spark.read.options(header = True, inferSchema = True,delimiter=',').csv(\"Affiliations.csv\")"
   ]
  },
  {
   "cell_type": "code",
   "execution_count": 8,
   "metadata": {},
   "outputs": [
    {
     "name": "stdout",
     "output_type": "stream",
     "text": [
      "root\n",
      " |-- AffiliationId: long (nullable = true)\n",
      " |-- AffiliationRank: integer (nullable = true)\n",
      " |-- AfNormalizedName: string (nullable = true)\n",
      " |-- AfDisplayName: string (nullable = true)\n",
      " |-- AfPaperCount: integer (nullable = true)\n",
      " |-- AfCitationCount: integer (nullable = true)\n",
      "\n"
     ]
    }
   ],
   "source": [
    "df2.printSchema()"
   ]
  },
  {
   "cell_type": "code",
   "execution_count": 9,
   "metadata": {},
   "outputs": [],
   "source": [
    "drop_cols = [\"AfNormalizedName\",\"AfDisplayName\"]\n",
    "df2 = df2.drop(*drop_cols)"
   ]
  },
  {
   "cell_type": "code",
   "execution_count": 10,
   "metadata": {},
   "outputs": [],
   "source": [
    "#Read PaperAuthorAffiliations Data\n",
    "PapAuthAffiliations_df = spark.read.options(header = True,delimiter=',',inferSchema=True ).csv(\"PaperAuthorAffilitions.csv\")"
   ]
  },
  {
   "cell_type": "code",
   "execution_count": 11,
   "metadata": {},
   "outputs": [
    {
     "name": "stdout",
     "output_type": "stream",
     "text": [
      "root\n",
      " |-- PaperID: long (nullable = true)\n",
      " |-- AuthorId: long (nullable = true)\n",
      " |-- AffiliationId: long (nullable = true)\n",
      " |-- AuthorSequenceNumber: integer (nullable = true)\n",
      "\n"
     ]
    }
   ],
   "source": [
    "PapAuthAffiliations_df.printSchema()"
   ]
  },
  {
   "cell_type": "code",
   "execution_count": 12,
   "metadata": {},
   "outputs": [],
   "source": [
    "PapAuthAffiliations_df = PapAuthAffiliations_df.sort(\"PaperID\")"
   ]
  },
  {
   "cell_type": "code",
   "execution_count": 14,
   "metadata": {},
   "outputs": [],
   "source": [
    "#Joining Paper and Journal Data\n",
    "df3 = PapAuthAffiliations_df.join(df2, on=['AffiliationId'], how='inner')"
   ]
  },
  {
   "cell_type": "code",
   "execution_count": 15,
   "metadata": {},
   "outputs": [],
   "source": [
    "#df3.describe().show()"
   ]
  },
  {
   "cell_type": "code",
   "execution_count": 16,
   "metadata": {},
   "outputs": [],
   "source": [
    "df4 = df3.join(df1, on=['PaperID'], how='inner')"
   ]
  },
  {
   "cell_type": "code",
   "execution_count": 18,
   "metadata": {},
   "outputs": [],
   "source": [
    "PaperUrls_df = spark.read.options(header = True,delimiter=',',inferSchema=True ).csv(\"PaperUrl.csv\")"
   ]
  },
  {
   "cell_type": "code",
   "execution_count": 19,
   "metadata": {},
   "outputs": [
    {
     "name": "stdout",
     "output_type": "stream",
     "text": [
      "+----------+----------+\n",
      "|   PaperID|SourceType|\n",
      "+----------+----------+\n",
      "|2514067917|         1|\n",
      "|2514067917|         1|\n",
      "+----------+----------+\n",
      "only showing top 2 rows\n",
      "\n"
     ]
    }
   ],
   "source": [
    "PaperUrls_df.show(2)"
   ]
  },
  {
   "cell_type": "code",
   "execution_count": 20,
   "metadata": {},
   "outputs": [],
   "source": [
    "df5 = df4.join(PaperUrls_df, on=['PaperID'], how='inner')"
   ]
  },
  {
   "cell_type": "code",
   "execution_count": 23,
   "metadata": {},
   "outputs": [],
   "source": [
    "PaperRef_df = spark.read.options(header = True,delimiter=',',inferSchema=True ).csv(\"PaperReferences.csv\")"
   ]
  },
  {
   "cell_type": "code",
   "execution_count": 24,
   "metadata": {},
   "outputs": [
    {
     "name": "stdout",
     "output_type": "stream",
     "text": [
      "+----------+-----+----------+-----------+\n",
      "|        _1|count|   PaperID|PaperRefCnt|\n",
      "+----------+-----+----------+-----------+\n",
      "|2252294392|    8|2252294392|          8|\n",
      "|1479838528|   79|1479838528|         79|\n",
      "+----------+-----+----------+-----------+\n",
      "only showing top 2 rows\n",
      "\n"
     ]
    }
   ],
   "source": [
    "PaperRef_df.show(2)"
   ]
  },
  {
   "cell_type": "code",
   "execution_count": 25,
   "metadata": {},
   "outputs": [],
   "source": [
    "df6 = PaperRef_df.join(df4, on=['PaperID'], how='inner')"
   ]
  },
  {
   "cell_type": "code",
   "execution_count": 27,
   "metadata": {},
   "outputs": [],
   "source": [
    "from pyspark.sql.functions import when"
   ]
  },
  {
   "cell_type": "code",
   "execution_count": 29,
   "metadata": {},
   "outputs": [],
   "source": [
    "drop_cols = [\"_1\",\"count\"]\n",
    "df6 = df6.drop(*drop_cols)"
   ]
  },
  {
   "cell_type": "code",
   "execution_count": 34,
   "metadata": {},
   "outputs": [],
   "source": [
    "drop_cols = [\"AffiliationId\",\"AuthorId\",\"AuthorSequenceNumber\"]\n",
    "df3 = df3.drop(*drop_cols)"
   ]
  },
  {
   "cell_type": "code",
   "execution_count": 36,
   "metadata": {},
   "outputs": [],
   "source": [
    "from pyspark.sql.functions import sum,avg,max,min,mean,count"
   ]
  },
  {
   "cell_type": "code",
   "execution_count": 37,
   "metadata": {},
   "outputs": [],
   "source": [
    "df3_final = df3.groupBy(\"PaperID\").agg(avg(\"AffiliationRank\").alias(\"AfRankNew\"), \\\n",
    "         avg(\"AfPaperCount\").alias(\"AfPaperCountNew\"), \\\n",
    "         avg(\"AfCitationCount\").alias(\"AfCitationCntNew\"))        \n",
    "     "
   ]
  },
  {
   "cell_type": "code",
   "execution_count": 39,
   "metadata": {},
   "outputs": [],
   "source": [
    "df3 = df3.sort(\"PaperID\")"
   ]
  },
  {
   "cell_type": "code",
   "execution_count": 40,
   "metadata": {
    "scrolled": true
   },
   "outputs": [
    {
     "name": "stdout",
     "output_type": "stream",
     "text": [
      "+-------+---------------+------------+---------------+\n",
      "|PaperID|AffiliationRank|AfPaperCount|AfCitationCount|\n",
      "+-------+---------------+------------+---------------+\n",
      "|     23|           6580|      344256|       22910762|\n",
      "|     37|          10827|        7339|          58252|\n",
      "|     37|          10827|        7339|          58252|\n",
      "|    108|           8742|        9952|         182434|\n",
      "|    125|           7338|       25637|         589161|\n",
      "|    125|           7338|       25637|         589161|\n",
      "|    125|           7338|       25637|         589161|\n",
      "|    125|           7338|       25637|         589161|\n",
      "|    136|           6625|      382321|       28959166|\n",
      "|    136|           6889|      113027|        6795383|\n",
      "|    138|           7625|       59139|        1265728|\n",
      "|    138|           7625|       59139|        1265728|\n",
      "|    193|           5999|      313662|       19654001|\n",
      "|    236|           8339|       26270|         959614|\n",
      "|    266|           6153|      455787|       36817072|\n",
      "|    285|           6944|       41461|        1376889|\n",
      "|    285|           9291|        4798|         322339|\n",
      "|    372|           7888|       55157|        1188922|\n",
      "|    391|           9243|        8214|         160461|\n",
      "|    391|           9243|        8214|         160461|\n",
      "|    391|           8840|       13591|          88602|\n",
      "|    417|           8130|       85792|        1567417|\n",
      "|    504|           7831|       57983|        1927185|\n",
      "|    524|           7217|       90057|        6430549|\n",
      "|    524|           7217|       90057|        6430549|\n",
      "|    524|           7217|       90057|        6430549|\n",
      "|    524|           7217|       90057|        6430549|\n",
      "|    524|           7217|       90057|        6430549|\n",
      "|    524|           7396|       98116|        4574153|\n",
      "|    524|           7217|       90057|        6430549|\n",
      "+-------+---------------+------------+---------------+\n",
      "only showing top 30 rows\n",
      "\n"
     ]
    }
   ],
   "source": [
    "df3.show(30)"
   ]
  },
  {
   "cell_type": "code",
   "execution_count": 41,
   "metadata": {},
   "outputs": [],
   "source": [
    "from pyspark.sql.types import *"
   ]
  },
  {
   "cell_type": "code",
   "execution_count": 42,
   "metadata": {},
   "outputs": [],
   "source": [
    "df3 = df3.withColumn(\"AffiliationRank\",df3[\"AffiliationRank\"].cast(DoubleType()))"
   ]
  },
  {
   "cell_type": "code",
   "execution_count": 43,
   "metadata": {},
   "outputs": [],
   "source": [
    "df3 = df3.withColumn(\"AfPaperCount\",df3[\"AfPaperCount\"].cast(DoubleType()))"
   ]
  },
  {
   "cell_type": "code",
   "execution_count": 44,
   "metadata": {},
   "outputs": [],
   "source": [
    "df3 = df3.withColumn(\"AfCitationCount\",df3[\"AfCitationCount\"].cast(DoubleType()))"
   ]
  },
  {
   "cell_type": "code",
   "execution_count": 45,
   "metadata": {},
   "outputs": [],
   "source": [
    "df3_new = df3.groupBy(\"PaperID\").mean()"
   ]
  },
  {
   "cell_type": "code",
   "execution_count": 46,
   "metadata": {},
   "outputs": [],
   "source": [
    "df3_new = df3_new.sort(\"PaperID\")"
   ]
  },
  {
   "cell_type": "code",
   "execution_count": 49,
   "metadata": {},
   "outputs": [],
   "source": [
    "df6 = PaperRef_df.join(df3_new, on=['PaperID'], how='inner')"
   ]
  },
  {
   "cell_type": "code",
   "execution_count": 51,
   "metadata": {},
   "outputs": [],
   "source": [
    "drop_cols = [\"_1\",\"count\"]\n",
    "df6 = df6.drop(*drop_cols)"
   ]
  },
  {
   "cell_type": "code",
   "execution_count": 52,
   "metadata": {},
   "outputs": [],
   "source": [
    "df8 = df6.join(df1, on=['PaperID'], how='inner')"
   ]
  },
  {
   "cell_type": "code",
   "execution_count": 54,
   "metadata": {},
   "outputs": [],
   "source": [
    "#df8.columns"
   ]
  },
  {
   "cell_type": "code",
   "execution_count": 55,
   "metadata": {},
   "outputs": [
    {
     "name": "stdout",
     "output_type": "stream",
     "text": [
      "+----------+-----------+-------------+--------------------+------------------+--------------------+----------+------------+-------------+--------------+------------+---------------+---------------+------+------------+----------+------+------------+------------------+------------+--------------+-----------------+-----------------+--------------------+--------------------+--------------+\n",
      "|   PaperID|PaperRefCnt| avg(PaperID)|avg(AffiliationRank)| avg(AfPaperCount)|avg(AfCitationCount)|Paper_Rank|Paper_RefCnt|CitationCount|EstimatedCount|Journal_Rank|Journal_Pap_Cnt|Journal_Cit_Cnt|CSRank|CSPaperCount|CSCitation|CIRank|CIPaperCount|CIPaperCitationCnt|DocTypeIndex|max_AuthorRank|min_AutPaperCount|max_AutPaperCount|min_AutCitationCount|max_AutCitationCount|min_AuthorRank|\n",
      "+----------+-----------+-------------+--------------------+------------------+--------------------+----------+------------+-------------+--------------+------------+---------------+---------------+------+------------+----------+------+------------+------------------+------------+--------------+-----------------+-----------------+--------------------+--------------------+--------------+\n",
      "|   9248908|         20|    9248908.0|              7573.5|          144863.0|          6181726.75|     19535|          20|           19|            19|        8166|           4503|         203353| 10367|        6323|    253240| 25000|         457|              7357|         0.0|         18422|                6|              342|                 150|                7999|         14057|\n",
      "| 845365781|         55| 8.45365781E8|              6247.0|          288528.0|         2.0686665E7|     17891|          55|          175|           359|        9072|           9299|         121450|  7775|        6741|    293429| 25000|         702|             16534|         0.0|         16606|                8|              176|                 795|                8024|         14777|\n",
      "|1481837178|          1|1.481837178E9|              8340.5|           47773.0|          1253890.75|     23925|           1|            0|             0|       11743|           1791|           1329|  9978|       45543|     51765| 25000|        1680|              1293|         0.0|         16514|               90|              677|                1037|                8831|         15017|\n",
      "|1482210570|          8| 1.48221057E9|             10069.0|           29203.0|          1051898.25|     22196|           8|            2|             2|       10440|          29101|          57859| 11863|        1245|      4884| 25000|          90|               371|         0.0|         18608|                7|              104|                  85|                 738|         17019|\n",
      "|1492234545|         10|1.492234545E9|              7633.0|          111050.0|           3327188.0|     20907|          10|            2|             2|       10112|           2527|          39251| 13720|         734|      5213| 25000|          50|               100|         0.0|         19559|                3|              256|                   6|                3195|         15666|\n",
      "|1492517684|          2|1.492517684E9|   8620.666666666666| 269648.6666666667|1.0523467666666666E7|     23727|           2|            0|             0|       11743|           1791|           1329|  9978|       45543|     51765| 25000|        1680|              1293|         0.0|         18365|               19|              210|                 109|                2506|         15838|\n",
      "|1518021487|          2|1.518021487E9|              7212.0|          290736.0|           7958894.0|     24578|           2|            0|             0|       11743|           1791|           1329|  9978|       45543|     51765| 25000|        1680|              1293|         0.0|         19757|                1|                1|                   0|                   0|         19757|\n",
      "|1536890176|         15|1.536890176E9|              7278.5|          161181.0|           7277358.5|     19418|          15|           29|            29|        9770|          11408|          87719|  8034|       13698|    162734| 25000|         552|              7337|         0.0|         18217|               21|              346|                 230|                4643|         15285|\n",
      "|1537878009|         17|1.537878009E9|              9015.0|           41366.0|  1219169.3333333333|     21191|          17|            0|             0|        9770|          11408|          87719| 10335|        2272|     19971| 25000|         173|               497|         0.0|         19363|               21|              657|                  34|               26023|         13193|\n",
      "|1549274093|         12|1.549274093E9|              8057.0|          179501.0|           4819716.0|     21268|          12|            1|             1|       10323|            530|           5040| 12586|         724|      1219| 25000|         145|               205|         0.0|         19504|               11|              378|                  14|                2436|         16212|\n",
      "|1557940919|         18|1.557940919E9|              7362.8|           19559.6|            746752.4|     20258|          18|           10|            10|        9929|           1710|          13553|  8240|        5153|    143029| 25000|         215|              1585|         0.0|         17895|                2|              351|                 120|               12450|         14131|\n",
      "|1594006459|         13|1.594006459E9|            10232.75|            8589.5|           203727.75|     22470|          13|            1|             1|        9560|           1787|          12375| 10130|        1462|     13368| 25000|         235|              1376|         0.0|         18884|               11|              164|                  63|                1177|         16060|\n",
      "|1604146487|          4|1.604146487E9|              6524.0|          283021.0|         1.0744369E7|     21440|           4|            3|             3|        9560|           1787|          12375| 10130|        1462|     13368| 25000|         235|              1376|         0.0|         18808|               10|              161|                  55|                 844|         16846|\n",
      "|1608931259|          1|1.608931259E9|              8756.0|          132351.2|           5132549.4|     23860|           1|            0|             0|       11743|           1791|           1329|  9978|       45543|     51765| 25000|        1680|              1293|         0.0|         16919|               78|              387|                 213|                5864|         15063|\n",
      "|1636186653|         18|1.636186653E9|              7436.0|           60265.0|           2000658.0|     21782|          18|            3|             3|        9929|           1710|          13553| 11667|         990|      2151| 25000|          67|               430|         0.0|         18562|               19|              211|                 124|                7692|         14662|\n",
      "|1638471614|         13|1.638471614E9|             8639.25|          76537.75|          2792722.25|     22654|          13|            0|             0|       10484|           3716|           9037| 12605|        1237|      6716| 25000|          50|                70|         0.0|         19757|                2|              107|                   0|                2681|         16401|\n",
      "|1649606249|          6|1.649606249E9|              7041.0|          794193.0|         3.1238168E7|     23513|           6|            1|             1|       12101|            322|            401| 12125|         819|      1983| 25000|         168|               396|         0.0|         19717|                1|                1|                   1|                   1|         19717|\n",
      "|1665851672|         15|1.665851672E9|              9355.0|            6608.0|             85058.0|     22090|          15|            2|             2|        8572|           5372|          64024| 12322|        3967|     17706| 25000|         273|              2165|         0.0|         17285|               37|               37|                 206|                 206|         17285|\n",
      "|1687165158|         39|1.687165158E9|   6802.666666666667|188659.66666666666|   7998833.666666667|     20978|          39|            0|             0|        7814|          13488|         496960|  7851|        5588|    260025| 25000|         699|              1146|         1.0|         18349|               19|              467|                 134|                5392|         15284|\n",
      "|1719129733|          6|1.719129733E9|              9309.0|           26537.0|            425894.0|     23811|           6|            0|             0|        8738|          17049|         177675| 11895|        9342|     55672| 25000|         309|              2590|         0.0|         19757|                1|               11|                   0|                   3|         19088|\n",
      "+----------+-----------+-------------+--------------------+------------------+--------------------+----------+------------+-------------+--------------+------------+---------------+---------------+------+------------+----------+------+------------+------------------+------------+--------------+-----------------+-----------------+--------------------+--------------------+--------------+\n",
      "only showing top 20 rows\n",
      "\n"
     ]
    }
   ],
   "source": [
    "df8.show()"
   ]
  },
  {
   "cell_type": "code",
   "execution_count": 91,
   "metadata": {},
   "outputs": [],
   "source": [
    "df8.coalesce(1).write.format('com.databricks.spark.csv').mode(\"overwrite\").save('DataAfterModel-6.csv',header = 'true')"
   ]
  },
  {
   "cell_type": "code",
   "execution_count": null,
   "metadata": {},
   "outputs": [],
   "source": []
  }
 ],
 "metadata": {
  "kernelspec": {
   "display_name": "Python 2",
   "language": "python",
   "name": "python2"
  },
  "language_info": {
   "codemirror_mode": {
    "name": "ipython",
    "version": 2
   },
   "file_extension": ".py",
   "mimetype": "text/x-python",
   "name": "python",
   "nbconvert_exporter": "python",
   "pygments_lexer": "ipython2",
   "version": "2.7.15rc1"
  }
 },
 "nbformat": 4,
 "nbformat_minor": 2
}
