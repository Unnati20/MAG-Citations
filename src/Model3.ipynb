{
 "cells": [
  {
   "cell_type": "code",
   "execution_count": 1,
   "metadata": {},
   "outputs": [],
   "source": [
    "import findspark\n",
    "findspark.init('/home/sdmohant/spark-3.0.0-bin-hadoop2.7')"
   ]
  },
  {
   "cell_type": "code",
   "execution_count": 2,
   "metadata": {},
   "outputs": [],
   "source": [
    "import pyspark\n",
    "from pyspark import SparkContext,SparkConf"
   ]
  },
  {
   "cell_type": "code",
   "execution_count": 3,
   "metadata": {},
   "outputs": [],
   "source": [
    "from pyspark.sql import SparkSession"
   ]
  },
  {
   "cell_type": "code",
   "execution_count": 5,
   "metadata": {},
   "outputs": [
    {
     "name": "stderr",
     "output_type": "stream",
     "text": [
      "/home/sdmohant/spark-3.0.0-bin-hadoop2.7/python/pyspark/context.py:220: DeprecationWarning: Support for Python 2 and Python 3 prior to version 3.6 is deprecated as of Spark 3.0. See also the plan for dropping Python 2 support at https://spark.apache.org/news/plan-for-dropping-python-2-support.html.\n",
      "  DeprecationWarning)\n"
     ]
    }
   ],
   "source": [
    "conf = SparkConf().set(\"spark.cores.max\", \"16\") \\\n",
    "    .set(\"spark.driver.memory\", \"16g\") \\\n",
    "    .set(\"spark.executor.memory\", \"16g\") \\\n",
    "    .set(\"spark.executor.memory_overhead\", \"16g\") \\\n",
    "    .set(\"spark.driver.maxResultsSize\", \"0\") \\\n",
    "    .set(\"spark.sql.shuffle.partitions\",\"300\")\n",
    "\n",
    "sc = SparkContext(appName=\"testRDD\", conf=conf)\n",
    "spark = SparkSession(sc)"
   ]
  },
  {
   "cell_type": "code",
   "execution_count": 8,
   "metadata": {},
   "outputs": [],
   "source": [
    "from pyspark.sql.functions import isnan, count, col"
   ]
  },
  {
   "cell_type": "code",
   "execution_count": 12,
   "metadata": {},
   "outputs": [],
   "source": [
    "#Read PaperAuthorAffiliations Data\n",
    "PapAuthAffiliations_df = spark.read.options(header = True,delimiter=',',inferSchema=True ).csv(\"PaperAuthorAffilitions.csv\")"
   ]
  },
  {
   "cell_type": "code",
   "execution_count": 13,
   "metadata": {},
   "outputs": [
    {
     "name": "stdout",
     "output_type": "stream",
     "text": [
      "+----------+----------+-------------+--------------------+\n",
      "|   PaperID|  AuthorId|AffiliationId|AuthorSequenceNumber|\n",
      "+----------+----------+-------------+--------------------+\n",
      "|2514067917|2165266595|   1334877674|                   1|\n",
      "|2514067917|2334513227|   1334877674|                   2|\n",
      "|2514067917|2159674999|   1334877674|                   3|\n",
      "|2514067917|2133135916|   1334877674|                   4|\n",
      "|2273582415| 546406812|    205783295|                   4|\n",
      "|2273582415|2109773566|    205783295|                   3|\n",
      "|2273582415|2163045884|    205783295|                   2|\n",
      "|2273582415|1898881442|    205783295|                   1|\n",
      "|1963479517|2296113232|    142823887|                   1|\n",
      "|1963479517|2506097535|    134161618|                   3|\n",
      "|1963479517|2167258348|    134161618|                   2|\n",
      "|2521463243|2160003181|    169521973|                   8|\n",
      "|2521463243|2435365629|    192454743|                   5|\n",
      "|2521463243|2143447455|    192454743|                   2|\n",
      "|2521463243|1819045071|    192454743|                   6|\n",
      "|2521463243|2233775601|    192454743|                   4|\n",
      "|2521463243|2163246430|    192454743|                   1|\n",
      "|2521463243|2113049116|    859038795|                   7|\n",
      "|1963479519|2160972167|    170897317|                   1|\n",
      "|1963479520|2236523250|     52158045|                   1|\n",
      "|1963479520|2167896535|     52158045|                   3|\n",
      "|1963479520|1987703182|     52158045|                   4|\n",
      "|1963479520|2618791750|    179026463|                   2|\n",
      "|1479662652|2114554359|     57206974|                   1|\n",
      "|1479662652|2175819531|     57206974|                   3|\n",
      "|1479662652|2103296552|     57206974|                   2|\n",
      "|2560403240|2153720984|    170897317|                   2|\n",
      "|2560403240|2228237647|     50357001|                   1|\n",
      "|1819117828|2481555453|     32699454|                   1|\n",
      "|1963479524|2692423425|    124357947|                   1|\n",
      "+----------+----------+-------------+--------------------+\n",
      "only showing top 30 rows\n",
      "\n"
     ]
    }
   ],
   "source": [
    "PapAuthAffiliations_df.show(30)"
   ]
  },
  {
   "cell_type": "code",
   "execution_count": 14,
   "metadata": {},
   "outputs": [],
   "source": [
    "#Read Author Data\n",
    "Author_df = spark.read.options(header = 'True',delimiter=',',inferSchema=True ).csv(\"Author.csv\")"
   ]
  },
  {
   "cell_type": "code",
   "execution_count": 17,
   "metadata": {},
   "outputs": [
    {
     "name": "stdout",
     "output_type": "stream",
     "text": [
      "+----------+----------+-----------------+--------------+------------------+-------------+----------------+\n",
      "|  AuthorId|AuthorRank|AutNormalizedName|AutDisplayName|AutLastAffiliation|AutPaperCount|AutCitationCount|\n",
      "+----------+----------+-----------------+--------------+------------------+-------------+----------------+\n",
      "|2136881011|     18252| godson r e e ana|    Godson Ana|           9446555|           39|             166|\n",
      "|2763836685|     19705|     frank p bell| Frank P. Bell|         125749732|            1|               1|\n",
      "+----------+----------+-----------------+--------------+------------------+-------------+----------------+\n",
      "only showing top 2 rows\n",
      "\n"
     ]
    }
   ],
   "source": [
    "Author_df.show(2)"
   ]
  },
  {
   "cell_type": "code",
   "execution_count": 18,
   "metadata": {},
   "outputs": [],
   "source": [
    "drop_cols = [\"AutNormalizedName\",\"AutDisplayName\",\"AutLastAffiliation\"]\n",
    "Author_df = Author_df.drop(*drop_cols)"
   ]
  },
  {
   "cell_type": "code",
   "execution_count": 19,
   "metadata": {},
   "outputs": [],
   "source": [
    "#Joining Paper and Journal Data\n",
    "df = Author_df.join(PapAuthAffiliations_df, on=['AuthorId'], how='inner')"
   ]
  },
  {
   "cell_type": "code",
   "execution_count": 20,
   "metadata": {},
   "outputs": [
    {
     "data": {
      "text/plain": [
       "DataFrame[PaperID: bigint, AuthorId: bigint, AffiliationId: bigint, AuthorSequenceNumber: int]"
      ]
     },
     "execution_count": 20,
     "metadata": {},
     "output_type": "execute_result"
    }
   ],
   "source": [
    "PapAuthAffiliations_df.unpersist()"
   ]
  },
  {
   "cell_type": "code",
   "execution_count": 21,
   "metadata": {},
   "outputs": [
    {
     "data": {
      "text/plain": [
       "DataFrame[AuthorId: bigint, AuthorRank: int, AutPaperCount: int, AutCitationCount: int]"
      ]
     },
     "execution_count": 21,
     "metadata": {},
     "output_type": "execute_result"
    }
   ],
   "source": [
    "Author_df.unpersist()"
   ]
  },
  {
   "cell_type": "code",
   "execution_count": 22,
   "metadata": {},
   "outputs": [],
   "source": [
    "#df.printSchema()"
   ]
  },
  {
   "cell_type": "code",
   "execution_count": 23,
   "metadata": {},
   "outputs": [
    {
     "data": {
      "text/plain": [
       "223953283"
      ]
     },
     "execution_count": 23,
     "metadata": {},
     "output_type": "execute_result"
    }
   ],
   "source": [
    "df.count()"
   ]
  },
  {
   "cell_type": "code",
   "execution_count": 24,
   "metadata": {},
   "outputs": [],
   "source": [
    "df.coalesce(1).write.format('com.databricks.spark.csv').mode(\"overwrite\").save('AuthAndPapAuthAffMerged.csv',header = 'true')"
   ]
  },
  {
   "cell_type": "code",
   "execution_count": null,
   "metadata": {},
   "outputs": [],
   "source": []
  }
 ],
 "metadata": {
  "kernelspec": {
   "display_name": "Python 2",
   "language": "python",
   "name": "python2"
  },
  "language_info": {
   "codemirror_mode": {
    "name": "ipython",
    "version": 2
   },
   "file_extension": ".py",
   "mimetype": "text/x-python",
   "name": "python",
   "nbconvert_exporter": "python",
   "pygments_lexer": "ipython2",
   "version": "2.7.15rc1"
  }
 },
 "nbformat": 4,
 "nbformat_minor": 2
}
