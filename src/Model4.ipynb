{
 "cells": [
  {
   "cell_type": "code",
   "execution_count": 1,
   "metadata": {},
   "outputs": [],
   "source": [
    "import findspark\n",
    "findspark.init('/home/sdmohant/spark-3.0.0-bin-hadoop2.7')"
   ]
  },
  {
   "cell_type": "code",
   "execution_count": 2,
   "metadata": {},
   "outputs": [],
   "source": [
    "import pyspark\n",
    "from pyspark import SparkContext,SparkConf"
   ]
  },
  {
   "cell_type": "code",
   "execution_count": 3,
   "metadata": {},
   "outputs": [],
   "source": [
    "from pyspark.sql import SparkSession"
   ]
  },
  {
   "cell_type": "code",
   "execution_count": 4,
   "metadata": {},
   "outputs": [
    {
     "name": "stderr",
     "output_type": "stream",
     "text": [
      "/home/sdmohant/spark-3.0.0-bin-hadoop2.7/python/pyspark/context.py:220: DeprecationWarning: Support for Python 2 and Python 3 prior to version 3.6 is deprecated as of Spark 3.0. See also the plan for dropping Python 2 support at https://spark.apache.org/news/plan-for-dropping-python-2-support.html.\n",
      "  DeprecationWarning)\n"
     ]
    }
   ],
   "source": [
    "#spark = SparkSession.builder.appName(\"MyName\").getOrCreate()\n",
    "conf = SparkConf().set(\"spark.cores.max\", \"16\") \\\n",
    "    .set(\"spark.driver.memory\", \"16g\") \\\n",
    "    .set(\"spark.executor.memory\", \"16g\") \\\n",
    "    .set(\"spark.executor.memory_overhead\", \"16g\") \\\n",
    "    .set(\"spark.driver.maxResultsSize\", \"0\") \\\n",
    "    .set(\"spark.sql.shuffle.partitions\",\"300\")\n",
    "\n",
    "sc = SparkContext(appName=\"newApp\", conf=conf)\n",
    "spark = SparkSession(sc)"
   ]
  },
  {
   "cell_type": "code",
   "execution_count": 5,
   "metadata": {},
   "outputs": [],
   "source": [
    "from pyspark.sql.functions import isnan, count, col"
   ]
  },
  {
   "cell_type": "code",
   "execution_count": 6,
   "metadata": {},
   "outputs": [],
   "source": [
    "#Read PaperAuthorAffiliations Data\n",
    "AuthAndPapAuthAffMergedDF = spark.read.options(header = True,delimiter=',',inferSchema=True ).csv(\"AuthAndPapAuthAffMerged.csv\")"
   ]
  },
  {
   "cell_type": "code",
   "execution_count": 7,
   "metadata": {},
   "outputs": [
    {
     "name": "stdout",
     "output_type": "stream",
     "text": [
      "+--------+----------+-------------+----------------+----------+-------------+--------------------+\n",
      "|AuthorId|AuthorRank|AutPaperCount|AutCitationCount|   PaperID|AffiliationId|AuthorSequenceNumber|\n",
      "+--------+----------+-------------+----------------+----------+-------------+--------------------+\n",
      "|   15437|     19253|           11|              18|1976958153|     32389192|                   1|\n",
      "|   15437|     19253|           11|              18|2765447610|     32389192|                   2|\n",
      "|   15437|     19253|           11|              18|1994839481|     32389192|                   5|\n",
      "|   15437|     19253|           11|              18|2191263223|     32389192|                   1|\n",
      "|   15437|     19253|           11|              18|2000297367|     32389192|                   5|\n",
      "|   15437|     19253|           11|              18|2175552737|     32389192|                   2|\n",
      "|   15437|     19253|           11|              18|2129465055|     32389192|                   5|\n",
      "|   15437|     19253|           11|              18|2324684188|     32389192|                   4|\n",
      "|   15437|     19253|           11|              18|2148676614|     32389192|                   1|\n",
      "|   15437|     19253|           11|              18|2088556209|     32389192|                   2|\n",
      "+--------+----------+-------------+----------------+----------+-------------+--------------------+\n",
      "only showing top 10 rows\n",
      "\n"
     ]
    }
   ],
   "source": [
    "AuthAndPapAuthAffMergedDF.show(10)"
   ]
  },
  {
   "cell_type": "code",
   "execution_count": 8,
   "metadata": {},
   "outputs": [
    {
     "data": {
      "text/plain": [
       "223953283"
      ]
     },
     "execution_count": 8,
     "metadata": {},
     "output_type": "execute_result"
    }
   ],
   "source": [
    "AuthAndPapAuthAffMergedDF.count()"
   ]
  },
  {
   "cell_type": "code",
   "execution_count": 9,
   "metadata": {},
   "outputs": [
    {
     "data": {
      "text/plain": [
       "71480858"
      ]
     },
     "execution_count": 9,
     "metadata": {},
     "output_type": "execute_result"
    }
   ],
   "source": [
    "AuthAndPapAuthAffMergedDF.select('PaperID').distinct().count()"
   ]
  },
  {
   "cell_type": "code",
   "execution_count": 10,
   "metadata": {},
   "outputs": [
    {
     "data": {
      "text/plain": [
       "7748"
      ]
     },
     "execution_count": 10,
     "metadata": {},
     "output_type": "execute_result"
    }
   ],
   "source": [
    "AuthAndPapAuthAffMergedDF.select('AuthorRank').distinct().count()"
   ]
  },
  {
   "cell_type": "code",
   "execution_count": 11,
   "metadata": {},
   "outputs": [
    {
     "data": {
      "text/plain": [
       "33348681"
      ]
     },
     "execution_count": 11,
     "metadata": {},
     "output_type": "execute_result"
    }
   ],
   "source": [
    "AuthAndPapAuthAffMergedDF.select('AuthorId').distinct().count()"
   ]
  },
  {
   "cell_type": "code",
   "execution_count": 12,
   "metadata": {},
   "outputs": [],
   "source": [
    "#AuthAndPapAuthAffMergedDF = AuthAndPapAuthAffMergedDF.select('*').orderBy('PaperID').collect()"
   ]
  },
  {
   "cell_type": "code",
   "execution_count": 19,
   "metadata": {},
   "outputs": [],
   "source": [
    "from pyspark.sql import Window\n",
    "import pyspark.sql.functions as f\n",
    "w = Window.partitionBy('PaperID')\n",
    "temp_DF = AuthAndPapAuthAffMergedDF.select('PaperID', 'AuthorRank', f.min('AuthorRank').over(w).alias('min_AuthorRank')).sort('PaperID', 'AuthorRank')"
   ]
  },
  {
   "cell_type": "code",
   "execution_count": 20,
   "metadata": {},
   "outputs": [
    {
     "name": "stdout",
     "output_type": "stream",
     "text": [
      "+-------+----------+--------------+\n",
      "|PaperID|AuthorRank|min_AuthorRank|\n",
      "+-------+----------+--------------+\n",
      "|     23|     17530|         17530|\n",
      "|     37|     19569|         19569|\n",
      "|     37|     19697|         19569|\n",
      "|    108|     19728|         19728|\n",
      "|    125|     15665|         15665|\n",
      "+-------+----------+--------------+\n",
      "only showing top 5 rows\n",
      "\n"
     ]
    }
   ],
   "source": [
    "temp_DF.show(5)"
   ]
  },
  {
   "cell_type": "code",
   "execution_count": 21,
   "metadata": {},
   "outputs": [],
   "source": [
    "w = Window.partitionBy('PaperID')\n",
    "temp_DF1 = AuthAndPapAuthAffMergedDF.select('PaperID', 'AuthorRank', f.max('AuthorRank').over(w).alias('max_AuthorRank')).sort('PaperID', 'AuthorRank')"
   ]
  },
  {
   "cell_type": "code",
   "execution_count": 22,
   "metadata": {},
   "outputs": [
    {
     "name": "stdout",
     "output_type": "stream",
     "text": [
      "+-------+----------+--------------+\n",
      "|PaperID|AuthorRank|max_AuthorRank|\n",
      "+-------+----------+--------------+\n",
      "|     23|     17530|         17530|\n",
      "|     37|     19569|         19697|\n",
      "|     37|     19697|         19697|\n",
      "|    108|     19728|         19728|\n",
      "|    125|     15665|         19554|\n",
      "+-------+----------+--------------+\n",
      "only showing top 5 rows\n",
      "\n"
     ]
    }
   ],
   "source": [
    "temp_DF1.show(5)"
   ]
  },
  {
   "cell_type": "code",
   "execution_count": 23,
   "metadata": {},
   "outputs": [],
   "source": [
    "w = Window.partitionBy('PaperID')\n",
    "temp_DF2 = AuthAndPapAuthAffMergedDF.select('PaperID', 'AuthorRank', 'AutPaperCount', 'AutCitationCount', f.max('AuthorRank').over(w).alias('max_AuthorRank')).sort('PaperID', 'AuthorRank')"
   ]
  },
  {
   "cell_type": "code",
   "execution_count": 24,
   "metadata": {},
   "outputs": [
    {
     "name": "stdout",
     "output_type": "stream",
     "text": [
      "+-------+----------+-------------+----------------+--------------+\n",
      "|PaperID|AuthorRank|AutPaperCount|AutCitationCount|max_AuthorRank|\n",
      "+-------+----------+-------------+----------------+--------------+\n",
      "|     23|     17530|          117|             459|         17530|\n",
      "|     37|     19569|            4|               8|         19697|\n",
      "+-------+----------+-------------+----------------+--------------+\n",
      "only showing top 2 rows\n",
      "\n"
     ]
    }
   ],
   "source": [
    "temp_DF2.show(2)"
   ]
  },
  {
   "cell_type": "code",
   "execution_count": 25,
   "metadata": {},
   "outputs": [],
   "source": [
    "w = Window.partitionBy('PaperID')\n",
    "temp_DF2 = AuthAndPapAuthAffMergedDF.select('PaperID', 'AuthorRank', 'AutPaperCount', 'AutCitationCount', f.max('AuthorRank').over(w).alias('min_AuthorRank')).sort('PaperID', 'AuthorRank')"
   ]
  },
  {
   "cell_type": "code",
   "execution_count": 26,
   "metadata": {},
   "outputs": [
    {
     "name": "stdout",
     "output_type": "stream",
     "text": [
      "+-------+----------+-------------+----------------+--------------+\n",
      "|PaperID|AuthorRank|AutPaperCount|AutCitationCount|min_AuthorRank|\n",
      "+-------+----------+-------------+----------------+--------------+\n",
      "|     23|     17530|          117|             459|         17530|\n",
      "|     37|     19569|            4|               8|         19697|\n",
      "+-------+----------+-------------+----------------+--------------+\n",
      "only showing top 2 rows\n",
      "\n"
     ]
    }
   ],
   "source": [
    "temp_DF2.show(2)"
   ]
  },
  {
   "cell_type": "code",
   "execution_count": 28,
   "metadata": {},
   "outputs": [],
   "source": [
    "w = Window.partitionBy('PaperID')\n",
    "temp_DF2 = temp_DF2.select('PaperID', 'AuthorRank', 'AutPaperCount', 'AutCitationCount', 'min_AuthorRank', f.max('AuthorRank').over(w).alias('max_AuthorRank')).sort('PaperID', 'AuthorRank')"
   ]
  },
  {
   "cell_type": "code",
   "execution_count": 29,
   "metadata": {},
   "outputs": [
    {
     "name": "stdout",
     "output_type": "stream",
     "text": [
      "+-------+----------+-------------+----------------+--------------+--------------+\n",
      "|PaperID|AuthorRank|AutPaperCount|AutCitationCount|min_AuthorRank|max_AuthorRank|\n",
      "+-------+----------+-------------+----------------+--------------+--------------+\n",
      "|     23|     17530|          117|             459|         17530|         17530|\n",
      "|     37|     19569|            4|               8|         19697|         19697|\n",
      "+-------+----------+-------------+----------------+--------------+--------------+\n",
      "only showing top 2 rows\n",
      "\n"
     ]
    }
   ],
   "source": [
    "temp_DF2.show(2)"
   ]
  },
  {
   "cell_type": "code",
   "execution_count": 32,
   "metadata": {},
   "outputs": [],
   "source": [
    "temp_DF2 = temp_DF2.select('PaperID', 'AuthorRank', 'AutPaperCount', 'AutCitationCount', 'min_AuthorRank','max_AuthorRank', f.min('AutPaperCount').over(w).alias('min_AutPaperCount')).sort('PaperID', 'AuthorRank')"
   ]
  },
  {
   "cell_type": "code",
   "execution_count": 33,
   "metadata": {},
   "outputs": [],
   "source": [
    "temp_DF2 = temp_DF2.select('PaperID', 'AuthorRank', 'AutPaperCount', 'AutCitationCount', 'min_AuthorRank','max_AuthorRank','min_AutPaperCount', f.max('AutPaperCount').over(w).alias('max_AutPaperCount')).sort('PaperID', 'AuthorRank')"
   ]
  },
  {
   "cell_type": "code",
   "execution_count": 34,
   "metadata": {},
   "outputs": [],
   "source": [
    "temp_DF2 = temp_DF2.select('PaperID', 'AuthorRank', 'AutPaperCount', 'AutCitationCount', 'min_AuthorRank','max_AuthorRank','min_AutPaperCount','max_AutPaperCount', f.min('AutCitationCount').over(w).alias('min_AutCitationCount')).sort('PaperID', 'AuthorRank')"
   ]
  },
  {
   "cell_type": "code",
   "execution_count": 35,
   "metadata": {},
   "outputs": [],
   "source": [
    "temp_DF2 = temp_DF2.select('PaperID', 'AuthorRank', 'AutPaperCount', 'AutCitationCount', 'min_AuthorRank','max_AuthorRank','min_AutPaperCount','max_AutPaperCount', 'min_AutCitationCount', f.max('AutCitationCount').over(w).alias('max_AutCitationCount')).sort('PaperID', 'AuthorRank')"
   ]
  },
  {
   "cell_type": "code",
   "execution_count": 36,
   "metadata": {},
   "outputs": [
    {
     "name": "stdout",
     "output_type": "stream",
     "text": [
      "+-------+----------+-------------+----------------+--------------+--------------+-----------------+-----------------+--------------------+--------------------+\n",
      "|PaperID|AuthorRank|AutPaperCount|AutCitationCount|min_AuthorRank|max_AuthorRank|min_AutPaperCount|max_AutPaperCount|min_AutCitationCount|max_AutCitationCount|\n",
      "+-------+----------+-------------+----------------+--------------+--------------+-----------------+-----------------+--------------------+--------------------+\n",
      "|     23|     17530|          117|             459|         17530|         17530|              117|              117|                 459|                 459|\n",
      "|     37|     19569|            4|               8|         19697|         19697|                2|                4|                   3|                   8|\n",
      "|     37|     19697|            2|               3|         19697|         19697|                2|                4|                   3|                   8|\n",
      "|    108|     19728|            1|               1|         19728|         19728|                1|                1|                   1|                   1|\n",
      "|    125|     15665|          159|            1738|         19554|         19554|                2|              159|                   3|                1738|\n",
      "|    125|     17694|            5|              45|         19554|         19554|                2|              159|                   3|                1738|\n",
      "|    125|     18566|            3|              23|         19554|         19554|                2|              159|                   3|                1738|\n",
      "|    125|     19554|            2|               3|         19554|         19554|                2|              159|                   3|                1738|\n",
      "|    136|     14384|          102|            7775|         16809|         16809|                3|              102|                 386|                7775|\n",
      "|    136|     16809|            3|             386|         16809|         16809|                3|              102|                 386|                7775|\n",
      "+-------+----------+-------------+----------------+--------------+--------------+-----------------+-----------------+--------------------+--------------------+\n",
      "only showing top 10 rows\n",
      "\n"
     ]
    }
   ],
   "source": [
    "temp_DF2.show(10)"
   ]
  },
  {
   "cell_type": "code",
   "execution_count": 38,
   "metadata": {},
   "outputs": [],
   "source": [
    "temp_DF2 = temp_DF2.select('PaperID', 'AuthorRank', 'AutPaperCount', 'AutCitationCount', 'max_AuthorRank','min_AutPaperCount','max_AutPaperCount', 'min_AutCitationCount','max_AutCitationCount', f.min('AuthorRank').over(w).alias('min_AuthorRank')).sort('PaperID', 'AuthorRank')"
   ]
  },
  {
   "cell_type": "code",
   "execution_count": 40,
   "metadata": {},
   "outputs": [
    {
     "name": "stdout",
     "output_type": "stream",
     "text": [
      "+-------+----------+-------------+----------------+--------------+-----------------+-----------------+--------------------+--------------------+--------------+\n",
      "|PaperID|AuthorRank|AutPaperCount|AutCitationCount|max_AuthorRank|min_AutPaperCount|max_AutPaperCount|min_AutCitationCount|max_AutCitationCount|min_AuthorRank|\n",
      "+-------+----------+-------------+----------------+--------------+-----------------+-----------------+--------------------+--------------------+--------------+\n",
      "|     23|     17530|          117|             459|         17530|              117|              117|                 459|                 459|         17530|\n",
      "|     37|     19569|            4|               8|         19697|                2|                4|                   3|                   8|         19569|\n",
      "|     37|     19697|            2|               3|         19697|                2|                4|                   3|                   8|         19569|\n",
      "|    108|     19728|            1|               1|         19728|                1|                1|                   1|                   1|         19728|\n",
      "|    125|     15665|          159|            1738|         19554|                2|              159|                   3|                1738|         15665|\n",
      "|    125|     17694|            5|              45|         19554|                2|              159|                   3|                1738|         15665|\n",
      "|    125|     18566|            3|              23|         19554|                2|              159|                   3|                1738|         15665|\n",
      "|    125|     19554|            2|               3|         19554|                2|              159|                   3|                1738|         15665|\n",
      "|    136|     14384|          102|            7775|         16809|                3|              102|                 386|                7775|         14384|\n",
      "|    136|     16809|            3|             386|         16809|                3|              102|                 386|                7775|         14384|\n",
      "+-------+----------+-------------+----------------+--------------+-----------------+-----------------+--------------------+--------------------+--------------+\n",
      "only showing top 10 rows\n",
      "\n"
     ]
    }
   ],
   "source": [
    "temp_DF2.show(10)"
   ]
  },
  {
   "cell_type": "code",
   "execution_count": 46,
   "metadata": {},
   "outputs": [],
   "source": [
    "drop_cols = ['AuthorRank','AutPaperCount','AutCitationCount']\n",
    "temp_DF2 = temp_DF2.drop(*drop_cols)"
   ]
  },
  {
   "cell_type": "code",
   "execution_count": 47,
   "metadata": {},
   "outputs": [
    {
     "name": "stdout",
     "output_type": "stream",
     "text": [
      "+-------+--------------+-----------------+-----------------+--------------------+--------------------+--------------+\n",
      "|PaperID|max_AuthorRank|min_AutPaperCount|max_AutPaperCount|min_AutCitationCount|max_AutCitationCount|min_AuthorRank|\n",
      "+-------+--------------+-----------------+-----------------+--------------------+--------------------+--------------+\n",
      "|     23|         17530|              117|              117|                 459|                 459|         17530|\n",
      "|     37|         19697|                2|                4|                   3|                   8|         19569|\n",
      "+-------+--------------+-----------------+-----------------+--------------------+--------------------+--------------+\n",
      "only showing top 2 rows\n",
      "\n"
     ]
    }
   ],
   "source": [
    "temp_DF2.show(2)"
   ]
  },
  {
   "cell_type": "code",
   "execution_count": 48,
   "metadata": {},
   "outputs": [],
   "source": [
    "PapJouCSCI = spark.read.options(header = True, inferSchema = True,delimiter=',').csv(\"PapJournalCSCI.csv\")"
   ]
  },
  {
   "cell_type": "code",
   "execution_count": 49,
   "metadata": {},
   "outputs": [
    {
     "name": "stdout",
     "output_type": "stream",
     "text": [
      "+--------------+------------+---------+----------+----------+------------+-------------+--------------+------------+---------------+---------------+------+------------+----------+------+------------+------------------+------------+\n",
      "|ConfInstanceID|ConfSeriesID|JournalID|   PaperID|Paper_Rank|Paper_RefCnt|CitationCount|EstimatedCount|Journal_Rank|Journal_Pap_Cnt|Journal_Cit_Cnt|CSRank|CSPaperCount|CSCitation|CIRank|CIPaperCount|CIPaperCitationCnt|DocTypeIndex|\n",
      "+--------------+------------+---------+----------+----------+------------+-------------+--------------+------------+---------------+---------------+------+------------+----------+------+------------+------------------+------------+\n",
      "|    2735348883|  2734834919| 23074404|1819143627|     24199|           0|            0|             0|        9728|           9284|          64351| 11187|        4309|      6256| 25000|         405|               759|         0.0|\n",
      "|     180417304|  1141689323|137519996|1963578506|     22929|          16|            0|             0|        9694|           4073|          16612| 11674|        7218|      7851| 25000|        1061|              1162|         0.0|\n",
      "+--------------+------------+---------+----------+----------+------------+-------------+--------------+------------+---------------+---------------+------+------------+----------+------+------------+------------------+------------+\n",
      "only showing top 2 rows\n",
      "\n"
     ]
    }
   ],
   "source": [
    "PapJouCSCI.show(2)"
   ]
  },
  {
   "cell_type": "code",
   "execution_count": 50,
   "metadata": {},
   "outputs": [],
   "source": [
    "drop_cols = ['ConfInstanceID','ConfSeriesID','JournalID']\n",
    "PapJouCSCI = PapJouCSCI.drop(*drop_cols)"
   ]
  },
  {
   "cell_type": "code",
   "execution_count": 51,
   "metadata": {},
   "outputs": [
    {
     "data": {
      "text/plain": [
       "90728"
      ]
     },
     "execution_count": 51,
     "metadata": {},
     "output_type": "execute_result"
    }
   ],
   "source": [
    "PapJouCSCI.count()"
   ]
  },
  {
   "cell_type": "code",
   "execution_count": 54,
   "metadata": {},
   "outputs": [
    {
     "data": {
      "text/plain": [
       "71480858"
      ]
     },
     "execution_count": 54,
     "metadata": {},
     "output_type": "execute_result"
    }
   ],
   "source": [
    "temp_DF2.selectdistinct().count()"
   ]
  },
  {
   "cell_type": "code",
   "execution_count": 60,
   "metadata": {},
   "outputs": [
    {
     "data": {
      "text/plain": [
       "71480858"
      ]
     },
     "execution_count": 60,
     "metadata": {},
     "output_type": "execute_result"
    }
   ],
   "source": [
    "temp_DF2.select(\"PaperID\").distinct().count()"
   ]
  },
  {
   "cell_type": "code",
   "execution_count": 61,
   "metadata": {},
   "outputs": [],
   "source": [
    "final_df = PapJouCSCI.join(temp_DF2, on=['PaperID'], how='inner')"
   ]
  },
  {
   "cell_type": "code",
   "execution_count": 62,
   "metadata": {},
   "outputs": [
    {
     "data": {
      "text/plain": [
       "266425"
      ]
     },
     "execution_count": 62,
     "metadata": {},
     "output_type": "execute_result"
    }
   ],
   "source": [
    "final_df.count()"
   ]
  },
  {
   "cell_type": "code",
   "execution_count": 66,
   "metadata": {},
   "outputs": [],
   "source": [
    "final_df1 =  final_df.dropDuplicates()"
   ]
  },
  {
   "cell_type": "code",
   "execution_count": 67,
   "metadata": {},
   "outputs": [
    {
     "data": {
      "text/plain": [
       "82711"
      ]
     },
     "execution_count": 67,
     "metadata": {},
     "output_type": "execute_result"
    }
   ],
   "source": [
    "final_df1.count()"
   ]
  },
  {
   "cell_type": "code",
   "execution_count": 68,
   "metadata": {},
   "outputs": [],
   "source": [
    "final_df1.coalesce(1).write.format('com.databricks.spark.csv').mode(\"overwrite\").save('AutPapJouCSCI.csv',header = 'true')"
   ]
  },
  {
   "cell_type": "code",
   "execution_count": null,
   "metadata": {},
   "outputs": [],
   "source": []
  }
 ],
 "metadata": {
  "kernelspec": {
   "display_name": "Python 2",
   "language": "python",
   "name": "python2"
  },
  "language_info": {
   "codemirror_mode": {
    "name": "ipython",
    "version": 2
   },
   "file_extension": ".py",
   "mimetype": "text/x-python",
   "name": "python",
   "nbconvert_exporter": "python",
   "pygments_lexer": "ipython2",
   "version": "2.7.15rc1"
  }
 },
 "nbformat": 4,
 "nbformat_minor": 2
}
