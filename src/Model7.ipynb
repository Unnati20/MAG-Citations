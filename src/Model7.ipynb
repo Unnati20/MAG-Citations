{
 "cells": [
  {
   "cell_type": "code",
   "execution_count": null,
   "metadata": {},
   "outputs": [],
   "source": [
    "import findspark\n",
    "findspark.init('/home/sdmohant/spark-3.0.0-bin-hadoop2.7')"
   ]
  },
  {
   "cell_type": "code",
   "execution_count": 2,
   "metadata": {},
   "outputs": [],
   "source": [
    "import pyspark\n",
    "from pyspark import SparkContext,SparkConf"
   ]
  },
  {
   "cell_type": "code",
   "execution_count": 3,
   "metadata": {},
   "outputs": [],
   "source": [
    "from pyspark.sql import SparkSession"
   ]
  },
  {
   "cell_type": "code",
   "execution_count": 4,
   "metadata": {},
   "outputs": [
    {
     "name": "stderr",
     "output_type": "stream",
     "text": [
      "/home/sdmohant/spark-3.0.0-bin-hadoop2.7/python/pyspark/context.py:220: DeprecationWarning: Support for Python 2 and Python 3 prior to version 3.6 is deprecated as of Spark 3.0. See also the plan for dropping Python 2 support at https://spark.apache.org/news/plan-for-dropping-python-2-support.html.\n",
      "  DeprecationWarning)\n"
     ]
    }
   ],
   "source": [
    "#spark = SparkSession.builder.appName(\"MyApp\").getOrCreate()\n",
    "#spark = SparkSession.builder.appName(\"MyName\").getOrCreate()\n",
    "conf = SparkConf().set(\"spark.cores.max\", \"16\") \\\n",
    "    .set(\"spark.driver.memory\", \"16g\") \\\n",
    "    .set(\"spark.executor.memory\", \"16g\") \\\n",
    "    .set(\"spark.executor.memory_overhead\", \"16g\") \\\n",
    "    .set(\"spark.driver.maxResultsSize\", \"0\") \\\n",
    "    .set(\"spark.sql.shuffle.partitions\",\"300\")\n",
    "\n",
    "sc = SparkContext(appName=\"model7\", conf=conf)\n",
    "spark = SparkSession(sc)"
   ]
  },
  {
   "cell_type": "code",
   "execution_count": 5,
   "metadata": {},
   "outputs": [],
   "source": [
    "from pyspark.sql.functions import isnan, count, col, when"
   ]
  },
  {
   "cell_type": "code",
   "execution_count": 6,
   "metadata": {},
   "outputs": [],
   "source": [
    "#df1 = spark.read.options(header = True, inferSchema = True,delimiter=',').csv(\"AutPapJouCSCI.csv\")"
   ]
  },
  {
   "cell_type": "code",
   "execution_count": 7,
   "metadata": {},
   "outputs": [],
   "source": [
    "df2 = spark.read.options(header = True, inferSchema = True,delimiter=',').csv(\"DataAfterModel-6.csv\")"
   ]
  },
  {
   "cell_type": "code",
   "execution_count": 8,
   "metadata": {},
   "outputs": [],
   "source": [
    "#df1.printSchema()"
   ]
  },
  {
   "cell_type": "code",
   "execution_count": 9,
   "metadata": {},
   "outputs": [
    {
     "name": "stdout",
     "output_type": "stream",
     "text": [
      "root\n",
      " |-- PaperID: long (nullable = true)\n",
      " |-- PaperRefCnt: integer (nullable = true)\n",
      " |-- avg(PaperID): double (nullable = true)\n",
      " |-- avg(AffiliationRank): double (nullable = true)\n",
      " |-- avg(AfPaperCount): double (nullable = true)\n",
      " |-- avg(AfCitationCount): double (nullable = true)\n",
      " |-- Paper_Rank: integer (nullable = true)\n",
      " |-- Paper_RefCnt: integer (nullable = true)\n",
      " |-- CitationCount: integer (nullable = true)\n",
      " |-- EstimatedCount: integer (nullable = true)\n",
      " |-- Journal_Rank: integer (nullable = true)\n",
      " |-- Journal_Pap_Cnt: integer (nullable = true)\n",
      " |-- Journal_Cit_Cnt: integer (nullable = true)\n",
      " |-- CSRank: integer (nullable = true)\n",
      " |-- CSPaperCount: integer (nullable = true)\n",
      " |-- CSCitation: integer (nullable = true)\n",
      " |-- CIRank: integer (nullable = true)\n",
      " |-- CIPaperCount: integer (nullable = true)\n",
      " |-- CIPaperCitationCnt: integer (nullable = true)\n",
      " |-- DocTypeIndex: double (nullable = true)\n",
      " |-- max_AuthorRank: integer (nullable = true)\n",
      " |-- min_AutPaperCount: integer (nullable = true)\n",
      " |-- max_AutPaperCount: integer (nullable = true)\n",
      " |-- min_AutCitationCount: integer (nullable = true)\n",
      " |-- max_AutCitationCount: integer (nullable = true)\n",
      " |-- min_AuthorRank: integer (nullable = true)\n",
      "\n"
     ]
    }
   ],
   "source": [
    "df2.printSchema()"
   ]
  },
  {
   "cell_type": "code",
   "execution_count": 10,
   "metadata": {},
   "outputs": [],
   "source": [
    "import numpy as np \n",
    "import matplotlib.pyplot as plt \n",
    "import pandas as pd"
   ]
  },
  {
   "cell_type": "code",
   "execution_count": 11,
   "metadata": {},
   "outputs": [],
   "source": [
    "df2 = df2.toPandas()"
   ]
  },
  {
   "cell_type": "code",
   "execution_count": 12,
   "metadata": {},
   "outputs": [],
   "source": [
    "corr = df2.corr()"
   ]
  },
  {
   "cell_type": "code",
   "execution_count": 13,
   "metadata": {},
   "outputs": [
    {
     "data": {
      "text/plain": [
       "26"
      ]
     },
     "execution_count": 13,
     "metadata": {},
     "output_type": "execute_result"
    }
   ],
   "source": [
    "len(df2.columns)"
   ]
  },
  {
   "cell_type": "code",
   "execution_count": 14,
   "metadata": {},
   "outputs": [],
   "source": [
    "#corr = corr.style.background_gradient(cmap='coolwarm', axis=None)"
   ]
  },
  {
   "cell_type": "code",
   "execution_count": 15,
   "metadata": {},
   "outputs": [],
   "source": [
    "df2.drop(['PaperID', 'EstimatedCount','avg(PaperID)'], axis=1, inplace=True)"
   ]
  },
  {
   "cell_type": "code",
   "execution_count": 16,
   "metadata": {},
   "outputs": [],
   "source": [
    "df2 = df2[[\"PaperRefCnt\", \"avg(AffiliationRank)\",\"avg(AfPaperCount)\",\"avg(AfCitationCount)\",\"Paper_Rank\",\"Paper_RefCnt\",\"Journal_Rank\", \\\n",
    "          \"Journal_Pap_Cnt\",\"Journal_Cit_Cnt\",\"CSRank\",\"CSPaperCount\",\"CSCitation\",\"CIRank\",\"CIPaperCount\",\"CIPaperCitationCnt\",\\\n",
    "          \"DocTypeIndex\",\"max_AuthorRank\",\"min_AutPaperCount\",\"max_AutPaperCount\",\"min_AutCitationCount\",\"max_AutCitationCount\",\\\n",
    "          \"min_AuthorRank\",\"CitationCount\"]]"
   ]
  },
  {
   "cell_type": "code",
   "execution_count": 17,
   "metadata": {},
   "outputs": [
    {
     "data": {
      "text/plain": [
       "(76900, 23)"
      ]
     },
     "execution_count": 17,
     "metadata": {},
     "output_type": "execute_result"
    }
   ],
   "source": [
    "df2.shape"
   ]
  },
  {
   "cell_type": "code",
   "execution_count": 18,
   "metadata": {},
   "outputs": [
    {
     "data": {
      "text/plain": [
       "list"
      ]
     },
     "execution_count": 18,
     "metadata": {},
     "output_type": "execute_result"
    }
   ],
   "source": [
    "bins=df2['CitationCount'].quantile([0,.05,0.1,0.15,0.20,0.25,0.3,0.35,0.40,0.45,0.5,0.55,0.6,0.65,0.70,0.75,0.80,0.85,0.90,0.95,1]).tolist()\n",
    "type(bins)"
   ]
  },
  {
   "cell_type": "code",
   "execution_count": 19,
   "metadata": {},
   "outputs": [],
   "source": [
    "import matplotlib.pyplot as plt\n",
    "%matplotlib inline"
   ]
  },
  {
   "cell_type": "code",
   "execution_count": 20,
   "metadata": {},
   "outputs": [
    {
     "name": "stderr",
     "output_type": "stream",
     "text": [
      "/home/sdmohant/.virtualenvs/datascience/local/lib/python2.7/site-packages/matplotlib/axes/_axes.py:6571: UserWarning: The 'normed' kwarg is deprecated, and has been replaced by the 'density' kwarg.\n",
      "  warnings.warn(\"The 'normed' kwarg is deprecated, and has been \"\n",
      "/home/sdmohant/.virtualenvs/datascience/local/lib/python2.7/site-packages/numpy/lib/histograms.py:823: RuntimeWarning: invalid value encountered in true_divide\n",
      "  return n/db/n.sum(), bin_edges\n"
     ]
    },
    {
     "data": {
      "text/plain": [
       "(array([           nan,            nan,            nan,            nan,\n",
       "        2.00325098e-01,            nan, 1.12509753e-01, 8.62158648e-02,\n",
       "                   nan, 6.62418726e-02, 5.35630689e-02, 4.44603381e-02,\n",
       "        3.41092328e-02, 2.52925878e-02, 1.83008236e-02, 1.22782835e-02,\n",
       "        7.76549632e-03, 4.49501517e-03, 1.86485575e-03, 1.16690934e-05]),\n",
       " array([0.000e+00, 0.000e+00, 0.000e+00, 0.000e+00, 0.000e+00, 1.000e+00,\n",
       "        1.000e+00, 2.000e+00, 3.000e+00, 3.000e+00, 4.000e+00, 5.000e+00,\n",
       "        6.000e+00, 8.000e+00, 1.000e+01, 1.300e+01, 1.800e+01, 2.400e+01,\n",
       "        3.600e+01, 6.300e+01, 4.408e+03]),\n",
       " <a list of 1 Patch objects>)"
      ]
     },
     "execution_count": 20,
     "metadata": {},
     "output_type": "execute_result"
    },
    {
     "data": {
      "image/png": "[encoded data removed]",
      "text/plain": [
       "<Figure size 432x288 with 1 Axes>"
      ]
     },
     "metadata": {},
     "output_type": "display_data"
    }
   ],
   "source": [
    "plt.hist(df2['CitationCount'], bins=bins, normed=True, alpha=0.5, histtype='stepfilled', color='steelblue', edgecolor='none')"
   ]
  },
  {
   "cell_type": "code",
   "execution_count": 21,
   "metadata": {},
   "outputs": [
    {
     "data": {
      "text/plain": [
       "array([[<matplotlib.axes._subplots.AxesSubplot object at 0x7fd2d185da10>]],\n",
       "      dtype=object)"
      ]
     },
     "execution_count": 21,
     "metadata": {},
     "output_type": "execute_result"
    },
    {
     "data": {
      "image/png": "[encoded data removed]",
      "text/plain": [
       "<Figure size 432x288 with 1 Axes>"
      ]
     },
     "metadata": {},
     "output_type": "display_data"
    }
   ],
   "source": [
    "df2.hist(column=\"CitationCount\", bins=[0,20,40,60,80,100,250,500,1000])"
   ]
  },
  {
   "cell_type": "code",
   "execution_count": 22,
   "metadata": {},
   "outputs": [],
   "source": [
    "X_train = df2.iloc[0:60000, 0:22].values\n",
    "y_train = df2.iloc[:60000, 22].values"
   ]
  },
  {
   "cell_type": "code",
   "execution_count": 23,
   "metadata": {},
   "outputs": [],
   "source": [
    "X_test = df2.iloc[60000:, 0:22].values\n",
    "y_test = df2.iloc[60000:, 22].values"
   ]
  },
  {
   "cell_type": "code",
   "execution_count": 24,
   "metadata": {},
   "outputs": [],
   "source": [
    "# Feature Scaling\n",
    "from sklearn.preprocessing import StandardScaler\n",
    "\n",
    "sc = StandardScaler()\n",
    "X_train = sc.fit_transform(X_train)\n",
    "X_test = sc.transform(X_test)"
   ]
  },
  {
   "cell_type": "code",
   "execution_count": 25,
   "metadata": {},
   "outputs": [
    {
     "data": {
      "text/plain": [
       "RandomForestRegressor(bootstrap=True, criterion='mse', max_depth=None,\n",
       "           max_features='auto', max_leaf_nodes=None,\n",
       "           min_impurity_decrease=0.0, min_impurity_split=None,\n",
       "           min_samples_leaf=1, min_samples_split=2,\n",
       "           min_weight_fraction_leaf=0.0, n_estimators=20, n_jobs=None,\n",
       "           oob_score=False, random_state=0, verbose=0, warm_start=False)"
      ]
     },
     "execution_count": 25,
     "metadata": {},
     "output_type": "execute_result"
    }
   ],
   "source": [
    "from sklearn.ensemble import RandomForestRegressor\n",
    "\n",
    "regressor = RandomForestRegressor(n_estimators=20, random_state=0)\n",
    "regressor.fit(X_train, y_train)"
   ]
  },
  {
   "cell_type": "code",
   "execution_count": 26,
   "metadata": {},
   "outputs": [],
   "source": [
    "y_pred = regressor.predict(X_test)"
   ]
  },
  {
   "cell_type": "code",
   "execution_count": 27,
   "metadata": {},
   "outputs": [
    {
     "name": "stdout",
     "output_type": "stream",
     "text": [
      "('Mean Absolute Error:', 4.596316568047337)\n",
      "('Mean Squared Error:', 860.8895785502958)\n",
      "('Root Mean Squared Error:', 29.340919865442117)\n"
     ]
    }
   ],
   "source": [
    "from sklearn import metrics\n",
    "\n",
    "print('Mean Absolute Error:', metrics.mean_absolute_error(y_test, y_pred))\n",
    "\n",
    "print('Mean Squared Error:', metrics.mean_squared_error(y_test, y_pred))\n",
    "print('Root Mean Squared Error:', np.sqrt(metrics.mean_squared_error(y_test, y_pred)))"
   ]
  },
  {
   "cell_type": "markdown",
   "metadata": {},
   "source": [
    "## Random split"
   ]
  },
  {
   "cell_type": "code",
   "execution_count": 28,
   "metadata": {},
   "outputs": [],
   "source": [
    "X = df2.iloc[:, 0:22].values\n",
    "y = df2.iloc[:, 22].values"
   ]
  },
  {
   "cell_type": "code",
   "execution_count": 29,
   "metadata": {},
   "outputs": [],
   "source": [
    "from sklearn.model_selection import train_test_split\n",
    "\n",
    "X_train, X_test, y_train, y_test = train_test_split(X, y, test_size=0.3, random_state=0)"
   ]
  },
  {
   "cell_type": "code",
   "execution_count": 30,
   "metadata": {},
   "outputs": [],
   "source": [
    "#heights, bin_bounds = np.histogram(y_train, bins=3)"
   ]
  },
  {
   "cell_type": "code",
   "execution_count": 31,
   "metadata": {},
   "outputs": [],
   "source": [
    "\n",
    "plt.rcParams.update({'figure.figsize':(7,5), 'figure.dpi':100})\n",
    "\n"
   ]
  },
  {
   "cell_type": "code",
   "execution_count": 32,
   "metadata": {},
   "outputs": [
    {
     "data": {
      "image/png": "[encoded data removed]",
      "text/plain": [
       "<Figure size 700x500 with 1 Axes>"
      ]
     },
     "metadata": {},
     "output_type": "display_data"
    }
   ],
   "source": [
    "plt.hist(y_test, bins = [0,20,40,60,80,100,250,500,1000]) \n",
    "plt.title(\"Citation Count in Test Set\") \n",
    "plt.show()"
   ]
  },
  {
   "cell_type": "code",
   "execution_count": 33,
   "metadata": {},
   "outputs": [
    {
     "data": {
      "image/png": "[encoded data removed]",
      "text/plain": [
       "<Figure size 700x500 with 1 Axes>"
      ]
     },
     "metadata": {},
     "output_type": "display_data"
    }
   ],
   "source": [
    "plt.hist(y_train, bins = [0,20,40,60,80,100,250,500,1000]) \n",
    "plt.title(\"Citation count in Train Set\") \n",
    "plt.show()"
   ]
  },
  {
   "cell_type": "code",
   "execution_count": 34,
   "metadata": {},
   "outputs": [],
   "source": [
    "#x = np.random.normal(size = 1000)\n",
    "#kwargs = dict(alpha=0.5, bins=100, density=True, stacked=True)\n",
    "#plt.hist(x1, **kwargs, color='g', label='Ideal')\n",
    "#plt.hist(y_train,*kwargs, color='g', label='Ideal')\n",
    "#plt.gca().set(title='Frequency Histogram of Citations', ylabel='Frequency')\n",
    "#plt.xlim(50,75)\n",
    "#plt.legend();"
   ]
  },
  {
   "cell_type": "code",
   "execution_count": 35,
   "metadata": {},
   "outputs": [],
   "source": [
    "# Feature Scaling\n",
    "from sklearn.preprocessing import StandardScaler\n",
    "\n",
    "sc = StandardScaler()\n",
    "X_train = sc.fit_transform(X_train)\n",
    "X_test = sc.transform(X_test)"
   ]
  },
  {
   "cell_type": "code",
   "execution_count": 36,
   "metadata": {},
   "outputs": [],
   "source": [
    "from sklearn.ensemble import RandomForestRegressor\n",
    "\n",
    "regressor = RandomForestRegressor(n_estimators=20, random_state=0)\n",
    "regressor.fit(X_train, y_train)\n",
    "y_pred = regressor.predict(X_test)"
   ]
  },
  {
   "cell_type": "code",
   "execution_count": 37,
   "metadata": {},
   "outputs": [
    {
     "name": "stdout",
     "output_type": "stream",
     "text": [
      "('Mean Absolute Error:', 4.106512787169484)\n",
      "('Mean Squared Error:', 408.5626383831816)\n",
      "('Root Mean Squared Error:', 20.212932453832167)\n"
     ]
    }
   ],
   "source": [
    "print('Mean Absolute Error:', metrics.mean_absolute_error(y_test, y_pred))\n",
    "print('Mean Squared Error:', metrics.mean_squared_error(y_test, y_pred))\n",
    "print('Root Mean Squared Error:', np.sqrt(metrics.mean_squared_error(y_test, y_pred)))"
   ]
  },
  {
   "cell_type": "code",
   "execution_count": 38,
   "metadata": {},
   "outputs": [
    {
     "name": "stdout",
     "output_type": "stream",
     "text": [
      "Feature: 0, Score: 0.00527\n",
      "Feature: 1, Score: 0.00398\n",
      "Feature: 2, Score: 0.00321\n",
      "Feature: 3, Score: 0.00485\n",
      "Feature: 4, Score: 0.85748\n",
      "Feature: 5, Score: 0.00695\n",
      "Feature: 6, Score: 0.00463\n",
      "Feature: 7, Score: 0.00837\n",
      "Feature: 8, Score: 0.00332\n",
      "Feature: 9, Score: 0.00354\n",
      "Feature: 10, Score: 0.00262\n",
      "Feature: 11, Score: 0.00285\n",
      "Feature: 12, Score: 0.00000\n",
      "Feature: 13, Score: 0.00549\n",
      "Feature: 14, Score: 0.00527\n",
      "Feature: 15, Score: 0.00029\n",
      "Feature: 16, Score: 0.04787\n",
      "Feature: 17, Score: 0.00742\n",
      "Feature: 18, Score: 0.00385\n",
      "Feature: 19, Score: 0.01532\n",
      "Feature: 20, Score: 0.00414\n",
      "Feature: 21, Score: 0.00328\n"
     ]
    },
    {
     "data": {
      "image/png": "[encoded data removed]",
      "text/plain": [
       "<Figure size 700x500 with 1 Axes>"
      ]
     },
     "metadata": {},
     "output_type": "display_data"
    }
   ],
   "source": [
    "from matplotlib import pyplot\n",
    "# get importance\n",
    "importance = regressor.feature_importances_\n",
    "# summarize feature importance\n",
    "for i,v in enumerate(importance):\n",
    "\tprint('Feature: %0d, Score: %.5f' % (i,v))\n",
    "# plot feature importance\n",
    "pyplot.bar([x for x in range(len(importance))], importance)\n",
    "pyplot.show()"
   ]
  },
  {
   "cell_type": "code",
   "execution_count": 39,
   "metadata": {},
   "outputs": [
    {
     "data": {
      "text/html": [
       "<div>\n",
       "<style scoped>\n",
       "    .dataframe tbody tr th:only-of-type {\n",
       "        vertical-align: middle;\n",
       "    }\n",
       "\n",
       "    .dataframe tbody tr th {\n",
       "        vertical-align: top;\n",
       "    }\n",
       "\n",
       "    .dataframe thead th {\n",
       "        text-align: right;\n",
       "    }\n",
       "</style>\n",
       "<table border=\"1\" class=\"dataframe\">\n",
       "  <thead>\n",
       "    <tr style=\"text-align: right;\">\n",
       "      <th></th>\n",
       "      <th>PaperRefCnt</th>\n",
       "      <th>avg(AffiliationRank)</th>\n",
       "      <th>avg(AfPaperCount)</th>\n",
       "      <th>avg(AfCitationCount)</th>\n",
       "      <th>Paper_Rank</th>\n",
       "      <th>Paper_RefCnt</th>\n",
       "      <th>Journal_Rank</th>\n",
       "      <th>Journal_Pap_Cnt</th>\n",
       "      <th>Journal_Cit_Cnt</th>\n",
       "      <th>CSRank</th>\n",
       "      <th>...</th>\n",
       "      <th>CIPaperCount</th>\n",
       "      <th>CIPaperCitationCnt</th>\n",
       "      <th>DocTypeIndex</th>\n",
       "      <th>max_AuthorRank</th>\n",
       "      <th>min_AutPaperCount</th>\n",
       "      <th>max_AutPaperCount</th>\n",
       "      <th>min_AutCitationCount</th>\n",
       "      <th>max_AutCitationCount</th>\n",
       "      <th>min_AuthorRank</th>\n",
       "      <th>CitationCount</th>\n",
       "    </tr>\n",
       "  </thead>\n",
       "  <tbody>\n",
       "    <tr>\n",
       "      <th>0</th>\n",
       "      <td>20</td>\n",
       "      <td>7573.5</td>\n",
       "      <td>144863.0</td>\n",
       "      <td>6181726.75</td>\n",
       "      <td>19535</td>\n",
       "      <td>20</td>\n",
       "      <td>8166</td>\n",
       "      <td>4503</td>\n",
       "      <td>203353</td>\n",
       "      <td>10367</td>\n",
       "      <td>...</td>\n",
       "      <td>457</td>\n",
       "      <td>7357</td>\n",
       "      <td>0.0</td>\n",
       "      <td>18422</td>\n",
       "      <td>6</td>\n",
       "      <td>342</td>\n",
       "      <td>150</td>\n",
       "      <td>7999</td>\n",
       "      <td>14057</td>\n",
       "      <td>19</td>\n",
       "    </tr>\n",
       "    <tr>\n",
       "      <th>1</th>\n",
       "      <td>55</td>\n",
       "      <td>6247.0</td>\n",
       "      <td>288528.0</td>\n",
       "      <td>20686665.00</td>\n",
       "      <td>17891</td>\n",
       "      <td>55</td>\n",
       "      <td>9072</td>\n",
       "      <td>9299</td>\n",
       "      <td>121450</td>\n",
       "      <td>7775</td>\n",
       "      <td>...</td>\n",
       "      <td>702</td>\n",
       "      <td>16534</td>\n",
       "      <td>0.0</td>\n",
       "      <td>16606</td>\n",
       "      <td>8</td>\n",
       "      <td>176</td>\n",
       "      <td>795</td>\n",
       "      <td>8024</td>\n",
       "      <td>14777</td>\n",
       "      <td>175</td>\n",
       "    </tr>\n",
       "  </tbody>\n",
       "</table>\n",
       "<p>2 rows × 23 columns</p>\n",
       "</div>"
      ],
      "text/plain": [
       "   PaperRefCnt  avg(AffiliationRank)  avg(AfPaperCount)  avg(AfCitationCount)  \\\n",
       "0           20                7573.5           144863.0            6181726.75   \n",
       "1           55                6247.0           288528.0           20686665.00   \n",
       "\n",
       "   Paper_Rank  Paper_RefCnt  Journal_Rank  Journal_Pap_Cnt  Journal_Cit_Cnt  \\\n",
       "0       19535            20          8166             4503           203353   \n",
       "1       17891            55          9072             9299           121450   \n",
       "\n",
       "   CSRank      ...        CIPaperCount  CIPaperCitationCnt  DocTypeIndex  \\\n",
       "0   10367      ...                 457                7357           0.0   \n",
       "1    7775      ...                 702               16534           0.0   \n",
       "\n",
       "   max_AuthorRank  min_AutPaperCount  max_AutPaperCount  min_AutCitationCount  \\\n",
       "0           18422                  6                342                   150   \n",
       "1           16606                  8                176                   795   \n",
       "\n",
       "   max_AutCitationCount  min_AuthorRank  CitationCount  \n",
       "0                  7999           14057             19  \n",
       "1                  8024           14777            175  \n",
       "\n",
       "[2 rows x 23 columns]"
      ]
     },
     "execution_count": 39,
     "metadata": {},
     "output_type": "execute_result"
    }
   ],
   "source": [
    "df2.head(2)"
   ]
  },
  {
   "cell_type": "code",
   "execution_count": 40,
   "metadata": {},
   "outputs": [],
   "source": [
    "df_new = spark.read.options(header = True, inferSchema = True,delimiter=',').csv(\"DataAfterModel-6.csv\")"
   ]
  },
  {
   "cell_type": "code",
   "execution_count": 41,
   "metadata": {},
   "outputs": [
    {
     "data": {
      "text/plain": [
       "Row(PaperID=9248908, PaperRefCnt=20, avg(PaperID)=9248908.0, avg(AffiliationRank)=7573.5, avg(AfPaperCount)=144863.0, avg(AfCitationCount)=6181726.75, Paper_Rank=19535, Paper_RefCnt=20, CitationCount=19, EstimatedCount=19, Journal_Rank=8166, Journal_Pap_Cnt=4503, Journal_Cit_Cnt=203353, CSRank=10367, CSPaperCount=6323, CSCitation=253240, CIRank=25000, CIPaperCount=457, CIPaperCitationCnt=7357, DocTypeIndex=0.0, max_AuthorRank=18422, min_AutPaperCount=6, max_AutPaperCount=342, min_AutCitationCount=150, max_AutCitationCount=7999, min_AuthorRank=14057)"
      ]
     },
     "execution_count": 41,
     "metadata": {},
     "output_type": "execute_result"
    }
   ],
   "source": [
    "df_new.head()"
   ]
  },
  {
   "cell_type": "code",
   "execution_count": 42,
   "metadata": {},
   "outputs": [
    {
     "data": {
      "text/plain": [
       "['PaperID',\n",
       " 'PaperRefCnt',\n",
       " 'avg(PaperID)',\n",
       " 'avg(AffiliationRank)',\n",
       " 'avg(AfPaperCount)',\n",
       " 'avg(AfCitationCount)',\n",
       " 'Paper_Rank',\n",
       " 'Paper_RefCnt',\n",
       " 'CitationCount',\n",
       " 'EstimatedCount',\n",
       " 'Journal_Rank',\n",
       " 'Journal_Pap_Cnt',\n",
       " 'Journal_Cit_Cnt',\n",
       " 'CSRank',\n",
       " 'CSPaperCount',\n",
       " 'CSCitation',\n",
       " 'CIRank',\n",
       " 'CIPaperCount',\n",
       " 'CIPaperCitationCnt',\n",
       " 'DocTypeIndex',\n",
       " 'max_AuthorRank',\n",
       " 'min_AutPaperCount',\n",
       " 'max_AutPaperCount',\n",
       " 'min_AutCitationCount',\n",
       " 'max_AutCitationCount',\n",
       " 'min_AuthorRank']"
      ]
     },
     "execution_count": 42,
     "metadata": {},
     "output_type": "execute_result"
    }
   ],
   "source": [
    "df_new.columns"
   ]
  },
  {
   "cell_type": "code",
   "execution_count": 43,
   "metadata": {},
   "outputs": [],
   "source": [
    "df_final = df_new.withColumnRenamed(\"CitationCount\",\"label\")"
   ]
  },
  {
   "cell_type": "code",
   "execution_count": 44,
   "metadata": {},
   "outputs": [],
   "source": [
    "drop_cols = [\"PaperID\",\"avg(PaperID)\",\"EstimatedCount\"]\n",
    "df_final = df_final.drop(*drop_cols)"
   ]
  },
  {
   "cell_type": "code",
   "execution_count": 45,
   "metadata": {},
   "outputs": [],
   "source": [
    "from pyspark.ml.feature import VectorAssembler, VectorIndexer\n",
    "feature_list = []\n",
    "for col in df_final.columns:\n",
    "    if col == 'label':\n",
    "        continue\n",
    "    else:\n",
    "        feature_list.append(col)\n",
    "# Concatenates all feature columns into a single feature vector in a new column \"rawFeatures\"\n",
    "vectorAssembler = VectorAssembler(inputCols=feature_list, outputCol=\"features\")\n",
    "# Identifies categorical features and indexes them\n",
    "#vectorIndexer = VectorIndexer(inputCol=\"rawFeatures\", outputCol=\"features\", maxCategories=4)"
   ]
  },
  {
   "cell_type": "code",
   "execution_count": 46,
   "metadata": {},
   "outputs": [],
   "source": [
    "from pyspark.ml.tuning import CrossValidator, ParamGridBuilder\n",
    "from pyspark.ml.evaluation import RegressionEvaluator"
   ]
  },
  {
   "cell_type": "code",
   "execution_count": 47,
   "metadata": {},
   "outputs": [],
   "source": [
    "from pyspark.ml.regression import RandomForestRegressor\n",
    "\n",
    "rf = RandomForestRegressor(labelCol=\"label\", featuresCol=\"features\")\n",
    "#rf = RandomForestRegressor(featuresCol=\"features\")"
   ]
  },
  {
   "cell_type": "code",
   "execution_count": 48,
   "metadata": {},
   "outputs": [],
   "source": [
    "from pyspark.ml import Pipeline\n",
    "pipeline = Pipeline(stages=[vectorAssembler, rf])"
   ]
  },
  {
   "cell_type": "code",
   "execution_count": 49,
   "metadata": {},
   "outputs": [],
   "source": [
    "from pyspark.ml.tuning import ParamGridBuilder\n",
    "import numpy as np\n",
    "\n",
    "paramGrid = ParamGridBuilder() \\\n",
    "    .addGrid(rf.numTrees, [int(x) for x in np.linspace(start = 10, stop = 50, num = 3)]) \\\n",
    "    .addGrid(rf.maxDepth, [int(x) for x in np.linspace(start = 5, stop = 25, num = 3)]) \\\n",
    "    .build()"
   ]
  },
  {
   "cell_type": "code",
   "execution_count": 50,
   "metadata": {},
   "outputs": [],
   "source": [
    "crossval = CrossValidator(estimator=pipeline,\n",
    "                          estimatorParamMaps=paramGrid,\n",
    "                          evaluator=RegressionEvaluator(),\n",
    "                          numFolds=3)"
   ]
  },
  {
   "cell_type": "code",
   "execution_count": 51,
   "metadata": {},
   "outputs": [],
   "source": [
    "(train, test) = df_final.randomSplit([0.8, 0.2])"
   ]
  },
  {
   "cell_type": "code",
   "execution_count": 52,
   "metadata": {},
   "outputs": [],
   "source": [
    "cvModel = crossval.fit(train)"
   ]
  },
  {
   "cell_type": "code",
   "execution_count": 53,
   "metadata": {},
   "outputs": [
    {
     "data": {
      "text/plain": [
       "Text(0.5,1,'Feature Importances')"
      ]
     },
     "execution_count": 53,
     "metadata": {},
     "output_type": "execute_result"
    },
    {
     "data": {
      "image/png": "[encoded data removed]",
      "text/plain": [
       "<Figure size 700x500 with 1 Axes>"
      ]
     },
     "metadata": {},
     "output_type": "display_data"
    }
   ],
   "source": [
    "bestPipeline = cvModel.bestModel\n",
    "bestModel = bestPipeline.stages[1]\n",
    "\n",
    "importances = bestModel.featureImportances\n",
    "\n",
    "x_values = list(range(len(importances)))\n",
    "\n",
    "plt.bar(x_values, importances, orientation = 'vertical')\n",
    "plt.xticks(x_values, feature_list, rotation=80)\n",
    "plt.ylabel('Importance')\n",
    "plt.xlabel('Feature')\n",
    "plt.title('Feature Importances')"
   ]
  },
  {
   "cell_type": "code",
   "execution_count": null,
   "metadata": {},
   "outputs": [],
   "source": []
  }
 ],
 "metadata": {
  "kernelspec": {
   "display_name": "Python 2",
   "language": "python",
   "name": "python2"
  },
  "language_info": {
   "codemirror_mode": {
    "name": "ipython",
    "version": 2
   },
   "file_extension": ".py",
   "mimetype": "text/x-python",
   "name": "python",
   "nbconvert_exporter": "python",
   "pygments_lexer": "ipython2",
   "version": "2.7.15rc1"
  }
 },
 "nbformat": 4,
 "nbformat_minor": 2
}
