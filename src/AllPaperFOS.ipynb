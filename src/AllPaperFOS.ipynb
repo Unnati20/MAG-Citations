{
 "cells": [
  {
   "cell_type": "code",
   "execution_count": 1,
   "metadata": {},
   "outputs": [],
   "source": [
    "import findspark\n",
    "findspark.init('/home/sdmohant/spark-3.0.0-bin-hadoop2.7')"
   ]
  },
  {
   "cell_type": "code",
   "execution_count": 2,
   "metadata": {},
   "outputs": [],
   "source": [
    "import pyspark\n",
    "from pyspark import SparkContext,SparkConf"
   ]
  },
  {
   "cell_type": "code",
   "execution_count": 3,
   "metadata": {},
   "outputs": [],
   "source": [
    "from pyspark.sql import SparkSession"
   ]
  },
  {
   "cell_type": "code",
   "execution_count": 4,
   "metadata": {},
   "outputs": [],
   "source": [
    "conf = SparkConf().set(\"spark.cores.max\", \"16\") \\\n",
    "    .set(\"spark.driver.memory\", \"16g\") \\\n",
    "    .set(\"spark.executor.memory\", \"16g\") \\\n",
    "    .set(\"spark.executor.memory_overhead\", \"16g\") \\\n",
    "    .set(\"spark.driver.maxResultsSize\", \"0\") \\\n",
    "    .set(\"spark.sql.shuffle.partitions\",\"300\") \\\n",
    "    .set(\"spark.sql.execution.arrow.enabled\",\"true\") "
   ]
  },
  {
   "cell_type": "code",
   "execution_count": 5,
   "metadata": {},
   "outputs": [
    {
     "name": "stderr",
     "output_type": "stream",
     "text": [
      "/home/sdmohant/spark-3.0.0-bin-hadoop2.7/python/pyspark/context.py:220: DeprecationWarning: Support for Python 2 and Python 3 prior to version 3.6 is deprecated as of Spark 3.0. See also the plan for dropping Python 2 support at https://spark.apache.org/news/plan-for-dropping-python-2-support.html.\n",
      "  DeprecationWarning)\n"
     ]
    }
   ],
   "source": [
    "sc = SparkContext(appName=\"AllPapersAndFOS\", conf=conf)"
   ]
  },
  {
   "cell_type": "code",
   "execution_count": 6,
   "metadata": {},
   "outputs": [],
   "source": [
    "spark = SparkSession(sc)"
   ]
  },
  {
   "cell_type": "code",
   "execution_count": 7,
   "metadata": {},
   "outputs": [],
   "source": [
    "from pyspark.sql.functions import isnan, count, col"
   ]
  },
  {
   "cell_type": "code",
   "execution_count": 8,
   "metadata": {},
   "outputs": [],
   "source": [
    "df1= spark.read.options(header=True, inferSchema=True, delimiter=',').csv(\"PaperIDFOS.csv\")"
   ]
  },
  {
   "cell_type": "code",
   "execution_count": 9,
   "metadata": {},
   "outputs": [
    {
     "name": "stdout",
     "output_type": "stream",
     "text": [
      "+-------+-------+--------------------+--------------------+---------------+-------------+----------------+----------+\n",
      "| FOS_ID|FOSRank|   FOSNormalizedName|      FOSDisplayName|FOSDisplayLevel|FOSPaperCount|FOSCitationCount|   PaperID|\n",
      "+-------+-------+--------------------+--------------------+---------------+-------------+----------------+----------+\n",
      "|3910719|  13240|isotopes of vanadium|Isotopes of vanadium|              3|           72|             381|1963927026|\n",
      "|3910719|  13240|isotopes of vanadium|Isotopes of vanadium|              3|           72|             381|2523956911|\n",
      "+-------+-------+--------------------+--------------------+---------------+-------------+----------------+----------+\n",
      "only showing top 2 rows\n",
      "\n"
     ]
    }
   ],
   "source": [
    "df1.show(2)"
   ]
  },
  {
   "cell_type": "code",
   "execution_count": 10,
   "metadata": {},
   "outputs": [
    {
     "data": {
      "text/plain": [
       "796470949"
      ]
     },
     "execution_count": 10,
     "metadata": {},
     "output_type": "execute_result"
    }
   ],
   "source": [
    "df1.count()"
   ]
  },
  {
   "cell_type": "code",
   "execution_count": 11,
   "metadata": {},
   "outputs": [],
   "source": [
    "pap_df=spark.read.options(header=True, inferSchema=True, delimiter=',').csv(\"NewPaper.csv\")"
   ]
  },
  {
   "cell_type": "code",
   "execution_count": 12,
   "metadata": {},
   "outputs": [
    {
     "data": {
      "text/plain": [
       "171227624"
      ]
     },
     "execution_count": 12,
     "metadata": {},
     "output_type": "execute_result"
    }
   ],
   "source": [
    "pap_df.count()"
   ]
  },
  {
   "cell_type": "code",
   "execution_count": 13,
   "metadata": {},
   "outputs": [
    {
     "data": {
      "text/plain": [
       "145939476"
      ]
     },
     "execution_count": 13,
     "metadata": {},
     "output_type": "execute_result"
    }
   ],
   "source": [
    "df1.select(\"PaperID\").distinct().count()"
   ]
  },
  {
   "cell_type": "code",
   "execution_count": 14,
   "metadata": {},
   "outputs": [
    {
     "data": {
      "text/plain": [
       "171227624"
      ]
     },
     "execution_count": 14,
     "metadata": {},
     "output_type": "execute_result"
    }
   ],
   "source": [
    "pap_df.select(\"PaperID\").distinct().count()"
   ]
  },
  {
   "cell_type": "code",
   "execution_count": 15,
   "metadata": {},
   "outputs": [],
   "source": [
    "txt_file = sc.textFile(\"../Data/graph/2018-02-02/PaperFieldsOfStudy.txt\")"
   ]
  },
  {
   "cell_type": "code",
   "execution_count": 16,
   "metadata": {},
   "outputs": [],
   "source": [
    "temp_var = txt_file.map(lambda k: k.split(\"\\t\"))"
   ]
  },
  {
   "cell_type": "code",
   "execution_count": 17,
   "metadata": {},
   "outputs": [],
   "source": [
    "paperFOS_DF = temp_var.toDF()"
   ]
  },
  {
   "cell_type": "code",
   "execution_count": 18,
   "metadata": {},
   "outputs": [
    {
     "name": "stdout",
     "output_type": "stream",
     "text": [
      "+----------+---------+-------------------+\n",
      "|        _1|       _2|                 _3|\n",
      "+----------+---------+-------------------+\n",
      "|2514067917|204223013|0.43515353105522547|\n",
      "|2514067917|530198007| 0.4671860155535934|\n",
      "+----------+---------+-------------------+\n",
      "only showing top 2 rows\n",
      "\n"
     ]
    }
   ],
   "source": [
    "paperFOS_DF.show(2)"
   ]
  },
  {
   "cell_type": "code",
   "execution_count": 19,
   "metadata": {},
   "outputs": [],
   "source": [
    "from pyspark.sql.types import *"
   ]
  },
  {
   "cell_type": "code",
   "execution_count": 20,
   "metadata": {},
   "outputs": [],
   "source": [
    "paperFOS_DF = paperFOS_DF.withColumn(\"PaperID\",paperFOS_DF[\"_1\"].cast(LongType()))"
   ]
  },
  {
   "cell_type": "code",
   "execution_count": 21,
   "metadata": {},
   "outputs": [],
   "source": [
    "paperFOS_DF = paperFOS_DF.withColumn(\"FOS_ID\",paperFOS_DF[\"_2\"].cast(LongType()))"
   ]
  },
  {
   "cell_type": "code",
   "execution_count": 22,
   "metadata": {},
   "outputs": [],
   "source": [
    "paperFOS_DF = paperFOS_DF.withColumn(\"FOSProbability\",paperFOS_DF[\"_3\"].cast(DoubleType()))"
   ]
  },
  {
   "cell_type": "code",
   "execution_count": 23,
   "metadata": {},
   "outputs": [
    {
     "name": "stdout",
     "output_type": "stream",
     "text": [
      "+----------+---------+-------------------+----------+---------+------------------+\n",
      "|        _1|       _2|                 _3|   PaperID|   FOS_ID|    FOSProbability|\n",
      "+----------+---------+-------------------+----------+---------+------------------+\n",
      "|2514067917|204223013|0.43515353105522547|2514067917|204223013|0.4351535310552255|\n",
      "|2514067917|530198007| 0.4671860155535934|2514067917|530198007|0.4671860155535934|\n",
      "+----------+---------+-------------------+----------+---------+------------------+\n",
      "only showing top 2 rows\n",
      "\n"
     ]
    }
   ],
   "source": [
    "paperFOS_DF.show(2)"
   ]
  },
  {
   "cell_type": "code",
   "execution_count": 24,
   "metadata": {},
   "outputs": [],
   "source": [
    "drop_cols=[\"_1\",\"_2\",\"_3\"]\n",
    "paperFOS_DF = paperFOS_DF.drop(*drop_cols)"
   ]
  },
  {
   "cell_type": "code",
   "execution_count": 25,
   "metadata": {},
   "outputs": [
    {
     "data": {
      "text/plain": [
       "796470949"
      ]
     },
     "execution_count": 25,
     "metadata": {},
     "output_type": "execute_result"
    }
   ],
   "source": [
    "paperFOS_DF.count()"
   ]
  },
  {
   "cell_type": "code",
   "execution_count": 26,
   "metadata": {},
   "outputs": [],
   "source": [
    "paperFOS_DF.coalesce(1).write.format('com.databricks.spark.csv').mode(\"overwrite\").save('PaperFOSRaw.csv',header = 'true')"
   ]
  },
  {
   "cell_type": "code",
   "execution_count": 27,
   "metadata": {},
   "outputs": [],
   "source": [
    "#paperFOS_DF.toPandas()"
   ]
  },
  {
   "cell_type": "code",
   "execution_count": 28,
   "metadata": {},
   "outputs": [],
   "source": [
    "pap_fos_all = pap_df.join(df1, on=[\"PaperID\"],how=\"inner\")"
   ]
  },
  {
   "cell_type": "code",
   "execution_count": 29,
   "metadata": {},
   "outputs": [
    {
     "name": "stdout",
     "output_type": "stream",
     "text": [
      "+-------+-----+--------------------+-------+--------------------+---------+----------+--------------------+---------+------------+--------------+------+-----+---------+--------+--------------+-------------+--------------+----------+-------+--------------------+--------------------+---------------+-------------+----------------+\n",
      "|PaperID| Rank|                 DOI|DocType|          PaperTitle|PaperYear| PaperDate|           Publisher|JournalID|ConfSeriesID|ConfInstanceID|Volume|Issue|FirstPage|LastPage|ReferenceCount|CitationCount|EstimatedCount|    FOS_ID|FOSRank|   FOSNormalizedName|      FOSDisplayName|FOSDisplayLevel|FOSPaperCount|FOSCitationCount|\n",
      "+-------+-----+--------------------+-------+--------------------+---------+----------+--------------------+---------+------------+--------------+------+-----+---------+--------+--------------+-------------+--------------+----------+-------+--------------------+--------------------+---------------+-------------+----------------+\n",
      "|  17971|23209|                null| Patent|method for produc...|     1992|1992-10-14|                null|     null|        null|          null|  null| null|     null|    null|             0|            2|             2| 144444463|  12363|            stamping|            Stamping|              3|        16525|           47645|\n",
      "|  17971|23209|                null| Patent|method for produc...|     1992|1992-10-14|                null|     null|        null|          null|  null| null|     null|    null|             0|            2|             2| 199639397|  10131| engineering drawing| Engineering drawing|              1|      1941652|         6118177|\n",
      "|  17971|23209|                null| Patent|method for produc...|     1992|1992-10-14|                null|     null|        null|          null|  null| null|     null|    null|             0|            2|             2| 127413603|  25000|         engineering|         Engineering|              0|     15585220|        44877184|\n",
      "|  17971|23209|                null| Patent|method for produc...|     1992|1992-10-14|                null|     null|        null|          null|  null| null|     null|    null|             0|            2|             2|  24326235|  11697|electronic engine...|Electronic engine...|              1|      4665517|        22343036|\n",
      "|  17971|23209|                null| Patent|method for produc...|     1992|1992-10-14|                null|     null|        null|          null|  null| null|     null|    null|             0|            2|             2|2779201687|  14423|               grind|               Grind|              3|         3758|            8799|\n",
      "|  27933|26437|                null|   null|high risk groups ...|     1977|1977-01-01|                null| 92085786|        null|          null|  null| null|     null|    null|             0|            0|             0|  99454951|   9797|environmental health|Environmental health|              1|       396736|         2977821|\n",
      "|  27933|26437|                null|   null|high risk groups ...|     1977|1977-01-01|                null| 92085786|        null|          null|  null| null|     null|    null|             0|            0|             0|  50660011|   9059|             tropics|             Tropics|              3|        26744|          413156|\n",
      "|  27933|26437|                null|   null|high risk groups ...|     1977|1977-01-01|                null| 92085786|        null|          null|  null| null|     null|    null|             0|            0|             0|  71924100|   9323|            medicine|            Medicine|              0|     24318797|       212171917|\n",
      "|  27933|26437|                null|   null|high risk groups ...|     1977|1977-01-01|                null| 92085786|        null|          null|  null| null|     null|    null|             0|            0|             0| 526734887|   9515|environmental pro...|Environmental pro...|              1|       475240|         1842827|\n",
      "|  27933|26437|                null|   null|high risk groups ...|     1977|1977-01-01|                null| 92085786|        null|          null|  null| null|     null|    null|             0|            0|             0|  18918823|  10291|             tourism|             Tourism|              3|       195803|          826801|\n",
      "|  29841|23429|10.1007/978-3-642...|   null|automatic detecti...|     2013|2013-01-01|Springer, Berlin,...|     null|  1140961231|      38183348|  null| null|      106|     111|             5|            0|             0|  96627749|  14794|              polish|              Polish|              3|         7943|             878|\n",
      "|  29841|23429|10.1007/978-3-642...|   null|automatic detecti...|     2013|2013-01-01|Springer, Berlin,...|     null|  1140961231|      38183348|  null| null|      106|     111|             5|            0|             0|  23123220|   8378|information retri...|Information retri...|              1|       325725|         2390926|\n",
      "|  29841|23429|10.1007/978-3-642...|   null|automatic detecti...|     2013|2013-01-01|Springer, Berlin,...|     null|  1140961231|      38183348|  null| null|      106|     111|             5|            0|             0|2776321320|   9551|          annotation|          Annotation|              3|        28458|          486141|\n",
      "|  29841|23429|10.1007/978-3-642...|   null|automatic detecti...|     2013|2013-01-01|Springer, Berlin,...|     null|  1140961231|      38183348|  null| null|      106|     111|             5|            0|             0|  41008148|   7843|    computer science|    Computer Science|              0|      9902162|        66802488|\n",
      "|  48280|26752|                null|   null|olfaction et parfums|     2001|2001-01-01|             Paris 5|     null|        null|          null|  null| null|     null|    null|             0|            0|             0| 169760540|   8648|        neuroscience|        Neuroscience|              1|       426655|        12106240|\n",
      "|  48280|26752|                null|   null|olfaction et parfums|     2001|2001-01-01|             Paris 5|     null|        null|          null|  null| null|     null|    null|             0|            0|             0| 163214680|  10283|           olfaction|           Olfaction|              3|        11008|          302767|\n",
      "|  48280|26752|                null|   null|olfaction et parfums|     2001|2001-01-01|             Paris 5|     null|        null|          null|  null| null|     null|    null|             0|            0|             0|  86803240|   8145|             biology|             Biology|              0|     15748444|       291848549|\n",
      "|  66606|22404|                null|   null|strategies used b...|     2003|2003-01-01|           AFB Press|180263418|        null|          null|    97|    3|      157|     168|             0|            5|             5|  75630572|  10556|  applied psychology|  Applied psychology|              1|       769383|         7093108|\n",
      "|  66606|22404|                null|   null|strategies used b...|     2003|2003-01-01|           AFB Press|180263418|        null|          null|    97|    3|      157|     168|             0|            5|             5|  15744967|   8426|          psychology|          Psychology|              0|      6318763|        78317342|\n",
      "|  66606|22404|                null|   null|strategies used b...|     2003|2003-01-01|           AFB Press|180263418|        null|          null|    97|    3|      157|     168|             0|            5|             5| 159456220|  10276|instructional design|Instructional design|              2|        24951|          245504|\n",
      "+-------+-----+--------------------+-------+--------------------+---------+----------+--------------------+---------+------------+--------------+------+-----+---------+--------+--------------+-------------+--------------+----------+-------+--------------------+--------------------+---------------+-------------+----------------+\n",
      "only showing top 20 rows\n",
      "\n"
     ]
    }
   ],
   "source": [
    "pap_fos_all.show()"
   ]
  },
  {
   "cell_type": "code",
   "execution_count": 33,
   "metadata": {},
   "outputs": [
    {
     "data": {
      "text/plain": [
       "796470949"
      ]
     },
     "execution_count": 33,
     "metadata": {},
     "output_type": "execute_result"
    }
   ],
   "source": [
    "pap_fos_all.count()"
   ]
  },
  {
   "cell_type": "code",
   "execution_count": 34,
   "metadata": {},
   "outputs": [
    {
     "data": {
      "text/plain": [
       "['PaperID',\n",
       " 'Rank',\n",
       " 'DocType',\n",
       " 'PaperYear',\n",
       " 'Publisher',\n",
       " 'JournalID',\n",
       " 'ConfSeriesID',\n",
       " 'ConfInstanceID',\n",
       " 'Volume',\n",
       " 'Issue',\n",
       " 'FirstPage',\n",
       " 'LastPage',\n",
       " 'ReferenceCount',\n",
       " 'CitationCount',\n",
       " 'EstimatedCount',\n",
       " 'FOS_ID',\n",
       " 'FOSRank',\n",
       " 'FOSDisplayName',\n",
       " 'FOSDisplayLevel',\n",
       " 'FOSPaperCount',\n",
       " 'FOSCitationCount']"
      ]
     },
     "execution_count": 34,
     "metadata": {},
     "output_type": "execute_result"
    }
   ],
   "source": [
    "pap_fos_all.columns"
   ]
  },
  {
   "cell_type": "code",
   "execution_count": 31,
   "metadata": {},
   "outputs": [],
   "source": [
    "drop_cols = [\"PaperTitle\",\"OriginalTitle\",\"DOI\",\"PaperDate\",\"FOSNormalizedName\"]\n",
    "pap_fos_all = pap_fos_all.drop(*drop_cols)"
   ]
  },
  {
   "cell_type": "code",
   "execution_count": 32,
   "metadata": {},
   "outputs": [],
   "source": [
    "from pyspark.sql.functions import isnan, when, count, col"
   ]
  },
  {
   "cell_type": "code",
   "execution_count": 33,
   "metadata": {},
   "outputs": [
    {
     "name": "stdout",
     "output_type": "stream",
     "text": [
      "+-------+----+---------+---------+---------+---------+------------+--------------+---------+---------+---------+---------+--------------+-------------+--------------+------+-------+--------------+---------------+-------------+----------------+\n",
      "|PaperID|Rank|  DocType|PaperYear|Publisher|JournalID|ConfSeriesID|ConfInstanceID|   Volume|    Issue|FirstPage| LastPage|ReferenceCount|CitationCount|EstimatedCount|FOS_ID|FOSRank|FOSDisplayName|FOSDisplayLevel|FOSPaperCount|FOSCitationCount|\n",
      "+-------+----+---------+---------+---------+---------+------------+--------------+---------+---------+---------+---------+--------------+-------------+--------------+------+-------+--------------+---------------+-------------+----------------+\n",
      "|      0|   0|354469500|        0|305794164|336350691|   766610545|     787098499|345558429|400003731|318183119|371285248|             0|            0|             0|     0|      0|            58|              0|            0|               0|\n",
      "+-------+----+---------+---------+---------+---------+------------+--------------+---------+---------+---------+---------+--------------+-------------+--------------+------+-------+--------------+---------------+-------------+----------------+\n",
      "\n"
     ]
    }
   ],
   "source": [
    "pap_fos_all.select([count(when(isnan(c) | col(c).isNull(),c)).alias(c) for c in pap_fos_all.columns]).show()"
   ]
  },
  {
   "cell_type": "code",
   "execution_count": 35,
   "metadata": {},
   "outputs": [
    {
     "name": "stdout",
     "output_type": "stream",
     "text": [
      "+------+-----+---------+--------+\n",
      "|Volume|Issue|FirstPage|LastPage|\n",
      "+------+-----+---------+--------+\n",
      "|  null| null|     null|    null|\n",
      "|  null| null|     null|    null|\n",
      "|  null| null|     null|    null|\n",
      "|  null| null|     null|    null|\n",
      "|  null| null|     null|    null|\n",
      "|  null| null|     null|    null|\n",
      "|  null| null|     null|    null|\n",
      "|  null| null|     null|    null|\n",
      "|  null| null|     null|    null|\n",
      "|  null| null|     null|    null|\n",
      "|  null| null|      106|     111|\n",
      "|  null| null|      106|     111|\n",
      "|  null| null|      106|     111|\n",
      "|  null| null|      106|     111|\n",
      "|  null| null|     null|    null|\n",
      "|  null| null|     null|    null|\n",
      "|  null| null|     null|    null|\n",
      "|    97|    3|      157|     168|\n",
      "|    97|    3|      157|     168|\n",
      "|    97|    3|      157|     168|\n",
      "+------+-----+---------+--------+\n",
      "only showing top 20 rows\n",
      "\n"
     ]
    }
   ],
   "source": [
    "pap_fos_all.select(\"Volume\",\"Issue\",\"FirstPage\",\"LastPage\").show()"
   ]
  },
  {
   "cell_type": "code",
   "execution_count": 36,
   "metadata": {},
   "outputs": [],
   "source": [
    "pap_fos_all = pap_fos_all.withColumn(\"PaperAge\", 2020-pap_fos_all[\"PaperYear\"])"
   ]
  },
  {
   "cell_type": "code",
   "execution_count": 37,
   "metadata": {},
   "outputs": [],
   "source": [
    "from pyspark.sql import functions as F"
   ]
  },
  {
   "cell_type": "code",
   "execution_count": 38,
   "metadata": {},
   "outputs": [],
   "source": [
    "pap_fos_all = pap_fos_all.withColumn(\"IsJournal\", F.when(F.col(\"DocType\").isNotNull(), 0).otherwise(1))"
   ]
  },
  {
   "cell_type": "code",
   "execution_count": 39,
   "metadata": {},
   "outputs": [],
   "source": [
    "pap_fos_all = pap_fos_all.withColumn(\"Volume\", F.when(F.col(\"Volume\").isNull(), 0).otherwise(F.col(\"Volume\")))"
   ]
  },
  {
   "cell_type": "code",
   "execution_count": 40,
   "metadata": {},
   "outputs": [],
   "source": [
    "pap_fos_all = pap_fos_all.withColumn(\"Issue\", F.when(F.col(\"Issue\").isNull(), 0).otherwise(F.col(\"Issue\")))"
   ]
  },
  {
   "cell_type": "code",
   "execution_count": 41,
   "metadata": {},
   "outputs": [
    {
     "name": "stdout",
     "output_type": "stream",
     "text": [
      "+------+-----+--------+---------+\n",
      "|Volume|Issue|PaperAge|IsJournal|\n",
      "+------+-----+--------+---------+\n",
      "|     0|    0|      28|        0|\n",
      "|     0|    0|      28|        0|\n",
      "|     0|    0|      28|        0|\n",
      "|     0|    0|      28|        0|\n",
      "|     0|    0|      28|        0|\n",
      "|     0|    0|      43|        1|\n",
      "|     0|    0|      43|        1|\n",
      "|     0|    0|      43|        1|\n",
      "|     0|    0|      43|        1|\n",
      "|     0|    0|      43|        1|\n",
      "|     0|    0|       7|        1|\n",
      "|     0|    0|       7|        1|\n",
      "|     0|    0|       7|        1|\n",
      "|     0|    0|       7|        1|\n",
      "|     0|    0|      19|        1|\n",
      "|     0|    0|      19|        1|\n",
      "|     0|    0|      19|        1|\n",
      "|    97|    3|      17|        1|\n",
      "|    97|    3|      17|        1|\n",
      "|    97|    3|      17|        1|\n",
      "+------+-----+--------+---------+\n",
      "only showing top 20 rows\n",
      "\n"
     ]
    }
   ],
   "source": [
    "pap_fos_all.select(\"Volume\",\"Issue\",\"PaperAge\",\"IsJournal\").show()"
   ]
  },
  {
   "cell_type": "code",
   "execution_count": 48,
   "metadata": {
    "scrolled": true
   },
   "outputs": [
    {
     "name": "stdout",
     "output_type": "stream",
     "text": [
      "+-------+----------+-------+-------------+----------------+\n",
      "|PaperID|    FOS_ID|FOSRank|FOSPaperCount|FOSCitationCount|\n",
      "+-------+----------+-------+-------------+----------------+\n",
      "|  17971| 144444463|  12363|        16525|           47645|\n",
      "|  17971| 199639397|  10131|      1941652|         6118177|\n",
      "|  17971| 127413603|  25000|     15585220|        44877184|\n",
      "|  17971|  24326235|  11697|      4665517|        22343036|\n",
      "|  17971|2779201687|  14423|         3758|            8799|\n",
      "|  27933|  99454951|   9797|       396736|         2977821|\n",
      "|  27933|  50660011|   9059|        26744|          413156|\n",
      "|  27933|  71924100|   9323|     24318797|       212171917|\n",
      "|  27933| 526734887|   9515|       475240|         1842827|\n",
      "|  27933|  18918823|  10291|       195803|          826801|\n",
      "|  29841|  96627749|  14794|         7943|             878|\n",
      "|  29841|  23123220|   8378|       325725|         2390926|\n",
      "|  29841|2776321320|   9551|        28458|          486141|\n",
      "|  29841|  41008148|   7843|      9902162|        66802488|\n",
      "|  48280| 169760540|   8648|       426655|        12106240|\n",
      "|  48280| 163214680|  10283|        11008|          302767|\n",
      "|  48280|  86803240|   8145|     15748444|       291848549|\n",
      "|  66606|  75630572|  10556|       769383|         7093108|\n",
      "|  66606|  15744967|   8426|      6318763|        78317342|\n",
      "|  66606| 159456220|  10276|        24951|          245504|\n",
      "|  66606|  19417346|  10874|      2513539|        11405551|\n",
      "|  66606| 188231857|  10606|        18634|          152872|\n",
      "|  66606|  56995899|   9640|        68242|          660893|\n",
      "|  71530|  71924100|   9323|     24318797|       212171917|\n",
      "|  71530| 126894567|  10209|       483803|         3369841|\n",
      "|  74185| 144024400|   9149|      3906051|        17700448|\n",
      "|  74185|  24667770|  12799|       990937|          781463|\n",
      "|  74185| 554144382|  14186|      6104944|         2073559|\n",
      "|  83748|  23032112|  10492|         9694|          111978|\n",
      "|  83748|   6422946|   9272|        29094|          455327|\n",
      "|  83748| 162853370|   8317|       977987|         8502972|\n",
      "|  83748| 144133560|  25000|      3362436|        10493865|\n",
      "|  98089|  71924100|   9323|     24318797|       212171917|\n",
      "|  98089|2779158651|   9222|        31941|          292401|\n",
      "|  98089|  98274493|   7869|       525660|         6371272|\n",
      "|  98630| 512399662|  10521|      1377437|         7293862|\n",
      "|  98630|  71924100|   9323|     24318797|       212171917|\n",
      "| 106698| 175025161|   9781|         5236|           31768|\n",
      "| 106698| 154945302|   7788|      3429498|        30043158|\n",
      "| 106698| 205649164|   9209|      3894484|         5881461|\n",
      "+-------+----------+-------+-------------+----------------+\n",
      "only showing top 40 rows\n",
      "\n"
     ]
    }
   ],
   "source": [
    "pap_fos_all.select(\"PaperID\",\"FOS_ID\",\"FOSRank\",\"FOSPaperCount\",\"FOSCitationCount\").show(40)"
   ]
  },
  {
   "cell_type": "code",
   "execution_count": 42,
   "metadata": {},
   "outputs": [],
   "source": [
    "from pyspark.sql import Window\n",
    "import pyspark.sql.functions as f\n",
    "w = Window.partitionBy('PaperID')\n",
    "temp_DF = pap_fos_all.select('PaperID', \"FOSRank\",\"FOSPaperCount\",\"FOSCitationCount\", f.min('FOSRank').over(w).alias('min_FOSRank')).sort('PaperID')"
   ]
  },
  {
   "cell_type": "code",
   "execution_count": 43,
   "metadata": {},
   "outputs": [
    {
     "name": "stdout",
     "output_type": "stream",
     "text": [
      "+-------+-------+-------------+----------------+-----------+\n",
      "|PaperID|FOSRank|FOSPaperCount|FOSCitationCount|min_FOSRank|\n",
      "+-------+-------+-------------+----------------+-----------+\n",
      "|     15|  10861|        16716|          104384|      10861|\n",
      "|     15|  25000|      3362436|        10493865|      10861|\n",
      "|     15|  10909|        74745|          121151|      10861|\n",
      "|     23|  11565|      1371960|        11362571|       8720|\n",
      "|     23|  10970|         9086|          147626|       8720|\n",
      "+-------+-------+-------------+----------------+-----------+\n",
      "only showing top 5 rows\n",
      "\n"
     ]
    }
   ],
   "source": [
    "temp_DF.show(5)"
   ]
  },
  {
   "cell_type": "code",
   "execution_count": 44,
   "metadata": {
    "scrolled": true
   },
   "outputs": [],
   "source": [
    "temp_DF = temp_DF.select('PaperID',  \"FOSRank\",\"FOSPaperCount\",\"FOSCitationCount\",\"min_FOSRank\", f.max('FOSRank').over(w).alias('max_FOSRank')).sort('PaperID', 'FOSRank')"
   ]
  },
  {
   "cell_type": "code",
   "execution_count": 45,
   "metadata": {},
   "outputs": [],
   "source": [
    "#temp_DF = temp_DF.select('PaperID', 'FOSRank',\"min_FOSRank\", \"max_FOSRank\", f.max('FOSRank').over(w).alias('max_FOSRank')).sort('PaperID', 'FOSRank')"
   ]
  },
  {
   "cell_type": "code",
   "execution_count": 46,
   "metadata": {},
   "outputs": [],
   "source": [
    "temp_DF = temp_DF.select('PaperID', 'FOSRank',\"FOSPaperCount\",\"FOSCitationCount\", \"min_FOSRank\", \"max_FOSRank\", f.max('FOSPaperCount').over(w).alias('max_FOSPaperCount')).sort('PaperID', 'FOSPaperCount')"
   ]
  },
  {
   "cell_type": "code",
   "execution_count": 47,
   "metadata": {},
   "outputs": [],
   "source": [
    "temp_DF = temp_DF.select('PaperID', 'FOSRank',\"FOSPaperCount\",\"FOSCitationCount\",\"min_FOSRank\", \"max_FOSRank\",\"max_FOSPaperCount\", f.min('FOSPaperCount').over(w).alias('min_FOSPaperCount')).sort('PaperID')"
   ]
  },
  {
   "cell_type": "code",
   "execution_count": 48,
   "metadata": {},
   "outputs": [],
   "source": [
    "temp_DF = temp_DF.select('PaperID', 'FOSRank',\"FOSPaperCount\",\"FOSCitationCount\",\"min_FOSRank\", \"max_FOSRank\",\"max_FOSPaperCount\",\"min_FOSPaperCount\", f.min('FOSCitationCount').over(w).alias('min_FOSCitationCount')).sort('PaperID', 'FOSCitationCount')"
   ]
  },
  {
   "cell_type": "code",
   "execution_count": 49,
   "metadata": {},
   "outputs": [],
   "source": [
    "temp_DF = temp_DF.select('PaperID', 'FOSRank',\"FOSPaperCount\",\"FOSCitationCount\",\"min_FOSRank\", \"max_FOSRank\",\"max_FOSPaperCount\",\"min_FOSPaperCount\",\"min_FOSCitationCount\", f.max('FOSCitationCount').over(w).alias('max_FOSCitationCount')).sort('PaperID', 'FOSCitationCount')"
   ]
  },
  {
   "cell_type": "code",
   "execution_count": 50,
   "metadata": {},
   "outputs": [
    {
     "name": "stdout",
     "output_type": "stream",
     "text": [
      "+-------+-------+-------------+----------------+-----------+-----------+-----------------+-----------------+--------------------+--------------------+\n",
      "|PaperID|FOSRank|FOSPaperCount|FOSCitationCount|min_FOSRank|max_FOSRank|max_FOSPaperCount|min_FOSPaperCount|min_FOSCitationCount|max_FOSCitationCount|\n",
      "+-------+-------+-------------+----------------+-----------+-----------+-----------------+-----------------+--------------------+--------------------+\n",
      "|     15|  10861|        16716|          104384|      10861|      25000|          3362436|            16716|              104384|            10493865|\n",
      "|     15|  10909|        74745|          121151|      10861|      25000|          3362436|            16716|              104384|            10493865|\n",
      "|     15|  25000|      3362436|        10493865|      10861|      25000|          3362436|            16716|              104384|            10493865|\n",
      "|     23|  10970|         9086|          147626|       8720|      11565|         24318797|             9086|              147626|           212171917|\n",
      "|     23|  11565|      1371960|        11362571|       8720|      11565|         24318797|             9086|              147626|           212171917|\n",
      "+-------+-------+-------------+----------------+-----------+-----------+-----------------+-----------------+--------------------+--------------------+\n",
      "only showing top 5 rows\n",
      "\n"
     ]
    }
   ],
   "source": [
    "temp_DF.show(5)"
   ]
  },
  {
   "cell_type": "code",
   "execution_count": 51,
   "metadata": {},
   "outputs": [],
   "source": [
    "temp_DF1 = temp_DF.groupBy(\"PaperID\").mean()"
   ]
  },
  {
   "cell_type": "code",
   "execution_count": 72,
   "metadata": {},
   "outputs": [
    {
     "name": "stdout",
     "output_type": "stream",
     "text": [
      "+-------+------------+------------------+------------------+---------------------+----------------+----------------+----------------------+----------------------+-------------------------+-------------------------+\n",
      "|PaperID|avg(PaperID)|      avg(FOSRank)|avg(FOSPaperCount)|avg(FOSCitationCount)|avg(min_FOSRank)|avg(max_FOSRank)|avg(max_FOSPaperCount)|avg(min_FOSPaperCount)|avg(min_FOSCitationCount)|avg(max_FOSCitationCount)|\n",
      "+-------+------------+------------------+------------------+---------------------+----------------+----------------+----------------------+----------------------+-------------------------+-------------------------+\n",
      "|     15|        15.0|           15590.0|         1151299.0|   3573133.3333333335|         10861.0|         25000.0|             3362436.0|               16716.0|                 104384.0|              1.0493865E7|\n",
      "|     23|        23.0|           10144.5|        7424361.25|        6.706911625E7|          8720.0|         11565.0|           2.4318797E7|                9086.0|                 147626.0|             2.12171917E8|\n",
      "|     37|        37.0|11141.142857142857| 4383748.428571428|          4.0567048E7|          8720.0|         14159.0|           2.4318797E7|                6798.0|                  55552.0|             2.12171917E8|\n",
      "|     39|        39.0|            8752.6|         1809823.4|           1.667665E7|          7739.0|          9941.0|             7393700.0|               37405.0|                 198217.0|              6.6954797E7|\n",
      "|     53|        53.0|           19593.0|         5448728.0|            2232429.0|         14186.0|         25000.0|             6104944.0|             4792512.0|                2073559.0|                2391299.0|\n",
      "|     58|        58.0|            9280.2|         3651645.6|         3.94272676E7|          7560.0|         11304.0|           1.4843182E7|               70806.0|                 404942.0|             1.64570817E8|\n",
      "|     79|        79.0| 9716.666666666666|2982040.8333333335| 5.0265166666666664E7|          8145.0|         10407.0|           1.5748444E7|                4462.0|                  43828.0|             2.91848549E8|\n",
      "|    108|       108.0|         14799.875|        789459.625|           625189.625|          8647.0|         25000.0|             4792512.0|                 129.0|                     52.0|                2391299.0|\n",
      "|    125|       125.0|14344.666666666666|         5752985.0| 1.8315833666666668E7|          8546.0|         25000.0|            1.558522E7|              650246.0|                3335164.0|              4.4877184E7|\n",
      "|    136|       136.0|           10078.8|          922531.4|            2600581.4|          8860.0|         13707.0|             3894484.0|                1147.0|                  15216.0|                5881461.0|\n",
      "+-------+------------+------------------+------------------+---------------------+----------------+----------------+----------------------+----------------------+-------------------------+-------------------------+\n",
      "only showing top 10 rows\n",
      "\n"
     ]
    }
   ],
   "source": [
    "temp_DF1.show(10)"
   ]
  },
  {
   "cell_type": "code",
   "execution_count": 52,
   "metadata": {},
   "outputs": [],
   "source": [
    "drop_cols = [\"FOSCitationCount\",\"FOSPaperCount\",\"FOSDisplayLevel\",\"FOSDisplayName\",\"FOSRank\"]\n",
    "pap_fos_all = pap_fos_all.drop(*drop_cols)\n"
   ]
  },
  {
   "cell_type": "code",
   "execution_count": 74,
   "metadata": {},
   "outputs": [
    {
     "name": "stdout",
     "output_type": "stream",
     "text": [
      "+-------+-----+-------+---------+---------+---------+------------+--------------+------+-----+---------+--------+--------------+-------------+--------------+----------+--------+---------+\n",
      "|PaperID| Rank|DocType|PaperYear|Publisher|JournalID|ConfSeriesID|ConfInstanceID|Volume|Issue|FirstPage|LastPage|ReferenceCount|CitationCount|EstimatedCount|    FOS_ID|PaperAge|IsJournal|\n",
      "+-------+-----+-------+---------+---------+---------+------------+--------------+------+-----+---------+--------+--------------+-------------+--------------+----------+--------+---------+\n",
      "|  17971|23209| Patent|     1992|     null|     null|        null|          null|     0|    0|     null|    null|             0|            2|             2| 144444463|      28|        0|\n",
      "|  17971|23209| Patent|     1992|     null|     null|        null|          null|     0|    0|     null|    null|             0|            2|             2| 199639397|      28|        0|\n",
      "|  17971|23209| Patent|     1992|     null|     null|        null|          null|     0|    0|     null|    null|             0|            2|             2| 127413603|      28|        0|\n",
      "|  17971|23209| Patent|     1992|     null|     null|        null|          null|     0|    0|     null|    null|             0|            2|             2|  24326235|      28|        0|\n",
      "|  17971|23209| Patent|     1992|     null|     null|        null|          null|     0|    0|     null|    null|             0|            2|             2|2779201687|      28|        0|\n",
      "|  27933|26437|   null|     1977|     null| 92085786|        null|          null|     0|    0|     null|    null|             0|            0|             0|  99454951|      43|        1|\n",
      "|  27933|26437|   null|     1977|     null| 92085786|        null|          null|     0|    0|     null|    null|             0|            0|             0|  50660011|      43|        1|\n",
      "|  27933|26437|   null|     1977|     null| 92085786|        null|          null|     0|    0|     null|    null|             0|            0|             0|  71924100|      43|        1|\n",
      "|  27933|26437|   null|     1977|     null| 92085786|        null|          null|     0|    0|     null|    null|             0|            0|             0| 526734887|      43|        1|\n",
      "|  27933|26437|   null|     1977|     null| 92085786|        null|          null|     0|    0|     null|    null|             0|            0|             0|  18918823|      43|        1|\n",
      "+-------+-----+-------+---------+---------+---------+------------+--------------+------+-----+---------+--------+--------------+-------------+--------------+----------+--------+---------+\n",
      "only showing top 10 rows\n",
      "\n"
     ]
    }
   ],
   "source": [
    "pap_fos_all.show(10)"
   ]
  },
  {
   "cell_type": "code",
   "execution_count": 53,
   "metadata": {
    "scrolled": true
   },
   "outputs": [],
   "source": [
    "pap_fos_all2 = pap_fos_all.drop_duplicates(subset=['PaperID'])"
   ]
  },
  {
   "cell_type": "code",
   "execution_count": 77,
   "metadata": {},
   "outputs": [
    {
     "name": "stdout",
     "output_type": "stream",
     "text": [
      "+-------+-----+-------+---------+----------------------+---------+------------+--------------+------+-----+---------+--------+--------------+-------------+--------------+---------+--------+---------+\n",
      "|PaperID| Rank|DocType|PaperYear|             Publisher|JournalID|ConfSeriesID|ConfInstanceID|Volume|Issue|FirstPage|LastPage|ReferenceCount|CitationCount|EstimatedCount|   FOS_ID|PaperAge|IsJournal|\n",
      "+-------+-----+-------+---------+----------------------+---------+------------+--------------+------+-----+---------+--------+--------------+-------------+--------------+---------+--------+---------+\n",
      "|  17971|23209| Patent|     1992|                  null|     null|        null|          null|     0|    0|     null|    null|             0|            2|             2|144444463|      28|        0|\n",
      "|  27933|26437|   null|     1977|                  null| 92085786|        null|          null|     0|    0|     null|    null|             0|            0|             0| 99454951|      43|        1|\n",
      "|  29841|23429|   null|     2013|  Springer, Berlin,...|     null|  1140961231|      38183348|     0|    0|      106|     111|             5|            0|             0| 96627749|       7|        1|\n",
      "|  48280|26752|   null|     2001|               Paris 5|     null|        null|          null|     0|    0|     null|    null|             0|            0|             0|169760540|      19|        1|\n",
      "|  66606|22404|   null|     2003|             AFB Press|180263418|        null|          null|    97|    3|      157|     168|             0|            5|             5| 75630572|      17|        1|\n",
      "|  71530|25079|   null|     2004|                  null| 38879697|        null|          null|     0|    0|     null|    null|             0|            0|             0| 71924100|      16|        1|\n",
      "|  74185|24756|Journal|     2010|             VS-Verlag| 28909093|        null|          null|    34|    0|       31|      33|             0|            0|             0|144024400|      10|        0|\n",
      "|  83748|24088|   null|     2011|社会・経済システム学会|     null|        null|          null|    32|   32|       55|      59|             0|            0|             0| 23032112|       9|        1|\n",
      "|  98089|24376|   null|     2008|     Studium Press LLC|     null|        null|          null|     0|    0|       85|     116|             0|            0|             0| 71924100|      12|        1|\n",
      "|  98630|25986|   null|     2008|                  null|     null|        null|          null|     0|    0|     null|    null|             0|            0|             0|512399662|      12|        1|\n",
      "+-------+-----+-------+---------+----------------------+---------+------------+--------------+------+-----+---------+--------+--------------+-------------+--------------+---------+--------+---------+\n",
      "only showing top 10 rows\n",
      "\n"
     ]
    }
   ],
   "source": [
    "pap_fos_all2.show(10)"
   ]
  },
  {
   "cell_type": "code",
   "execution_count": 78,
   "metadata": {},
   "outputs": [
    {
     "name": "stdout",
     "output_type": "stream",
     "text": [
      "+-------+----+--------+---------+---------+---------+------------+--------------+------+-----+---------+--------+--------------+-------------+--------------+------+--------+---------+\n",
      "|PaperID|Rank| DocType|PaperYear|Publisher|JournalID|ConfSeriesID|ConfInstanceID|Volume|Issue|FirstPage|LastPage|ReferenceCount|CitationCount|EstimatedCount|FOS_ID|PaperAge|IsJournal|\n",
      "+-------+----+--------+---------+---------+---------+------------+--------------+------+-----+---------+--------+--------------+-------------+--------------+------+--------+---------+\n",
      "|      0|   0|73691848|        0| 60446008| 68832819|   141885753|     144685640|     0|    0| 62701649|73931016|             0|            0|             0|     0|       0|        0|\n",
      "+-------+----+--------+---------+---------+---------+------------+--------------+------+-----+---------+--------+--------------+-------------+--------------+------+--------+---------+\n",
      "\n"
     ]
    }
   ],
   "source": [
    "pap_fos_all2.select([count(when(isnan(c) | col(c).isNull(),c)).alias(c) for c in pap_fos_all.columns]).show()"
   ]
  },
  {
   "cell_type": "code",
   "execution_count": 54,
   "metadata": {},
   "outputs": [],
   "source": [
    "drop_cols = [\"FirstPage\",\"LastPage\",\"DocType\"]\n",
    "pap_fos_all2 = pap_fos_all2.drop(*drop_cols)\n"
   ]
  },
  {
   "cell_type": "code",
   "execution_count": 55,
   "metadata": {},
   "outputs": [],
   "source": [
    "temp_DF_new  = temp_DF.drop_duplicates(subset=['PaperID'])"
   ]
  },
  {
   "cell_type": "code",
   "execution_count": 82,
   "metadata": {},
   "outputs": [
    {
     "name": "stdout",
     "output_type": "stream",
     "text": [
      "+-------+-------+-------------+----------------+-----------+-----------+-----------------+-----------------+--------------------+--------------------+\n",
      "|PaperID|FOSRank|FOSPaperCount|FOSCitationCount|min_FOSRank|max_FOSRank|max_FOSPaperCount|min_FOSPaperCount|min_FOSCitationCount|max_FOSCitationCount|\n",
      "+-------+-------+-------------+----------------+-----------+-----------+-----------------+-----------------+--------------------+--------------------+\n",
      "|     15|  10861|        16716|          104384|      10861|      25000|          3362436|            16716|              104384|            10493865|\n",
      "|     23|  10970|         9086|          147626|       8720|      11565|         24318797|             9086|              147626|           212171917|\n",
      "+-------+-------+-------------+----------------+-----------+-----------+-----------------+-----------------+--------------------+--------------------+\n",
      "only showing top 2 rows\n",
      "\n"
     ]
    }
   ],
   "source": [
    "temp_DF_new.show(2)"
   ]
  },
  {
   "cell_type": "code",
   "execution_count": 56,
   "metadata": {},
   "outputs": [],
   "source": [
    "drop_cols = [\"FOSRank\",\"FOSPaperCount\",\"FOSCitationCount\"]\n",
    "temp_DF_new = temp_DF_new.drop(*drop_cols)\n"
   ]
  },
  {
   "cell_type": "code",
   "execution_count": 57,
   "metadata": {},
   "outputs": [
    {
     "data": {
      "text/plain": [
       "145939476"
      ]
     },
     "execution_count": 57,
     "metadata": {},
     "output_type": "execute_result"
    }
   ],
   "source": [
    "temp_DF_new.count()"
   ]
  },
  {
   "cell_type": "code",
   "execution_count": 58,
   "metadata": {},
   "outputs": [
    {
     "data": {
      "text/plain": [
       "145939476"
      ]
     },
     "execution_count": 58,
     "metadata": {},
     "output_type": "execute_result"
    }
   ],
   "source": [
    "pap_fos_all2.count()"
   ]
  },
  {
   "cell_type": "code",
   "execution_count": 59,
   "metadata": {},
   "outputs": [],
   "source": [
    "pap_fos_all3 = pap_fos_all2.join(temp_DF_new,on=[\"PaperID\"], how=\"inner\")"
   ]
  },
  {
   "cell_type": "code",
   "execution_count": 60,
   "metadata": {},
   "outputs": [
    {
     "name": "stdout",
     "output_type": "stream",
     "text": [
      "+-------+-----+---------+---------+---------+------------+--------------+------+-----+--------------+-------------+--------------+---------+--------+---------+-----------+-----------+-----------------+-----------------+--------------------+--------------------+\n",
      "|PaperID| Rank|PaperYear|Publisher|JournalID|ConfSeriesID|ConfInstanceID|Volume|Issue|ReferenceCount|CitationCount|EstimatedCount|   FOS_ID|PaperAge|IsJournal|min_FOSRank|max_FOSRank|max_FOSPaperCount|min_FOSPaperCount|min_FOSCitationCount|max_FOSCitationCount|\n",
      "+-------+-----+---------+---------+---------+------------+--------------+------+-----+--------------+-------------+--------------+---------+--------+---------+-----------+-----------+-----------------+-----------------+--------------------+--------------------+\n",
      "|  17971|23209|     1992|     null|     null|        null|          null|     0|    0|             0|            2|             2|144444463|      28|        0|      10131|      25000|         15585220|             3758|                8799|            44877184|\n",
      "|  27933|26437|     1977|     null| 92085786|        null|          null|     0|    0|             0|            0|             0| 99454951|      43|        1|       9059|      10291|         24318797|            26744|              413156|           212171917|\n",
      "+-------+-----+---------+---------+---------+------------+--------------+------+-----+--------------+-------------+--------------+---------+--------+---------+-----------+-----------+-----------------+-----------------+--------------------+--------------------+\n",
      "only showing top 2 rows\n",
      "\n"
     ]
    }
   ],
   "source": [
    "pap_fos_all3.show(2)"
   ]
  },
  {
   "cell_type": "code",
   "execution_count": 61,
   "metadata": {},
   "outputs": [],
   "source": [
    "papref = spark.read.options(header = True, inferSchema = True,delimiter=',').csv(\"PaperReferences.csv\")"
   ]
  },
  {
   "cell_type": "code",
   "execution_count": 62,
   "metadata": {},
   "outputs": [
    {
     "name": "stdout",
     "output_type": "stream",
     "text": [
      "+----------+-----+----------+-----------+\n",
      "|        _1|count|   PaperID|PaperRefCnt|\n",
      "+----------+-----+----------+-----------+\n",
      "|2252294392|    8|2252294392|          8|\n",
      "|1479838528|   79|1479838528|         79|\n",
      "+----------+-----+----------+-----------+\n",
      "only showing top 2 rows\n",
      "\n"
     ]
    }
   ],
   "source": [
    "papref.show(2)"
   ]
  },
  {
   "cell_type": "code",
   "execution_count": 63,
   "metadata": {},
   "outputs": [
    {
     "data": {
      "text/plain": [
       "145939476"
      ]
     },
     "execution_count": 63,
     "metadata": {},
     "output_type": "execute_result"
    }
   ],
   "source": [
    "pap_fos_all3.count()"
   ]
  },
  {
   "cell_type": "code",
   "execution_count": 64,
   "metadata": {},
   "outputs": [],
   "source": [
    "drop_cols = [\"_1\",\"count\"]\n",
    "papref = papref.drop(*drop_cols)"
   ]
  },
  {
   "cell_type": "code",
   "execution_count": 65,
   "metadata": {},
   "outputs": [],
   "source": [
    "pap_fos_all4 = pap_fos_all3.join(papref,on=[\"PaperID\"], how=\"left\")"
   ]
  },
  {
   "cell_type": "code",
   "execution_count": 66,
   "metadata": {},
   "outputs": [
    {
     "data": {
      "text/plain": [
       "145939476"
      ]
     },
     "execution_count": 66,
     "metadata": {},
     "output_type": "execute_result"
    }
   ],
   "source": [
    "pap_fos_all4.count()"
   ]
  },
  {
   "cell_type": "code",
   "execution_count": 67,
   "metadata": {},
   "outputs": [],
   "source": [
    "pap_fos_all4 = pap_fos_all4.withColumn(\"PaperRefCnt\", F.when(F.col(\"PaperRefCnt\").isNull(), 0).otherwise(F.col(\"Issue\")))"
   ]
  },
  {
   "cell_type": "code",
   "execution_count": 98,
   "metadata": {
    "scrolled": true
   },
   "outputs": [
    {
     "name": "stdout",
     "output_type": "stream",
     "text": [
      "+-------+-----+---------+----------------------+---------+------------+--------------+------+-----+--------------+-------------+--------------+---------+--------+---------+-----------+-----------+-----------------+-----------------+--------------------+--------------------+-----------+\n",
      "|PaperID| Rank|PaperYear|             Publisher|JournalID|ConfSeriesID|ConfInstanceID|Volume|Issue|ReferenceCount|CitationCount|EstimatedCount|   FOS_ID|PaperAge|IsJournal|min_FOSRank|max_FOSRank|max_FOSPaperCount|min_FOSPaperCount|min_FOSCitationCount|max_FOSCitationCount|PaperRefCnt|\n",
      "+-------+-----+---------+----------------------+---------+------------+--------------+------+-----+--------------+-------------+--------------+---------+--------+---------+-----------+-----------+-----------------+-----------------+--------------------+--------------------+-----------+\n",
      "|  17971|23209|     1992|                  null|     null|        null|          null|     0|    0|             0|            2|             2|144444463|      28|        0|      10131|      25000|         15585220|             3758|                8799|            44877184|          0|\n",
      "|  27933|26437|     1977|                  null| 92085786|        null|          null|     0|    0|             0|            0|             0| 99454951|      43|        1|       9059|      10291|         24318797|            26744|              413156|           212171917|          0|\n",
      "|  29841|23429|     2013|  Springer, Berlin,...|     null|  1140961231|      38183348|     0|    0|             5|            0|             0| 96627749|       7|        1|       7843|      14794|          9902162|             7943|                 878|            66802488|          0|\n",
      "|  48280|26752|     2001|               Paris 5|     null|        null|          null|     0|    0|             0|            0|             0|169760540|      19|        1|       8145|      10283|         15748444|            11008|              302767|           291848549|          0|\n",
      "|  66606|22404|     2003|             AFB Press|180263418|        null|          null|    97|    3|             0|            5|             5| 75630572|      17|        1|       8426|      10874|          6318763|            18634|              152872|            78317342|          0|\n",
      "|  71530|25079|     2004|                  null| 38879697|        null|          null|     0|    0|             0|            0|             0| 71924100|      16|        1|       9323|      10209|         24318797|           483803|             3369841|           212171917|          0|\n",
      "|  74185|24756|     2010|             VS-Verlag| 28909093|        null|          null|    34|    0|             0|            0|             0|144024400|      10|        0|       9149|      14186|          6104944|           990937|              781463|            17700448|          0|\n",
      "|  83748|24088|     2011|社会・経済システム学会|     null|        null|          null|    32|   32|             0|            0|             0| 23032112|       9|        1|       8317|      25000|          3362436|             9694|              111978|            10493865|          0|\n",
      "|  98089|24376|     2008|     Studium Press LLC|     null|        null|          null|     0|    0|             0|            0|             0| 71924100|      12|        1|       7869|       9323|         24318797|            31941|              292401|           212171917|          0|\n",
      "|  98630|25986|     2008|                  null|     null|        null|          null|     0|    0|             0|            0|             0|512399662|      12|        1|       9323|      10521|         24318797|          1377437|             7293862|           212171917|          0|\n",
      "+-------+-----+---------+----------------------+---------+------------+--------------+------+-----+--------------+-------------+--------------+---------+--------+---------+-----------+-----------+-----------------+-----------------+--------------------+--------------------+-----------+\n",
      "only showing top 10 rows\n",
      "\n"
     ]
    }
   ],
   "source": [
    "pap_fos_all4.show(10)"
   ]
  },
  {
   "cell_type": "code",
   "execution_count": 68,
   "metadata": {},
   "outputs": [],
   "source": [
    "drop_cols = [\"Publisher\",\"JournalID\",\"ConfSeriesID\",\"ConfInstanceID\"]\n",
    "pap_fos_all5 = pap_fos_all4.drop(*drop_cols)"
   ]
  },
  {
   "cell_type": "code",
   "execution_count": 69,
   "metadata": {},
   "outputs": [],
   "source": [
    "pap_fos_all5.coalesce(1).write.format('com.databricks.spark.csv').mode(\"overwrite\").save('AllPapersFOS1.csv',header = 'true')"
   ]
  },
  {
   "cell_type": "code",
   "execution_count": 71,
   "metadata": {},
   "outputs": [],
   "source": [
    "papauthaff= spark.read.options(header=True, inferSchema=True, delimiter=',').csv(\"PaperAuthorAffilitions.csv\")"
   ]
  },
  {
   "cell_type": "code",
   "execution_count": 72,
   "metadata": {},
   "outputs": [
    {
     "name": "stdout",
     "output_type": "stream",
     "text": [
      "+----------+----------+-------------+--------------------+\n",
      "|   PaperID|  AuthorId|AffiliationId|AuthorSequenceNumber|\n",
      "+----------+----------+-------------+--------------------+\n",
      "|2514067917|2165266595|   1334877674|                   1|\n",
      "|2514067917|2334513227|   1334877674|                   2|\n",
      "+----------+----------+-------------+--------------------+\n",
      "only showing top 2 rows\n",
      "\n"
     ]
    }
   ],
   "source": [
    "papauthaff.show(2)"
   ]
  },
  {
   "cell_type": "code",
   "execution_count": 73,
   "metadata": {},
   "outputs": [],
   "source": [
    "pap_fos_auth = pap_fos_all4.join(papauthaff,on=\"PaperID\",how=\"right\")"
   ]
  },
  {
   "cell_type": "code",
   "execution_count": 74,
   "metadata": {},
   "outputs": [
    {
     "data": {
      "text/plain": [
       "223953283"
      ]
     },
     "execution_count": 74,
     "metadata": {},
     "output_type": "execute_result"
    }
   ],
   "source": [
    "pap_fos_auth.count()"
   ]
  },
  {
   "cell_type": "code",
   "execution_count": 75,
   "metadata": {},
   "outputs": [
    {
     "name": "stdout",
     "output_type": "stream",
     "text": [
      "+-------+-----+---------+--------------------+---------+------------+--------------+------+-----+--------------+-------------+--------------+---------+--------+---------+-----------+-----------+-----------------+-----------------+--------------------+--------------------+-----------+----------+-------------+--------------------+\n",
      "|PaperID| Rank|PaperYear|           Publisher|JournalID|ConfSeriesID|ConfInstanceID|Volume|Issue|ReferenceCount|CitationCount|EstimatedCount|   FOS_ID|PaperAge|IsJournal|min_FOSRank|max_FOSRank|max_FOSPaperCount|min_FOSPaperCount|min_FOSCitationCount|max_FOSCitationCount|PaperRefCnt|  AuthorId|AffiliationId|AuthorSequenceNumber|\n",
      "+-------+-----+---------+--------------------+---------+------------+--------------+------+-----+--------------+-------------+--------------+---------+--------+---------+-----------+-----------+-----------------+-----------------+--------------------+--------------------+-----------+----------+-------------+--------------------+\n",
      "|  27933|26437|     1977|                null| 92085786|        null|          null|     0|    0|             0|            0|             0| 99454951|      43|        1|       9059|      10291|         24318797|            26744|              413156|           212171917|          0|1229029628|    202963720|                   1|\n",
      "|  27933|26437|     1977|                null| 92085786|        null|          null|     0|    0|             0|            0|             0| 99454951|      43|        1|       9059|      10291|         24318797|            26744|              413156|           212171917|          0|2004716990|    202697423|                   2|\n",
      "|  27933|26437|     1977|                null| 92085786|        null|          null|     0|    0|             0|            0|             0| 99454951|      43|        1|       9059|      10291|         24318797|            26744|              413156|           212171917|          0|2172756124|    202697423|                   3|\n",
      "|  29841|23429|     2013|Springer, Berlin,...|     null|  1140961231|      38183348|     0|    0|             5|            0|             0| 96627749|       7|        1|       7843|      14794|          9902162|             7943|                 878|            66802488|          0|2123350797|     99542240|                   1|\n",
      "|  66606|22404|     2003|           AFB Press|180263418|        null|          null|    97|    3|             0|            5|             5| 75630572|      17|        1|       8426|      10874|          6318763|            18634|              152872|            78317342|          0|2175418804|    141945490|                   4|\n",
      "|  66606|22404|     2003|           AFB Press|180263418|        null|          null|    97|    3|             0|            5|             5| 75630572|      17|        1|       8426|      10874|          6318763|            18634|              152872|            78317342|          0|1119406721|     86519309|                   3|\n",
      "|  66606|22404|     2003|           AFB Press|180263418|        null|          null|    97|    3|             0|            5|             5| 75630572|      17|        1|       8426|      10874|          6318763|            18634|              152872|            78317342|          0|2616645929|    103163165|                   1|\n",
      "|  66606|22404|     2003|           AFB Press|180263418|        null|          null|    97|    3|             0|            5|             5| 75630572|      17|        1|       8426|      10874|          6318763|            18634|              152872|            78317342|          0|2569699948|    200719446|                   2|\n",
      "|  71530|25079|     2004|                null| 38879697|        null|          null|     0|    0|             0|            0|             0| 71924100|      16|        1|       9323|      10209|         24318797|           483803|             3369841|           212171917|          0|2153977648|     13134134|                   2|\n",
      "|  74185|24756|     2010|           VS-Verlag| 28909093|        null|          null|    34|    0|             0|            0|             0|144024400|      10|        0|       9149|      14186|          6104944|           990937|              781463|            17700448|          0|2164071203|    106157433|                   1|\n",
      "+-------+-----+---------+--------------------+---------+------------+--------------+------+-----+--------------+-------------+--------------+---------+--------+---------+-----------+-----------+-----------------+-----------------+--------------------+--------------------+-----------+----------+-------------+--------------------+\n",
      "only showing top 10 rows\n",
      "\n"
     ]
    }
   ],
   "source": [
    "pap_fos_auth.show(10)"
   ]
  },
  {
   "cell_type": "code",
   "execution_count": 78,
   "metadata": {},
   "outputs": [
    {
     "name": "stdout",
     "output_type": "stream",
     "text": [
      "+-------+----------+-------------+---------+\n",
      "|PaperID|  AuthorId|AffiliationId|   FOS_ID|\n",
      "+-------+----------+-------------+---------+\n",
      "|  27933|1229029628|    202963720| 99454951|\n",
      "|  27933|2004716990|    202697423| 99454951|\n",
      "|  27933|2172756124|    202697423| 99454951|\n",
      "|  29841|2123350797|     99542240| 96627749|\n",
      "|  66606|2175418804|    141945490| 75630572|\n",
      "|  66606|1119406721|     86519309| 75630572|\n",
      "|  66606|2616645929|    103163165| 75630572|\n",
      "|  66606|2569699948|    200719446| 75630572|\n",
      "|  71530|2153977648|     13134134| 71924100|\n",
      "|  74185|2164071203|    106157433|144024400|\n",
      "| 111538|2018993203|   1313323035|127385683|\n",
      "| 111538|2029252525|     19880235|127385683|\n",
      "| 156454|2731245360|   1306287861|162269090|\n",
      "| 199209|2169118548|   1294824412|185592680|\n",
      "| 199209| 285337606|    130828816|185592680|\n",
      "+-------+----------+-------------+---------+\n",
      "only showing top 15 rows\n",
      "\n"
     ]
    }
   ],
   "source": [
    "pap_fos_auth.select([\"PaperID\",\"AuthorId\",\"AffiliationId\",\"FOS_ID\"]).show(15)"
   ]
  },
  {
   "cell_type": "code",
   "execution_count": 79,
   "metadata": {},
   "outputs": [],
   "source": [
    "aff = spark.read.options(header=True, inferSchema=True, delimiter=',').csv(\"Affiliations.csv\")"
   ]
  },
  {
   "cell_type": "code",
   "execution_count": 80,
   "metadata": {},
   "outputs": [
    {
     "name": "stdout",
     "output_type": "stream",
     "text": [
      "+-------------+---------------+--------------------+--------------------+------------+---------------+\n",
      "|AffiliationId|AffiliationRank|    AfNormalizedName|       AfDisplayName|AfPaperCount|AfCitationCount|\n",
      "+-------------+---------------+--------------------+--------------------+------------+---------------+\n",
      "|    154099455|           8223| shandong university| Shandong University|       86381|        2184963|\n",
      "|     94975175|          10705|des moines univer...|Des Moines Univer...|        1197|          25564|\n",
      "+-------------+---------------+--------------------+--------------------+------------+---------------+\n",
      "only showing top 2 rows\n",
      "\n"
     ]
    }
   ],
   "source": [
    "aff.show(2)"
   ]
  },
  {
   "cell_type": "code",
   "execution_count": 84,
   "metadata": {},
   "outputs": [],
   "source": [
    "pap_fos_au_aff = pap_fos_auth.join(aff,on=\"AffiliationId\",how=\"inner\")"
   ]
  },
  {
   "cell_type": "code",
   "execution_count": 85,
   "metadata": {},
   "outputs": [
    {
     "name": "stdout",
     "output_type": "stream",
     "text": [
      "+-------+----------+-------------+---------+\n",
      "|PaperID|  AuthorId|AffiliationId|   FOS_ID|\n",
      "+-------+----------+-------------+---------+\n",
      "|  27933|1229029628|    202963720| 99454951|\n",
      "|  27933|2004716990|    202697423| 99454951|\n",
      "|  27933|2172756124|    202697423| 99454951|\n",
      "|  29841|2123350797|     99542240| 96627749|\n",
      "|  66606|2175418804|    141945490| 75630572|\n",
      "|  66606|1119406721|     86519309| 75630572|\n",
      "|  66606|2616645929|    103163165| 75630572|\n",
      "|  66606|2569699948|    200719446| 75630572|\n",
      "|  71530|2153977648|     13134134| 71924100|\n",
      "|  74185|2164071203|    106157433|144024400|\n",
      "+-------+----------+-------------+---------+\n",
      "only showing top 10 rows\n",
      "\n"
     ]
    }
   ],
   "source": [
    "pap_fos_au_aff.select([\"PaperID\",\"AuthorId\",\"AffiliationId\",\"FOS_ID\"]).show(10)"
   ]
  },
  {
   "cell_type": "code",
   "execution_count": 86,
   "metadata": {},
   "outputs": [],
   "source": [
    "auth = spark.read.options(header=True, inferSchema=True, delimiter=',').csv(\"Author.csv\")"
   ]
  },
  {
   "cell_type": "code",
   "execution_count": 88,
   "metadata": {},
   "outputs": [],
   "source": [
    "pap_fos_au_aff_all = pap_fos_au_aff.join(auth,on=\"AuthorId\",how=\"inner\")"
   ]
  },
  {
   "cell_type": "code",
   "execution_count": 89,
   "metadata": {},
   "outputs": [
    {
     "name": "stdout",
     "output_type": "stream",
     "text": [
      "+----------+--------+-------------+----------+\n",
      "|   PaperID|AuthorId|AffiliationId|    FOS_ID|\n",
      "+----------+--------+-------------+----------+\n",
      "|2129465055|   15437|     32389192|2780149156|\n",
      "|2148676614|   15437|     32389192|2776888751|\n",
      "|2324684188|   15437|     32389192|  71924100|\n",
      "|2088556209|   15437|     32389192|2778742482|\n",
      "|2175552737|   15437|     32389192|2776858399|\n",
      "|1994839481|   15437|     32389192|2780149156|\n",
      "|2765447610|   15437|     32389192| 143753070|\n",
      "|2191263223|   15437|     32389192|2776858399|\n",
      "|1976958153|   15437|     32389192|2780605848|\n",
      "|2095223300|   15437|     32389192|  71924100|\n",
      "+----------+--------+-------------+----------+\n",
      "only showing top 10 rows\n",
      "\n"
     ]
    }
   ],
   "source": [
    "pap_fos_au_aff_all.select([\"PaperID\",\"AuthorId\",\"AffiliationId\",\"FOS_ID\"]).show(10)"
   ]
  },
  {
   "cell_type": "code",
   "execution_count": 90,
   "metadata": {},
   "outputs": [
    {
     "name": "stdout",
     "output_type": "stream",
     "text": [
      "+-------+----------+-------------+----------+\n",
      "|PaperID|  AuthorId|AffiliationId|    FOS_ID|\n",
      "+-------+----------+-------------+----------+\n",
      "|     23|1243978490|     79576946|2778602436|\n",
      "|     37|2767506227|     30338065|2779982284|\n",
      "|     37|2151921381|     30338065|2779982284|\n",
      "|    108|2126642415|    165102784| 124952713|\n",
      "|    125|2250382311|    169199633| 201995342|\n",
      "|    125|1995014452|    169199633| 201995342|\n",
      "|    125|2002579779|    169199633| 201995342|\n",
      "|    125|2283694448|    169199633| 201995342|\n",
      "|    136|2192065579|    154570441|  75639521|\n",
      "|    136|2397980907|    201448701|  75639521|\n",
      "|    138|2726581387|   1316910977| 185592680|\n",
      "|    138|2729948773|   1316910977| 185592680|\n",
      "|    193|1234409970|     78577930| 124952713|\n",
      "|    236|2102314242|     23732399|  29985473|\n",
      "|    266|2119155047|     97018004| 159985019|\n",
      "+-------+----------+-------------+----------+\n",
      "only showing top 15 rows\n",
      "\n"
     ]
    }
   ],
   "source": [
    "pap_fos_au_aff_all.sort([\"PaperID\"]).select([\"PaperID\",\"AuthorId\",\"AffiliationId\",\"FOS_ID\"]).show(15)"
   ]
  },
  {
   "cell_type": "code",
   "execution_count": 91,
   "metadata": {},
   "outputs": [
    {
     "name": "stdout",
     "output_type": "stream",
     "text": [
      "+-------+----------+-------------+----------+\n",
      "|PaperID|  AuthorId|AffiliationId|    FOS_ID|\n",
      "+-------+----------+-------------+----------+\n",
      "|     23|1243978490|     79576946|2778602436|\n",
      "|     37|2767506227|     30338065|2779982284|\n",
      "|     37|2151921381|     30338065|2779982284|\n",
      "|    108|2126642415|    165102784| 124952713|\n",
      "|    125|2002579779|    169199633| 201995342|\n",
      "|    125|1995014452|    169199633| 201995342|\n",
      "|    125|2250382311|    169199633| 201995342|\n",
      "|    125|2283694448|    169199633| 201995342|\n",
      "|    136|2397980907|    201448701|  75639521|\n",
      "|    136|2192065579|    154570441|  75639521|\n",
      "|    138|2729948773|   1316910977| 185592680|\n",
      "|    138|2726581387|   1316910977| 185592680|\n",
      "|    193|1234409970|     78577930| 124952713|\n",
      "|    236|2102314242|     23732399|  29985473|\n",
      "|    266|2119155047|     97018004| 159985019|\n",
      "+-------+----------+-------------+----------+\n",
      "only showing top 15 rows\n",
      "\n"
     ]
    }
   ],
   "source": [
    "pap_fos_au_aff.sort([\"PaperID\"]).select([\"PaperID\",\"AuthorId\",\"AffiliationId\",\"FOS_ID\"]).show(15)"
   ]
  },
  {
   "cell_type": "code",
   "execution_count": 92,
   "metadata": {},
   "outputs": [
    {
     "data": {
      "text/plain": [
       "['AuthorId',\n",
       " 'AffiliationId',\n",
       " 'PaperID',\n",
       " 'Rank',\n",
       " 'PaperYear',\n",
       " 'Publisher',\n",
       " 'JournalID',\n",
       " 'ConfSeriesID',\n",
       " 'ConfInstanceID',\n",
       " 'Volume',\n",
       " 'Issue',\n",
       " 'ReferenceCount',\n",
       " 'CitationCount',\n",
       " 'EstimatedCount',\n",
       " 'FOS_ID',\n",
       " 'PaperAge',\n",
       " 'IsJournal',\n",
       " 'min_FOSRank',\n",
       " 'max_FOSRank',\n",
       " 'max_FOSPaperCount',\n",
       " 'min_FOSPaperCount',\n",
       " 'min_FOSCitationCount',\n",
       " 'max_FOSCitationCount',\n",
       " 'PaperRefCnt',\n",
       " 'AuthorSequenceNumber',\n",
       " 'AffiliationRank',\n",
       " 'AfNormalizedName',\n",
       " 'AfDisplayName',\n",
       " 'AfPaperCount',\n",
       " 'AfCitationCount',\n",
       " 'AuthorRank',\n",
       " 'AutNormalizedName',\n",
       " 'AutDisplayName',\n",
       " 'AutLastAffiliation',\n",
       " 'AutPaperCount',\n",
       " 'AutCitationCount']"
      ]
     },
     "execution_count": 92,
     "metadata": {},
     "output_type": "execute_result"
    }
   ],
   "source": [
    "pap_fos_au_aff_all.columns"
   ]
  },
  {
   "cell_type": "code",
   "execution_count": 93,
   "metadata": {},
   "outputs": [
    {
     "data": {
      "text/plain": [
       "223953283"
      ]
     },
     "execution_count": 93,
     "metadata": {},
     "output_type": "execute_result"
    }
   ],
   "source": [
    "pap_fos_au_aff_all.count()"
   ]
  },
  {
   "cell_type": "code",
   "execution_count": 94,
   "metadata": {},
   "outputs": [],
   "source": [
    "from pyspark.sql import Window\n",
    "import pyspark.sql.functions as f\n",
    "w = Window.partitionBy('PaperID')\n",
    "temp_DF = pap_fos_au_aff_all.select('PaperID', 'AuthorRank', f.min('AuthorRank').over(w).alias('min_AuthorRank')).sort('PaperID')"
   ]
  },
  {
   "cell_type": "code",
   "execution_count": 96,
   "metadata": {},
   "outputs": [
    {
     "name": "stdout",
     "output_type": "stream",
     "text": [
      "+-------+----------+--------------+\n",
      "|PaperID|AuthorRank|min_AuthorRank|\n",
      "+-------+----------+--------------+\n",
      "|     23|     17530|         17530|\n",
      "|     37|     19697|         19569|\n",
      "|     37|     19569|         19569|\n",
      "|    108|     19728|         19728|\n",
      "+-------+----------+--------------+\n",
      "only showing top 4 rows\n",
      "\n"
     ]
    }
   ],
   "source": [
    "temp_DF.show(4)"
   ]
  },
  {
   "cell_type": "code",
   "execution_count": null,
   "metadata": {},
   "outputs": [],
   "source": [
    "temp_DF1 = pap_fos_au_aff_all.select('PaperID', 'AuthorRank',\"min_AuthorRank\", f.max('AuthorRank').over(w).alias('max_AuthorRank')).sort('PaperID', 'AuthorRank')"
   ]
  }
 ],
 "metadata": {
  "kernelspec": {
   "display_name": "Python 2",
   "language": "python",
   "name": "python2"
  },
  "language_info": {
   "codemirror_mode": {
    "name": "ipython",
    "version": 2
   },
   "file_extension": ".py",
   "mimetype": "text/x-python",
   "name": "python",
   "nbconvert_exporter": "python",
   "pygments_lexer": "ipython2",
   "version": "2.7.15rc1"
  }
 },
 "nbformat": 4,
 "nbformat_minor": 2
}
